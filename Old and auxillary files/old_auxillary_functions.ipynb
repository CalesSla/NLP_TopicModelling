{
 "cells": [
  {
   "cell_type": "code",
   "execution_count": null,
   "id": "76efd31d",
   "metadata": {},
   "outputs": [],
   "source": [
    "def metrics_model_selection(dictionary, words, lda_modeller, limit=10, start=2, step=1, topic_word_prior=0.6):\n",
    "  \n",
    "    coherence_values = []\n",
    "    model_list = []\n",
    "    perplexity_list = []\n",
    "    log_likelihood_scores = []\n",
    "    \n",
    "    for num_topics in range(start, limit, step):\n",
    "        model = LatentDirichletAllocation(n_components = num_topics, max_iter = 100, topic_word_prior = topic_word_prior\n",
    "#                                          learning_method='online'\n",
    "                                         )\n",
    "        model.fit(lda_modeller.vectorized_sentences) \n",
    "        model_list.append(model)\n",
    "        \n",
    "        topics = []\n",
    "        for i in range(model.n_components):\n",
    "            topic_words = [vocab[j] for j in model.components_[i].argsort()[:-10 - 1:-1]]\n",
    "            topics.append(topic_words)\n",
    "        \n",
    "        coherencemodel = CoherenceModel(topics=topics, texts=words, dictionary=dictionary, coherence='c_v')\n",
    "        coherence_values.append(coherencemodel.get_coherence())\n",
    "        \n",
    "        perplexity = np.log(model.perplexity(lda_modeller.vectorized_sentences))\n",
    "        perplexity_list.append(perplexity)\n",
    "        \n",
    "        log_likelihood = model.score(lda_modeller.vectorized_sentences)\n",
    "        log_likelihood_scores.append(log_likelihood)\n",
    "        \n",
    "        \n",
    "    fig, axs = plt.subplots(nrows=1, ncols=3, figsize=(15, 4))\n",
    "\n",
    "    x = range(start, limit, step)\n",
    "\n",
    "    axs[0].plot(x, coherence_values)\n",
    "    axs[0].set_title('Coherence')\n",
    "    axs[0].set_xlabel('Num Topics')\n",
    "    axs[0].set_ylabel('Coherence Score')\n",
    "\n",
    "    axs[1].plot(x, perplexity_list)\n",
    "    axs[1].set_title('Perplexity')\n",
    "    axs[1].set_xlabel('Num Topics')\n",
    "    axs[1].set_ylabel('Perplexity Score')\n",
    "\n",
    "    axs[2].plot(x, log_likelihood_scores)\n",
    "    axs[2].set_title('Log likelihood')\n",
    "    axs[2].set_xlabel('Num Topics')\n",
    "    axs[2].set_ylabel('Log-likelihood Score')\n",
    "\n",
    "    return model_list, coherence_values, perplexity_list, log_likelihood_scores\n",
    "  "
   ]
  }
 ],
 "metadata": {
  "kernelspec": {
   "display_name": "Python 3 (ipykernel)",
   "language": "python",
   "name": "python3"
  },
  "language_info": {
   "codemirror_mode": {
    "name": "ipython",
    "version": 3
   },
   "file_extension": ".py",
   "mimetype": "text/x-python",
   "name": "python",
   "nbconvert_exporter": "python",
   "pygments_lexer": "ipython3",
   "version": "3.9.16"
  }
 },
 "nbformat": 4,
 "nbformat_minor": 5
}
