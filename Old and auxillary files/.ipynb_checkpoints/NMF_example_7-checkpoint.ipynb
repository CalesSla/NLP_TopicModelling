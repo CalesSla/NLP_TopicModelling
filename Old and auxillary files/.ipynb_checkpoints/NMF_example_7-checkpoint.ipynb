{
 "cells": [
  {
   "cell_type": "code",
   "execution_count": 1,
   "id": "51da561d",
   "metadata": {},
   "outputs": [],
   "source": [
    "import numpy as np \n",
    "import pandas as pd \n",
    "import scipy\n",
    "import nltk\n",
    "from sklearn.feature_extraction.text import TfidfVectorizer\n",
    "from sklearn import decomposition\n",
    "from scipy import linalg\n",
    "from gensim.models.doc2vec import Doc2Vec, TaggedDocument\n",
    "from nltk.tokenize import word_tokenize\n",
    "np.set_printoptions(suppress=True)\n",
    "from gensim.models.doc2vec import Doc2Vec "
   ]
  },
  {
   "cell_type": "code",
   "execution_count": 2,
   "id": "cea2deb2",
   "metadata": {},
   "outputs": [],
   "source": [
    "df = pd.read_csv('bbc_text_cls.csv')"
   ]
  },
  {
   "cell_type": "code",
   "execution_count": 3,
   "id": "0cb62c93",
   "metadata": {},
   "outputs": [],
   "source": [
    "data=np.array(df['text'])"
   ]
  },
  {
   "cell_type": "code",
   "execution_count": 4,
   "id": "2a9dfa9a",
   "metadata": {},
   "outputs": [
    {
     "name": "stderr",
     "output_type": "stream",
     "text": [
      "[nltk_data] Downloading package wordnet to\n",
      "[nltk_data]     C:\\Users\\User\\AppData\\Roaming\\nltk_data...\n",
      "[nltk_data]   Package wordnet is already up-to-date!\n"
     ]
    },
    {
     "data": {
      "text/plain": [
       "True"
      ]
     },
     "execution_count": 4,
     "metadata": {},
     "output_type": "execute_result"
    }
   ],
   "source": [
    "nltk.download('wordnet')"
   ]
  },
  {
   "cell_type": "code",
   "execution_count": 11,
   "id": "60e9c885",
   "metadata": {},
   "outputs": [],
   "source": [
    "from sklearn.feature_extraction.text import CountVectorizer, TfidfVectorizer\n",
    "vectorizer = CountVectorizer(stop_words='english',max_features=10000)\n",
    "vectors = np.asarray(vectorizer.fit_transform(data).todense())"
   ]
  },
  {
   "cell_type": "code",
   "execution_count": 12,
   "id": "d6a42ab7",
   "metadata": {},
   "outputs": [
    {
     "name": "stdout",
     "output_type": "stream",
     "text": [
      "(10000,)\n"
     ]
    }
   ],
   "source": [
    "vocab = np.array(vectorizer.get_feature_names_out())\n",
    "print(vocab.shape)"
   ]
  },
  {
   "cell_type": "code",
   "execution_count": 13,
   "id": "4d0cf724",
   "metadata": {},
   "outputs": [],
   "source": [
    "num_top_words=10\n",
    "\n",
    "def show_topics(a):\n",
    "    top_words = lambda t: [vocab[i] for i in np.argsort(t)[:-num_top_words-1:-1]]\n",
    "    topic_words = ([top_words(t) for t in a])\n",
    "    return [' '.join(t) for t in topic_words]"
   ]
  },
  {
   "cell_type": "code",
   "execution_count": 51,
   "id": "2db022a5",
   "metadata": {},
   "outputs": [],
   "source": [
    "m,n=vectors.shape\n",
    "d=10"
   ]
  },
  {
   "cell_type": "code",
   "execution_count": 15,
   "id": "e8f7b190",
   "metadata": {},
   "outputs": [],
   "source": [
    "clf = decomposition.NMF(n_components=d, random_state=1)\n",
    "W1 = clf.fit_transform(vectors)\n",
    "H1 = clf.components_"
   ]
  },
  {
   "cell_type": "code",
   "execution_count": 16,
   "id": "aeb09621",
   "metadata": {},
   "outputs": [
    {
     "data": {
      "text/plain": [
       "['said added uk told plans spokesman people lord law legal',\n",
       " 'music best song years 25 angels robbie urban think british',\n",
       " 'mr labour blair brown election minister party prime chancellor howard',\n",
       " 'people mobile technology music digital phone tv use users video',\n",
       " 'game time games england world new play wales win half',\n",
       " 'wage minimum people increase pay government tax work jobs business',\n",
       " 'film best director actor actress awards aviator won award year',\n",
       " 'year growth sales market 2004 new economy economic bank said',\n",
       " 'kilroy party silk ukip mr veritas parties said election people',\n",
       " 'government forsyth people mr new threat like agree british terrorists']"
      ]
     },
     "execution_count": 16,
     "metadata": {},
     "output_type": "execute_result"
    }
   ],
   "source": [
    "show_topics(H1)"
   ]
  },
  {
   "cell_type": "code",
   "execution_count": 17,
   "id": "21f7245b",
   "metadata": {},
   "outputs": [],
   "source": [
    "list_data=data.tolist()"
   ]
  },
  {
   "cell_type": "code",
   "execution_count": 18,
   "id": "4606b31e",
   "metadata": {},
   "outputs": [],
   "source": [
    "tagged_data = [TaggedDocument(words=word_tokenize(_d.lower()), tags=[str(i)]) for i, _d in enumerate(list_data)]"
   ]
  },
  {
   "cell_type": "code",
   "execution_count": 36,
   "id": "341179b3",
   "metadata": {},
   "outputs": [],
   "source": [
    "max_epochs = 50\n",
    "vec_size = 20\n",
    "alpha = 0.025\n",
    "\n",
    "model = Doc2Vec(vector_size=vec_size,\n",
    "                alpha=alpha, \n",
    "                min_alpha=0.00025,\n",
    "                min_count=1,\n",
    "                dm =1)"
   ]
  },
  {
   "cell_type": "code",
   "execution_count": 37,
   "id": "8c155df7",
   "metadata": {},
   "outputs": [],
   "source": [
    "model.build_vocab(tagged_data)"
   ]
  },
  {
   "cell_type": "code",
   "execution_count": 48,
   "id": "3a4c41a8",
   "metadata": {},
   "outputs": [
    {
     "name": "stdout",
     "output_type": "stream",
     "text": [
      "iteration 0\n",
      "iteration 1\n",
      "iteration 2\n",
      "iteration 3\n",
      "iteration 4\n",
      "iteration 5\n",
      "iteration 6\n",
      "iteration 7\n",
      "iteration 8\n",
      "iteration 9\n",
      "iteration 10\n",
      "iteration 11\n",
      "iteration 12\n",
      "iteration 13\n",
      "iteration 14\n",
      "iteration 15\n",
      "iteration 16\n",
      "iteration 17\n",
      "iteration 18\n",
      "iteration 19\n",
      "iteration 20\n",
      "iteration 21\n",
      "iteration 22\n",
      "iteration 23\n",
      "iteration 24\n",
      "iteration 25\n",
      "iteration 26\n",
      "iteration 27\n",
      "iteration 28\n",
      "iteration 29\n",
      "iteration 30\n",
      "iteration 31\n",
      "iteration 32\n",
      "iteration 33\n",
      "iteration 34\n",
      "iteration 35\n",
      "iteration 36\n",
      "iteration 37\n",
      "iteration 38\n",
      "iteration 39\n",
      "iteration 40\n",
      "iteration 41\n",
      "iteration 42\n",
      "iteration 43\n",
      "iteration 44\n",
      "iteration 45\n",
      "iteration 46\n",
      "iteration 47\n",
      "iteration 48\n",
      "iteration 49\n"
     ]
    }
   ],
   "source": [
    "for epoch in range(max_epochs):\n",
    "    print('iteration {0}'.format(epoch))\n",
    "    model.train(tagged_data,\n",
    "                total_examples=model.corpus_count,\n",
    "                epochs=10)\n",
    "    # decrease the learning rate\n",
    "    model.alpha -= 0.0002\n",
    "    # fix the learning rate, no decay\n",
    "    model.min_alpha = model.alpha"
   ]
  },
  {
   "cell_type": "code",
   "execution_count": 58,
   "id": "a224f396",
   "metadata": {},
   "outputs": [
    {
     "name": "stdout",
     "output_type": "stream",
     "text": [
      "The document probably belongs to category: [9]\n",
      "The category is: government forsyth people mr new threat like agree british terrorists\n"
     ]
    }
   ],
   "source": [
    "#finding document closest to the topic\n",
    "\n",
    "def find_topic(text):\n",
    "    topic_list=list(show_topics(H1))\n",
    "    distances=[]\n",
    "    test_data2=word_tokenize(list_data[2].lower())\n",
    "    v2=model.infer_vector(test_data2)\n",
    "    for i in range(len(topic_list)):\n",
    "        test_data1=word_tokenize(text)\n",
    "        v1=model.infer_vector(test_data1)\n",
    "        distances.append(scipy.spatial.distance.cosine(v1,v2))\n",
    "\n",
    "    min_ele = min(distances) \n",
    "    topic_no= [i for i, j in enumerate(distances) if j == min_ele] \n",
    "    print('The document probably belongs to category:',topic_no)    \n",
    "    print('The category is:',show_topics(H1)[topic_no[0]])\n",
    "find_topic(list_data[4])"
   ]
  },
  {
   "cell_type": "code",
   "execution_count": 59,
   "id": "3004891d",
   "metadata": {},
   "outputs": [
    {
     "data": {
      "text/plain": [
       "['said added uk told plans spokesman people lord law legal',\n",
       " 'music best song years 25 angels robbie urban think british',\n",
       " 'mr labour blair brown election minister party prime chancellor howard',\n",
       " 'people mobile technology music digital phone tv use users video',\n",
       " 'game time games england world new play wales win half',\n",
       " 'wage minimum people increase pay government tax work jobs business',\n",
       " 'film best director actor actress awards aviator won award year',\n",
       " 'year growth sales market 2004 new economy economic bank said',\n",
       " 'kilroy party silk ukip mr veritas parties said election people',\n",
       " 'government forsyth people mr new threat like agree british terrorists']"
      ]
     },
     "execution_count": 59,
     "metadata": {},
     "output_type": "execute_result"
    }
   ],
   "source": [
    "show_topics(H1)"
   ]
  },
  {
   "cell_type": "code",
   "execution_count": 69,
   "id": "243c5ad7",
   "metadata": {},
   "outputs": [
    {
     "name": "stdout",
     "output_type": "stream",
     "text": [
      "0\n",
      "1\n",
      "2\n",
      "3\n",
      "4\n",
      "5\n",
      "6\n",
      "7\n",
      "8\n",
      "9\n"
     ]
    }
   ],
   "source": [
    "topic_list=list(show_topics(H1))\n",
    "distances=[]\n",
    "test_data2=word_tokenize(list_data[0].lower())\n",
    "v2=model.infer_vector(test_data2)\n",
    "for i in range(len(topic_list)):\n",
    "  test_data1=word_tokenize(text)"
   ]
  },
  {
   "cell_type": "code",
   "execution_count": 68,
   "id": "fc6aa526",
   "metadata": {},
   "outputs": [
    {
     "data": {
      "text/plain": [
       "array([-0.6345615 ,  3.5931728 , -0.32713512,  3.2157207 , -3.9502301 ,\n",
       "        1.8821225 , -1.7232357 ,  0.9824037 , -3.6954553 , -4.569152  ,\n",
       "        2.233537  ,  2.4393766 , -1.524356  , -5.219231  , -2.3661318 ,\n",
       "        0.89768136, -0.21388626, -0.8049044 , -0.9908141 , -0.3656703 ],\n",
       "      dtype=float32)"
      ]
     },
     "execution_count": 68,
     "metadata": {},
     "output_type": "execute_result"
    }
   ],
   "source": [
    "v2"
   ]
  },
  {
   "cell_type": "code",
   "execution_count": null,
   "id": "cb0f06f4",
   "metadata": {},
   "outputs": [],
   "source": []
  }
 ],
 "metadata": {
  "kernelspec": {
   "display_name": "Python 3 (ipykernel)",
   "language": "python",
   "name": "python3"
  },
  "language_info": {
   "codemirror_mode": {
    "name": "ipython",
    "version": 3
   },
   "file_extension": ".py",
   "mimetype": "text/x-python",
   "name": "python",
   "nbconvert_exporter": "python",
   "pygments_lexer": "ipython3",
   "version": "3.9.16"
  }
 },
 "nbformat": 4,
 "nbformat_minor": 5
}
