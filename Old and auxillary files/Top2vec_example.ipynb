{
 "cells": [
  {
   "cell_type": "code",
   "execution_count": 1,
   "id": "0b2c5d49",
   "metadata": {},
   "outputs": [],
   "source": [
    "import pandas as pd\n",
    "\n",
    "df = pd.read_csv('bbc_text_cls.csv')"
   ]
  },
  {
   "cell_type": "code",
   "execution_count": 2,
   "id": "502a5ef7",
   "metadata": {},
   "outputs": [],
   "source": [
    "docs = df['text'].tolist()"
   ]
  },
  {
   "cell_type": "code",
   "execution_count": 4,
   "id": "a88e3785",
   "metadata": {},
   "outputs": [],
   "source": [
    "from top2vec import Top2Vec"
   ]
  },
  {
   "cell_type": "code",
   "execution_count": 5,
   "id": "d807174f",
   "metadata": {
    "scrolled": true
   },
   "outputs": [
    {
     "name": "stderr",
     "output_type": "stream",
     "text": [
      "2023-04-02 14:45:03,088 - top2vec - INFO - Pre-processing documents for training\n",
      "2023-04-02 14:45:04,331 - top2vec - INFO - Creating joint document/word embedding\n",
      "2023-04-02 14:45:28,396 - top2vec - INFO - Creating lower dimension embedding of documents\n",
      "2023-04-02 14:45:37,319 - top2vec - INFO - Finding dense areas of documents\n",
      "2023-04-02 14:45:37,374 - top2vec - INFO - Finding topics\n"
     ]
    }
   ],
   "source": [
    "model = Top2Vec(docs)"
   ]
  },
  {
   "cell_type": "code",
   "execution_count": 8,
   "id": "c9669515",
   "metadata": {},
   "outputs": [
    {
     "data": {
      "text/plain": [
       "array([320, 203, 188, 132, 121, 109, 107,  96,  94,  71,  71,  70,  68,\n",
       "        67,  63,  61,  59,  58,  57,  46,  40,  34,  32,  29,  29],\n",
       "      dtype=int64)"
      ]
     },
     "execution_count": 8,
     "metadata": {},
     "output_type": "execute_result"
    }
   ],
   "source": [
    "topic_sizes, topic_nums = model.get_topic_sizes()\n",
    "\n",
    "topic_sizes"
   ]
  },
  {
   "cell_type": "code",
   "execution_count": 9,
   "id": "861d1615",
   "metadata": {},
   "outputs": [
    {
     "data": {
      "text/plain": [
       "array([ 0,  1,  2,  3,  4,  5,  6,  7,  8,  9, 10, 11, 12, 13, 14, 15, 16,\n",
       "       17, 18, 19, 20, 21, 22, 23, 24], dtype=int64)"
      ]
     },
     "execution_count": 9,
     "metadata": {},
     "output_type": "execute_result"
    }
   ],
   "source": [
    "topic_nums"
   ]
  },
  {
   "cell_type": "code",
   "execution_count": 16,
   "id": "6ec4019e",
   "metadata": {},
   "outputs": [],
   "source": [
    "topic_words, word_scores, topic_nums = model.get_topics(1)"
   ]
  },
  {
   "cell_type": "code",
   "execution_count": 17,
   "id": "4ac48b48",
   "metadata": {},
   "outputs": [
    {
     "name": "stdout",
     "output_type": "stream",
     "text": [
      "0\n",
      "Words: ['driscoll' 'champions' 'cup' 'rugby' 'game' 'match' 'slam' 'robinson'\n",
      " 'lions' 'coach' 'matches' 'celtic' 'referee' 'captain' 'premiership'\n",
      " 'league' 'arsenal' 'woodward' 'fa' 'side' 'hodgson' 'andy' 'squad'\n",
      " 'mourinho' 'gara' 'england' 'ball' 'tournament' 'striker' 'chelsea'\n",
      " 'wenger' 'injury' 'championship' 'barcelona' 'roddick' 'zealand'\n",
      " 'federer' 'henman' 'nadal' 'rangers' 'scored' 'tie' 'newcastle' 'players'\n",
      " 'goal' 'seed' 'wales' 'goals' 'henry' 'bath']\n"
     ]
    }
   ],
   "source": [
    "for words, scores, num in zip(topic_words, word_scores, topic_nums):\n",
    "  print(num)\n",
    "  print(f'Words: {words}')"
   ]
  },
  {
   "cell_type": "code",
   "execution_count": 19,
   "id": "c6368c07",
   "metadata": {},
   "outputs": [
    {
     "name": "stdout",
     "output_type": "stream",
     "text": [
      "Document: 1498, Score: 0.7108737230300903\n",
      "------------\n",
      "Stuart joins Norwich from Addicks\n",
      "\n",
      "Norwich have signed Charlton midfielder Graham Stuart until the end of the season for an undisclosed fee.\n",
      "\n",
      "\"It was a very easy decision to make,\" the 34-year-old told Norwich's website. \"The attraction for me was to continue to play in the Premiership.\" Canaries boss Nigel Worthington added: \"I'm delighted that Graham will be joining us until the end of the season. \"He's gives us a wealth of experience. Hopefully, he can be part of keeping us in the Premier League.\" Stuart has extensive top-flight experience with Everton, Chelsea and Charlton and can play across the midfield positions. He joins Norwich with the Norfolk club second-from-bottom in the Premiership, but Stuart is confident that the Carrow Road outfit have a bright future. \"I've been very impressed with the facilities here. It's obviously a very well run football club with excellent facilities and I've always enjoyed playing at Carrow Road,\" he added. \"It's a nice compact ground with a good atmosphere and hopefully I can help give the fans something else to cheer.\"\n",
      "\n",
      "Stuart, a former England Under-21 international, made 110 appearances for Chelsea, scoring 18 goals, before joining Everton. He won the FA Cup with the Toffees in 1995 and remains a hero at Goodison Park after his 81st-minute winner against Wimbledon saved Everton from relegation in 1994. Stuart spent just over four years at Goodison Park, making 125 senior appearances and scoring 25 goals, before signing for Sheffield United - where he scored 12 goals in 68 appearances. After signing for Charlton he made 164 appearances, scoring 23 times, but recently he has been battling a back problem and had not played for the Londoners for three months before heading to Norwich.\n",
      "------------\n",
      "\n",
      "Document: 1617, Score: 0.6987435817718506\n",
      "------------\n",
      "Kirwan demands Italy consistency\n",
      "\n",
      "Italy coach John Kirwan has challenged his side to match the performance they produced in pushing Ireland close when they meet Wales on Saturday.\n",
      "\n",
      "Despite losing 28-17 in Sunday's Six Nations encounter, the Italians confirmed their continuing improvement. \"Our goal is to match every side we face and against Ireland we showed we could do that,\" said Kirwan. \"But the most important thing is that we build on that performance when we play Wales on Saturday.\" Italy's half-backs had a mixed afternoon, with recalled scrum-half Alessandro Troncon impressing but fly-half Luciano Orquera having an off-day with the boot. Kirwan said: \"I was very happy with Troncon. He had an incredible game - he was very good in attack and defence. \"Orquera's kicking was off but he showed great courage in defence. \"He also followed the game plan. We have to give him confidence because he has the capability to do well.\"\n",
      "------------\n",
      "\n",
      "Document: 1532, Score: 0.6930270195007324\n",
      "------------\n",
      "Curbishley delight for Johansson\n",
      "\n",
      "Charlton manager Alan Curbishley paid tribute to two-goal striker Jonatan Johansson after beating Norwich.\n",
      "\n",
      "Curbishley said after the 4-0 win: \"There was talk about Norwich being interested in the summer but I have a lot of faith in Jonatan. \"When there was talk of other clubs I just told him he was going nowhere. \"He's part of our squad and he got us a couple of important goals early on. I'm sure he's happy here, but I was delighted with all the players.\" Curbishley was subjected to criticism from Charlton fans recently, and he said: \"The thing about this club is that we have got where we are by all pulling in the same direction. \"That's happened for however long I've been here and we don't want people taking sides.\"\n",
      "------------\n",
      "\n",
      "Document: 1561, Score: 0.6755126714706421\n",
      "------------\n",
      "Solskjaer raises hopes of return\n",
      "\n",
      "Manchester United striker Ole Gunnar Solskjaer said he hoped to return next season following a career-threatening injury to his right knee.\n",
      "\n",
      "The 31-year-old Norway international had surgery in Sweden in August to transplant cartilage into the joint. \"I'm in no doubt that I'll play again,\" Solskjaer told Aftenposten Daily. \"The problem will be the speed but we're talking about eight months' time. It's going as it should with the knee. I'm slavishly following a programme.\" Solskjaer last played for United as a late substitute in May's FA Cup final win over Millwall. His contract with United runs out in 2006, by which time he will have been at the Premier League club for 10 years.\n",
      "------------\n",
      "\n",
      "Document: 1541, Score: 0.6751558184623718\n",
      "------------\n",
      "McClaren targets Champions League\n",
      "\n",
      "Middlesbrough boss Steve McClaren believes his side can clinch a top-four spot in the Premiership and secure qualification for the Champions League.\n",
      "\n",
      "After their 3-2 win over Manchester City, McClaren said: \"We are playing exciting football, it's a magnificent result to keep us in the top five. \"But how well we do depends how often we can get our best team out. \"Once we got the third goal it should have been four or five but we nearly paid for it in the end.\" McClaren also praised winger Stewart Downing and strikers Jimmy Floyd Hasselbaink and Mark Viduka, who both ended barren runs in front of goal. He added: \"If Stewart keeps playing like this Sven-Goran Eriksson has got to pick him. \"And the strikers scored great goals, the combination play between them shows they want to play with each other and they are trying.\"\n",
      "------------\n",
      "\n",
      "Document: 1571, Score: 0.658393144607544\n",
      "------------\n",
      "Benitez deflects blame from Dudek\n",
      "\n",
      "Liverpool manager Rafael Benitez has refused to point the finger of blame at goalkeeper Jerzy Dudek after Portsmouth claimed a draw at Anfield.\n",
      "\n",
      "Dudek fumbled a cross before Lomana LuaLua headed home an injury-time equaliser, levelling after Steven Gerrard put Liverpool ahead. Benitez said: \"It was difficult for Jerzy. It was an unlucky moment. \"He was expecting a cross from Matthew Taylor and it ended up like a shot, so I don't blame him for what happened.\" Benitez admitted it was a costly loss of two points by Liverpool, who followed up their derby defeat against Everton with a disappointing draw. He said: \"We had many opportunities but didn't score and, in the end, a 1-0 lead was not enough. \"If you don't have any chances you have to think of other things, but when you are creating so many chances as we are there is nothing you can say to the players. It was a pity. \"We lost two points, but we have one more point in the table. Now we have another difficult game against Newcastle and we have to recover quickly from that.\"\n",
      "------------\n",
      "\n",
      "Document: 1593, Score: 0.6546012163162231\n",
      "------------\n",
      "Wenger shock at Newcastle dip\n",
      "\n",
      "Arsenal manager Arsene Wenger has admitted he is at a loss to explain why Newcastle are languishing in the bottom half of the table.\n",
      "\n",
      "The Gunners travel to St James' Park on Wednesday, with Newcastle 14th in the Premiership after a troubled season. And Wenger said: \"At the beginning of the season you would expect them to be fighting for the top four. \"I don't know how they got to be where they are. It looks to me from the outside that they have many injuries.\"\n",
      "\n",
      "Arsenal go into the game on the back of a 2-0 victory over Fulham on Sunday. And Wenger added: \"The best way to prepare for a game is to win the previous one. We will go to Newcastle in good shape. \"Fatigue won't play too big a part in the next few weeks as we have players coming back so I can rotate a bit more. \"We do not play a season with 11 players and I believe that all of our squad deserve a chance in the team.\" Striker Thierry Henry, along with Robert Pires, scored against Fulham. And Henry afterwards described the display as \"beautiful to watch\". He said: \"What matters is winning and the three points, of course. That is the only thing that really matters. But it is more enjoyable when you play like we did against Fulham. \"We are playing as a team and that is important because there were some games when we maybe were not there as a team and suffered for that. Those were games we lost.\"\n",
      "------------\n",
      "\n",
      "Document: 1609, Score: 0.6500232219696045\n",
      "------------\n",
      "Davies favours Gloucester future\n",
      "\n",
      "Wales hooker Mefin Davies is likely to stay with English side Gloucester despite reported interest from the Neath-Swansea Ospreys.\n",
      "\n",
      "BBC Wales understands the Ospreys are interested in the 32-year-old, but that he would prefer to stay where he is. Davies, one of the stars of Saturday's RBS Six Nations win over England, is only on a year contract at Kingsholm. But the hooker has proved his worth to the Zurich Premiership side and is likely to get a new deal next season. The summer demise of the Celtic Warriors region left Davies in the cold and forced him to take a semi-professional contract with Neath RFC. Although he got match time with the Ospreys at the request of the Wales management, he admitted before his move to Gloucester that he was angry with the way he was treated. \"The WRU didn't give me any help off the field, it was very disappointing,\" Davies said at the time. \"It was a hard time throughout the summer, then deciding whether to accept an offer from Stade Francais which would have ended my Wales career.\"\n",
      "------------\n",
      "\n",
      "Document: 1702, Score: 0.6484872102737427\n",
      "------------\n",
      "Dawson set for new Wasps contract\n",
      "\n",
      "European champions Wasps are set to offer Matt Dawson a new deal.\n",
      "\n",
      "The 31-year-old World Cup winning scrum-half has impressed since joining the London side from Northampton this summer on a one-year contract. Wasps coach Warren Gatland told the Daily Mirror: \"We have not yet offered Matt a new contract but we will be doing so. \"I'm very happy with his contribution and I think he's good enough to play for another couple of years.\" Dawson played a vital part in England's World Cup win last year but has fallen out of favour with new coach Andy Robinson after missing a training session in September. However he hopes the new deal will help him regain his England place.\n",
      "\n",
      "\"Rugby is still my priority and there's still a burning desire within me to play the best rugby I possibly can,\" he said. \"I know within myself, if I was given the chance I could play for England again. \"I know I'm fit enough, I'm strong enough, I'm skilful enough.\"\n",
      "------------\n",
      "\n",
      "Document: 1721, Score: 0.6449048519134521\n",
      "------------\n",
      "O'Connell rejects Lions rumours\n",
      "\n",
      "Ireland and Munster lock Paul O'Connell has dismissed media reports linking him to the captaincy of the Lions tour to New Zealand this summer.\n",
      "\n",
      "O'Connell is rumoured to be among the front-runners for the job, but says he is totally focused on Sunday's Six Nations crunch clash with England. \"I honestly don't think about these reports,\" he told BBC Sport. \"The Lions thing is all speculation and newspaper talk, nothing more. I just ignore it and get on with my job.\" He added: \"The only thing that annoys me after reading some reports is what the opposition locks think. \"I can just imagine them saying 'I'm going to show this guy what's what about second row play'. That's the one thing that makes me cringe.\" O'Connell, who made a try-scoring international debut against Wales two years ago, is enjoying his meteoric rise into rugby's shop window - but refuses to be drawn on the Lions.\n",
      "\n",
      "\"I have spoken to Sir Clive Woodward a few times, but not for very long, certainly nothing about summer holidays,\" he joked. He also said he remains wary of wounded England's abilities coming into Sunday's game after two straight defeats, dismissing predictions of a certain Irish victory. \"It's very dangerous to think that. This England team has so much experience and skill. You do not become a bad team overnight. \"They have two world class game-breakers in Josh Lewsey and Jason Robinson, while Charlie Hodgson is just ready to click into place.\" He insisted Ireland will not make the mistake of being over-confident. \"That's not going to happen in our squad. No Ireland team lining up to play England will ever fall into that trap,\" he said. \"Every time we play England we know what a big task it is. Look at what they did to us two years ago. I remember that game all too well, and it was not a good feeling. \"I came on as a replacement and we were losing 13-6, and ended up getting hammered 42-6, so I know what can happen when England come to Dublin. \"They could so easily have been coming to Dublin with two wins and staring a Grand Slam in the face as well.\"\n",
      "------------\n",
      "\n"
     ]
    }
   ],
   "source": [
    "documents, document_scores, document_ids = model.search_documents_by_topic(topic_num = 0, num_docs = 10)\n",
    "for doc, score, doc_id in zip(documents, document_scores, document_ids):\n",
    "  print(f'Document: {doc_id}, Score: {score}')\n",
    "  print('------------')\n",
    "  print(doc)\n",
    "  print('------------')\n",
    "  print()"
   ]
  },
  {
   "cell_type": "code",
   "execution_count": null,
   "id": "c08a9f7f",
   "metadata": {},
   "outputs": [],
   "source": []
  }
 ],
 "metadata": {
  "kernelspec": {
   "display_name": "Python 3 (ipykernel)",
   "language": "python",
   "name": "python3"
  },
  "language_info": {
   "codemirror_mode": {
    "name": "ipython",
    "version": 3
   },
   "file_extension": ".py",
   "mimetype": "text/x-python",
   "name": "python",
   "nbconvert_exporter": "python",
   "pygments_lexer": "ipython3",
   "version": "3.9.16"
  }
 },
 "nbformat": 4,
 "nbformat_minor": 5
}
