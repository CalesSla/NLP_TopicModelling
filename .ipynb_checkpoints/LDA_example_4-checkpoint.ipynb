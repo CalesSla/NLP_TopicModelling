{
 "cells": [
  {
   "cell_type": "markdown",
   "id": "a1040c48",
   "metadata": {},
   "source": [
    "### Step 1. Imports"
   ]
  },
  {
   "cell_type": "code",
   "execution_count": 1,
   "id": "66184b80",
   "metadata": {},
   "outputs": [
    {
     "name": "stderr",
     "output_type": "stream",
     "text": [
      "[nltk_data] Downloading package stopwords to\n",
      "[nltk_data]     C:\\Users\\User\\AppData\\Roaming\\nltk_data...\n",
      "[nltk_data]   Package stopwords is already up-to-date!\n"
     ]
    },
    {
     "data": {
      "text/plain": [
       "True"
      ]
     },
     "execution_count": 1,
     "metadata": {},
     "output_type": "execute_result"
    }
   ],
   "source": [
    "import pandas as pd\n",
    "import re\n",
    "from sklearn.feature_extraction.text import CountVectorizer\n",
    "import gensim\n",
    "from gensim.utils import simple_preprocess\n",
    "import nltk\n",
    "from nltk.corpus import stopwords\n",
    "import spacy\n",
    "import gensim.corpora as corpora\n",
    "from pprint import pprint\n",
    "import pyLDAvis.gensim_models as gensimvis\n",
    "import pickle\n",
    "import pyLDAvis\n",
    "import os\n",
    "from gensim.models import CoherenceModel\n",
    "\n",
    "nltk.download('stopwords')"
   ]
  },
  {
   "cell_type": "markdown",
   "id": "1dcd77e3",
   "metadata": {},
   "source": [
    "### Step 2. Data read"
   ]
  },
  {
   "cell_type": "code",
   "execution_count": 2,
   "id": "02dff41c",
   "metadata": {},
   "outputs": [],
   "source": [
    "papers = pd.read_csv('papers.csv')\n",
    "papers = papers.drop(columns = ['id', 'event_type', 'pdf_name'], axis = 1)\n",
    "papers = papers.sample(100)"
   ]
  },
  {
   "cell_type": "code",
   "execution_count": 3,
   "id": "84a048e5",
   "metadata": {},
   "outputs": [
    {
     "data": {
      "text/html": [
       "<div>\n",
       "<style scoped>\n",
       "    .dataframe tbody tr th:only-of-type {\n",
       "        vertical-align: middle;\n",
       "    }\n",
       "\n",
       "    .dataframe tbody tr th {\n",
       "        vertical-align: top;\n",
       "    }\n",
       "\n",
       "    .dataframe thead th {\n",
       "        text-align: right;\n",
       "    }\n",
       "</style>\n",
       "<table border=\"1\" class=\"dataframe\">\n",
       "  <thead>\n",
       "    <tr style=\"text-align: right;\">\n",
       "      <th></th>\n",
       "      <th>year</th>\n",
       "      <th>title</th>\n",
       "      <th>abstract</th>\n",
       "      <th>paper_text</th>\n",
       "    </tr>\n",
       "  </thead>\n",
       "  <tbody>\n",
       "    <tr>\n",
       "      <th>3917</th>\n",
       "      <td>2012</td>\n",
       "      <td>A Divide-and-Conquer Method for Sparse Inverse...</td>\n",
       "      <td>In this paper, we consider the $\\ell_1$ regula...</td>\n",
       "      <td>A Divide-and-Conquer Procedure for Sparse Inve...</td>\n",
       "    </tr>\n",
       "    <tr>\n",
       "      <th>3743</th>\n",
       "      <td>1990</td>\n",
       "      <td>The Devil and the Network: What Sparsity Impli...</td>\n",
       "      <td>Abstract Missing</td>\n",
       "      <td>The Devil and the Network:\\nWhat Sparsity Impl...</td>\n",
       "    </tr>\n",
       "  </tbody>\n",
       "</table>\n",
       "</div>"
      ],
      "text/plain": [
       "      year                                              title  \\\n",
       "3917  2012  A Divide-and-Conquer Method for Sparse Inverse...   \n",
       "3743  1990  The Devil and the Network: What Sparsity Impli...   \n",
       "\n",
       "                                               abstract  \\\n",
       "3917  In this paper, we consider the $\\ell_1$ regula...   \n",
       "3743                                   Abstract Missing   \n",
       "\n",
       "                                             paper_text  \n",
       "3917  A Divide-and-Conquer Procedure for Sparse Inve...  \n",
       "3743  The Devil and the Network:\\nWhat Sparsity Impl...  "
      ]
     },
     "execution_count": 3,
     "metadata": {},
     "output_type": "execute_result"
    }
   ],
   "source": [
    "papers.head(2)"
   ]
  },
  {
   "cell_type": "markdown",
   "id": "bdf8c2de",
   "metadata": {},
   "source": [
    "### Step 3. Remove punctuation"
   ]
  },
  {
   "cell_type": "code",
   "execution_count": 4,
   "id": "7843f8f1",
   "metadata": {},
   "outputs": [
    {
     "name": "stderr",
     "output_type": "stream",
     "text": [
      "<>:1: DeprecationWarning: invalid escape sequence \\.\n",
      "<>:1: DeprecationWarning: invalid escape sequence \\.\n",
      "C:\\Users\\User\\AppData\\Local\\Temp\\ipykernel_1872\\3935137952.py:1: DeprecationWarning: invalid escape sequence \\.\n",
      "  papers['clean_text'] = papers['paper_text'].map(lambda x: re.sub('[,\\.!?]', '', x))\n"
     ]
    }
   ],
   "source": [
    "papers['clean_text'] = papers['paper_text'].map(lambda x: re.sub('[,\\.!?]', '', x))"
   ]
  },
  {
   "cell_type": "markdown",
   "id": "b573c333",
   "metadata": {},
   "source": [
    "### Step 4. Remove digits"
   ]
  },
  {
   "cell_type": "code",
   "execution_count": 5,
   "id": "2c414ff1",
   "metadata": {},
   "outputs": [
    {
     "name": "stderr",
     "output_type": "stream",
     "text": [
      "<>:1: DeprecationWarning: invalid escape sequence \\w\n",
      "<>:1: DeprecationWarning: invalid escape sequence \\w\n",
      "C:\\Users\\User\\AppData\\Local\\Temp\\ipykernel_1872\\943056133.py:1: DeprecationWarning: invalid escape sequence \\w\n",
      "  papers['clean_text'] = papers['clean_text'].apply(lambda x: re.sub('\\w*\\d\\w*', '', x))\n"
     ]
    }
   ],
   "source": [
    "papers['clean_text'] = papers['clean_text'].apply(lambda x: re.sub('\\w*\\d\\w*', '', x))"
   ]
  },
  {
   "cell_type": "markdown",
   "id": "debba603",
   "metadata": {},
   "source": [
    "### Step 5. Lowercase the text"
   ]
  },
  {
   "cell_type": "code",
   "execution_count": 6,
   "id": "2a8d0867",
   "metadata": {},
   "outputs": [],
   "source": [
    "papers['clean_text'] = papers['clean_text'].map(lambda x: x.lower())"
   ]
  },
  {
   "cell_type": "markdown",
   "id": "55625e16",
   "metadata": {},
   "source": [
    "### Step 6. Create document term matrix"
   ]
  },
  {
   "cell_type": "code",
   "execution_count": 7,
   "id": "5537cc10",
   "metadata": {},
   "outputs": [
    {
     "data": {
      "text/html": [
       "<div>\n",
       "<style scoped>\n",
       "    .dataframe tbody tr th:only-of-type {\n",
       "        vertical-align: middle;\n",
       "    }\n",
       "\n",
       "    .dataframe tbody tr th {\n",
       "        vertical-align: top;\n",
       "    }\n",
       "\n",
       "    .dataframe thead th {\n",
       "        text-align: right;\n",
       "    }\n",
       "</style>\n",
       "<table border=\"1\" class=\"dataframe\">\n",
       "  <thead>\n",
       "    <tr style=\"text-align: right;\">\n",
       "      <th></th>\n",
       "      <th>__</th>\n",
       "      <th>___</th>\n",
       "      <th>____</th>\n",
       "      <th>_______________</th>\n",
       "      <th>_____o</th>\n",
       "      <th>_ato</th>\n",
       "      <th>_i</th>\n",
       "      <th>_ighl</th>\n",
       "      <th>_j</th>\n",
       "      <th>_o</th>\n",
       "      <th>...</th>\n",
       "      <th>zub</th>\n",
       "      <th>zubek</th>\n",
       "      <th>zubieta</th>\n",
       "      <th>zuk</th>\n",
       "      <th>zunino</th>\n",
       "      <th>zv</th>\n",
       "      <th>zweig</th>\n",
       "      <th>zyl</th>\n",
       "      <th>zyzhou</th>\n",
       "      <th>zz</th>\n",
       "    </tr>\n",
       "  </thead>\n",
       "  <tbody>\n",
       "    <tr>\n",
       "      <th>3917</th>\n",
       "      <td>0</td>\n",
       "      <td>0</td>\n",
       "      <td>0</td>\n",
       "      <td>0</td>\n",
       "      <td>0</td>\n",
       "      <td>0</td>\n",
       "      <td>0</td>\n",
       "      <td>0</td>\n",
       "      <td>0</td>\n",
       "      <td>0</td>\n",
       "      <td>...</td>\n",
       "      <td>0</td>\n",
       "      <td>0</td>\n",
       "      <td>0</td>\n",
       "      <td>0</td>\n",
       "      <td>0</td>\n",
       "      <td>0</td>\n",
       "      <td>0</td>\n",
       "      <td>0</td>\n",
       "      <td>0</td>\n",
       "      <td>0</td>\n",
       "    </tr>\n",
       "    <tr>\n",
       "      <th>3743</th>\n",
       "      <td>0</td>\n",
       "      <td>0</td>\n",
       "      <td>0</td>\n",
       "      <td>0</td>\n",
       "      <td>0</td>\n",
       "      <td>0</td>\n",
       "      <td>0</td>\n",
       "      <td>0</td>\n",
       "      <td>0</td>\n",
       "      <td>0</td>\n",
       "      <td>...</td>\n",
       "      <td>0</td>\n",
       "      <td>0</td>\n",
       "      <td>0</td>\n",
       "      <td>0</td>\n",
       "      <td>0</td>\n",
       "      <td>0</td>\n",
       "      <td>0</td>\n",
       "      <td>0</td>\n",
       "      <td>0</td>\n",
       "      <td>0</td>\n",
       "    </tr>\n",
       "    <tr>\n",
       "      <th>6819</th>\n",
       "      <td>0</td>\n",
       "      <td>0</td>\n",
       "      <td>0</td>\n",
       "      <td>0</td>\n",
       "      <td>0</td>\n",
       "      <td>0</td>\n",
       "      <td>0</td>\n",
       "      <td>0</td>\n",
       "      <td>0</td>\n",
       "      <td>0</td>\n",
       "      <td>...</td>\n",
       "      <td>0</td>\n",
       "      <td>0</td>\n",
       "      <td>0</td>\n",
       "      <td>0</td>\n",
       "      <td>0</td>\n",
       "      <td>0</td>\n",
       "      <td>0</td>\n",
       "      <td>0</td>\n",
       "      <td>0</td>\n",
       "      <td>0</td>\n",
       "    </tr>\n",
       "  </tbody>\n",
       "</table>\n",
       "<p>3 rows × 16848 columns</p>\n",
       "</div>"
      ],
      "text/plain": [
       "      __  ___  ____  _______________  _____o  _ato  _i  _ighl  _j  _o  ...  \\\n",
       "3917   0    0     0                0       0     0   0      0   0   0  ...   \n",
       "3743   0    0     0                0       0     0   0      0   0   0  ...   \n",
       "6819   0    0     0                0       0     0   0      0   0   0  ...   \n",
       "\n",
       "      zub  zubek  zubieta  zuk  zunino  zv  zweig  zyl  zyzhou  zz  \n",
       "3917    0      0        0    0       0   0      0    0       0   0  \n",
       "3743    0      0        0    0       0   0      0    0       0   0  \n",
       "6819    0      0        0    0       0   0      0    0       0   0  \n",
       "\n",
       "[3 rows x 16848 columns]"
      ]
     },
     "execution_count": 7,
     "metadata": {},
     "output_type": "execute_result"
    }
   ],
   "source": [
    "def create_document_term_matrix(dataframe, column_name):\n",
    "  cv = CountVectorizer(analyzer = 'word')\n",
    "  data = cv.fit_transform(dataframe[column_name])\n",
    "  df_dtm = pd.DataFrame(data.toarray(), columns = cv.get_feature_names_out())\n",
    "  df_dtm.index = dataframe.index\n",
    "  return df_dtm\n",
    "\n",
    "df_dtm = create_document_term_matrix(papers, 'clean_text')\n",
    "df_dtm.head(3)"
   ]
  },
  {
   "cell_type": "markdown",
   "id": "4a3f2e36",
   "metadata": {},
   "source": [
    "### Step 7. Remove stopwords"
   ]
  },
  {
   "cell_type": "code",
   "execution_count": 8,
   "id": "36551088",
   "metadata": {},
   "outputs": [],
   "source": [
    "stop_words = stopwords.words('english')\n",
    "stop_words.extend(['has', 'been', 're', 'com', 'edu', 'use'])\n",
    "\n",
    "def convert_sentences_to_words(sentences):\n",
    "  for sentence in sentences:\n",
    "    yield(gensim.utils.simple_preprocess(str(sentence), deacc = True))\n",
    "    \n",
    "def remove_all_stop_words(texts):\n",
    "  return [[word for word in simple_preprocess(str(doc)) if word not in stop_words] for doc in texts]\n",
    "\n",
    "text_to_list = papers.clean_text.values.tolist()\n",
    "text_as_words = list(convert_sentences_to_words(text_to_list))\n",
    "clean_words = remove_all_stop_words(text_as_words)"
   ]
  },
  {
   "cell_type": "markdown",
   "id": "5d29f5ad",
   "metadata": {},
   "source": [
    "### Step 8. Create Bigram and Trigram"
   ]
  },
  {
   "cell_type": "code",
   "execution_count": 9,
   "id": "9990029c",
   "metadata": {},
   "outputs": [],
   "source": [
    "bigram = gensim.models.Phrases(clean_words, min_count = 5, threshold = 100)\n",
    "trigram = gensim.models.Phrases(bigram[clean_words], threshold = 100)\n",
    "\n",
    "bigram_mod = gensim.models.phrases.Phraser(bigram)\n",
    "trigram_mod = gensim.models.phrases.Phraser(trigram)\n",
    "\n",
    "def make_bigrams(texts):\n",
    "  return [bigram_mod[doc] for doc in texts]\n",
    "\n",
    "def make_trigrams(texts):\n",
    "  return [trigram_mod[bigram_mod[doc]] for doc in texts]"
   ]
  },
  {
   "cell_type": "markdown",
   "id": "d2e2d87f",
   "metadata": {},
   "source": [
    "### Step 9. Lemmatization"
   ]
  },
  {
   "cell_type": "code",
   "execution_count": 10,
   "id": "b6ccf84a",
   "metadata": {},
   "outputs": [],
   "source": [
    "def lemmatization(texts, allowed_postags = ['NOUN', 'ADJ', 'VERB', 'ADV']):\n",
    "  texts_out = []\n",
    "  for sent in texts:\n",
    "    doc = nlp(' '.join(sent))\n",
    "    texts_out.append([token.lemma_ for token in doc if token.pos_ in allowed_postags])\n",
    "  return texts_out\n",
    "\n",
    "nlp = spacy.load('en_core_web_sm', disable = ['parser', 'ner'])\n",
    "\n",
    "clean_words_bigrams = make_bigrams(clean_words)\n",
    "\n",
    "clean_words_lemmatized = lemmatization(clean_words_bigrams)"
   ]
  },
  {
   "cell_type": "markdown",
   "id": "e0717068",
   "metadata": {},
   "source": [
    "### Step 10. Tokenization"
   ]
  },
  {
   "cell_type": "code",
   "execution_count": 11,
   "id": "d3dd83f8",
   "metadata": {},
   "outputs": [],
   "source": [
    "id2word = corpora.Dictionary(clean_words_lemmatized)\n",
    "texts = clean_words_lemmatized\n",
    "corpus = [id2word.doc2bow(text) for text in texts]"
   ]
  },
  {
   "cell_type": "markdown",
   "id": "4191bf88",
   "metadata": {},
   "source": [
    "### Step 11. LDA Model"
   ]
  },
  {
   "cell_type": "code",
   "execution_count": 12,
   "id": "84d1d7e9",
   "metadata": {},
   "outputs": [
    {
     "name": "stdout",
     "output_type": "stream",
     "text": [
      "[(0,\n",
      "  '0.011*\"model\" + 0.008*\"learn\" + 0.008*\"set\" + 0.007*\"use\" + 0.007*\"problem\" '\n",
      "  '+ 0.006*\"function\" + 0.005*\"time\" + 0.005*\"datum\" + 0.005*\"show\" + '\n",
      "  '0.005*\"network\"'),\n",
      " (1,\n",
      "  '0.013*\"model\" + 0.009*\"use\" + 0.008*\"network\" + 0.006*\"method\" + '\n",
      "  '0.005*\"function\" + 0.005*\"learn\" + 0.005*\"state\" + 0.005*\"set\" + '\n",
      "  '0.005*\"time\" + 0.005*\"figure\"'),\n",
      " (2,\n",
      "  '0.011*\"model\" + 0.009*\"use\" + 0.008*\"set\" + 0.007*\"image\" + 0.006*\"learn\" + '\n",
      "  '0.006*\"datum\" + 0.005*\"function\" + 0.005*\"problem\" + 0.005*\"network\" + '\n",
      "  '0.005*\"show\"'),\n",
      " (3,\n",
      "  '0.014*\"model\" + 0.010*\"learn\" + 0.009*\"use\" + 0.007*\"problem\" + '\n",
      "  '0.005*\"function\" + 0.005*\"set\" + 0.005*\"show\" + 0.005*\"result\" + '\n",
      "  '0.005*\"image\" + 0.005*\"number\"'),\n",
      " (4,\n",
      "  '0.011*\"model\" + 0.011*\"function\" + 0.010*\"use\" + 0.009*\"network\" + '\n",
      "  '0.007*\"learn\" + 0.006*\"show\" + 0.006*\"result\" + 0.006*\"method\" + '\n",
      "  '0.005*\"set\" + 0.005*\"value\"')]\n"
     ]
    }
   ],
   "source": [
    "num_topics = 5\n",
    "\n",
    "lda_model = gensim.models.LdaMulticore(corpus = corpus, id2word = id2word, num_topics = num_topics)\n",
    "\n",
    "pprint(lda_model.print_topics())"
   ]
  },
  {
   "cell_type": "code",
   "execution_count": 13,
   "id": "32175abd",
   "metadata": {},
   "outputs": [],
   "source": [
    "doc_lda = lda_model[corpus]"
   ]
  },
  {
   "cell_type": "markdown",
   "id": "7d7e3fd3",
   "metadata": {},
   "source": [
    "### Step 12. Model Results evaluation"
   ]
  },
  {
   "cell_type": "code",
   "execution_count": 14,
   "id": "9c887be0",
   "metadata": {},
   "outputs": [
    {
     "name": "stderr",
     "output_type": "stream",
     "text": [
      "C:\\Users\\User\\anaconda3\\envs\\newtensorflow\\lib\\site-packages\\pyLDAvis\\_prepare.py:243: FutureWarning: In a future version of pandas all arguments of DataFrame.drop except for the argument 'labels' will be keyword-only.\n",
      "  default_term_info = default_term_info.sort_values(\n"
     ]
    },
    {
     "data": {
      "text/html": [
       "\n",
       "<link rel=\"stylesheet\" type=\"text/css\" href=\"https://cdn.jsdelivr.net/gh/bmabey/pyLDAvis@3.4.0/pyLDAvis/js/ldavis.v1.0.0.css\">\n",
       "\n",
       "\n",
       "<div id=\"ldavis_el187224022317778725588754476\" style=\"background-color:white;\"></div>\n",
       "<script type=\"text/javascript\">\n",
       "\n",
       "var ldavis_el187224022317778725588754476_data = {\"mdsDat\": {\"x\": [0.006863017580742493, -0.002981565307017949, 0.002576625913270989, -0.006461442916441642, 3.364729446108238e-06], \"y\": [-0.003275943371422553, -0.005957937545151468, 0.0056436962868374255, 0.0015212977047981723, 0.002068886924938429], \"topics\": [1, 2, 3, 4, 5], \"cluster\": [1, 1, 1, 1, 1], \"Freq\": [22.78634640460249, 20.47530871324811, 19.430264614712282, 18.853918539548854, 18.454161727888255]}, \"tinfo\": {\"Term\": [\"image\", \"network\", \"object\", \"function\", \"model\", \"set\", \"use\", \"neural\", \"learn\", \"state\", \"approach\", \"feature\", \"method\", \"phrase\", \"value\", \"problem\", \"system\", \"memory\", \"datum\", \"distribution\", \"approximation\", \"training\", \"annotation\", \"input\", \"result\", \"variable\", \"well\", \"task\", \"dynamic\", \"time\", \"eur_lex\", \"gdmm\", \"fmo\", \"qmax\", \"variationally_stable\", \"directory\", \"opponent\", \"chineseocr\", \"gdmm_subfmo\", \"delayed_mirror\", \"bcfw\", \"subfmo_ssg\", \"ssg\", \"bayen\", \"smin\", \"xf\", \"summable\", \"hwf_xf\", \"factorwise\", \"maximization\", \"richene\", \"simplex\", \"ctv\", \"synchronous_bounde\", \"sublinear\", \"unique_nash\", \"multimap\", \"online\", \"omd\", \"superlinearly\", \"claim\", \"multipli\", \"factor\", \"best_response\", \"delay\", \"player\", \"averaging\", \"soft_bcfw\", \"accurate\", \"cost\", \"convergence\", \"regression\", \"gradient\", \"direction\", \"set\", \"time\", \"large\", \"problem\", \"learn\", \"algorithm\", \"prediction\", \"datum\", \"estimate\", \"expect\", \"test\", \"assumption\", \"error\", \"section\", \"denote\", \"model\", \"experiment\", \"give\", \"probability\", \"number\", \"also\", \"function\", \"show\", \"example\", \"variable\", \"use\", \"follow\", \"figure\", \"value\", \"network\", \"point\", \"state\", \"method\", \"result\", \"base\", \"sample\", \"input\", \"parameter\", \"influence_maximization\", \"almost_submodular\", \"mean_field\", \"fli\", \"influence_spread\", \"threshold_function\", \"gadget\", \"tap\", \"seed\", \"flixster\", \"supermodular\", \"sigmoid_belief\", \"pa_vi\", \"rrset\", \"boltzmann_machine\", \"pagerank\", \"phrase\", \"submodular_node\", \"start_end\", \"viral_markete\", \"collaborate\", \"mka\", \"tim_tim\", \"clause\", \"phrase_candidate\", \"bridging_layer\", \"third_order\", \"contagion\", \"factorise\", \"hopfield_network\", \"multiresolution\", \"submodular\", \"function\", \"recursive\", \"approximation\", \"gp\", \"gate\", \"network\", \"layer\", \"local\", \"proposal\", \"use\", \"result\", \"show\", \"segmentation\", \"architecture\", \"threshold\", \"method\", \"let\", \"value\", \"form\", \"model\", \"high\", \"distribution\", \"input\", \"number\", \"graph\", \"policy\", \"point\", \"state\", \"learn\", \"first\", \"figure\", \"structure\", \"base\", \"give\", \"set\", \"case\", \"datum\", \"neural\", \"follow\", \"problem\", \"parameter\", \"image\", \"time\", \"feature\", \"sample\", \"stereo\", \"depth_perception\", \"mwu\", \"vertical_bar\", \"convexokl\", \"nonnegative\", \"pilioura\", \"periodic_orbit\", \"rdw\", \"anarchy\", \"acuity\", \"observer\", \"arcmin\", \"cls\", \"congestion_game\", \"tabulate\", \"localization\", \"chaos\", \"positive_semidefinite\", \"unconstrained_dual\", \"keypoint\", \"ordinal\", \"jnd\", \"ff\", \"unpaired\", \"cue_combination\", \"halfspace\", \"causal_inference\", \"cell_tracke\", \"mwue\", \"cue\", \"accompaniment\", \"stream\", \"depth\", \"task\", \"boost\", \"object\", \"learn\", \"approach\", \"model\", \"disparity\", \"distribution\", \"well\", \"problem\", \"word\", \"image\", \"table\", \"pair\", \"part\", \"similar\", \"case\", \"compute\", \"topic\", \"parameter\", \"use\", \"matrix\", \"number\", \"result\", \"training\", \"present\", \"follow\", \"also\", \"show\", \"give\", \"feature\", \"variable\", \"neural\", \"class\", \"graph\", \"estimate\", \"figure\", \"set\", \"function\", \"method\", \"time\", \"datum\", \"network\", \"example\", \"ion\", \"attraction\", \"dembo\", \"hypersphere\", \"ity\", \"relaxat\", \"axiom\", \"ve\", \"equat\", \"icle\", \"exhib\", \"rev\", \"ing\", \"lln\", \"implementotion\", \"weak_classifier\", \"ience\", \"packing\", \"ation\", \"synoptic\", \"unl\", \"cummulative\", \"hasten\", \"radially\", \"energn\", \"basin\", \"assoc\", \"enlarging\", \"disturb\", \"euclid\", \"cascade\", \"viola_jone\", \"phy\", \"memory\", \"reference_vector\", \"spike\", \"object\", \"dynamic\", \"state\", \"sgn\", \"connection\", \"network\", \"offset\", \"percept\", \"face_detection\", \"neuron\", \"system\", \"word_context\", \"model\", \"method\", \"approach\", \"time\", \"generate\", \"neural\", \"policy\", \"base\", \"use\", \"figure\", \"performance\", \"also\", \"value\", \"feature\", \"input\", \"error\", \"work\", \"control\", \"result\", \"point\", \"follow\", \"probability\", \"however\", \"function\", \"show\", \"set\", \"number\", \"learn\", \"image\", \"training\", \"give\", \"datum\", \"problem\", \"distribution\", \"annotation_term\", \"dlm\", \"ent\", \"dom\", \"scene_label\", \"lf_asd\", \"energy_normalization\", \"desensitize\", \"marchand\", \"ivmrps\", \"border\", \"sport\", \"sailboat\", \"textual_annotation\", \"idle\", \"codeword\", \"voluntary\", \"geometric_measure\", \"bodied\", \"supernet\", \"adjective\", \"subnet\", \"flexion\", \"distort\", \"cml\", \"mtn\", \"active_idle\", \"po\", \"youtube\", \"shogun\", \"textual\", \"annotation\", \"image\", \"musical\", \"norm\", \"handwritten\", \"kernel\", \"set\", \"datum\", \"feature\", \"segment\", \"variable\", \"training\", \"define\", \"use\", \"value\", \"multiple\", \"give\", \"unit\", \"neural\", \"example\", \"performance\", \"figure\", \"model\", \"weight\", \"problem\", \"make\", \"class\", \"system\", \"method\", \"show\", \"base\", \"case\", \"parameter\", \"learn\", \"result\", \"network\", \"matrix\", \"function\", \"input\", \"structure\", \"time\", \"number\", \"distribution\", \"follow\", \"state\", \"also\"], \"Freq\": [762.0, 1183.0, 501.0, 1256.0, 2231.0, 1203.0, 1598.0, 494.0, 1382.0, 696.0, 549.0, 633.0, 924.0, 114.0, 737.0, 1027.0, 457.0, 191.0, 854.0, 651.0, 332.0, 576.0, 120.0, 494.0, 904.0, 454.0, 535.0, 387.0, 209.0, 810.0, 3.6239563054128943, 7.847663243180981, 6.764007683000681, 2.4057677821925196, 5.75441866839483, 2.399844244380975, 21.136646546507823, 3.770439372984392, 3.1712572728779116, 4.051191274940055, 3.587678577953448, 3.1109516429510484, 2.199732444560245, 1.7535167402387521, 1.7493971449494814, 1.2970633967258625, 3.453220545028525, 3.4223484009596383, 3.7950133286659757, 13.109257177959536, 1.6819625389835726, 1.6689015954950277, 1.2502299673466422, 2.899996206632634, 4.156396278700992, 3.316596095149282, 1.2311596286229411, 33.69309805808988, 11.738649248794781, 1.2180083787351978, 8.875352875936947, 4.452491682778005, 92.34739063286699, 12.345473284020283, 46.72790842014057, 37.299786718466095, 4.861004738616919, 8.578828809159504, 23.450161307552168, 130.99601433554054, 70.95906881558807, 76.17687234223679, 67.91413372617369, 36.49990024621156, 343.31476163873907, 233.67132246020915, 132.81369904093341, 280.1844212262332, 364.0654081947141, 132.58162548828597, 92.3727070211062, 231.91254281600743, 155.92384496962129, 58.13215705336642, 101.89300775044013, 64.97694314700625, 129.96512581128525, 106.12461107350995, 78.30874901114221, 460.129852054564, 104.47717758042347, 192.71114466783771, 114.64221698324961, 184.33929281809088, 149.56157884551152, 265.669019263163, 218.43347429889357, 137.74266195969585, 116.3878388992307, 287.42207090895374, 143.25596987913835, 170.84545807295115, 158.4976744437137, 210.87396480420998, 131.14046960687077, 147.2568883543615, 171.08795190694568, 168.85593363681068, 133.76493185744158, 121.23580735885531, 117.64209909209386, 121.41053439670675, 13.893703913359206, 21.367951580769482, 12.53957545415492, 2.960604806823986, 4.684059849578691, 11.623413146777747, 4.953868232915364, 6.865376941189992, 13.229701249400946, 3.24455597222259, 2.0078838342435357, 3.1505555105947765, 3.5415269022151845, 2.3405908745515713, 4.250743713872274, 3.9068492818385634, 46.70743157258479, 3.442468233006306, 9.58210011519376, 2.6304082141332077, 1.1192055067633284, 8.829409089471662, 2.603860058747532, 6.328533071007565, 5.973676383775292, 7.243161925104754, 1.0883523341905563, 2.55975602349453, 1.4349290470164218, 10.228238862017696, 4.96663803284187, 12.13648316078521, 412.19716127839627, 7.643820780173956, 111.3507790811367, 16.506590473988087, 15.665220063908839, 334.8646668650278, 83.76279536659715, 91.93086190992993, 28.87012122733274, 379.7209257575157, 227.2782760017093, 248.9293031701813, 48.138672588715984, 42.586954518466335, 41.407664421048544, 218.75198399928436, 98.9509605277812, 175.1176040215446, 78.88777625771499, 428.04846053944146, 74.06180072157225, 149.25189987057146, 116.11762043942214, 168.3512966907779, 91.88006774288627, 73.80889819774987, 128.0191839441579, 151.84247420905186, 255.12155920765707, 107.23515880403673, 161.22172757576678, 113.24356652993825, 127.99467562389825, 156.978448575556, 204.87088436491584, 117.34012777263848, 152.13544289892513, 105.57029873365009, 121.25134147684746, 164.52345616248522, 118.70858978379682, 127.51258888472454, 130.65371166578532, 109.13732764282778, 105.89191432826644, 4.99549296685966, 3.2068224213600485, 8.207124214185953, 4.263865623850082, 2.3235822173450127, 3.40176396772552, 3.0531412566989564, 2.6561339773513577, 2.2454211579734125, 2.612034836233921, 1.8560160726068269, 2.9434370357839614, 1.8239967672755435, 1.4494727393535736, 14.717814535315986, 1.0794959711291294, 9.857955326138976, 6.4738868156644225, 3.599606570203163, 2.882551596507332, 2.4206540520507285, 6.03594528049456, 1.411208722386506, 1.3792362726921634, 3.154465240457035, 6.906111963127528, 4.119683108452654, 3.4485740801552662, 3.7017042044211816, 8.886879172399727, 15.002998174852655, 15.56403372786893, 8.567997810696022, 25.63482971990991, 108.73787664813669, 23.471358006044834, 137.88999716825262, 353.21067229907834, 146.92627713638882, 514.7118979390486, 7.518846854553179, 163.5119799244341, 136.34019160159738, 243.95544126546326, 93.23489688010224, 180.99046149953952, 50.10051332727368, 51.480514065656045, 47.05329957487293, 68.35705405179519, 130.62478360361203, 99.1653126171981, 61.31322485249242, 136.58144701660137, 313.32408722079003, 117.20382128422474, 167.03293398352818, 186.53820299013782, 126.41091986623307, 71.97897348928966, 128.22135352396558, 125.89171681289724, 187.81819676087542, 157.8651089444828, 128.6428923915037, 99.1803575362594, 105.34199306284721, 98.88883880162818, 85.00242962328602, 111.32449522980762, 145.39854483433598, 188.4166710327081, 192.36271646854112, 153.0693407923347, 136.00462004903525, 134.2624337563085, 150.58604314972123, 108.04698602184364, 5.754032789065699, 4.944086577593485, 2.252679369090138, 2.660176601245964, 2.6445823513787308, 1.319625743655934, 1.3160920699996725, 1.733387051084357, 1.2902870041536234, 1.2803998736117033, 0.786505754282689, 1.9403968043972026, 0.7665506633458343, 0.7635273173676154, 0.7530749643708446, 3.369372426797796, 0.7516786349951222, 0.7512482599449481, 0.7488026653471099, 0.7463482230028922, 0.7468374969194767, 0.7488648579001288, 0.744394291858982, 0.7440398653470739, 0.7423237254598775, 2.5952067600131667, 0.7360166385150989, 0.7369055464068451, 0.7336367239031593, 0.7331216171504298, 19.614864218318694, 11.056707031813499, 1.4297259371264222, 61.22482191084004, 11.914996812847289, 42.72739938582049, 144.3436544413612, 61.575619425926504, 186.60567838397154, 17.078502334088366, 28.93757725656261, 299.4628006935759, 6.479855919602199, 7.289422388383083, 6.395143850002381, 62.46333487395623, 117.12487217089394, 8.676083050193238, 461.08059573703144, 209.69722488876232, 127.95937857926376, 179.38437150127862, 71.23167731515738, 114.8071170459428, 70.88749300612402, 134.45037258449818, 307.41451965181807, 169.83037191446215, 107.83536776017102, 128.69604840104077, 151.60746770596037, 133.46362437582337, 106.26349134642585, 101.81760651358854, 88.18551554857767, 56.83022249094449, 163.60503039638056, 112.74778121402396, 119.83627011964802, 91.08490214589855, 81.31302221915527, 195.13633393311687, 163.32429979942665, 183.66819145327727, 134.9148180456071, 189.68432419786916, 129.42156670411077, 109.65796734840417, 131.58289470638348, 135.61953781564011, 148.12892132203206, 114.34899546312218, 15.844657044331774, 5.886426371612857, 16.559133238523607, 4.675269269912996, 7.753904934215804, 7.952798086767998, 4.130207839841667, 2.607716740289523, 1.8494786010672712, 1.0881834924826783, 4.667582091868836, 5.947757419966097, 1.7484377988333943, 3.7871000715997667, 2.110559082100543, 1.7219103087427454, 1.3966109673556302, 5.174514592910922, 1.037876308025359, 4.039979960503666, 1.0084678961255975, 7.919695331186613, 1.0179764235956692, 2.3554864257687385, 2.638102864040553, 0.9915964088880299, 3.9706226608296005, 1.9742606010933423, 1.2942408006533903, 4.230602354756259, 5.133304420817206, 41.46530893121673, 229.08906757331144, 5.898252721572774, 40.97067965724104, 3.752589946996812, 49.522219960644776, 283.5768455019724, 200.1654303301619, 151.3673272690727, 23.683563932097254, 107.68718056922299, 132.1898727166403, 101.42153120621174, 310.81122726630093, 157.84259623246814, 33.35913037769328, 166.41736242319587, 33.836068168431225, 106.9527958936653, 117.52281185229927, 102.77118950096182, 157.93291058686998, 367.42144916204364, 95.43489186674816, 190.4488291911105, 85.11748423497548, 96.76481564166433, 97.0012010442669, 172.21989382321675, 183.38162172750626, 120.41221580320084, 112.96351474564455, 117.46159357552051, 220.23984672380297, 157.75902996725918, 188.01615112830436, 102.07432387766728, 190.7956032997787, 99.13206798598871, 100.51066862491506, 130.31676821786598, 125.34311901580554, 109.86419181869911, 106.19994702201863, 109.53888375395029, 103.97638690308597], \"Total\": [762.0, 1183.0, 501.0, 1256.0, 2231.0, 1203.0, 1598.0, 494.0, 1382.0, 696.0, 549.0, 633.0, 924.0, 114.0, 737.0, 1027.0, 457.0, 191.0, 854.0, 651.0, 332.0, 576.0, 120.0, 494.0, 904.0, 454.0, 535.0, 387.0, 209.0, 810.0, 7.04413406822186, 15.958599278511473, 13.978214629284732, 4.990543832626849, 11.949866426937376, 5.003509441422263, 44.16710699683029, 7.985188479988293, 6.951999575416272, 8.933434739480969, 7.9301409694838645, 6.945264136415997, 4.953158832427742, 3.9526545843729712, 3.9509012297978554, 2.973011784481753, 7.927427487493583, 7.886785601165126, 8.882511239112581, 30.69753376766255, 3.9430313152833714, 3.947368538508943, 2.964176639431129, 6.887072051554799, 9.890258964756487, 7.899247246438243, 2.9603941729988175, 81.20802444359282, 28.389152671110807, 2.9510720919003584, 21.639979249849866, 10.817156778219474, 236.87299849683728, 30.630475097856053, 120.91863546499594, 96.46684901784016, 11.858177550246378, 21.640308969052917, 63.365473258113546, 406.2692126555399, 210.55295725519315, 228.79050453650797, 202.85290955935017, 104.0249614665896, 1203.8473539916126, 810.0307938941744, 437.375374888461, 1027.2410691673242, 1382.3218106231218, 451.2239445207414, 301.37429037554534, 854.0953876170431, 547.5701230986176, 181.04969921993205, 347.95281984634823, 208.41797891932612, 472.95879819300217, 380.46841273891795, 266.69341552923385, 2231.3922554321293, 381.66855954836615, 805.5549593174559, 430.60842381667493, 779.9814605538097, 605.234231383411, 1256.1608342429959, 1001.8868957568833, 559.1488954161447, 454.1670406000778, 1598.6928308053784, 618.764882021618, 805.229012984386, 737.7009331752857, 1183.8036266408392, 564.9927149016462, 696.2746368980005, 924.8263954105439, 904.0364729922975, 607.7932212108001, 537.1572375543482, 494.2233757044103, 599.7812818542528, 28.871817047791517, 46.24184693074939, 27.592636808903006, 6.61063491770866, 10.55128142193764, 26.781730461635558, 11.515630146915559, 16.03860189897572, 30.912221349294434, 7.690804605391311, 4.808037776476906, 7.583019593971021, 8.620514685668029, 5.734129900768265, 10.416885344995126, 9.589574104419912, 114.7385489262652, 8.609931268289497, 24.233515272910473, 6.71357339284207, 2.8576896331094357, 22.592904160286874, 6.739912346637226, 16.46963948270364, 15.577938637207955, 18.928839195093083, 2.8537741837258905, 6.743263885223801, 3.797637803653955, 27.111293842286862, 13.170157716247562, 32.66539236340261, 1256.1608342429959, 20.60169347510114, 332.8842897851867, 46.54672894333268, 44.483597630257854, 1183.8036266408392, 275.39170507930066, 310.14418511154724, 89.82284000266165, 1598.6928308053784, 904.0364729922975, 1001.8868957568833, 159.86956668477805, 142.09350948584168, 137.79504962251676, 924.8263954105439, 374.35949753219836, 737.7009331752857, 298.97195651087566, 2231.3922554321293, 280.7740852315024, 651.9458295019069, 494.2233757044103, 779.9814605538097, 375.7444226377878, 288.2764656769723, 564.9927149016462, 696.2746368980005, 1382.3218106231218, 470.16295405448545, 805.229012984386, 506.10043505086264, 607.7932212108001, 805.5549593174559, 1203.8473539916126, 562.8942889113662, 854.0953876170431, 494.8044710194514, 618.764882021618, 1027.2410691673242, 599.7812818542528, 762.912892631604, 810.0307938941744, 633.000405279884, 537.1572375543482, 11.447059242815639, 7.6211247524228956, 19.950986613379676, 10.503416649416309, 5.7601609624224865, 8.450545902704835, 7.6286851277575884, 6.650512309792091, 5.672618886315417, 6.614415516157336, 4.782486211472877, 7.618242447017036, 4.749630889822285, 3.786114310790099, 38.53597487542658, 2.8569934956783065, 26.12824551929105, 17.165485637949153, 9.632220514133422, 7.73630987849289, 6.500397509509827, 16.24139936164922, 3.8248182644482873, 3.7507429355299386, 8.606143043926757, 19.070042582176, 11.392515691858488, 9.561484104843407, 10.26460212081552, 24.671802178858925, 41.75488963952257, 43.404314622239966, 24.267393792501952, 75.13306247108656, 387.2962162050726, 74.63652195328666, 501.5952468033197, 1382.3218106231218, 549.3943784209292, 2231.3922554321293, 22.05479094695307, 651.9458295019069, 535.222777635685, 1027.2410691673242, 359.13616939910213, 762.912892631604, 182.23196277900763, 188.578853141075, 171.08964466397651, 264.5555285991803, 562.8942889113662, 409.56709916194916, 235.44053741193778, 599.7812818542528, 1598.6928308053784, 503.007786004909, 779.9814605538097, 904.0364729922975, 576.5671782838095, 293.49452035088876, 618.764882021618, 605.234231383411, 1001.8868957568833, 805.5549593174559, 633.000405279884, 454.1670406000778, 494.8044710194514, 455.4413909731703, 375.7444226377878, 547.5701230986176, 805.229012984386, 1203.8473539916126, 1256.1608342429959, 924.8263954105439, 810.0307938941744, 854.0953876170431, 1183.8036266408392, 559.1488954161447, 11.153376871466573, 10.172598984645262, 4.639840722532242, 5.559648804730848, 5.56391224558882, 2.791082569661004, 2.8007856012083563, 3.7213776111316985, 2.807247414816263, 2.794880413839925, 1.8761410125811502, 4.68834565171818, 1.8766889377845308, 1.8761145287343144, 1.8774006423466811, 8.401170541075288, 1.87549384135176, 1.8748464334006485, 1.8769160803014757, 1.8718408666178816, 1.8739974745990646, 1.8797763944340786, 1.8779461506004882, 1.8781815392151924, 1.8763542552727828, 6.5646058166178705, 1.87159672892537, 1.879532249098773, 1.8766463172157661, 1.8771666170841004, 53.75215097447435, 30.354877213881867, 3.745808643670994, 191.7371782994128, 34.462339170114674, 136.12410621122737, 501.5952468033197, 209.5371301230632, 696.2746368980005, 53.82544073545218, 95.1002056912991, 1183.8036266408392, 19.028902936777552, 21.7355722186011, 18.872572429833113, 225.42590616293987, 457.08479942201063, 26.470904241396777, 2231.3922554321293, 924.8263954105439, 549.3943784209292, 810.0307938941744, 283.6121843152709, 494.8044710194514, 288.2764656769723, 607.7932212108001, 1598.6928308053784, 805.229012984386, 478.51313731545304, 605.234231383411, 737.7009331752857, 633.000405279884, 494.2233757044103, 472.95879819300217, 397.01655696522477, 236.43623376435318, 904.0364729922975, 564.9927149016462, 618.764882021618, 430.60842381667493, 376.18893902723306, 1256.1608342429959, 1001.8868957568833, 1203.8473539916126, 779.9814605538097, 1382.3218106231218, 762.912892631604, 576.5671782838095, 805.5549593174559, 854.0953876170431, 1027.2410691673242, 651.9458295019069, 35.819414172723306, 13.722809970900517, 38.62352688399611, 10.995720491757927, 18.881934153592763, 19.52397873735388, 10.178980275697466, 6.446010848191142, 4.59339481854384, 2.7683537854479208, 12.011611277097792, 15.383866632142851, 4.536420006585573, 9.92878372628546, 5.572765485118124, 4.548331839776216, 3.705115249684158, 13.734448169012225, 2.777044132461289, 10.84829006709694, 2.734208689019086, 21.631309417571707, 2.7826578184767916, 6.47528377771551, 7.284919565993127, 2.7754430097019016, 11.1745407519151, 5.558154618771562, 3.655847020858106, 11.974688891131214, 14.541379875899477, 120.26660771761223, 762.912892631604, 17.321924409592185, 136.8996360610679, 11.056306559997944, 179.8565559312999, 1203.8473539916126, 854.0953876170431, 633.000405279884, 82.02305240164421, 454.1670406000778, 576.5671782838095, 429.4396298951214, 1598.6928308053784, 737.7009331752857, 126.092460625352, 805.5549593174559, 129.5206584958038, 494.8044710194514, 559.1488954161447, 478.51313731545304, 805.229012984386, 2231.3922554321293, 445.45885369868404, 1027.2410691673242, 389.5905641949312, 455.4413909731703, 457.08479942201063, 924.8263954105439, 1001.8868957568833, 607.7932212108001, 562.8942889113662, 599.7812818542528, 1382.3218106231218, 904.0364729922975, 1183.8036266408392, 503.007786004909, 1256.1608342429959, 494.2233757044103, 506.10043505086264, 810.0307938941744, 779.9814605538097, 651.9458295019069, 618.764882021618, 696.2746368980005, 605.234231383411], \"Category\": [\"Default\", \"Default\", \"Default\", \"Default\", \"Default\", \"Default\", \"Default\", \"Default\", \"Default\", \"Default\", \"Default\", \"Default\", \"Default\", \"Default\", \"Default\", \"Default\", \"Default\", \"Default\", \"Default\", \"Default\", \"Default\", \"Default\", \"Default\", \"Default\", \"Default\", \"Default\", \"Default\", \"Default\", \"Default\", \"Default\", \"Topic1\", \"Topic1\", \"Topic1\", \"Topic1\", \"Topic1\", \"Topic1\", \"Topic1\", \"Topic1\", \"Topic1\", \"Topic1\", \"Topic1\", \"Topic1\", \"Topic1\", \"Topic1\", \"Topic1\", \"Topic1\", \"Topic1\", \"Topic1\", \"Topic1\", \"Topic1\", \"Topic1\", \"Topic1\", \"Topic1\", \"Topic1\", \"Topic1\", \"Topic1\", \"Topic1\", \"Topic1\", \"Topic1\", \"Topic1\", \"Topic1\", \"Topic1\", \"Topic1\", \"Topic1\", \"Topic1\", \"Topic1\", \"Topic1\", \"Topic1\", \"Topic1\", \"Topic1\", \"Topic1\", \"Topic1\", \"Topic1\", \"Topic1\", \"Topic1\", \"Topic1\", \"Topic1\", \"Topic1\", \"Topic1\", \"Topic1\", \"Topic1\", \"Topic1\", \"Topic1\", \"Topic1\", \"Topic1\", \"Topic1\", \"Topic1\", \"Topic1\", \"Topic1\", \"Topic1\", \"Topic1\", \"Topic1\", \"Topic1\", \"Topic1\", \"Topic1\", \"Topic1\", \"Topic1\", \"Topic1\", \"Topic1\", \"Topic1\", \"Topic1\", \"Topic1\", \"Topic1\", \"Topic1\", \"Topic1\", \"Topic1\", \"Topic1\", \"Topic1\", \"Topic1\", \"Topic1\", \"Topic1\", \"Topic1\", \"Topic2\", \"Topic2\", \"Topic2\", \"Topic2\", \"Topic2\", \"Topic2\", \"Topic2\", \"Topic2\", \"Topic2\", \"Topic2\", \"Topic2\", \"Topic2\", \"Topic2\", \"Topic2\", \"Topic2\", \"Topic2\", \"Topic2\", \"Topic2\", \"Topic2\", \"Topic2\", \"Topic2\", \"Topic2\", \"Topic2\", \"Topic2\", \"Topic2\", \"Topic2\", \"Topic2\", \"Topic2\", \"Topic2\", \"Topic2\", \"Topic2\", \"Topic2\", \"Topic2\", \"Topic2\", \"Topic2\", \"Topic2\", \"Topic2\", \"Topic2\", \"Topic2\", \"Topic2\", \"Topic2\", \"Topic2\", \"Topic2\", \"Topic2\", \"Topic2\", \"Topic2\", \"Topic2\", \"Topic2\", \"Topic2\", \"Topic2\", \"Topic2\", \"Topic2\", \"Topic2\", \"Topic2\", \"Topic2\", \"Topic2\", \"Topic2\", \"Topic2\", \"Topic2\", \"Topic2\", \"Topic2\", \"Topic2\", \"Topic2\", \"Topic2\", \"Topic2\", \"Topic2\", \"Topic2\", \"Topic2\", \"Topic2\", \"Topic2\", \"Topic2\", \"Topic2\", \"Topic2\", \"Topic2\", \"Topic2\", \"Topic2\", \"Topic2\", \"Topic3\", \"Topic3\", \"Topic3\", \"Topic3\", \"Topic3\", \"Topic3\", \"Topic3\", \"Topic3\", \"Topic3\", \"Topic3\", \"Topic3\", \"Topic3\", \"Topic3\", \"Topic3\", \"Topic3\", \"Topic3\", \"Topic3\", \"Topic3\", \"Topic3\", \"Topic3\", \"Topic3\", \"Topic3\", \"Topic3\", \"Topic3\", \"Topic3\", \"Topic3\", \"Topic3\", \"Topic3\", \"Topic3\", \"Topic3\", \"Topic3\", \"Topic3\", \"Topic3\", \"Topic3\", \"Topic3\", \"Topic3\", \"Topic3\", \"Topic3\", \"Topic3\", \"Topic3\", \"Topic3\", \"Topic3\", \"Topic3\", \"Topic3\", \"Topic3\", \"Topic3\", \"Topic3\", \"Topic3\", \"Topic3\", \"Topic3\", \"Topic3\", \"Topic3\", \"Topic3\", \"Topic3\", \"Topic3\", \"Topic3\", \"Topic3\", \"Topic3\", \"Topic3\", \"Topic3\", \"Topic3\", \"Topic3\", \"Topic3\", \"Topic3\", \"Topic3\", \"Topic3\", \"Topic3\", \"Topic3\", \"Topic3\", \"Topic3\", \"Topic3\", \"Topic3\", \"Topic3\", \"Topic3\", \"Topic3\", \"Topic3\", \"Topic3\", \"Topic3\", \"Topic4\", \"Topic4\", \"Topic4\", \"Topic4\", \"Topic4\", \"Topic4\", \"Topic4\", \"Topic4\", \"Topic4\", \"Topic4\", \"Topic4\", \"Topic4\", \"Topic4\", \"Topic4\", \"Topic4\", \"Topic4\", \"Topic4\", \"Topic4\", \"Topic4\", \"Topic4\", \"Topic4\", \"Topic4\", \"Topic4\", \"Topic4\", \"Topic4\", \"Topic4\", \"Topic4\", \"Topic4\", \"Topic4\", \"Topic4\", \"Topic4\", \"Topic4\", \"Topic4\", \"Topic4\", \"Topic4\", \"Topic4\", \"Topic4\", \"Topic4\", \"Topic4\", \"Topic4\", \"Topic4\", \"Topic4\", \"Topic4\", \"Topic4\", \"Topic4\", \"Topic4\", \"Topic4\", \"Topic4\", \"Topic4\", \"Topic4\", \"Topic4\", \"Topic4\", \"Topic4\", \"Topic4\", \"Topic4\", \"Topic4\", \"Topic4\", \"Topic4\", \"Topic4\", \"Topic4\", \"Topic4\", \"Topic4\", \"Topic4\", \"Topic4\", \"Topic4\", \"Topic4\", \"Topic4\", \"Topic4\", \"Topic4\", \"Topic4\", \"Topic4\", \"Topic4\", \"Topic4\", \"Topic4\", \"Topic4\", \"Topic4\", \"Topic4\", \"Topic4\", \"Topic4\", \"Topic4\", \"Topic4\", \"Topic4\", \"Topic5\", \"Topic5\", \"Topic5\", \"Topic5\", \"Topic5\", \"Topic5\", \"Topic5\", \"Topic5\", \"Topic5\", \"Topic5\", \"Topic5\", \"Topic5\", \"Topic5\", \"Topic5\", \"Topic5\", \"Topic5\", \"Topic5\", \"Topic5\", \"Topic5\", \"Topic5\", \"Topic5\", \"Topic5\", \"Topic5\", \"Topic5\", \"Topic5\", \"Topic5\", \"Topic5\", \"Topic5\", \"Topic5\", \"Topic5\", \"Topic5\", \"Topic5\", \"Topic5\", \"Topic5\", \"Topic5\", \"Topic5\", \"Topic5\", \"Topic5\", \"Topic5\", \"Topic5\", \"Topic5\", \"Topic5\", \"Topic5\", \"Topic5\", \"Topic5\", \"Topic5\", \"Topic5\", \"Topic5\", \"Topic5\", \"Topic5\", \"Topic5\", \"Topic5\", \"Topic5\", \"Topic5\", \"Topic5\", \"Topic5\", \"Topic5\", \"Topic5\", \"Topic5\", \"Topic5\", \"Topic5\", \"Topic5\", \"Topic5\", \"Topic5\", \"Topic5\", \"Topic5\", \"Topic5\", \"Topic5\", \"Topic5\", \"Topic5\", \"Topic5\", \"Topic5\", \"Topic5\", \"Topic5\", \"Topic5\", \"Topic5\", \"Topic5\"], \"logprob\": [30.0, 29.0, 28.0, 27.0, 26.0, 25.0, 24.0, 23.0, 22.0, 21.0, 20.0, 19.0, 18.0, 17.0, 16.0, 15.0, 14.0, 13.0, 12.0, 11.0, 10.0, 9.0, 8.0, 7.0, 6.0, 5.0, 4.0, 3.0, 2.0, 1.0, -9.3793, -8.6066, -8.7552, -9.789, -8.9169, -9.7914, -7.6158, -9.3397, -9.5127, -9.2678, -9.3893, -9.5319, -9.8785, -10.1052, -10.1076, -10.4067, -9.4275, -9.4365, -9.3332, -8.0935, -10.1469, -10.1547, -10.4435, -9.6021, -9.2422, -9.4679, -10.4589, -7.1496, -8.204, -10.4696, -8.4836, -9.1734, -6.1413, -8.1536, -6.8225, -7.0479, -9.0856, -8.5176, -7.512, -5.7917, -6.4047, -6.3338, -6.4486, -7.0695, -4.8282, -5.2129, -5.7779, -5.0314, -4.7695, -5.7797, -6.141, -5.2205, -5.6175, -6.6041, -6.0429, -6.4928, -5.7996, -6.0022, -6.3062, -4.5353, -6.0179, -5.4057, -5.925, -5.4501, -5.6591, -5.0846, -5.2804, -5.7415, -5.9099, -5.0059, -5.7022, -5.5261, -5.6011, -5.3156, -5.7906, -5.6747, -5.5247, -5.5378, -5.7708, -5.8691, -5.8992, -5.8677, -7.9285, -7.498, -8.031, -9.4745, -9.0157, -8.1069, -8.9597, -8.6334, -7.9774, -9.3829, -9.8628, -9.4123, -9.2954, -9.7095, -9.1128, -9.1972, -6.716, -9.3237, -8.3, -9.5928, -10.4473, -8.3818, -9.6029, -8.7148, -8.7725, -8.5799, -10.4752, -9.62, -10.1988, -8.2348, -8.9572, -8.0637, -4.5384, -8.526, -5.8472, -7.7562, -7.8085, -4.7462, -6.1319, -6.0389, -7.1971, -4.6205, -5.1337, -5.0427, -6.6858, -6.8084, -6.8364, -5.172, -5.9653, -5.3945, -6.1919, -4.5007, -6.255, -5.5543, -5.8053, -5.4339, -6.0394, -6.2584, -5.7077, -5.5371, -5.0182, -5.8849, -5.4771, -5.8304, -5.7079, -5.5038, -5.2375, -5.7948, -5.5351, -5.9005, -5.762, -5.4569, -5.7832, -5.7117, -5.6874, -5.8673, -5.8975, -8.899, -9.3422, -8.4025, -9.0573, -9.6644, -9.2832, -9.3914, -9.5307, -9.6986, -9.5474, -9.8891, -9.4279, -9.9065, -10.1363, -7.8185, -10.431, -8.2192, -8.6397, -9.2267, -9.4488, -9.6235, -8.7098, -10.1631, -10.186, -9.3587, -8.5751, -9.0917, -9.2696, -9.1987, -8.3229, -7.7993, -7.7626, -8.3595, -7.2636, -5.8186, -7.3517, -5.5811, -4.6405, -5.5176, -4.2639, -8.4901, -5.4106, -5.5924, -5.0105, -5.9724, -5.3091, -6.5935, -6.5663, -6.6562, -6.2828, -5.6352, -5.9107, -6.3915, -5.5906, -4.7603, -5.7436, -5.3893, -5.2789, -5.668, -6.2311, -5.6538, -5.6721, -5.272, -5.4458, -5.6505, -5.9106, -5.8503, -5.9135, -6.0648, -5.7951, -5.528, -5.2689, -5.2481, -5.4766, -5.5948, -5.6077, -5.493, -5.825, -8.7275, -8.8792, -9.6653, -9.499, -9.5049, -10.2001, -10.2027, -9.9273, -10.2225, -10.2302, -10.7176, -9.8145, -10.7433, -10.7472, -10.761, -9.2627, -10.7629, -10.7634, -10.7667, -10.77, -10.7693, -10.7666, -10.7726, -10.7731, -10.7754, -9.5237, -10.7839, -10.7827, -10.7872, -10.7879, -7.5011, -8.0744, -10.1199, -6.3629, -7.9996, -6.7226, -5.5052, -6.3571, -5.2484, -7.6396, -7.1123, -4.7754, -8.6087, -8.491, -8.6219, -6.3428, -5.7142, -8.3168, -4.3438, -5.1317, -5.6257, -5.2879, -6.2115, -5.7342, -6.2163, -5.5762, -4.7492, -5.3426, -5.7968, -5.62, -5.4561, -5.5836, -5.8115, -5.8542, -5.998, -6.4373, -5.38, -5.7523, -5.6913, -5.9656, -6.0791, -5.2037, -5.3817, -5.2643, -5.5728, -5.2321, -5.6143, -5.78, -5.5978, -5.5676, -5.4793, -5.7382, -7.6931, -8.6833, -7.649, -8.9137, -8.4078, -8.3825, -9.0377, -9.4975, -9.8411, -10.3715, -8.9153, -8.673, -9.8973, -9.1244, -9.709, -9.9125, -10.1219, -8.8122, -10.4188, -9.0597, -10.4475, -8.3866, -10.4382, -9.5992, -9.4859, -10.4644, -9.0771, -9.7758, -10.1981, -9.0136, -8.8202, -6.7311, -5.0219, -8.6813, -6.7431, -9.1335, -6.5536, -4.8085, -5.1568, -5.4363, -7.2912, -5.7767, -5.5717, -5.8367, -4.7168, -5.3944, -6.9486, -5.3415, -6.9345, -5.7836, -5.6893, -5.8235, -5.3938, -4.5495, -5.8975, -5.2066, -6.0119, -5.8837, -5.8813, -5.3072, -5.2444, -5.6651, -5.7289, -5.6899, -5.0613, -5.3949, -5.2195, -5.8303, -5.2048, -5.8595, -5.8457, -5.586, -5.6249, -5.7567, -5.7907, -5.7597, -5.8118], \"loglift\": [30.0, 29.0, 28.0, 27.0, 26.0, 25.0, 24.0, 23.0, 22.0, 21.0, 20.0, 19.0, 18.0, 17.0, 16.0, 15.0, 14.0, 13.0, 12.0, 11.0, 10.0, 9.0, 8.0, 7.0, 6.0, 5.0, 4.0, 3.0, 2.0, 1.0, 0.8144, 0.7692, 0.7531, 0.7493, 0.7483, 0.7443, 0.742, 0.7286, 0.6941, 0.6882, 0.6858, 0.6759, 0.6673, 0.6662, 0.6643, 0.6495, 0.648, 0.6441, 0.6286, 0.6281, 0.627, 0.6181, 0.6157, 0.6141, 0.6121, 0.6112, 0.6016, 0.5993, 0.5959, 0.5941, 0.5877, 0.5913, 0.537, 0.5703, 0.5282, 0.5288, 0.5872, 0.5537, 0.485, 0.3472, 0.3914, 0.3793, 0.3848, 0.4317, 0.2244, 0.2359, 0.2872, 0.1798, 0.1448, 0.2542, 0.2965, 0.1753, 0.2229, 0.343, 0.2509, 0.3135, 0.1873, 0.2022, 0.2536, -0.0999, 0.1834, 0.0487, 0.1556, 0.0365, 0.0811, -0.0746, -0.0442, 0.078, 0.1175, -0.237, 0.0159, -0.0714, -0.0588, -0.2462, 0.0185, -0.0746, -0.2084, -0.1988, -0.0347, -0.0095, 0.0437, -0.1184, 0.8545, 0.814, 0.7973, 0.7827, 0.7739, 0.7513, 0.7424, 0.7374, 0.7373, 0.7229, 0.7127, 0.7076, 0.6964, 0.6899, 0.6896, 0.688, 0.6872, 0.6692, 0.6581, 0.649, 0.6486, 0.6464, 0.6349, 0.6295, 0.6275, 0.6253, 0.622, 0.6173, 0.6127, 0.6112, 0.6107, 0.5959, 0.4716, 0.5945, 0.4908, 0.5493, 0.5423, 0.3232, 0.3957, 0.3699, 0.4509, 0.1484, 0.2053, 0.1935, 0.3857, 0.381, 0.3836, 0.1443, 0.2554, 0.1479, 0.2536, -0.0652, 0.2533, 0.1116, 0.1376, 0.0527, 0.1775, 0.2235, 0.1013, 0.063, -0.1038, 0.1079, -0.0224, 0.0888, 0.0281, -0.0495, -0.1849, 0.0179, -0.1393, 0.0412, -0.0439, -0.2456, -0.0339, -0.203, -0.2386, -0.1719, -0.0379, 0.8091, 0.7727, 0.7501, 0.7368, 0.7305, 0.7284, 0.7226, 0.7205, 0.7116, 0.7092, 0.6918, 0.6874, 0.6813, 0.6782, 0.6758, 0.6651, 0.6636, 0.6632, 0.654, 0.6511, 0.6505, 0.6485, 0.6413, 0.6379, 0.6347, 0.6226, 0.6212, 0.6186, 0.6184, 0.6173, 0.6148, 0.6127, 0.5972, 0.563, 0.3681, 0.4815, 0.347, 0.2739, 0.3195, 0.1716, 0.5622, 0.2553, 0.2708, 0.2007, 0.2898, 0.1996, 0.3471, 0.34, 0.3474, 0.285, 0.1776, 0.22, 0.2929, 0.1587, 0.0086, 0.1816, 0.0973, 0.0601, 0.1208, 0.2329, 0.0644, 0.0681, -0.0358, 0.0085, 0.0449, 0.1168, 0.0914, 0.1111, 0.1521, 0.0453, -0.0733, -0.2163, -0.2381, -0.1604, -0.146, -0.2119, -0.4236, -0.0055, 1.0066, 0.9469, 0.9459, 0.9313, 0.9247, 0.9194, 0.9132, 0.9044, 0.8911, 0.8878, 0.7991, 0.7863, 0.7731, 0.7694, 0.755, 0.7548, 0.7541, 0.7539, 0.7495, 0.749, 0.7485, 0.7481, 0.7431, 0.7425, 0.7411, 0.7404, 0.7352, 0.7321, 0.7292, 0.7282, 0.6604, 0.6585, 0.7053, 0.5269, 0.6064, 0.5097, 0.4229, 0.4438, 0.3517, 0.5205, 0.4787, 0.294, 0.5912, 0.5759, 0.5863, 0.385, 0.3068, 0.553, 0.0916, 0.1845, 0.2113, 0.1609, 0.2868, 0.2075, 0.2656, 0.1598, 0.0197, 0.1121, 0.1784, 0.1203, 0.0862, 0.1118, 0.1314, 0.1326, 0.1639, 0.2428, -0.041, 0.0568, 0.0269, 0.115, 0.1367, -0.1937, -0.1455, -0.2117, -0.0862, -0.3177, -0.1056, 0.0087, -0.1434, -0.1717, -0.2681, -0.0723, 0.8742, 0.8435, 0.843, 0.8347, 0.7999, 0.7918, 0.7879, 0.7849, 0.7802, 0.7561, 0.7446, 0.7396, 0.7365, 0.726, 0.7189, 0.7186, 0.7142, 0.7137, 0.7057, 0.7021, 0.6925, 0.6851, 0.6843, 0.6786, 0.6741, 0.6606, 0.6552, 0.6548, 0.6515, 0.6494, 0.6486, 0.625, 0.4868, 0.6126, 0.4835, 0.6093, 0.4001, 0.2441, 0.239, 0.2591, 0.4477, 0.2506, 0.217, 0.2467, 0.0521, 0.1479, 0.3602, 0.1128, 0.3476, 0.1581, 0.1301, 0.1517, 0.0609, -0.114, 0.1492, 0.0046, 0.1688, 0.1409, 0.1397, 0.009, -0.0082, 0.071, 0.0839, 0.0594, -0.1469, -0.0559, -0.1501, 0.095, -0.1947, 0.0833, 0.0734, -0.1372, -0.1383, -0.0908, -0.0725, -0.1596, -0.0716]}, \"token.table\": {\"Topic\": [1, 2, 3, 4, 5, 1, 2, 3, 4, 5, 1, 2, 3, 4, 5, 1, 2, 3, 4, 3, 5, 1, 2, 3, 4, 5, 1, 2, 3, 4, 5, 1, 2, 3, 4, 5, 1, 2, 3, 4, 5, 1, 2, 3, 4, 5, 1, 2, 3, 4, 5, 1, 2, 3, 4, 5, 1, 2, 3, 4, 5, 1, 2, 3, 4, 5, 1, 2, 3, 4, 4, 1, 2, 3, 4, 5, 4, 1, 2, 3, 4, 5, 1, 2, 3, 4, 5, 4, 1, 2, 3, 4, 5, 1, 2, 3, 4, 5, 1, 3, 4, 5, 1, 2, 3, 4, 5, 1, 2, 3, 4, 5, 1, 5, 1, 2, 3, 4, 5, 1, 2, 3, 4, 5, 1, 2, 3, 4, 5, 1, 2, 3, 4, 5, 1, 2, 3, 4, 5, 1, 2, 3, 4, 5, 1, 2, 3, 4, 5, 1, 2, 3, 4, 5, 1, 2, 3, 4, 5, 1, 2, 3, 4, 5, 1, 2, 3, 4, 5, 1, 2, 3, 4, 5, 1, 2, 3, 4, 5, 1, 2, 3, 4, 1, 2, 3, 4, 5, 1, 2, 3, 4, 5, 2, 1, 2, 3, 4, 5, 1, 2, 3, 4, 5, 1, 2, 3, 4, 5, 1, 2, 3, 4, 5, 1, 2, 3, 4, 5, 1, 2, 3, 4, 5, 1, 2, 3, 5, 1, 2, 3, 4, 5, 1, 3, 1, 2, 3, 4, 5, 1, 2, 3, 4, 5, 4, 1, 2, 3, 4, 5, 1, 2, 3, 4, 5, 1, 2, 3, 4, 5, 1, 2, 3, 4, 5, 1, 2, 4, 5, 1, 2, 3, 4, 5, 1, 2, 3, 4, 5, 1, 2, 3, 4, 5, 1, 2, 3, 4, 5, 1, 2, 3, 4, 5, 1, 2, 3, 5, 1, 2, 3, 4, 5, 1, 2, 3, 4, 5, 1, 2, 3, 4, 5, 4, 1, 2, 3, 4, 5, 1, 2, 3, 4, 5, 1, 2, 3, 4, 5, 4, 1, 2, 3, 4, 5, 4, 1, 2, 3, 4, 5, 4, 1, 2, 3, 4, 5, 1, 2, 3, 4, 5, 4, 1, 2, 3, 4, 5, 1, 2, 3, 4, 5, 4, 1, 2, 3, 4, 5, 1, 2, 3, 4, 5, 1, 2, 3, 4, 5, 1, 2, 3, 4, 5, 1, 2, 4, 5, 1, 2, 3, 4, 5, 1, 2, 3, 4, 5, 1, 3, 4, 5, 1, 2, 3, 4, 5, 1, 2, 3, 4, 5, 1, 5, 1, 2, 3, 4, 5, 1, 2, 3, 4, 5, 1, 2, 3, 4, 5, 1, 2, 3, 4, 5, 1, 2, 3, 4, 5, 1, 2, 3, 4, 5, 1, 2, 3, 4, 5, 1, 2, 3, 4, 5, 1, 2, 3, 4, 5, 1, 2, 3, 4, 5, 1, 2, 3, 4, 5, 1, 2, 3, 4, 5, 1, 2, 3, 4, 5, 1, 2, 3, 4, 5, 1, 2, 3, 4, 5, 1, 2, 3, 4, 5, 1, 2, 3, 4, 5, 1, 2, 3, 4, 5, 4, 1, 2, 3, 4, 5, 1, 2, 3, 4, 5, 1, 2, 3, 4, 5, 1, 2, 3, 4, 5, 1, 2, 3, 4, 5, 4, 1, 2, 4, 5, 4, 1, 2, 3, 4, 5, 4, 1, 2, 3, 4, 5, 1, 2, 3, 4, 5, 4, 1, 2, 3, 4, 5, 1, 2, 3, 4, 5, 1, 2, 3, 4, 5, 1, 5, 1, 2, 3, 4, 1, 2, 3, 4, 5, 1, 2, 3, 4, 5, 1, 2, 3, 4, 5, 1, 2, 3, 4, 5, 1, 2, 3, 4, 5, 1, 2, 3, 4, 5, 1, 2, 3, 4, 5, 4, 1, 2, 3, 4, 5, 1, 2, 3, 4, 5, 1, 2, 3, 4, 5, 1, 2, 3, 4, 5, 1, 2, 3, 4, 5, 1, 2, 3, 4, 5, 1, 2, 3, 4, 5, 1, 2, 3, 4, 5, 1, 2, 3, 4, 5, 1, 2, 3, 4, 5, 1, 2, 3, 4, 5, 1, 5, 1, 3, 1, 2, 3, 4, 5, 1, 2, 3, 4, 5, 1, 2, 3, 4, 5, 1, 2, 3, 4, 5, 1, 2, 3, 4, 5, 1, 2, 3, 4, 5, 1, 2, 3, 4, 5, 1, 2, 3, 4, 5, 1, 2, 3, 4, 5, 1, 2, 3, 4, 5, 1, 2, 3, 4, 5, 1, 2, 3, 4, 5, 1, 2, 3, 4, 5, 1, 2, 3, 4, 5, 1, 2, 3, 4, 5, 1, 2, 3, 4, 5, 1, 2, 3, 4, 5, 1, 2, 3, 4, 5, 1, 2, 3, 4, 5, 1, 2, 3, 4, 5, 4, 1, 2, 3, 4, 5, 1, 2, 3, 4, 5, 1, 2, 3, 4, 5, 1, 2, 3, 4, 5, 1, 2, 3, 4, 5, 1, 2, 3, 4, 5, 1, 2, 3, 4, 5, 1, 2, 3, 4, 5, 1, 2, 3, 4, 5, 1, 2, 3, 4, 5, 1, 2, 3, 4, 5, 1, 2, 3, 4, 5, 1, 2, 3, 4, 5, 1, 2, 3, 4, 5, 1, 2, 3, 4, 5, 1, 2, 3, 4, 5, 1, 2, 3, 4, 5, 1, 2, 3, 4, 5, 1, 2, 3, 4, 5, 1, 2, 3, 4, 5, 1, 2, 3, 4, 5, 1, 2, 3, 5, 4, 1, 2, 3, 5, 1, 2, 3, 4, 5, 1, 2, 3, 4, 5, 1, 2, 3, 4, 5, 4, 1, 2, 3, 4, 5, 1, 2, 3, 4, 5, 1, 2, 3, 4, 5, 1, 2, 3, 4, 5, 1, 2, 3, 4, 5, 1, 2, 3, 4, 5, 1, 2, 3, 4, 5, 1, 2, 3, 4, 5, 1, 2, 3, 4, 5, 1, 2, 3, 4, 5, 1, 2, 3, 4, 5, 1, 2, 3, 4, 5, 1, 2, 3, 4, 5, 1, 2, 3, 4, 5, 1, 2, 3, 4, 5, 1, 2, 3, 4, 5, 1, 2, 3, 4, 5, 1, 2, 3, 5, 1, 4, 5, 1, 2, 3, 4, 5, 1, 2, 3, 4, 5, 1, 2, 3, 4, 5, 1, 2, 3, 4, 5, 1, 2, 3, 4, 5, 1, 2, 3, 4, 5, 1, 2, 3, 4, 5, 1, 2, 3, 4, 5, 1, 2, 3, 4, 5, 1, 2, 3, 4, 5, 1, 2, 3, 4, 5, 1, 2, 3, 4, 5, 1, 2, 3, 4, 5, 1, 2, 3, 4, 5, 1, 2, 3, 4, 5, 1, 4, 1, 2, 3, 4, 1, 2, 3, 4, 5, 1, 2, 3, 4, 5, 4, 1, 2, 3, 4, 5, 1, 2, 3, 4, 5, 1, 3, 1, 2, 3, 4, 5, 1, 2, 3, 4, 5, 1, 2, 3, 4, 5, 1, 2, 3, 4, 5, 1, 2, 3, 4, 5, 1, 2, 1, 2, 3, 4, 5, 1, 2, 3, 4, 5, 1, 2, 3, 4, 5, 1, 2, 3, 4, 5, 1, 2, 3, 4, 5, 1, 2, 3, 4, 5, 1, 2, 3, 4, 5, 1, 2, 3, 4, 5, 1, 2, 3, 4, 5, 4, 1, 2, 3, 4, 5, 1, 2, 3, 4, 5, 1, 2, 3, 4, 5, 1, 2, 3, 4, 5, 1, 2, 3, 4, 5, 4, 5, 1, 2, 3, 4, 5, 1, 2, 3, 4, 5, 1, 2, 3, 4, 5, 1, 4, 5, 1, 2, 3, 4, 5, 1, 2, 3, 4, 5, 1, 2, 3, 4, 5, 1, 2, 3, 4, 5, 1, 2, 3, 4, 5, 1, 2, 3, 4, 5, 1, 3, 1, 2, 3, 4, 5], \"Freq\": [0.13823510524747823, 0.06911755262373911, 0.3686269473266086, 0.1843134736633043, 0.25343102628704345, 0.3629736955693769, 0.1735961152723107, 0.15781465024755517, 0.14203318522279967, 0.15781465024755517, 0.26846740878240194, 0.08948913626080064, 0.08948913626080064, 0.17897827252160128, 0.35795654504320257, 0.20909626411489995, 0.20909626411489995, 0.4181925282297999, 0.20909626411489995, 0.365736530651856, 0.365736530651856, 0.29475386139195986, 0.21718705576249675, 0.2083222779762724, 0.14183644457958972, 0.1396202501330336, 0.19462890427967056, 0.4541341099858979, 0.10812716904426141, 0.15137803666196598, 0.08650173523540913, 0.24783793153460318, 0.16026852905904337, 0.20818386248906667, 0.21314062111975873, 0.17183429919732487, 0.15118493804286323, 0.15118493804286323, 0.45355481412858967, 0.15118493804286323, 0.15118493804286323, 0.11640803931937788, 0.17461205897906681, 0.19124177888183508, 0.17461205897906681, 0.3409092580067495, 0.0837534635696113, 0.11167128475948172, 0.19542474832909304, 0.13958910594935217, 0.4466851390379269, 0.19475991055376227, 0.17291767759446183, 0.2675673537514304, 0.23298381823253805, 0.13105339775580266, 0.19826709167497933, 0.33344919963519254, 0.15921448270869554, 0.1682266232393764, 0.13818615480377347, 0.1337147633889159, 0.3026176224064939, 0.17594047814331043, 0.20409095464624008, 0.19001571639477527, 0.21054267651468314, 0.21054267651468314, 0.4210853530293663, 0.21054267651468314, 0.5343031351493001, 0.31187328625406174, 0.19672007286794663, 0.17272982007917265, 0.15353761784815348, 0.16793176952141786, 0.5327888713273622, 0.09830329510771253, 0.09830329510771253, 0.09830329510771253, 0.49151647553856265, 0.19660659021542506, 0.42164995243270875, 0.1686599809730835, 0.1686599809730835, 0.1686599809730835, 0.08432999048654174, 0.3570426810137003, 0.2204697178640052, 0.21059793945218408, 0.14972197257928713, 0.2204697178640052, 0.19743556823642258, 0.15233207109992278, 0.15233207109992278, 0.15233207109992278, 0.4569962132997683, 0.15233207109992278, 0.5059890656540305, 0.25299453282701523, 0.25299453282701523, 0.25299453282701523, 0.5044046525014474, 0.12610116312536185, 0.12610116312536185, 0.12610116312536185, 0.12610116312536185, 0.39176669515125895, 0.2285305721715677, 0.19588334757562947, 0.06529444919187649, 0.13058889838375298, 0.3600951055515642, 0.3600951055515642, 0.19199596940566457, 0.38399193881132915, 0.09599798470283229, 0.19199596940566457, 0.19199596940566457, 0.20097399513589562, 0.18757572879350257, 0.30816012587503994, 0.09378786439675128, 0.20097399513589562, 0.24975833223307994, 0.08325277741102664, 0.1665055548220533, 0.08325277741102664, 0.41626388705513323, 0.10565888269146792, 0.3698060894201377, 0.15848832403720187, 0.21131776538293584, 0.10565888269146792, 0.20464297336163617, 0.13022734668467756, 0.14883125335391723, 0.37207813338479306, 0.14883125335391723, 0.20074817283817403, 0.20785430285014478, 0.23272575789204245, 0.15811139276634945, 0.20074817283817403, 0.20917254874553337, 0.10458627437276669, 0.31375882311830006, 0.20917254874553337, 0.10458627437276669, 0.19484437647555897, 0.09742218823777948, 0.38968875295111793, 0.09742218823777948, 0.19484437647555897, 0.2330257403936694, 0.1165128701968347, 0.3495386105905041, 0.17476930529525206, 0.1165128701968347, 0.500927437094868, 0.125231859273717, 0.125231859273717, 0.125231859273717, 0.125231859273717, 0.4158968867801683, 0.1848430607911859, 0.09242153039559295, 0.1386322955933894, 0.1386322955933894, 0.2020018422203959, 0.19761049782430035, 0.2173715476067304, 0.171262431447727, 0.21298020321063482, 0.2428711329231454, 0.3643066993847181, 0.18215334969235905, 0.06071778323078635, 0.06071778323078635, 0.26412303430725437, 0.26412303430725437, 0.26412303430725437, 0.26412303430725437, 0.13726987524585985, 0.13726987524585985, 0.13726987524585985, 0.2745397504917197, 0.4118096257375795, 0.21986082705196844, 0.21986082705196844, 0.21986082705196844, 0.21986082705196844, 0.4397216541039369, 0.34993303275972126, 0.20997780382255332, 0.18067857538219703, 0.24171863463293927, 0.1660289611620189, 0.20021139434243457, 0.25949778180846667, 0.10379911272338666, 0.38924667271269997, 0.18164844726592666, 0.07784933454253999, 0.17875881420470327, 0.18927403856968583, 0.16824358983972074, 0.3049415065844938, 0.15772836547473817, 0.2965922784636245, 0.44488841769543674, 0.14829613923181226, 0.14829613923181226, 0.14829613923181226, 0.2157029791416392, 0.16071986681141742, 0.21147350896239137, 0.24107980021712616, 0.17340827734916092, 0.33720732743709225, 0.1614795652515653, 0.1947253580974758, 0.15198076729559087, 0.15198076729559087, 0.1736062597076178, 0.1736062597076178, 0.3472125194152356, 0.1736062597076178, 0.3224462891089655, 0.18952949817855225, 0.16737669969015004, 0.14276247914748091, 0.1796838099614846, 0.3373618112690866, 0.3373618112690866, 0.16764503655577234, 0.16764503655577234, 0.35923936404808354, 0.19159432749231123, 0.11974645468269451, 0.20975307122484554, 0.15731480341863416, 0.3670678746434797, 0.20975307122484554, 0.10487653561242277, 0.5319781666377706, 0.2716324234548185, 0.17796607053936384, 0.15689114113338654, 0.1592327999562729, 0.23416588228863663, 0.2538191457239757, 0.18163204923367066, 0.1723175851704055, 0.15601727305969146, 0.23519021759744535, 0.3886911212590202, 0.13232038170519836, 0.13232038170519836, 0.18194052484464776, 0.16540047713149797, 0.44775611135570903, 0.11193902783892726, 0.11193902783892726, 0.11193902783892726, 0.11193902783892726, 0.21552463970233865, 0.21552463970233865, 0.4310492794046773, 0.21552463970233865, 0.29247066278413597, 0.17998194632869904, 0.17248269856500326, 0.14623533139206799, 0.20997893738348222, 0.18633607548457934, 0.17302635580710937, 0.34605271161421874, 0.19964579516204928, 0.10647775741975962, 0.13121422788441844, 0.13121422788441844, 0.3936426836532554, 0.13121422788441844, 0.13121422788441844, 0.3102694126804384, 0.1551347063402192, 0.1551347063402192, 0.1551347063402192, 0.4654041190206576, 0.3460707842853887, 0.18264846948395513, 0.13458308277765116, 0.17303539214269434, 0.15380923746017275, 0.3997194416068682, 0.1998597208034341, 0.1998597208034341, 0.1998597208034341, 0.22670811126825774, 0.13602486676095465, 0.3627329780292124, 0.22670811126825774, 0.0906832445073031, 0.308866772276906, 0.154433386138453, 0.154433386138453, 0.154433386138453, 0.308866772276906, 0.1763950236292809, 0.22854659583272044, 0.2515546423930614, 0.1748611538585915, 0.1687256747758339, 0.5328654583585158, 0.21861411812606585, 0.07287137270868863, 0.14574274541737725, 0.14574274541737725, 0.4372282362521317, 0.18188894502176023, 0.09094447251088011, 0.09094447251088011, 0.18188894502176023, 0.45472236255440057, 0.19566937838616144, 0.1622624113446217, 0.21953149770154698, 0.29589027951078073, 0.12885544430308193, 0.5329484009695284, 0.2947250037572589, 0.0982416679190863, 0.0982416679190863, 0.1964833358381726, 0.3929666716763452, 0.5320472689306052, 0.2589095509075211, 0.07767286527225634, 0.07767286527225634, 0.15534573054451267, 0.4401462365427859, 0.3562208285319415, 0.27486538044472614, 0.1691479264275238, 0.14589008654373928, 0.21566360619509284, 0.19240576631130832, 0.28489501786039617, 0.17897251121999247, 0.2027137627083588, 0.15888375996060555, 0.17349376087652332, 0.5327177624505978, 0.5678483630862684, 0.1419620907715671, 0.1419620907715671, 0.1419620907715671, 0.1419620907715671, 0.24680367095654185, 0.18063167222181686, 0.19315069900946752, 0.169901077832402, 0.21103502299182564, 0.5330089760279926, 0.32035402571723626, 0.14360697704565764, 0.1712237034005918, 0.1933170844845391, 0.17674704867157862, 0.2724877315623395, 0.17292490656840778, 0.1991256499878635, 0.1991256499878635, 0.15458438617478878, 0.2119477890399794, 0.15896084177998454, 0.1059738945199897, 0.3179216835599691, 0.15896084177998454, 0.38839378309819633, 0.17731020532743744, 0.17308853377202227, 0.12665014666245533, 0.1308718182178705, 0.2633215834953599, 0.2633215834953599, 0.2633215834953599, 0.2633215834953599, 0.45032310033976664, 0.11258077508494166, 0.22516155016988332, 0.11258077508494166, 0.11258077508494166, 0.17377556014575218, 0.17219578232624536, 0.2037913387163821, 0.21011044999440948, 0.23854645074553255, 0.2666138461602437, 0.2666138461602437, 0.2666138461602437, 0.2666138461602437, 0.21236194578512513, 0.19994311854622893, 0.18007299496399498, 0.2111200630612355, 0.19621747037456005, 0.21269221476860845, 0.227580669802411, 0.202057604030178, 0.16164608322414242, 0.19567683758711976, 0.35936865588000805, 0.35936865588000805, 0.15127140016780932, 0.45381420050342797, 0.15127140016780932, 0.15127140016780932, 0.15127140016780932, 0.1300254071334737, 0.3900762214004212, 0.1300254071334737, 0.1300254071334737, 0.1300254071334737, 0.5007792615614024, 0.14307978901754353, 0.2146196835263153, 0.07153989450877177, 0.14307978901754353, 0.23110555261764834, 0.1955508522149332, 0.20686371143397894, 0.19393472946935525, 0.1713090110312638, 0.2040325143264098, 0.2642388300292848, 0.18061894710862506, 0.1939981283759306, 0.15720537989084032, 0.21175632351274543, 0.3279834785235004, 0.15284666960318466, 0.1552348988157344, 0.1520505931990014, 0.17367699157442082, 0.43419247893605206, 0.08683849578721041, 0.17367699157442082, 0.08683849578721041, 0.15736137302075096, 0.3596831383331451, 0.15736137302075096, 0.2023217653123941, 0.1348811768749294, 0.5012971289261042, 0.12532428223152606, 0.1879864233472891, 0.12532428223152606, 0.12532428223152606, 0.4315305211767603, 0.1438435070589201, 0.1438435070589201, 0.1438435070589201, 0.1438435070589201, 0.23271214584572514, 0.19392678820477094, 0.19040084660104784, 0.25034185386434066, 0.130459839337755, 0.14561924697582074, 0.14561924697582074, 0.07280962348791037, 0.2184288704637311, 0.36404811743955184, 0.2395863842282447, 0.19489669597841666, 0.19613807620757856, 0.16386219024936943, 0.20606911804087366, 0.19335408103449883, 0.3652243752873867, 0.15038650747127688, 0.15038650747127688, 0.15038650747127688, 0.33521826306417724, 0.1971872135671631, 0.13803104949701417, 0.18732785288880494, 0.14789041017537233, 0.24750866386019696, 0.24484728037782924, 0.22621759600125527, 0.13573055760075317, 0.146376091530224, 0.17555385079954497, 0.17555385079954497, 0.35110770159908994, 0.08777692539977248, 0.17555385079954497, 0.1808922345945129, 0.1808922345945129, 0.09044611729725645, 0.1808922345945129, 0.3617844691890258, 0.5324966318550944, 0.18520227732956632, 0.2635570869689982, 0.17451753056055289, 0.21013335312393103, 0.16739436604787725, 0.2213099837618777, 0.3688499729364628, 0.1844249864682314, 0.14753998917458513, 0.07376999458729257, 0.19139318712076162, 0.19670966454078279, 0.19670966454078279, 0.21531733551085683, 0.19936790325079334, 0.38038310557812116, 0.1267943685260404, 0.1267943685260404, 0.1267943685260404, 0.1267943685260404, 0.17986747636812495, 0.17986747636812495, 0.17986747636812495, 0.5396024291043748, 0.17986747636812495, 0.3577970617447943, 0.17944412027932363, 0.17944412027932363, 0.17944412027932363, 0.35888824055864726, 0.5331928998920366, 0.12583350068820578, 0.1677780009176077, 0.23724857942255465, 0.1690887665497765, 0.30016532976665755, 0.5326513571179123, 0.17317926307594358, 0.484901936612642, 0.13854341046075486, 0.10390755784556616, 0.10390755784556616, 0.18955043657936285, 0.4738760914484071, 0.09477521828968143, 0.09477521828968143, 0.09477521828968143, 0.5328533567105267, 0.2387584355592572, 0.23471168241418505, 0.11128571148948428, 0.21447791668882427, 0.2003142806810717, 0.0896589446877095, 0.0896589446877095, 0.0896589446877095, 0.537953668126257, 0.179317889375419, 0.17972964990467272, 0.17972964990467272, 0.17972964990467272, 0.5391889497140182, 0.17972964990467272, 0.361225507106997, 0.361225507106997, 0.261450330671919, 0.261450330671919, 0.261450330671919, 0.261450330671919, 0.1890395366682493, 0.21683946853122713, 0.1723595775504626, 0.15011963206008033, 0.2779993186297784, 0.15383674591239063, 0.15383674591239063, 0.30767349182478126, 0.15383674591239063, 0.15383674591239063, 0.3040866213236571, 0.19434107377827708, 0.2034865360737254, 0.14632739672717335, 0.1509001278748975, 0.1851907630453657, 0.3050200803100141, 0.14887884872274496, 0.18882195447762776, 0.1706659973163174, 0.263325079010304, 0.1844722394165591, 0.25536745299625635, 0.13744990387900483, 0.15915252028095295, 0.24041062292605297, 0.26445168521865825, 0.1495888320428774, 0.13890391546838615, 0.20568464405895642, 0.30731440966592605, 0.10243813655530869, 0.051219068277654344, 0.15365720483296302, 0.40975254622123475, 0.5330165001571793, 0.1773368731069988, 0.2966362241062525, 0.2031313273771077, 0.18700979345828964, 0.13864519170183542, 0.1148182719649138, 0.1148182719649138, 0.38272757321637935, 0.2296365439298276, 0.15309102928655172, 0.21561097141451993, 0.22844495780824137, 0.1745422149546114, 0.16427502583963424, 0.21817776869326422, 0.21770390735038356, 0.21770390735038356, 0.21770390735038356, 0.21770390735038356, 0.4354078147007671, 0.21272036532443606, 0.17892367176821725, 0.23260077329868242, 0.17295954937594335, 0.2027801613373129, 0.4234867888212728, 0.1954554409944336, 0.162879534162028, 0.0977277204972168, 0.1303036273296224, 0.14496621064897158, 0.47114018460915763, 0.14496621064897158, 0.14496621064897158, 0.10872465798672869, 0.1668951232297237, 0.20340343143622575, 0.10952492461950616, 0.3181438286566608, 0.19818795883529688, 0.18489956693341414, 0.23680119975682865, 0.16543645462463372, 0.22706964360243842, 0.18598085095056863, 0.1327850540468945, 0.39835516214068345, 0.17704673872919266, 0.08852336936459633, 0.17704673872919266, 0.20614932174303743, 0.1918084993609131, 0.23079761021231365, 0.2065974724424788, 0.16447130669498855, 0.36030284048506034, 0.36030284048506034, 0.33779285512747137, 0.33779285512747137, 0.2061978953464286, 0.16654445393365386, 0.1744751422162088, 0.1903365187813187, 0.26171271332431323, 0.3697829366820371, 0.18489146834101855, 0.18489146834101855, 0.18489146834101855, 0.18489146834101855, 0.15185846996598, 0.37964617491494995, 0.15185846996598, 0.15185846996598, 0.15185846996598, 0.1154606123839497, 0.1154606123839497, 0.2309212247678994, 0.17319091857592456, 0.3463818371518491, 0.2004913379731051, 0.15036850347982883, 0.4009826759462102, 0.15036850347982883, 0.10024566898655254, 0.20266050950604902, 0.0810642038024196, 0.36478891711088823, 0.20266050950604902, 0.1215963057036294, 0.17823902144879683, 0.2829861241011703, 0.127554939520229, 0.2525756749440296, 0.15881012337617917, 0.1253020205582635, 0.2142260351479989, 0.212205034816414, 0.23241503813226297, 0.2162470354795838, 0.17744189512578754, 0.2262384162853791, 0.16413375299135347, 0.2750349374449707, 0.1552616582350641, 0.11833555033171547, 0.11833555033171547, 0.35500665099514644, 0.11833555033171547, 0.11833555033171547, 0.21183401822239864, 0.18261553295034366, 0.13878780504226118, 0.16800629031431616, 0.29948947403856363, 0.23590304296380918, 0.21538973487999968, 0.21410765312476157, 0.1730810369571426, 0.16026021940476168, 0.1495229479903908, 0.10167560463346573, 0.27512222430231903, 0.2870840601415503, 0.18540845550808457, 0.2625277436245299, 0.13126387181226495, 0.3937916154367949, 0.13126387181226495, 0.13126387181226495, 0.21020654807530273, 0.10510327403765136, 0.15765491105647705, 0.3153098221129541, 0.15765491105647705, 0.42269665949598295, 0.10567416487399574, 0.14089888649866097, 0.17612360812332623, 0.17612360812332623, 0.4186778367403388, 0.18471081032662007, 0.14776864826129607, 0.1354545942395214, 0.11082648619597205, 0.4754669578314715, 0.20377155335634495, 0.1358477022375633, 0.06792385111878164, 0.11320641853130275, 0.18471314775276654, 0.12314209850184435, 0.3694262955055331, 0.18471314775276654, 0.12314209850184435, 0.2320047088748755, 0.464009417749751, 0.11600235443743775, 0.11600235443743775, 0.11600235443743775, 0.5333770180772471, 0.20855983573641546, 0.4171196714728309, 0.10427991786820773, 0.10427991786820773, 0.10427991786820773, 0.2068100391448678, 0.19620439611179766, 0.27044389734328866, 0.148479002462982, 0.16969028852912232, 0.20174020707335621, 0.19840565819611067, 0.2284165980913207, 0.17673109049401456, 0.19507110931886512, 0.15781200582319602, 0.16365689492775884, 0.27470978791445233, 0.20457111865969854, 0.19872622955513572, 0.18403012167201366, 0.18403012167201366, 0.18403012167201366, 0.3220527129260239, 0.13802259125401023, 0.21733990540669204, 0.18390299688258557, 0.15673550870674907, 0.22569913253771864, 0.21525009862393538, 0.15036435592001215, 0.15036435592001215, 0.45109306776003644, 0.15036435592001215, 0.15036435592001215, 0.23531760034154778, 0.40962693392787947, 0.21788666698291462, 0.07843920011384926, 0.06972373343453268, 0.2567733827405115, 0.3851600741107672, 0.1925800370553836, 0.06419334568512787, 0.06419334568512787, 0.2669650521762833, 0.2669650521762833, 0.2669650521762833, 0.2669650521762833, 0.2669650521762833, 0.2621683771850588, 0.1310841885925294, 0.3932525657775882, 0.1310841885925294, 0.1310841885925294, 0.383551451889523, 0.14512757639063031, 0.19695885367299829, 0.1658600873035775, 0.10366255456473594, 0.1799158297292952, 0.1799158297292952, 0.1799158297292952, 0.1799158297292952, 0.3598316594585904, 0.2318613966957157, 0.22655159371795122, 0.18230323556991387, 0.20000257882912884, 0.15929408933293446, 0.21507132000665638, 0.2566980271047189, 0.11447344451967194, 0.24629135033020327, 0.16997572065042196, 0.20763644240342988, 0.20763644240342988, 0.41527288480685975, 0.10381822120171494, 0.10381822120171494, 0.30526824264059793, 0.23226931505262888, 0.20904238354736598, 0.11281652445413402, 0.14267972210375773, 0.2248764301326423, 0.1805825878337885, 0.2453197419628825, 0.1805825878337885, 0.1703609319186684, 0.26706398119364133, 0.18113904811394801, 0.148626911272983, 0.21132888946627268, 0.1927505255571498, 0.2725747717884434, 0.16062441908961844, 0.2375294439870721, 0.14407523651674867, 0.18496145228501518, 0.14472933609775399, 0.32285774975652815, 0.14472933609775399, 0.2671926204881612, 0.12246328439040723, 0.40075792680639966, 0.20037896340319983, 0.20037896340319983, 0.20037896340319983, 0.5324298951515917, 0.17628541949334767, 0.17628541949334767, 0.35257083898669533, 0.17628541949334767, 0.09707939798333405, 0.3883175919333362, 0.1941587959666681, 0.1941587959666681, 0.14561909697500108, 0.11606873173219628, 0.2901718293304907, 0.08705154879914721, 0.34820619519658885, 0.17410309759829443, 0.33218161808753177, 0.2535070243299585, 0.14423675522221777, 0.13112432292928886, 0.14423675522221777, 0.3582839185303847, 0.18693936035636022, 0.251096063910614, 0.2068500614594045, 0.181408610049959, 0.1747717096822776, 0.21329485372596643, 0.21329485372596643, 0.21329485372596643, 0.42658970745193286, 0.21329485372596643, 0.5072239706156803, 0.2536119853078401, 0.2536119853078401, 0.2536119853078401, 0.2536119853078401, 0.1743943749628028, 0.3487887499256056, 0.1743943749628028, 0.1743943749628028, 0.1743943749628028, 0.22043814253272154, 0.22043814253272154, 0.22043814253272154, 0.22043814253272154, 0.4408762850654431, 0.22525992677843706, 0.19733514246706058, 0.19547349017963547, 0.19175018560478527, 0.1898885333173602, 0.10592135232181443, 0.10592135232181443, 0.21184270464362887, 0.15888202848272165, 0.42368540928725773, 0.2786039430630434, 0.20763878775453237, 0.19712543141253072, 0.1393019715315217, 0.17872705781402787, 0.2264476538551887, 0.4205456428739219, 0.09704899450936659, 0.16174832418227764, 0.09704899450936659, 0.14630033446255228, 0.14630033446255228, 0.18287541807819035, 0.23164219623237445, 0.29260066892510456, 0.15012238099901695, 0.3002447619980339, 0.17514277783218646, 0.20016317466535596, 0.1688876786238941, 0.28491984375154406, 0.17028737017220563, 0.15616597849938857, 0.15284329810578456, 0.23591030794588486, 0.18578575230157826, 0.1300500266111048, 0.2601000532222096, 0.31583577891268305, 0.1300500266111048, 0.16701895290835117, 0.16701895290835117, 0.16701895290835117, 0.16701895290835117, 0.33403790581670234, 0.21758943142510132, 0.2485310478204139, 0.18764593168770205, 0.16269301523986934, 0.18265534839813552, 0.1318735877716923, 0.3956207633150769, 0.1318735877716923, 0.1318735877716923, 0.1318735877716923, 0.22301556241294443, 0.1927761641196638, 0.2570348854928851, 0.17387654018636345, 0.151196991466403, 0.506666651590497, 0.2533333257952485, 0.2533333257952485, 0.2533333257952485, 0.5062136165075248, 0.2531068082537624, 0.2531068082537624, 0.41589055003191494, 0.13863018334397165, 0.23105030557328607, 0.09242012222931444, 0.13863018334397165, 0.220387121980057, 0.1763096975840456, 0.16896346018471037, 0.315888208171415, 0.12488603578869896, 0.13000632726633407, 0.13000632726633407, 0.1950094908995011, 0.1950094908995011, 0.3900189817990022, 0.4037827309122893, 0.20189136545614464, 0.20189136545614464, 0.20189136545614464, 0.20189136545614464, 0.2475909884484288, 0.41265164741404803, 0.1650606589656192, 0.0825303294828096, 0.0825303294828096, 0.2111235886099561, 0.2183046630524716, 0.14505770373881335, 0.26857218415008016, 0.15798363773534127, 0.1747173625623745, 0.08735868128118725, 0.4367934064059362, 0.1747173625623745, 0.08735868128118725, 0.12362266939958458, 0.12362266939958458, 0.37086800819875376, 0.24724533879916916, 0.1648302258661128, 0.21734816329281578, 0.22327584047352894, 0.18178210020853683, 0.17783031542139474, 0.1995651317506763, 0.43194901461992585, 0.14398300487330862, 0.14398300487330862, 0.14398300487330862, 0.14398300487330862, 0.40443834830350023, 0.20221917415175011, 0.20221917415175011, 0.10110958707587506, 0.10110958707587506, 0.21429407374400938, 0.36736126927544466, 0.12245375642514822, 0.15306719553143527, 0.12245375642514822, 0.2322898914845034, 0.3484348372267551, 0.1161449457422517, 0.1161449457422517, 0.1161449457422517, 0.046229286479887, 0.231146432399435, 0.046229286479887, 0.277375718879322, 0.369834291839096, 0.3784329790127807, 0.12614432633759357, 0.12614432633759357, 0.12614432633759357, 0.12614432633759357, 0.3388599020486974, 0.3388599020486974, 0.20798505471243425, 0.4159701094248685, 0.20798505471243425, 0.20798505471243425, 0.09218042602243999, 0.18436085204487998, 0.09218042602243999, 0.27654127806732, 0.36872170408975996, 0.435598753366132, 0.14519958445537734, 0.14519958445537734, 0.14519958445537734, 0.14519958445537734, 0.5342334478501053, 0.21440222935420783, 0.14439333813650732, 0.17283445019369814, 0.2559700085147175, 0.21221445150365467, 0.19755041569550089, 0.19206290414840363, 0.27437557735486234, 0.15365032331872291, 0.18108788105420914, 0.3500182977359493, 0.3500182977359493, 0.12469914850419267, 0.43644701976467437, 0.12469914850419267, 0.187048722756289, 0.12469914850419267, 0.24787228995071872, 0.1523381781988792, 0.28143832921487855, 0.1523381781988792, 0.16524819330047916, 0.2931431912092047, 0.18680693557449315, 0.2241683226893918, 0.14657159560460234, 0.14944554845959454, 0.13753852915394574, 0.13753852915394574, 0.2063077937309186, 0.2063077937309186, 0.34384632288486433, 0.10071727087302751, 0.10071727087302751, 0.20143454174605502, 0.20143454174605502, 0.40286908349211004, 0.3504131496117184, 0.3504131496117184, 0.18868602370858614, 0.29754334507892427, 0.13062878564440578, 0.23948610701474393, 0.13788594040242833, 0.18669443362378796, 0.4480666406970911, 0.11201666017427278, 0.18669443362378796, 0.11201666017427278, 0.29673976413029596, 0.44510964619544396, 0.14836988206514798, 0.14836988206514798, 0.14836988206514798, 0.2888779065732292, 0.1617222468422779, 0.1678948516835862, 0.22097925331883772, 0.16048772587401622, 0.23360463157527298, 0.1656469205715572, 0.2590887732016664, 0.2251099176998085, 0.11467863731877037, 0.199456376171646, 0.16129950420837458, 0.21853481215328172, 0.19078435981635705, 0.22894123177962844, 0.2585211853470404, 0.1292605926735202, 0.3877817780205606, 0.1292605926735202, 0.1292605926735202, 0.379783023167517, 0.126594341055839, 0.126594341055839, 0.126594341055839, 0.126594341055839, 0.22390250587661692, 0.20074017768248414, 0.12353241703537485, 0.18529862555306228, 0.2625063862001716, 0.5336186486665072, 0.23239214010175835, 0.11619607005087917, 0.3485882101526375, 0.23239214010175835, 0.11619607005087917, 0.17952166574451775, 0.23769419157810712, 0.19578495253670403, 0.1920318863538918, 0.19453393047576661, 0.2141789347072135, 0.23722350363140737, 0.12877847339990686, 0.20604555743985098, 0.2141789347072135, 0.2554126337453562, 0.15633014651655422, 0.21798147190336434, 0.13210998297173596, 0.23779796934912475, 0.5020976624872397, 0.08368294374787329, 0.08368294374787329, 0.16736588749574657, 0.16736588749574657, 0.5374353825361423, 0.26871769126807116, 0.1904142306028718, 0.0952071153014359, 0.3808284612057436, 0.1904142306028718, 0.0952071153014359, 0.2306054460598762, 0.09883090545423266, 0.13177454060564353, 0.36237998666551974, 0.16471817575705444, 0.14895197259125637, 0.4468559177737691, 0.14895197259125637, 0.14895197259125637, 0.14895197259125637, 0.2698971375007147, 0.2698971375007147, 0.2698971375007147, 0.11903103205806453, 0.11903103205806453, 0.11903103205806453, 0.3570930961741936, 0.11903103205806453, 0.2065286147892581, 0.21999787227551407, 0.15938621358736224, 0.19979398604613013, 0.2132632435323861, 0.1849697063292535, 0.18310132545724084, 0.25409979859372195, 0.18683808720126616, 0.19057484894529148, 0.17542092768158124, 0.1949121418684236, 0.2589547027680485, 0.21161889688571703, 0.15871417266428778, 0.18888663395868063, 0.11333198037520839, 0.22666396075041678, 0.33999594112562515, 0.11333198037520839, 0.22165322442133828, 0.211578077856732, 0.158683558392549, 0.22165322442133828, 0.1838714248040647, 0.3363592452676124, 0.3363592452676124, 0.27353442151561325, 0.27353442151561325, 0.27353442151561325, 0.27353442151561325, 0.27353442151561325], \"Term\": [\"accompaniment\", \"accompaniment\", \"accompaniment\", \"accompaniment\", \"accompaniment\", \"accurate\", \"accurate\", \"accurate\", \"accurate\", \"accurate\", \"active_idle\", \"active_idle\", \"active_idle\", \"active_idle\", \"active_idle\", \"acuity\", \"acuity\", \"acuity\", \"acuity\", \"adjective\", \"adjective\", \"algorithm\", \"algorithm\", \"algorithm\", \"algorithm\", \"algorithm\", \"almost_submodular\", \"almost_submodular\", \"almost_submodular\", \"almost_submodular\", \"almost_submodular\", \"also\", \"also\", \"also\", \"also\", \"also\", \"anarchy\", \"anarchy\", \"anarchy\", \"anarchy\", \"anarchy\", \"annotation\", \"annotation\", \"annotation\", \"annotation\", \"annotation\", \"annotation_term\", \"annotation_term\", \"annotation_term\", \"annotation_term\", \"annotation_term\", \"approach\", \"approach\", \"approach\", \"approach\", \"approach\", \"approximation\", \"approximation\", \"approximation\", \"approximation\", \"approximation\", \"architecture\", \"architecture\", \"architecture\", \"architecture\", \"architecture\", \"arcmin\", \"arcmin\", \"arcmin\", \"arcmin\", \"assoc\", \"assumption\", \"assumption\", \"assumption\", \"assumption\", \"assumption\", \"ation\", \"attraction\", \"attraction\", \"attraction\", \"attraction\", \"attraction\", \"averaging\", \"averaging\", \"averaging\", \"averaging\", \"averaging\", \"axiom\", \"base\", \"base\", \"base\", \"base\", \"base\", \"basin\", \"basin\", \"basin\", \"basin\", \"basin\", \"bayen\", \"bayen\", \"bayen\", \"bayen\", \"bcfw\", \"bcfw\", \"bcfw\", \"bcfw\", \"bcfw\", \"best_response\", \"best_response\", \"best_response\", \"best_response\", \"best_response\", \"bodied\", \"bodied\", \"boltzmann_machine\", \"boltzmann_machine\", \"boltzmann_machine\", \"boltzmann_machine\", \"boltzmann_machine\", \"boost\", \"boost\", \"boost\", \"boost\", \"boost\", \"border\", \"border\", \"border\", \"border\", \"border\", \"bridging_layer\", \"bridging_layer\", \"bridging_layer\", \"bridging_layer\", \"bridging_layer\", \"cascade\", \"cascade\", \"cascade\", \"cascade\", \"cascade\", \"case\", \"case\", \"case\", \"case\", \"case\", \"causal_inference\", \"causal_inference\", \"causal_inference\", \"causal_inference\", \"causal_inference\", \"cell_tracke\", \"cell_tracke\", \"cell_tracke\", \"cell_tracke\", \"cell_tracke\", \"chaos\", \"chaos\", \"chaos\", \"chaos\", \"chaos\", \"chineseocr\", \"chineseocr\", \"chineseocr\", \"chineseocr\", \"chineseocr\", \"claim\", \"claim\", \"claim\", \"claim\", \"claim\", \"class\", \"class\", \"class\", \"class\", \"class\", \"clause\", \"clause\", \"clause\", \"clause\", \"clause\", \"cls\", \"cls\", \"cls\", \"cls\", \"cml\", \"cml\", \"cml\", \"cml\", \"cml\", \"codeword\", \"codeword\", \"codeword\", \"codeword\", \"codeword\", \"collaborate\", \"compute\", \"compute\", \"compute\", \"compute\", \"compute\", \"congestion_game\", \"congestion_game\", \"congestion_game\", \"congestion_game\", \"congestion_game\", \"connection\", \"connection\", \"connection\", \"connection\", \"connection\", \"contagion\", \"contagion\", \"contagion\", \"contagion\", \"contagion\", \"control\", \"control\", \"control\", \"control\", \"control\", \"convergence\", \"convergence\", \"convergence\", \"convergence\", \"convergence\", \"convexokl\", \"convexokl\", \"convexokl\", \"convexokl\", \"cost\", \"cost\", \"cost\", \"cost\", \"cost\", \"ctv\", \"ctv\", \"cue\", \"cue\", \"cue\", \"cue\", \"cue\", \"cue_combination\", \"cue_combination\", \"cue_combination\", \"cue_combination\", \"cue_combination\", \"cummulative\", \"datum\", \"datum\", \"datum\", \"datum\", \"datum\", \"define\", \"define\", \"define\", \"define\", \"define\", \"delay\", \"delay\", \"delay\", \"delay\", \"delay\", \"delayed_mirror\", \"delayed_mirror\", \"delayed_mirror\", \"delayed_mirror\", \"delayed_mirror\", \"dembo\", \"dembo\", \"dembo\", \"dembo\", \"denote\", \"denote\", \"denote\", \"denote\", \"denote\", \"depth\", \"depth\", \"depth\", \"depth\", \"depth\", \"depth_perception\", \"depth_perception\", \"depth_perception\", \"depth_perception\", \"depth_perception\", \"desensitize\", \"desensitize\", \"desensitize\", \"desensitize\", \"desensitize\", \"direction\", \"direction\", \"direction\", \"direction\", \"direction\", \"directory\", \"directory\", \"directory\", \"directory\", \"disparity\", \"disparity\", \"disparity\", \"disparity\", \"disparity\", \"distort\", \"distort\", \"distort\", \"distort\", \"distort\", \"distribution\", \"distribution\", \"distribution\", \"distribution\", \"distribution\", \"disturb\", \"dlm\", \"dlm\", \"dlm\", \"dlm\", \"dlm\", \"dom\", \"dom\", \"dom\", \"dom\", \"dom\", \"dynamic\", \"dynamic\", \"dynamic\", \"dynamic\", \"dynamic\", \"energn\", \"energy_normalization\", \"energy_normalization\", \"energy_normalization\", \"energy_normalization\", \"energy_normalization\", \"enlarging\", \"ent\", \"ent\", \"ent\", \"ent\", \"ent\", \"equat\", \"error\", \"error\", \"error\", \"error\", \"error\", \"estimate\", \"estimate\", \"estimate\", \"estimate\", \"estimate\", \"euclid\", \"eur_lex\", \"eur_lex\", \"eur_lex\", \"eur_lex\", \"eur_lex\", \"example\", \"example\", \"example\", \"example\", \"example\", \"exhib\", \"expect\", \"expect\", \"expect\", \"expect\", \"expect\", \"experiment\", \"experiment\", \"experiment\", \"experiment\", \"experiment\", \"face_detection\", \"face_detection\", \"face_detection\", \"face_detection\", \"face_detection\", \"factor\", \"factor\", \"factor\", \"factor\", \"factor\", \"factorise\", \"factorise\", \"factorise\", \"factorise\", \"factorwise\", \"factorwise\", \"factorwise\", \"factorwise\", \"factorwise\", \"feature\", \"feature\", \"feature\", \"feature\", \"feature\", \"ff\", \"ff\", \"ff\", \"ff\", \"figure\", \"figure\", \"figure\", \"figure\", \"figure\", \"first\", \"first\", \"first\", \"first\", \"first\", \"flexion\", \"flexion\", \"fli\", \"fli\", \"fli\", \"fli\", \"fli\", \"flixster\", \"flixster\", \"flixster\", \"flixster\", \"flixster\", \"fmo\", \"fmo\", \"fmo\", \"fmo\", \"fmo\", \"follow\", \"follow\", \"follow\", \"follow\", \"follow\", \"form\", \"form\", \"form\", \"form\", \"form\", \"function\", \"function\", \"function\", \"function\", \"function\", \"gadget\", \"gadget\", \"gadget\", \"gadget\", \"gadget\", \"gate\", \"gate\", \"gate\", \"gate\", \"gate\", \"gdmm\", \"gdmm\", \"gdmm\", \"gdmm\", \"gdmm\", \"gdmm_subfmo\", \"gdmm_subfmo\", \"gdmm_subfmo\", \"gdmm_subfmo\", \"gdmm_subfmo\", \"generate\", \"generate\", \"generate\", \"generate\", \"generate\", \"geometric_measure\", \"geometric_measure\", \"geometric_measure\", \"geometric_measure\", \"geometric_measure\", \"give\", \"give\", \"give\", \"give\", \"give\", \"gp\", \"gp\", \"gp\", \"gp\", \"gp\", \"gradient\", \"gradient\", \"gradient\", \"gradient\", \"gradient\", \"graph\", \"graph\", \"graph\", \"graph\", \"graph\", \"halfspace\", \"halfspace\", \"halfspace\", \"halfspace\", \"halfspace\", \"handwritten\", \"handwritten\", \"handwritten\", \"handwritten\", \"handwritten\", \"hasten\", \"high\", \"high\", \"high\", \"high\", \"high\", \"hopfield_network\", \"hopfield_network\", \"hopfield_network\", \"hopfield_network\", \"hopfield_network\", \"however\", \"however\", \"however\", \"however\", \"however\", \"hwf_xf\", \"hwf_xf\", \"hwf_xf\", \"hwf_xf\", \"hwf_xf\", \"hypersphere\", \"hypersphere\", \"hypersphere\", \"hypersphere\", \"hypersphere\", \"icle\", \"idle\", \"idle\", \"idle\", \"idle\", \"ience\", \"image\", \"image\", \"image\", \"image\", \"image\", \"implementotion\", \"influence_maximization\", \"influence_maximization\", \"influence_maximization\", \"influence_maximization\", \"influence_maximization\", \"influence_spread\", \"influence_spread\", \"influence_spread\", \"influence_spread\", \"influence_spread\", \"ing\", \"input\", \"input\", \"input\", \"input\", \"input\", \"ion\", \"ion\", \"ion\", \"ion\", \"ion\", \"ity\", \"ity\", \"ity\", \"ity\", \"ity\", \"ivmrps\", \"ivmrps\", \"jnd\", \"jnd\", \"jnd\", \"jnd\", \"kernel\", \"kernel\", \"kernel\", \"kernel\", \"kernel\", \"keypoint\", \"keypoint\", \"keypoint\", \"keypoint\", \"keypoint\", \"large\", \"large\", \"large\", \"large\", \"large\", \"layer\", \"layer\", \"layer\", \"layer\", \"layer\", \"learn\", \"learn\", \"learn\", \"learn\", \"learn\", \"let\", \"let\", \"let\", \"let\", \"let\", \"lf_asd\", \"lf_asd\", \"lf_asd\", \"lf_asd\", \"lf_asd\", \"lln\", \"local\", \"local\", \"local\", \"local\", \"local\", \"localization\", \"localization\", \"localization\", \"localization\", \"localization\", \"make\", \"make\", \"make\", \"make\", \"make\", \"marchand\", \"marchand\", \"marchand\", \"marchand\", \"marchand\", \"matrix\", \"matrix\", \"matrix\", \"matrix\", \"matrix\", \"maximization\", \"maximization\", \"maximization\", \"maximization\", \"maximization\", \"mean_field\", \"mean_field\", \"mean_field\", \"mean_field\", \"mean_field\", \"memory\", \"memory\", \"memory\", \"memory\", \"memory\", \"method\", \"method\", \"method\", \"method\", \"method\", \"mka\", \"mka\", \"mka\", \"mka\", \"mka\", \"model\", \"model\", \"model\", \"model\", \"model\", \"mtn\", \"mtn\", \"multimap\", \"multimap\", \"multiple\", \"multiple\", \"multiple\", \"multiple\", \"multiple\", \"multipli\", \"multipli\", \"multipli\", \"multipli\", \"multipli\", \"multiresolution\", \"multiresolution\", \"multiresolution\", \"multiresolution\", \"multiresolution\", \"musical\", \"musical\", \"musical\", \"musical\", \"musical\", \"mwu\", \"mwu\", \"mwu\", \"mwu\", \"mwu\", \"mwue\", \"mwue\", \"mwue\", \"mwue\", \"mwue\", \"network\", \"network\", \"network\", \"network\", \"network\", \"neural\", \"neural\", \"neural\", \"neural\", \"neural\", \"neuron\", \"neuron\", \"neuron\", \"neuron\", \"neuron\", \"nonnegative\", \"nonnegative\", \"nonnegative\", \"nonnegative\", \"nonnegative\", \"norm\", \"norm\", \"norm\", \"norm\", \"norm\", \"number\", \"number\", \"number\", \"number\", \"number\", \"object\", \"object\", \"object\", \"object\", \"object\", \"observer\", \"observer\", \"observer\", \"observer\", \"observer\", \"offset\", \"offset\", \"offset\", \"offset\", \"offset\", \"omd\", \"omd\", \"omd\", \"omd\", \"omd\", \"online\", \"online\", \"online\", \"online\", \"online\", \"opponent\", \"opponent\", \"opponent\", \"opponent\", \"opponent\", \"ordinal\", \"ordinal\", \"ordinal\", \"ordinal\", \"ordinal\", \"pa_vi\", \"pa_vi\", \"pa_vi\", \"pa_vi\", \"pa_vi\", \"packing\", \"pagerank\", \"pagerank\", \"pagerank\", \"pagerank\", \"pagerank\", \"pair\", \"pair\", \"pair\", \"pair\", \"pair\", \"parameter\", \"parameter\", \"parameter\", \"parameter\", \"parameter\", \"part\", \"part\", \"part\", \"part\", \"part\", \"percept\", \"percept\", \"percept\", \"percept\", \"percept\", \"performance\", \"performance\", \"performance\", \"performance\", \"performance\", \"periodic_orbit\", \"periodic_orbit\", \"periodic_orbit\", \"periodic_orbit\", \"periodic_orbit\", \"phrase\", \"phrase\", \"phrase\", \"phrase\", \"phrase\", \"phrase_candidate\", \"phrase_candidate\", \"phrase_candidate\", \"phrase_candidate\", \"phrase_candidate\", \"phy\", \"phy\", \"phy\", \"phy\", \"phy\", \"pilioura\", \"pilioura\", \"pilioura\", \"pilioura\", \"pilioura\", \"player\", \"player\", \"player\", \"player\", \"player\", \"po\", \"po\", \"po\", \"po\", \"po\", \"point\", \"point\", \"point\", \"point\", \"point\", \"policy\", \"policy\", \"policy\", \"policy\", \"policy\", \"positive_semidefinite\", \"positive_semidefinite\", \"positive_semidefinite\", \"positive_semidefinite\", \"positive_semidefinite\", \"prediction\", \"prediction\", \"prediction\", \"prediction\", \"prediction\", \"present\", \"present\", \"present\", \"present\", \"present\", \"probability\", \"probability\", \"probability\", \"probability\", \"probability\", \"problem\", \"problem\", \"problem\", \"problem\", \"problem\", \"proposal\", \"proposal\", \"proposal\", \"proposal\", \"proposal\", \"qmax\", \"qmax\", \"qmax\", \"qmax\", \"radially\", \"rdw\", \"rdw\", \"rdw\", \"rdw\", \"recursive\", \"recursive\", \"recursive\", \"recursive\", \"recursive\", \"reference_vector\", \"reference_vector\", \"reference_vector\", \"reference_vector\", \"reference_vector\", \"regression\", \"regression\", \"regression\", \"regression\", \"regression\", \"relaxat\", \"result\", \"result\", \"result\", \"result\", \"result\", \"rev\", \"rev\", \"rev\", \"rev\", \"rev\", \"richene\", \"richene\", \"richene\", \"richene\", \"richene\", \"rrset\", \"rrset\", \"rrset\", \"rrset\", \"rrset\", \"sailboat\", \"sailboat\", \"sailboat\", \"sailboat\", \"sailboat\", \"sample\", \"sample\", \"sample\", \"sample\", \"sample\", \"scene_label\", \"scene_label\", \"scene_label\", \"scene_label\", \"scene_label\", \"section\", \"section\", \"section\", \"section\", \"section\", \"seed\", \"seed\", \"seed\", \"seed\", \"seed\", \"segment\", \"segment\", \"segment\", \"segment\", \"segment\", \"segmentation\", \"segmentation\", \"segmentation\", \"segmentation\", \"segmentation\", \"set\", \"set\", \"set\", \"set\", \"set\", \"sgn\", \"sgn\", \"sgn\", \"sgn\", \"sgn\", \"shogun\", \"shogun\", \"shogun\", \"shogun\", \"shogun\", \"show\", \"show\", \"show\", \"show\", \"show\", \"sigmoid_belief\", \"sigmoid_belief\", \"sigmoid_belief\", \"sigmoid_belief\", \"sigmoid_belief\", \"similar\", \"similar\", \"similar\", \"similar\", \"similar\", \"simplex\", \"simplex\", \"simplex\", \"simplex\", \"smin\", \"smin\", \"smin\", \"soft_bcfw\", \"soft_bcfw\", \"soft_bcfw\", \"soft_bcfw\", \"soft_bcfw\", \"spike\", \"spike\", \"spike\", \"spike\", \"spike\", \"sport\", \"sport\", \"sport\", \"sport\", \"sport\", \"ssg\", \"ssg\", \"ssg\", \"ssg\", \"ssg\", \"start_end\", \"start_end\", \"start_end\", \"start_end\", \"start_end\", \"state\", \"state\", \"state\", \"state\", \"state\", \"stereo\", \"stereo\", \"stereo\", \"stereo\", \"stereo\", \"stream\", \"stream\", \"stream\", \"stream\", \"stream\", \"structure\", \"structure\", \"structure\", \"structure\", \"structure\", \"subfmo_ssg\", \"subfmo_ssg\", \"subfmo_ssg\", \"subfmo_ssg\", \"subfmo_ssg\", \"sublinear\", \"sublinear\", \"sublinear\", \"sublinear\", \"sublinear\", \"submodular\", \"submodular\", \"submodular\", \"submodular\", \"submodular\", \"submodular_node\", \"submodular_node\", \"submodular_node\", \"submodular_node\", \"submodular_node\", \"subnet\", \"subnet\", \"subnet\", \"subnet\", \"subnet\", \"summable\", \"summable\", \"summable\", \"summable\", \"summable\", \"superlinearly\", \"superlinearly\", \"supermodular\", \"supermodular\", \"supermodular\", \"supermodular\", \"supernet\", \"supernet\", \"supernet\", \"supernet\", \"supernet\", \"synchronous_bounde\", \"synchronous_bounde\", \"synchronous_bounde\", \"synchronous_bounde\", \"synchronous_bounde\", \"synoptic\", \"system\", \"system\", \"system\", \"system\", \"system\", \"table\", \"table\", \"table\", \"table\", \"table\", \"tabulate\", \"tabulate\", \"tap\", \"tap\", \"tap\", \"tap\", \"tap\", \"task\", \"task\", \"task\", \"task\", \"task\", \"test\", \"test\", \"test\", \"test\", \"test\", \"textual\", \"textual\", \"textual\", \"textual\", \"textual\", \"textual_annotation\", \"textual_annotation\", \"textual_annotation\", \"textual_annotation\", \"textual_annotation\", \"third_order\", \"third_order\", \"threshold\", \"threshold\", \"threshold\", \"threshold\", \"threshold\", \"threshold_function\", \"threshold_function\", \"threshold_function\", \"threshold_function\", \"threshold_function\", \"tim_tim\", \"tim_tim\", \"tim_tim\", \"tim_tim\", \"tim_tim\", \"time\", \"time\", \"time\", \"time\", \"time\", \"topic\", \"topic\", \"topic\", \"topic\", \"topic\", \"training\", \"training\", \"training\", \"training\", \"training\", \"unconstrained_dual\", \"unconstrained_dual\", \"unconstrained_dual\", \"unconstrained_dual\", \"unconstrained_dual\", \"unique_nash\", \"unique_nash\", \"unique_nash\", \"unique_nash\", \"unique_nash\", \"unit\", \"unit\", \"unit\", \"unit\", \"unit\", \"unl\", \"unpaired\", \"unpaired\", \"unpaired\", \"unpaired\", \"unpaired\", \"use\", \"use\", \"use\", \"use\", \"use\", \"value\", \"value\", \"value\", \"value\", \"value\", \"variable\", \"variable\", \"variable\", \"variable\", \"variable\", \"variationally_stable\", \"variationally_stable\", \"variationally_stable\", \"variationally_stable\", \"variationally_stable\", \"ve\", \"ve\", \"vertical_bar\", \"vertical_bar\", \"vertical_bar\", \"vertical_bar\", \"vertical_bar\", \"viola_jone\", \"viola_jone\", \"viola_jone\", \"viola_jone\", \"viola_jone\", \"viral_markete\", \"viral_markete\", \"viral_markete\", \"viral_markete\", \"viral_markete\", \"voluntary\", \"voluntary\", \"voluntary\", \"weak_classifier\", \"weak_classifier\", \"weak_classifier\", \"weak_classifier\", \"weak_classifier\", \"weight\", \"weight\", \"weight\", \"weight\", \"weight\", \"well\", \"well\", \"well\", \"well\", \"well\", \"word\", \"word\", \"word\", \"word\", \"word\", \"word_context\", \"word_context\", \"word_context\", \"word_context\", \"word_context\", \"work\", \"work\", \"work\", \"work\", \"work\", \"xf\", \"xf\", \"youtube\", \"youtube\", \"youtube\", \"youtube\", \"youtube\"]}, \"R\": 30, \"lambda.step\": 0.01, \"plot.opts\": {\"xlab\": \"PC1\", \"ylab\": \"PC2\"}, \"topic.order\": [1, 5, 4, 2, 3]};\n",
       "\n",
       "function LDAvis_load_lib(url, callback){\n",
       "  var s = document.createElement('script');\n",
       "  s.src = url;\n",
       "  s.async = true;\n",
       "  s.onreadystatechange = s.onload = callback;\n",
       "  s.onerror = function(){console.warn(\"failed to load library \" + url);};\n",
       "  document.getElementsByTagName(\"head\")[0].appendChild(s);\n",
       "}\n",
       "\n",
       "if(typeof(LDAvis) !== \"undefined\"){\n",
       "   // already loaded: just create the visualization\n",
       "   !function(LDAvis){\n",
       "       new LDAvis(\"#\" + \"ldavis_el187224022317778725588754476\", ldavis_el187224022317778725588754476_data);\n",
       "   }(LDAvis);\n",
       "}else if(typeof define === \"function\" && define.amd){\n",
       "   // require.js is available: use it to load d3/LDAvis\n",
       "   require.config({paths: {d3: \"https://d3js.org/d3.v5\"}});\n",
       "   require([\"d3\"], function(d3){\n",
       "      window.d3 = d3;\n",
       "      LDAvis_load_lib(\"https://cdn.jsdelivr.net/gh/bmabey/pyLDAvis@3.4.0/pyLDAvis/js/ldavis.v3.0.0.js\", function(){\n",
       "        new LDAvis(\"#\" + \"ldavis_el187224022317778725588754476\", ldavis_el187224022317778725588754476_data);\n",
       "      });\n",
       "    });\n",
       "}else{\n",
       "    // require.js not available: dynamically load d3 & LDAvis\n",
       "    LDAvis_load_lib(\"https://d3js.org/d3.v5.js\", function(){\n",
       "         LDAvis_load_lib(\"https://cdn.jsdelivr.net/gh/bmabey/pyLDAvis@3.4.0/pyLDAvis/js/ldavis.v3.0.0.js\", function(){\n",
       "                 new LDAvis(\"#\" + \"ldavis_el187224022317778725588754476\", ldavis_el187224022317778725588754476_data);\n",
       "            })\n",
       "         });\n",
       "}\n",
       "</script>"
      ],
      "text/plain": [
       "PreparedData(topic_coordinates=              x         y  topics  cluster       Freq\n",
       "topic                                                \n",
       "0      0.006863 -0.003276       1        1  22.786346\n",
       "4     -0.002982 -0.005958       2        1  20.475309\n",
       "3      0.002577  0.005644       3        1  19.430265\n",
       "1     -0.006461  0.001521       4        1  18.853919\n",
       "2      0.000003  0.002069       5        1  18.454162, topic_info=              Term         Freq        Total Category  logprob  loglift\n",
       "239          image   762.000000   762.000000  Default  30.0000  30.0000\n",
       "743        network  1183.000000  1183.000000  Default  29.0000  29.0000\n",
       "2754        object   501.000000   501.000000  Default  28.0000  28.0000\n",
       "191       function  1256.000000  1256.000000  Default  27.0000  27.0000\n",
       "330          model  2231.000000  2231.000000  Default  26.0000  26.0000\n",
       "...            ...          ...          ...      ...      ...      ...\n",
       "353         number   125.343119   779.981461   Topic5  -5.6249  -0.1383\n",
       "135   distribution   109.864192   651.945830   Topic5  -5.7567  -0.0908\n",
       "188         follow   106.199947   618.764882   Topic5  -5.7907  -0.0725\n",
       "496          state   109.538884   696.274637   Topic5  -5.7597  -0.1596\n",
       "13            also   103.976387   605.234231   Topic5  -5.8118  -0.0716\n",
       "\n",
       "[426 rows x 6 columns], token_table=      Topic      Freq           Term\n",
       "term                                \n",
       "9818      1  0.138235  accompaniment\n",
       "9818      2  0.069118  accompaniment\n",
       "9818      3  0.368627  accompaniment\n",
       "9818      4  0.184313  accompaniment\n",
       "9818      5  0.253431  accompaniment\n",
       "...     ...       ...            ...\n",
       "8794      1  0.273534        youtube\n",
       "8794      2  0.273534        youtube\n",
       "8794      3  0.273534        youtube\n",
       "8794      4  0.273534        youtube\n",
       "8794      5  0.273534        youtube\n",
       "\n",
       "[1252 rows x 3 columns], R=30, lambda_step=0.01, plot_opts={'xlab': 'PC1', 'ylab': 'PC2'}, topic_order=[1, 5, 4, 2, 3])"
      ]
     },
     "execution_count": 14,
     "metadata": {},
     "output_type": "execute_result"
    }
   ],
   "source": [
    "pyLDAvis.enable_notebook()\n",
    "\n",
    "model_filepath = 'LDA_Model_' + str(num_topics)\n",
    "\n",
    "LDAvis_prepared = pyLDAvis.gensim_models.prepare(lda_model, corpus, id2word)\n",
    "with open(model_filepath, 'wb') as f:\n",
    "  pickle.dump(LDAvis_prepared, f)\n",
    "  \n",
    "with open(model_filepath, 'rb') as f:\n",
    "  LDAvis_prepared = pickle.load(f)\n",
    "  \n",
    "pyLDAvis.save_html(LDAvis_prepared, 'LDAvis_prepared_' + str(num_topics) + '.html')\n",
    "\n",
    "LDAvis_prepared"
   ]
  },
  {
   "cell_type": "markdown",
   "id": "fbab291a",
   "metadata": {},
   "source": [
    "### Step 13. Calculate the Coherence score"
   ]
  },
  {
   "cell_type": "code",
   "execution_count": null,
   "id": "1a49eb5b",
   "metadata": {},
   "outputs": [],
   "source": [
    "coherence_model_lda = CoherenceModel(model = lda_model, texts = clean_words_lemmatized, dictionary = id2word, coherence = 'c_v')\n",
    "\n",
    "coherence_lda = coherence_model_lda.get_coherence()\n",
    "\n",
    "print(coherence_lda)"
   ]
  },
  {
   "cell_type": "code",
   "execution_count": null,
   "id": "246215d0",
   "metadata": {},
   "outputs": [],
   "source": []
  }
 ],
 "metadata": {
  "kernelspec": {
   "display_name": "Python 3 (ipykernel)",
   "language": "python",
   "name": "python3"
  },
  "language_info": {
   "codemirror_mode": {
    "name": "ipython",
    "version": 3
   },
   "file_extension": ".py",
   "mimetype": "text/x-python",
   "name": "python",
   "nbconvert_exporter": "python",
   "pygments_lexer": "ipython3",
   "version": "3.9.16"
  }
 },
 "nbformat": 4,
 "nbformat_minor": 5
}
