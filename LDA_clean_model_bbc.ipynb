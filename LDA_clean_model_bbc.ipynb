{
 "cells": [
  {
   "cell_type": "markdown",
   "id": "bd0ff558",
   "metadata": {},
   "source": [
    "# Latent Dirichlet Allocation models on BBC data"
   ]
  },
  {
   "cell_type": "markdown",
   "id": "1aa30ce9",
   "metadata": {},
   "source": [
    "### Model 1. Scikit-learn"
   ]
  },
  {
   "cell_type": "code",
   "execution_count": 1,
   "id": "f3461773",
   "metadata": {},
   "outputs": [],
   "source": [
    "# Imports\n",
    "\n",
    "import pandas as pd\n",
    "import numpy as np\n",
    "import matplotlib.pyplot as plt\n",
    "import nltk\n",
    "import textwrap\n",
    "from nltk.corpus import stopwords\n",
    "from sklearn.feature_extraction.text import CountVectorizer\n",
    "from sklearn.decomposition import LatentDirichletAllocation\n",
    "import string\n",
    "from nltk.stem.wordnet import WordNetLemmatizer\n",
    "from nltk import PorterStemmer\n",
    "import spacy\n",
    "import gensim\n",
    "import gensim.corpora as corpora\n",
    "from pprint import pprint\n",
    "import pyLDAvis.gensim_models as gensimvis\n",
    "import pickle\n",
    "import pyLDAvis\n",
    "import os\n",
    "from gensim.models import CoherenceModel, TfidfModel\n",
    "import pyLDAvis.gensim\n",
    "import re\n",
    "from bertopic import BERTopic\n",
    "from sklearn.decomposition import PCA\n",
    "from sklearn.cluster import KMeans\n",
    "from sentence_transformers import SentenceTransformer\n",
    "from bertopic.vectorizers import ClassTfidfTransformer\n",
    "\n",
    "\n",
    "stops = stopwords.words('english')\n",
    "stops.extend(['has', 'been', 're', 'com', 'edu', 'use', 'said', 'would', 'could', 'told', 'also', 'one', 'two', 'mr', 'new', 'year'])"
   ]
  },
  {
   "cell_type": "code",
   "execution_count": 2,
   "id": "017eea64",
   "metadata": {},
   "outputs": [
    {
     "name": "stderr",
     "output_type": "stream",
     "text": [
      "<>:25: DeprecationWarning: invalid escape sequence \\s\n",
      "<>:25: DeprecationWarning: invalid escape sequence \\s\n",
      "C:\\Users\\User\\AppData\\Local\\Temp\\ipykernel_21880\\2014397279.py:25: DeprecationWarning: invalid escape sequence \\s\n",
      "  df['text'] = df['text'].str.replace('[^a-zA-Z0-9\\s]', '')\n",
      "C:\\Users\\User\\AppData\\Local\\Temp\\ipykernel_21880\\2014397279.py:25: FutureWarning: The default value of regex will change from True to False in a future version.\n",
      "  df['text'] = df['text'].str.replace('[^a-zA-Z0-9\\s]', '')\n"
     ]
    }
   ],
   "source": [
    "# Read the data\n",
    "df = pd.read_csv('bbc_text_cls.csv')\n",
    "\n",
    "# # Remove missing values\n",
    "# df.dropna(axis = 0, how ='any', inplace=True)\n",
    "\n",
    "# # Add num words column\n",
    "# df['Num_words_text'] = df['text'].apply(lambda x:len(str(x).split()))\n",
    "# max_review_data_sentence_length  = df['Num_words_text'].max()\n",
    "\n",
    "# # Create a mask to filter out long reviews and very short ones\n",
    "# mask = (df['Num_words_text'] < 100) & (df['Num_words_text'] >=20)\n",
    "# df = df[mask]\n",
    "\n",
    "# Remove punctuation\n",
    "def remove_punctuation(text):\n",
    "  return text.translate(str.maketrans('', '', string.punctuation))\n",
    "\n",
    "df['text'] = df['text'].apply(remove_punctuation)\n",
    "\n",
    "# Remove \\n characters\n",
    "df['text'] = df['text'].str.replace('\\n', ' ')\n",
    "\n",
    "# Remove digits and non-alphanumeric characters\n",
    "df['text'] = df['text'].str.replace('[^a-zA-Z0-9\\s]', '')\n",
    "\n",
    "# Lowercase the text\n",
    "df['text'] = df['text'].str.lower()\n",
    "\n",
    "# # Normalize whitespace\n",
    "# def normalize_whitespace(text):\n",
    "#     text = re.sub('[\\s]+', ' ', text)\n",
    "#     return text\n",
    "\n",
    "# df['text'] = df['text'].map(normalize_whitespace)\n",
    "\n",
    "# Remove stopwords\n",
    "def remove_stopwords(text):\n",
    "    text = \" \".join([word for word in text.split() if word not in stops])\n",
    "    return text\n",
    "\n",
    "df['text'] = df['text'].apply(remove_stopwords)\n",
    "\n",
    "# Lemmatization\n",
    "def lemmatization(text, allowed_postags = ['NOUN', 'ADJ']):\n",
    "  doc = nlp(''.join(text))\n",
    "  doc = [token.lemma_ for token in doc if token.pos_ in allowed_postags]\n",
    "  return ' '.join(doc)\n",
    "\n",
    "nlp = spacy.load('en_core_web_sm', disable = ['parser', 'ner'])\n",
    "df['text'] = df['text'].map(lemmatization)\n",
    "\n",
    "# Stemming\n",
    "def stemming(text):\n",
    "  doc = [PorterStemmer().stem(w).strip() for w in text.split()]\n",
    "  return ' '.join(doc)\n",
    "\n",
    "df['text'] = df['text'].map(stemming)\n",
    "\n",
    "# # Remove words that contain digits\n",
    "# pattern = re.compile(r'\\b\\w*\\d\\w*\\b')\n",
    "# df['text'] = df['text'].apply(lambda x: pattern.sub('', x))\n",
    "\n",
    "# # Normalize whitespace again\n",
    "# df['text'] = df['text'].map(normalize_whitespace)"
   ]
  },
  {
   "cell_type": "code",
   "execution_count": 3,
   "id": "ae8a4441",
   "metadata": {},
   "outputs": [
    {
     "data": {
      "text/plain": [
       "sport            511\n",
       "business         510\n",
       "politics         417\n",
       "tech             401\n",
       "entertainment    386\n",
       "Name: labels, dtype: int64"
      ]
     },
     "execution_count": 3,
     "metadata": {},
     "output_type": "execute_result"
    }
   ],
   "source": [
    "df['labels'].value_counts()"
   ]
  },
  {
   "cell_type": "code",
   "execution_count": 4,
   "id": "a2c6d37f",
   "metadata": {},
   "outputs": [
    {
     "data": {
      "text/html": [
       "<style>#sk-container-id-1 {color: black;background-color: white;}#sk-container-id-1 pre{padding: 0;}#sk-container-id-1 div.sk-toggleable {background-color: white;}#sk-container-id-1 label.sk-toggleable__label {cursor: pointer;display: block;width: 100%;margin-bottom: 0;padding: 0.3em;box-sizing: border-box;text-align: center;}#sk-container-id-1 label.sk-toggleable__label-arrow:before {content: \"▸\";float: left;margin-right: 0.25em;color: #696969;}#sk-container-id-1 label.sk-toggleable__label-arrow:hover:before {color: black;}#sk-container-id-1 div.sk-estimator:hover label.sk-toggleable__label-arrow:before {color: black;}#sk-container-id-1 div.sk-toggleable__content {max-height: 0;max-width: 0;overflow: hidden;text-align: left;background-color: #f0f8ff;}#sk-container-id-1 div.sk-toggleable__content pre {margin: 0.2em;color: black;border-radius: 0.25em;background-color: #f0f8ff;}#sk-container-id-1 input.sk-toggleable__control:checked~div.sk-toggleable__content {max-height: 200px;max-width: 100%;overflow: auto;}#sk-container-id-1 input.sk-toggleable__control:checked~label.sk-toggleable__label-arrow:before {content: \"▾\";}#sk-container-id-1 div.sk-estimator input.sk-toggleable__control:checked~label.sk-toggleable__label {background-color: #d4ebff;}#sk-container-id-1 div.sk-label input.sk-toggleable__control:checked~label.sk-toggleable__label {background-color: #d4ebff;}#sk-container-id-1 input.sk-hidden--visually {border: 0;clip: rect(1px 1px 1px 1px);clip: rect(1px, 1px, 1px, 1px);height: 1px;margin: -1px;overflow: hidden;padding: 0;position: absolute;width: 1px;}#sk-container-id-1 div.sk-estimator {font-family: monospace;background-color: #f0f8ff;border: 1px dotted black;border-radius: 0.25em;box-sizing: border-box;margin-bottom: 0.5em;}#sk-container-id-1 div.sk-estimator:hover {background-color: #d4ebff;}#sk-container-id-1 div.sk-parallel-item::after {content: \"\";width: 100%;border-bottom: 1px solid gray;flex-grow: 1;}#sk-container-id-1 div.sk-label:hover label.sk-toggleable__label {background-color: #d4ebff;}#sk-container-id-1 div.sk-serial::before {content: \"\";position: absolute;border-left: 1px solid gray;box-sizing: border-box;top: 0;bottom: 0;left: 50%;z-index: 0;}#sk-container-id-1 div.sk-serial {display: flex;flex-direction: column;align-items: center;background-color: white;padding-right: 0.2em;padding-left: 0.2em;position: relative;}#sk-container-id-1 div.sk-item {position: relative;z-index: 1;}#sk-container-id-1 div.sk-parallel {display: flex;align-items: stretch;justify-content: center;background-color: white;position: relative;}#sk-container-id-1 div.sk-item::before, #sk-container-id-1 div.sk-parallel-item::before {content: \"\";position: absolute;border-left: 1px solid gray;box-sizing: border-box;top: 0;bottom: 0;left: 50%;z-index: -1;}#sk-container-id-1 div.sk-parallel-item {display: flex;flex-direction: column;z-index: 1;position: relative;background-color: white;}#sk-container-id-1 div.sk-parallel-item:first-child::after {align-self: flex-end;width: 50%;}#sk-container-id-1 div.sk-parallel-item:last-child::after {align-self: flex-start;width: 50%;}#sk-container-id-1 div.sk-parallel-item:only-child::after {width: 0;}#sk-container-id-1 div.sk-dashed-wrapped {border: 1px dashed gray;margin: 0 0.4em 0.5em 0.4em;box-sizing: border-box;padding-bottom: 0.4em;background-color: white;}#sk-container-id-1 div.sk-label label {font-family: monospace;font-weight: bold;display: inline-block;line-height: 1.2em;}#sk-container-id-1 div.sk-label-container {text-align: center;}#sk-container-id-1 div.sk-container {/* jupyter's `normalize.less` sets `[hidden] { display: none; }` but bootstrap.min.css set `[hidden] { display: none !important; }` so we also need the `!important` here to be able to override the default hidden behavior on the sphinx rendered scikit-learn.org. See: https://github.com/scikit-learn/scikit-learn/issues/21755 */display: inline-block !important;position: relative;}#sk-container-id-1 div.sk-text-repr-fallback {display: none;}</style><div id=\"sk-container-id-1\" class=\"sk-top-container\"><div class=\"sk-text-repr-fallback\"><pre>LatentDirichletAllocation(max_iter=50, n_components=5, random_state=12345)</pre><b>In a Jupyter environment, please rerun this cell to show the HTML representation or trust the notebook. <br />On GitHub, the HTML representation is unable to render, please try loading this page with nbviewer.org.</b></div><div class=\"sk-container\" hidden><div class=\"sk-item\"><div class=\"sk-estimator sk-toggleable\"><input class=\"sk-toggleable__control sk-hidden--visually\" id=\"sk-estimator-id-1\" type=\"checkbox\" checked><label for=\"sk-estimator-id-1\" class=\"sk-toggleable__label sk-toggleable__label-arrow\">LatentDirichletAllocation</label><div class=\"sk-toggleable__content\"><pre>LatentDirichletAllocation(max_iter=50, n_components=5, random_state=12345)</pre></div></div></div></div></div>"
      ],
      "text/plain": [
       "LatentDirichletAllocation(max_iter=50, n_components=5, random_state=12345)"
      ]
     },
     "execution_count": 4,
     "metadata": {},
     "output_type": "execute_result"
    }
   ],
   "source": [
    "# Create count vectorizer\n",
    "vectorizer = CountVectorizer(stop_words = list(stops),\n",
    "                            # min_df = 20,\n",
    "                            # max_df = 0.2,\n",
    "                            # max_features = 5000,\n",
    "                            # ngram_range = (1,3)\n",
    "                            )\n",
    "X = vectorizer.fit_transform(df['text'])\n",
    "\n",
    "# Create an LDA model\n",
    "lda = LatentDirichletAllocation(n_components = 5, random_state = 12345, max_iter = 50)\n",
    "lda.fit(X)"
   ]
  },
  {
   "cell_type": "code",
   "execution_count": 5,
   "id": "1982bb2c",
   "metadata": {},
   "outputs": [],
   "source": [
    "# Auxillary plotting function\n",
    "def plot_top_words(model, feature_names, n_top_words = 10):\n",
    "  fig, axes = plt.subplots(2, 5, figsize = (30, 15), sharex = True)\n",
    "  axes = axes.flatten()\n",
    "  for topic_idx, topic in enumerate(model.components_):\n",
    "    top_features_ind = topic.argsort()[: -n_top_words - 1 : -1]\n",
    "    top_features = [feature_names[i] for i in top_features_ind]\n",
    "    weights = topic[top_features_ind]\n",
    "    \n",
    "    ax = axes[topic_idx]\n",
    "    ax.barh(top_features, weights, height = 0.7)\n",
    "    ax.set_title(f'Topic {topic_idx + 1}', fontdict = {'fontsize': 30})\n",
    "    ax.invert_yaxis()\n",
    "    ax.tick_params(axis = 'both', which = 'major', labelsize = 20)\n",
    "    for i in 'top right left'.split():\n",
    "      ax.spines[i].set_visible(False)\n",
    "    fig.suptitle(\"LDA\", fontsize = 40)\n",
    "  \n",
    "  plt.subplots_adjust(top = 0.90, bottom = 0.05, wspace = 0.90, hspace = 0.3)\n",
    "  plt.show()"
   ]
  },
  {
   "cell_type": "code",
   "execution_count": 6,
   "id": "1cbad500",
   "metadata": {},
   "outputs": [
    {
     "data": {
      "image/png": "[encoded data removed]",
      "text/plain": [
       "<Figure size 3000x1500 with 10 Axes>"
      ]
     },
     "metadata": {},
     "output_type": "display_data"
    }
   ],
   "source": [
    "# Words per topics\n",
    "feature_names = vectorizer.get_feature_names_out()\n",
    "plot_top_words(lda, feature_names)"
   ]
  },
  {
   "cell_type": "code",
   "execution_count": 7,
   "id": "b924a128",
   "metadata": {},
   "outputs": [],
   "source": [
    "# Latent variables extraction\n",
    "Z = lda.transform(X)"
   ]
  },
  {
   "cell_type": "code",
   "execution_count": 8,
   "id": "7ef3220d",
   "metadata": {},
   "outputs": [
    {
     "data": {
      "text/plain": [
       "Text(0.5, 1.0, 'True label: sport')"
      ]
     },
     "execution_count": 8,
     "metadata": {},
     "output_type": "execute_result"
    },
    {
     "data": {
      "image/png": "[encoded data removed]",
      "text/plain": [
       "<Figure size 640x480 with 1 Axes>"
      ]
     },
     "metadata": {},
     "output_type": "display_data"
    }
   ],
   "source": [
    "# Sample topic\n",
    "np.random.seed(0)\n",
    "\n",
    "i = np.random.choice(len(df))\n",
    "z = Z[i]\n",
    "topics = np.arange(5) + 1\n",
    "\n",
    "fig, ax = plt.subplots()\n",
    "ax.barh(topics, z)\n",
    "ax.set_yticks(topics)\n",
    "ax.set_title('True label: %s' % df.iloc[i]['labels'])"
   ]
  },
  {
   "cell_type": "code",
   "execution_count": 9,
   "id": "75df34ad",
   "metadata": {},
   "outputs": [],
   "source": [
    "# # Associated article\n",
    "# def wrap(x):\n",
    "#   return textwrap.fill(x, replace_whitespace = False, fix_sentence_endings = True)\n",
    "\n",
    "# print(wrap(df.iloc[i]['text']))"
   ]
  },
  {
   "cell_type": "code",
   "execution_count": 10,
   "id": "75aeb4e3",
   "metadata": {},
   "outputs": [
    {
     "data": {
      "text/plain": [
       "Text(0.5, 1.0, 'True label: entertainment')"
      ]
     },
     "execution_count": 10,
     "metadata": {},
     "output_type": "execute_result"
    },
    {
     "data": {
      "image/png": "[encoded data removed]",
      "text/plain": [
       "<Figure size 640x480 with 1 Axes>"
      ]
     },
     "metadata": {},
     "output_type": "display_data"
    }
   ],
   "source": [
    "# Sample topic n2\n",
    "i = np.random.choice(len(df))\n",
    "z = Z[i]\n",
    "\n",
    "fig, ax = plt.subplots()\n",
    "ax.barh(topics, z)\n",
    "ax.set_yticks(topics)\n",
    "ax.set_title('True label: %s' % df.iloc[i]['labels'])"
   ]
  },
  {
   "cell_type": "code",
   "execution_count": 11,
   "id": "e1b1f0df",
   "metadata": {},
   "outputs": [],
   "source": [
    "# # Associated article n2\n",
    "# print(wrap(df.iloc[i]['text']))"
   ]
  },
  {
   "cell_type": "markdown",
   "id": "14437d27",
   "metadata": {},
   "source": [
    "### Model 2. Gensim"
   ]
  },
  {
   "cell_type": "code",
   "execution_count": 12,
   "id": "972f8ebd",
   "metadata": {},
   "outputs": [],
   "source": [
    "# Create document-term matrix\n",
    "def create_document_term_matrix(dataframe, column_name):\n",
    "  cv = CountVectorizer(analyzer = 'word')\n",
    "  data = cv.fit_transform(dataframe[column_name])\n",
    "  df_dtm = pd.DataFrame(data.toarray(), columns = cv.get_feature_names_out())\n",
    "  df_dtm.index = dataframe.index\n",
    "  return df_dtm\n",
    "\n",
    "df_dtm = create_document_term_matrix(df, 'text')\n",
    "\n",
    "# Create bigrams and trigrams (note: only one of these will be used for modelling)\n",
    "words = [nltk.word_tokenize(sentence) for sentence in df['text']]\n",
    "\n",
    "bigram = gensim.models.Phrases(words, min_count = 5, threshold = 100)\n",
    "trigram = gensim.models.Phrases(bigram[words], threshold = 100)\n",
    "\n",
    "bigram_mod = gensim.models.phrases.Phraser(bigram)\n",
    "trigram_mod = gensim.models.phrases.Phraser(trigram)\n",
    "\n",
    "def make_bigrams(texts):\n",
    "  return [bigram_mod[doc] for doc in texts]\n",
    "\n",
    "def make_trigrams(texts):\n",
    "  return [trigram_mod[bigram_mod[doc]] for doc in texts]\n",
    "\n",
    "words_bigrams = make_bigrams(words)\n",
    "words_trigrams = make_trigrams(words)"
   ]
  },
  {
   "cell_type": "code",
   "execution_count": 13,
   "id": "c4672807",
   "metadata": {},
   "outputs": [],
   "source": [
    "# id2word dictionary and corpus\n",
    "id2word = corpora.Dictionary(words)\n",
    "\n",
    "# OPTIONAL STEP!.\n",
    "# Filter out tokens that appear in less than 15 documents, more than 0.5 documents (fraction of total corpus size, not absolute number) and keep only the first 100000 most frequent tokens.\n",
    "# id2word.filter_extremes(no_below=15, no_above=0.5, keep_n=100000)\n",
    "\n",
    "\n",
    "texts = words\n",
    "corpus = [id2word.doc2bow(text) for text in texts]"
   ]
  },
  {
   "cell_type": "code",
   "execution_count": 14,
   "id": "2ad86d92",
   "metadata": {},
   "outputs": [],
   "source": [
    "# LDA model\n",
    "num_topics = 5\n",
    "\n",
    "lda_model = gensim.models.LdaModel(corpus = corpus, id2word = id2word, num_topics = num_topics, \n",
    "                                       chunksize = 1000,\n",
    "                                       passes = 50,\n",
    "                                       iterations = 50,\n",
    "                                       per_word_topics = True\n",
    "                                      )"
   ]
  },
  {
   "cell_type": "code",
   "execution_count": 15,
   "id": "a598e9a0",
   "metadata": {},
   "outputs": [
    {
     "name": "stdout",
     "output_type": "stream",
     "text": [
      "[(0,\n",
      "  '0.018*\"peopl\" + 0.016*\"technolog\" + 0.015*\"mobil\" + 0.014*\"phone\" + '\n",
      "  '0.012*\"servic\" + 0.010*\"music\" + 0.009*\"digit\" + 0.008*\"user\" + '\n",
      "  '0.008*\"comput\" + 0.008*\"pc\"'),\n",
      " (1,\n",
      "  '0.013*\"site\" + 0.010*\"search\" + 0.010*\"peopl\" + 0.010*\"email\" + '\n",
      "  '0.010*\"attack\" + 0.010*\"compani\" + 0.010*\"firm\" + 0.009*\"softwar\" + '\n",
      "  '0.008*\"inform\" + 0.008*\"legal\"'),\n",
      " (2,\n",
      "  '0.013*\"govern\" + 0.008*\"elect\" + 0.006*\"peopl\" + 0.006*\"labour\" + '\n",
      "  '0.006*\"market\" + 0.006*\"plan\" + 0.005*\"countri\" + 0.005*\"last\" + '\n",
      "  '0.005*\"parti\" + 0.005*\"public\"'),\n",
      " (3,\n",
      "  '0.034*\"game\" + 0.013*\"good\" + 0.010*\"player\" + 0.009*\"film\" + 0.008*\"time\" '\n",
      "  '+ 0.008*\"last\" + 0.007*\"titl\" + 0.007*\"world\" + 0.006*\"first\" + '\n",
      "  '0.006*\"award\"'),\n",
      " (4,\n",
      "  '0.012*\"music\" + 0.011*\"peopl\" + 0.009*\"time\" + 0.008*\"year\" + 0.007*\"world\" '\n",
      "  '+ 0.007*\"film\" + 0.005*\"good\" + 0.005*\"life\" + 0.005*\"day\" + 0.005*\"game\"')]\n"
     ]
    }
   ],
   "source": [
    "# Print the most common words per topic\n",
    "pprint(lda_model.print_topics())"
   ]
  },
  {
   "cell_type": "code",
   "execution_count": 16,
   "id": "e8cf22dc",
   "metadata": {},
   "outputs": [
    {
     "name": "stderr",
     "output_type": "stream",
     "text": [
      "C:\\Users\\User\\anaconda3\\envs\\newtensorflow\\lib\\site-packages\\pyLDAvis\\_prepare.py:243: FutureWarning: In a future version of pandas all arguments of DataFrame.drop except for the argument 'labels' will be keyword-only.\n",
      "  default_term_info = default_term_info.sort_values(\n"
     ]
    },
    {
     "data": {
      "text/html": [
       "\n",
       "<link rel=\"stylesheet\" type=\"text/css\" href=\"https://cdn.jsdelivr.net/gh/bmabey/pyLDAvis@3.4.0/pyLDAvis/js/ldavis.v1.0.0.css\">\n",
       "\n",
       "\n",
       "<div id=\"ldavis_el2188023183101610889712156485\" style=\"background-color:white;\"></div>\n",
       "<script type=\"text/javascript\">\n",
       "\n",
       "var ldavis_el2188023183101610889712156485_data = {\"mdsDat\": {\"x\": [-0.02704881669948397, 0.20512321047742874, -0.09916254807843099, 0.10477691869452739, -0.1836887643940413], \"y\": [0.11226251840245086, 0.08032904364857527, -0.15411823817114767, -0.12407249690887541, 0.08559917302899697], \"topics\": [1, 2, 3, 4, 5], \"cluster\": [1, 1, 1, 1, 1], \"Freq\": [35.430365385848944, 23.10559982544343, 15.73039855680087, 13.529423406834159, 12.204212825072593]}, \"tinfo\": {\"Term\": [\"game\", \"technolog\", \"mobil\", \"phone\", \"music\", \"peopl\", \"govern\", \"site\", \"player\", \"servic\", \"user\", \"elect\", \"firm\", \"softwar\", \"search\", \"film\", \"digit\", \"titl\", \"attack\", \"email\", \"labour\", \"net\", \"comput\", \"compani\", \"legal\", \"pc\", \"inform\", \"system\", \"network\", \"law\", \"elect\", \"labour\", \"economi\", \"tori\", \"tax\", \"econom\", \"oil\", \"conserv\", \"fund\", \"mp\", \"pension\", \"liber\", \"immigr\", \"poster\", \"investor\", \"reform\", \"sharehold\", \"secretari\", \"prime\", \"wage\", \"unemploy\", \"inflat\", \"chancellor\", \"economist\", \"stake\", \"asylum\", \"loan\", \"dem\", \"parliamentari\", \"ga\", \"budget\", \"taxi\", \"polit\", \"govern\", \"debt\", \"parti\", \"bank\", \"brown\", \"spend\", \"foreign\", \"minist\", \"polici\", \"invest\", \"profit\", \"growth\", \"price\", \"plan\", \"rate\", \"leader\", \"share\", \"countri\", \"public\", \"market\", \"deal\", \"campaign\", \"issu\", \"high\", \"job\", \"last\", \"month\", \"peopl\", \"compani\", \"report\", \"year\", \"sale\", \"firm\", \"time\", \"titl\", \"award\", \"champion\", \"coach\", \"nintendo\", \"nomin\", \"oscar\", \"championship\", \"tournament\", \"premiership\", \"lion\", \"cup\", \"indoor\", \"roddick\", \"stadium\", \"slam\", \"refere\", \"medal\", \"squad\", \"chelsea\", \"liverpool\", \"rugbi\", \"halflif\", \"striker\", \"sequel\", \"nadal\", \"seafar\", \"robinson\", \"celtic\", \"mourinho\", \"injuri\", \"match\", \"victori\", \"prize\", \"footbal\", \"grand\", \"game\", \"olymp\", \"team\", \"winner\", \"season\", \"actress\", \"win\", \"athlet\", \"goal\", \"gamer\", \"club\", \"actor\", \"side\", \"final\", \"player\", \"good\", \"race\", \"film\", \"minut\", \"play\", \"chanc\", \"second\", \"wale\", \"first\", \"last\", \"time\", \"world\", \"open\", \"year\", \"week\", \"great\", \"top\", \"m\", \"nation\", \"next\", \"number\", \"mobil\", \"phone\", \"devic\", \"appl\", \"viru\", \"gadget\", \"broadband\", \"digit\", \"portabl\", \"highdefinit\", \"handset\", \"g\", \"wireless\", \"ipod\", \"multimedia\", \"mini\", \"storag\", \"laptop\", \"processor\", \"playstat\", \"wifi\", \"batteri\", \"mp3\", \"hdtv\", \"audio\", \"p2p\", \"subscript\", \"hacker\", \"uwb\", \"ce\", \"pc\", \"camera\", \"technolog\", \"download\", \"machin\", \"photo\", \"content\", \"chip\", \"video\", \"network\", \"comput\", \"connect\", \"servic\", \"consum\", \"user\", \"tv\", \"music\", \"peopl\", \"medium\", \"access\", \"system\", \"custom\", \"net\", \"player\", \"market\", \"firm\", \"way\", \"mani\", \"softwar\", \"compani\", \"game\", \"time\", \"robot\", \"singer\", \"vehicl\", \"addict\", \"concert\", \"episod\", \"mmorpg\", \"commodor\", \"musician\", \"warcraft\", \"danc\", \"wheel\", \"asimo\", \"everqu\", \"wife\", \"knife\", \"hd\", \"tower\", \"jewish\", \"soul\", \"brit\", \"sad\", \"upper\", \"visa\", \"album\", \"coproduct\", \"volum\", \"rock\", \"marin\", \"kmh\", \"car\", \"obsess\", \"pop\", \"lift\", \"stuff\", \"brand\", \"band\", \"podcast\", \"urban\", \"song\", \"chart\", \"music\", \"map\", \"artist\", \"audienc\", \"show\", \"book\", \"hour\", \"life\", \"viewer\", \"singl\", \"star\", \"advertis\", \"onlin\", \"film\", \"peopl\", \"year\", \"time\", \"real\", \"world\", \"tv\", \"day\", \"project\", \"top\", \"number\", \"good\", \"record\", \"group\", \"work\", \"game\", \"thing\", \"first\", \"mani\", \"sale\", \"spam\", \"patent\", \"spammer\", \"fraud\", \"bittorr\", \"scam\", \"junk\", \"lawyer\", \"hunt\", \"bluray\", \"jeev\", \"blogger\", \"arrest\", \"rfid\", \"attach\", \"hddvd\", \"domain\", \"jail\", \"antispam\", \"portal\", \"tracker\", \"screensav\", \"bloglin\", \"flaw\", \"prosecutor\", \"ddo\", \"attorney\", \"prosecut\", \"queri\", \"yuko\", \"search\", \"guilti\", \"crimin\", \"legal\", \"mail\", \"site\", \"traffic\", \"email\", \"blog\", \"fake\", \"attack\", \"illeg\", \"court\", \"law\", \"inform\", \"web\", \"websit\", \"softwar\", \"secur\", \"case\", \"internet\", \"net\", \"protect\", \"user\", \"firm\", \"compani\", \"system\", \"action\", \"file\", \"engin\", \"peopl\", \"bill\", \"messag\", \"mani\", \"comput\", \"group\"], \"Freq\": [2292.0, 663.0, 573.0, 563.0, 785.0, 2000.0, 1163.0, 451.0, 813.0, 844.0, 553.0, 679.0, 864.0, 474.0, 323.0, 819.0, 336.0, 414.0, 354.0, 329.0, 561.0, 491.0, 464.0, 957.0, 269.0, 314.0, 384.0, 605.0, 387.0, 314.0, 678.5284523129334, 561.2916173906897, 415.5178766121716, 405.4979029815605, 371.2639549381211, 353.8601211777098, 259.57910535579657, 239.47610502652066, 232.7206267385215, 187.39547825687495, 179.23885478734476, 151.01644682893323, 143.57035223631206, 134.0109873050469, 131.5113250639725, 113.02717797788146, 108.39850771256317, 107.7037881492119, 105.39434929910124, 95.7607266406589, 85.59182313679436, 84.56033961324906, 80.70507222299884, 78.01065356448429, 77.81355388956534, 76.58592231968419, 68.86780520821527, 65.81411606188837, 65.97562687431287, 65.2124207506754, 210.33506850846584, 129.28174115431804, 338.56280426277215, 1104.1266337613708, 174.739841358331, 448.38532694055675, 258.06218892922175, 200.11928450617742, 181.1775984903633, 261.2307642036845, 345.27577647405997, 252.084856310358, 210.4804732629357, 240.56628254525518, 361.4284949269752, 385.3777324075274, 500.686178982947, 367.8473422781306, 294.30347979418536, 335.0173431391445, 472.6559079052308, 424.3078958805536, 519.7270594878414, 298.88715746939783, 313.11142618009654, 311.81033502314017, 356.5766626426398, 307.7667526153751, 462.3515917470188, 387.31365192249285, 570.8340167285057, 412.93476780018227, 319.5022158368989, 381.02762327035356, 320.24833357630246, 332.96395377327724, 339.6664478375857, 413.8020782261374, 330.45940189989506, 165.41231637913285, 142.6015766161223, 144.60060364452744, 103.13888018072551, 100.68079215619571, 83.15979397397115, 80.27990074302443, 80.15756989277865, 78.23511642462717, 76.38318403575767, 72.60466754398311, 61.580510540613865, 65.55061775033552, 58.144950175695676, 55.773452000216125, 55.7320455565234, 54.821584256838044, 54.59269103764319, 53.98732282508617, 49.846471590422425, 49.58556428361825, 49.138404720584006, 47.40173305672377, 46.65460199327099, 41.15113176110508, 40.75427719013813, 39.900326844266125, 39.18986767627077, 191.39300801740788, 238.64410636716988, 167.67149999316322, 120.51258353110003, 141.52787850328443, 102.38571665553248, 1926.254292740165, 102.44080958045224, 328.66682653224177, 159.98448881295872, 213.6946186864652, 94.42213311992288, 236.2981460579292, 101.98497168058925, 186.15033164973465, 188.3649658007364, 277.86378267905314, 162.20005719476094, 258.2523296384421, 237.1135693928971, 550.6647284195255, 761.5206200879594, 152.8710686519406, 514.2653347404412, 212.96772039291994, 187.11238918191512, 199.85938122368177, 285.01227653355215, 180.42862176603794, 365.32537583537936, 431.8736252921622, 474.94788450221057, 393.05155760896344, 223.49155009109188, 313.10491701170184, 273.32763837347466, 218.06140029407084, 219.69858638729562, 232.1096423793638, 214.5636268309178, 197.726946036968, 191.48912702062302, 572.4086785948472, 562.4415285639237, 260.29638572139527, 170.35990316801426, 171.938853310201, 155.06354199576143, 147.38503193045136, 334.1043090802253, 107.57433766980061, 91.34175145093155, 84.65753584549796, 84.5275497672471, 83.78996554564978, 82.54384009564319, 69.69680243442714, 61.043960121872836, 57.80587934347411, 56.096852261804656, 51.038512081734574, 51.50150003156768, 43.764302696620916, 41.09682136796891, 40.291922602773, 39.31581401844657, 39.59435821073363, 34.95481334886708, 32.67591370730552, 31.99154690918894, 29.142422620461943, 27.59174395055798, 299.39130245608703, 146.62724017089585, 626.9297063408399, 112.69089718416348, 170.67213870506257, 61.98988006192494, 188.0438067567235, 93.16061158963278, 268.7240557292373, 293.4029294223497, 319.58032289523607, 115.38237950720243, 482.90498626090175, 260.6704977573174, 321.4404340331865, 224.38668215736402, 371.0677121775011, 697.8748830407613, 188.04954918657495, 164.17825012193578, 245.60488776941088, 130.97665648636772, 206.9244436298185, 261.6863990181222, 253.57301801116768, 241.23691577181953, 231.83650358829019, 226.1290916556065, 187.8266847571511, 186.31359083579213, 189.17323004057224, 175.97816206002986, 144.54511495285988, 92.43254448740265, 86.8416215189921, 66.94536856940918, 49.27110712773852, 42.53087241322432, 38.34180835800593, 32.6245707783214, 30.400211384294373, 29.274131101714396, 31.533571158345982, 27.515196134636433, 24.464559754939696, 24.465014967369353, 23.962054075137296, 24.004283331218694, 24.94995491775108, 22.817188953453794, 22.30361164773359, 22.245026003407286, 20.451209651269075, 19.973430016572674, 21.3378657791639, 20.172162478189893, 107.27504857998345, 18.448839580501325, 20.079199503768365, 65.82088836828794, 17.973502072573453, 17.525070940530526, 173.32223027574753, 37.12537524609463, 57.32488563668921, 43.250596477431, 51.06074060514759, 113.72857761187235, 133.14517341969923, 47.053144152143624, 35.33901617225679, 156.63000857244617, 80.31682145949044, 413.92074706654694, 65.14584545543826, 94.64512696930112, 106.37483767167258, 165.9677322993988, 122.84591600442727, 148.17456077481634, 180.10091774150825, 61.85326855363408, 107.47151279425806, 107.18786660804838, 63.820302026911925, 139.11827945887748, 226.06904255370725, 369.91398217871716, 258.8492764459561, 289.027742719668, 126.00305841675309, 232.39509647568178, 136.20346635524066, 179.7762438255873, 105.80489608013472, 141.1062566113222, 164.31355675588506, 181.15846413215766, 132.1555533198404, 134.40456061091683, 130.63718346907385, 176.9626949736836, 117.05914619138919, 121.17789262528527, 116.79582631469933, 114.75194985737367, 182.61799175453933, 143.49312083905934, 74.16652951160641, 67.07839358574073, 62.18438693779214, 53.75808825504235, 50.058871293456725, 49.375909757881345, 47.620506939805885, 45.83817915465539, 43.571378195739086, 38.801313103259325, 36.47701417498905, 35.328514001991245, 33.161746750439306, 31.932298967303375, 101.28222362137456, 28.880456693528615, 26.976208752126148, 25.720414048073096, 24.736057835892694, 24.39912389459104, 23.92029019553658, 25.141386269092166, 23.97114592108208, 22.5552042339133, 22.543096986642357, 22.393913494832674, 22.304767498332914, 22.055848133917053, 312.3726190650231, 52.20001418178893, 103.7667717482397, 250.55867512233317, 71.98425722926994, 406.4694258217611, 113.74772557269915, 296.9143959205931, 93.68234061217026, 61.67679896705315, 292.81311613413305, 83.62171510872614, 152.06887265100346, 237.31676553946605, 252.82001988946624, 163.48792072423223, 228.58372877782222, 286.1064272284001, 249.36093528576183, 169.39101268097053, 179.54508428038181, 238.25703515809042, 93.91407367740327, 230.96092245421332, 289.7531935504984, 292.7392672127878, 206.1671410699782, 158.70515271496515, 113.72082527832599, 106.98157545547834, 303.42423896152616, 115.92490117976523, 118.540052491602, 132.61362950883958, 118.33635466502781, 116.44983758458503], \"Total\": [2292.0, 663.0, 573.0, 563.0, 785.0, 2000.0, 1163.0, 451.0, 813.0, 844.0, 553.0, 679.0, 864.0, 474.0, 323.0, 819.0, 336.0, 414.0, 354.0, 329.0, 561.0, 491.0, 464.0, 957.0, 269.0, 314.0, 384.0, 605.0, 387.0, 314.0, 679.1466426247484, 561.9125865953038, 416.136036192604, 406.1147987843558, 371.8805560314169, 354.4762952851352, 260.1993101597353, 240.09463882663385, 233.39776725394182, 188.01541957155192, 179.8548160083294, 151.6342936568406, 144.19229697237586, 134.6346645054238, 132.12871217960083, 113.64390086988915, 109.01539788185592, 108.3235862406178, 106.0125382431268, 96.38158349749436, 86.20770917734369, 85.1757161383946, 81.32072682631838, 78.62845345850148, 78.43475102767485, 77.2017689164947, 69.5031317682236, 66.43133554459176, 66.59655200763551, 65.83359251498793, 214.545957470224, 131.35078989101447, 348.1649416102526, 1163.7848834783713, 178.3894384119347, 469.6250168044937, 271.2620981966619, 209.4989888059366, 189.3705168151133, 279.96274560874974, 377.2910404442451, 271.6117405213335, 225.37663304795902, 263.81452418534724, 421.0146407025805, 459.034919371042, 621.4629017079363, 441.3082308089705, 343.20046634190226, 406.4716113750637, 643.1378661437092, 590.7142620039831, 798.4268369107464, 374.6537047325753, 408.54021411234726, 435.70565473650896, 556.7392168271296, 436.3503695689947, 1167.964530269811, 771.6403295677685, 2000.9529153221943, 957.0494378177345, 502.4977383845038, 1077.5872587396889, 635.2621663706943, 864.3665036910006, 1389.5878298425148, 414.4732734354633, 331.1282583252795, 166.07631497518565, 143.26747628030694, 145.28413559980007, 103.81184428176573, 101.34627509142302, 83.82531619447602, 80.94236548793462, 80.83377776820404, 78.90141673118129, 77.04773388799198, 73.26729231508932, 62.24253957245437, 66.28345160673935, 58.80782847780552, 56.43621147784777, 56.396366361347184, 55.48690437236459, 55.25613564709954, 54.65526153453184, 50.51188017050357, 50.251356714557744, 49.80181775104533, 48.07126823258366, 47.316436332652316, 41.81633363668074, 41.41815596187793, 40.563565362199434, 39.85235849643245, 195.40579173150448, 245.01479196734007, 176.57097533419315, 126.0664228290366, 149.5005504855049, 106.72031100855064, 2292.7973892935547, 107.12491456991164, 372.7264981571051, 174.66451914848827, 238.89091435576395, 99.55798331168165, 269.5360733298267, 108.97709792170396, 211.21431974238303, 215.2556283251836, 341.9167664368404, 185.85021451244242, 322.71113011240163, 293.42113033284926, 813.6209101269897, 1268.744171874187, 179.18333387125372, 819.3192321095974, 280.04539732119883, 239.64163974534623, 275.0351149047569, 472.8798114708811, 247.36802040874065, 812.6460924626141, 1167.964530269811, 1389.5878298425148, 1012.6203700599151, 364.611430483712, 1077.5872587396889, 749.8506890059197, 453.95076274588524, 482.76225754659094, 625.367166143179, 519.3615358301662, 610.70736694013, 796.9516060909597, 573.2236125401545, 563.2619762560533, 261.1159364460812, 171.1903845073963, 172.78308382942961, 155.8798477568431, 148.19870911016943, 336.3448116733442, 108.38826197583532, 92.20176661506454, 85.46922487292518, 85.34214788300716, 84.60347709718909, 83.35673693239711, 70.50814958622486, 61.86139485350738, 58.62439757139525, 56.91191893124716, 51.85351323533416, 52.34429951409456, 44.57608548391663, 41.92156059934778, 41.1078915624524, 40.129228823158535, 40.419443062262204, 35.767621020719275, 33.4881458937771, 32.81209226387149, 29.95350898189739, 28.403169579101565, 314.2754078027084, 152.90864260934168, 663.4953191182601, 117.49082102192136, 180.53856263475603, 64.77255055528829, 212.59931032758578, 102.19217331332982, 349.05638357466637, 387.4507750266827, 464.20721461988717, 139.48754021266657, 844.0680312199349, 401.874391980844, 553.0841459614513, 374.13581205291604, 785.6228481032902, 2000.9529153221943, 315.9925205665945, 256.9534371671267, 605.4461279123301, 194.0698907730848, 491.03941760114935, 813.6209101269897, 798.4268369107464, 864.3665036910006, 780.0983082496109, 806.5925877371204, 474.62068824967844, 957.0494378177345, 2292.7973892935547, 1389.5878298425148, 145.25354709225198, 93.18266476806915, 87.56947106273552, 67.65363935535254, 50.007738786173874, 43.24243731885141, 39.048711698579766, 33.3305084051799, 31.11014112212824, 29.98090400349112, 32.30447987674123, 28.227605367259955, 25.16963709332549, 25.170563745370867, 24.67993993390326, 24.730895987125344, 25.716054776694016, 23.523348678451008, 23.019183957915125, 22.96990731307536, 21.15785072301046, 20.685897958388733, 22.104948468417327, 20.92797019701222, 111.29798883968616, 19.159296325497213, 20.859153312864862, 68.39773296991653, 18.682044456378755, 18.230091617162508, 188.16558137852496, 39.065086225540306, 61.0577911022369, 45.70417473420468, 54.78446268268928, 126.40713720757553, 148.9737473942815, 50.665894490399985, 37.76811639986792, 204.03938357107657, 99.6261794987834, 785.6228481032902, 82.92225081908451, 132.89098050851803, 155.18610439084708, 272.86709902791523, 204.5011634290062, 276.48555581968867, 373.601200296918, 84.73196276522977, 195.66097639559445, 201.0116751359466, 91.7937864008674, 323.0969296371514, 819.3192321095974, 2000.9529153221943, 1077.5872587396889, 1389.5878298425148, 309.12223989112516, 1012.6203700599151, 374.13581205291604, 651.8934839923759, 227.7991026365014, 482.76225754659094, 796.9516060909597, 1268.744171874187, 472.84503795798963, 539.4157930114095, 521.7334212752277, 2292.7973892935547, 429.8412629507473, 812.6460924626141, 806.5925877371204, 635.2621663706943, 183.37461070342565, 144.25282946458023, 74.92288674137713, 67.84183172568646, 62.94124031559549, 54.51507957722596, 50.824486181259125, 50.14223270351347, 48.386103818448234, 46.604069803083725, 44.328403925086164, 39.559448860079165, 37.24800455568651, 36.08736646055074, 33.924661288246725, 32.69771598111795, 103.79905050377653, 29.657888548703788, 27.732767056175305, 26.50530176379477, 25.50081315741324, 25.15599028947096, 24.67654771544798, 25.936515036830713, 24.735454666260036, 23.311999261433247, 23.302830733972687, 23.156238186911363, 23.074298011320906, 22.822045019570176, 323.5300401511982, 54.15614289813633, 109.28987270021598, 269.36698757029967, 76.07517224773333, 451.40753390312784, 122.12578862934083, 329.4831220019805, 102.72207432078203, 66.75226964664557, 354.22072390225645, 95.01837621849901, 183.80200522009875, 314.996586156125, 384.1745519955783, 231.02607420385087, 355.0109359129905, 474.62068824967844, 421.82974190765844, 286.57499986659366, 316.57688003587805, 491.03941760114935, 132.39567235073397, 553.0841459614513, 864.3665036910006, 957.0494378177345, 605.4461279123301, 381.0357080836916, 197.52134946714352, 175.46845099627743, 2000.9529153221943, 221.49487173531443, 258.4100272002174, 806.5925877371204, 464.20721461988717, 539.4157930114095], \"Category\": [\"Default\", \"Default\", \"Default\", \"Default\", \"Default\", \"Default\", \"Default\", \"Default\", \"Default\", \"Default\", \"Default\", \"Default\", \"Default\", \"Default\", \"Default\", \"Default\", \"Default\", \"Default\", \"Default\", \"Default\", \"Default\", \"Default\", \"Default\", \"Default\", \"Default\", \"Default\", \"Default\", \"Default\", \"Default\", \"Default\", \"Topic1\", \"Topic1\", \"Topic1\", \"Topic1\", \"Topic1\", \"Topic1\", \"Topic1\", \"Topic1\", \"Topic1\", \"Topic1\", \"Topic1\", \"Topic1\", \"Topic1\", \"Topic1\", \"Topic1\", \"Topic1\", \"Topic1\", \"Topic1\", \"Topic1\", \"Topic1\", \"Topic1\", \"Topic1\", \"Topic1\", \"Topic1\", \"Topic1\", \"Topic1\", \"Topic1\", \"Topic1\", \"Topic1\", \"Topic1\", \"Topic1\", \"Topic1\", \"Topic1\", \"Topic1\", \"Topic1\", \"Topic1\", \"Topic1\", \"Topic1\", \"Topic1\", \"Topic1\", \"Topic1\", \"Topic1\", \"Topic1\", \"Topic1\", \"Topic1\", \"Topic1\", \"Topic1\", \"Topic1\", \"Topic1\", \"Topic1\", \"Topic1\", \"Topic1\", \"Topic1\", \"Topic1\", \"Topic1\", \"Topic1\", \"Topic1\", \"Topic1\", \"Topic1\", \"Topic1\", \"Topic1\", \"Topic1\", \"Topic1\", \"Topic1\", \"Topic1\", \"Topic1\", \"Topic1\", \"Topic2\", \"Topic2\", \"Topic2\", \"Topic2\", \"Topic2\", \"Topic2\", \"Topic2\", \"Topic2\", \"Topic2\", \"Topic2\", \"Topic2\", \"Topic2\", \"Topic2\", \"Topic2\", \"Topic2\", \"Topic2\", \"Topic2\", \"Topic2\", \"Topic2\", \"Topic2\", \"Topic2\", \"Topic2\", \"Topic2\", \"Topic2\", \"Topic2\", \"Topic2\", \"Topic2\", \"Topic2\", \"Topic2\", \"Topic2\", \"Topic2\", \"Topic2\", \"Topic2\", \"Topic2\", \"Topic2\", \"Topic2\", \"Topic2\", \"Topic2\", \"Topic2\", \"Topic2\", \"Topic2\", \"Topic2\", \"Topic2\", \"Topic2\", \"Topic2\", \"Topic2\", \"Topic2\", \"Topic2\", \"Topic2\", \"Topic2\", \"Topic2\", \"Topic2\", \"Topic2\", \"Topic2\", \"Topic2\", \"Topic2\", \"Topic2\", \"Topic2\", \"Topic2\", \"Topic2\", \"Topic2\", \"Topic2\", \"Topic2\", \"Topic2\", \"Topic2\", \"Topic2\", \"Topic2\", \"Topic2\", \"Topic2\", \"Topic2\", \"Topic2\", \"Topic2\", \"Topic3\", \"Topic3\", \"Topic3\", \"Topic3\", \"Topic3\", \"Topic3\", \"Topic3\", \"Topic3\", \"Topic3\", \"Topic3\", \"Topic3\", \"Topic3\", \"Topic3\", \"Topic3\", \"Topic3\", \"Topic3\", \"Topic3\", \"Topic3\", \"Topic3\", \"Topic3\", \"Topic3\", \"Topic3\", \"Topic3\", \"Topic3\", \"Topic3\", \"Topic3\", \"Topic3\", \"Topic3\", \"Topic3\", \"Topic3\", \"Topic3\", \"Topic3\", \"Topic3\", \"Topic3\", \"Topic3\", \"Topic3\", \"Topic3\", \"Topic3\", \"Topic3\", \"Topic3\", \"Topic3\", \"Topic3\", \"Topic3\", \"Topic3\", \"Topic3\", \"Topic3\", \"Topic3\", \"Topic3\", \"Topic3\", \"Topic3\", \"Topic3\", \"Topic3\", \"Topic3\", \"Topic3\", \"Topic3\", \"Topic3\", \"Topic3\", \"Topic3\", \"Topic3\", \"Topic3\", \"Topic3\", \"Topic3\", \"Topic4\", \"Topic4\", \"Topic4\", \"Topic4\", \"Topic4\", \"Topic4\", \"Topic4\", \"Topic4\", \"Topic4\", \"Topic4\", \"Topic4\", \"Topic4\", \"Topic4\", \"Topic4\", \"Topic4\", \"Topic4\", \"Topic4\", \"Topic4\", \"Topic4\", \"Topic4\", \"Topic4\", \"Topic4\", \"Topic4\", \"Topic4\", \"Topic4\", \"Topic4\", \"Topic4\", \"Topic4\", \"Topic4\", \"Topic4\", \"Topic4\", \"Topic4\", \"Topic4\", \"Topic4\", \"Topic4\", \"Topic4\", \"Topic4\", \"Topic4\", \"Topic4\", \"Topic4\", \"Topic4\", \"Topic4\", \"Topic4\", \"Topic4\", \"Topic4\", \"Topic4\", \"Topic4\", \"Topic4\", \"Topic4\", \"Topic4\", \"Topic4\", \"Topic4\", \"Topic4\", \"Topic4\", \"Topic4\", \"Topic4\", \"Topic4\", \"Topic4\", \"Topic4\", \"Topic4\", \"Topic4\", \"Topic4\", \"Topic4\", \"Topic4\", \"Topic4\", \"Topic4\", \"Topic4\", \"Topic4\", \"Topic4\", \"Topic4\", \"Topic4\", \"Topic4\", \"Topic4\", \"Topic4\", \"Topic5\", \"Topic5\", \"Topic5\", \"Topic5\", \"Topic5\", \"Topic5\", \"Topic5\", \"Topic5\", \"Topic5\", \"Topic5\", \"Topic5\", \"Topic5\", \"Topic5\", \"Topic5\", \"Topic5\", \"Topic5\", \"Topic5\", \"Topic5\", \"Topic5\", \"Topic5\", \"Topic5\", \"Topic5\", \"Topic5\", \"Topic5\", \"Topic5\", \"Topic5\", \"Topic5\", \"Topic5\", \"Topic5\", \"Topic5\", \"Topic5\", \"Topic5\", \"Topic5\", \"Topic5\", \"Topic5\", \"Topic5\", \"Topic5\", \"Topic5\", \"Topic5\", \"Topic5\", \"Topic5\", \"Topic5\", \"Topic5\", \"Topic5\", \"Topic5\", \"Topic5\", \"Topic5\", \"Topic5\", \"Topic5\", \"Topic5\", \"Topic5\", \"Topic5\", \"Topic5\", \"Topic5\", \"Topic5\", \"Topic5\", \"Topic5\", \"Topic5\", \"Topic5\", \"Topic5\", \"Topic5\", \"Topic5\", \"Topic5\", \"Topic5\", \"Topic5\", \"Topic5\"], \"logprob\": [30.0, 29.0, 28.0, 27.0, 26.0, 25.0, 24.0, 23.0, 22.0, 21.0, 20.0, 19.0, 18.0, 17.0, 16.0, 15.0, 14.0, 13.0, 12.0, 11.0, 10.0, 9.0, 8.0, 7.0, 6.0, 5.0, 4.0, 3.0, 2.0, 1.0, -4.864, -5.0537, -5.3544, -5.3788, -5.467, -5.515, -5.8249, -5.9055, -5.9341, -6.1507, -6.1952, -6.3665, -6.4171, -6.486, -6.5048, -6.6563, -6.6981, -6.7045, -6.7262, -6.8221, -6.9343, -6.9465, -6.9931, -7.0271, -7.0296, -7.0455, -7.1517, -7.1971, -7.1946, -7.2063, -6.0352, -6.5219, -5.5592, -4.3771, -6.2206, -5.2783, -5.8307, -6.085, -6.1844, -5.8185, -5.5396, -5.8542, -6.0345, -5.9009, -5.4939, -5.4297, -5.1679, -5.4763, -5.6993, -5.5697, -5.2256, -5.3335, -5.1306, -5.6839, -5.6374, -5.6415, -5.5074, -5.6546, -5.2476, -5.4247, -5.0368, -5.3606, -5.6172, -5.441, -5.6148, -5.5759, -5.556, -4.931, -5.1559, -5.848, -5.9964, -5.9825, -6.3204, -6.3445, -6.5357, -6.5709, -6.5724, -6.5967, -6.6207, -6.6714, -6.8361, -6.7736, -6.8935, -6.9351, -6.9359, -6.9523, -6.9565, -6.9677, -7.0475, -7.0527, -7.0618, -7.0978, -7.1137, -7.2392, -7.2489, -7.27, -7.288, -5.7021, -5.4815, -5.8344, -6.1647, -6.0039, -6.3277, -3.3931, -6.3271, -5.1614, -5.8814, -5.5919, -6.4087, -5.4913, -6.3316, -5.7299, -5.718, -5.3293, -5.8676, -5.4025, -5.4879, -4.6453, -4.3211, -5.9268, -4.7137, -5.5953, -5.7247, -5.6588, -5.3039, -5.7611, -5.0556, -4.8883, -4.7932, -4.9825, -5.5471, -5.2099, -5.3458, -5.5717, -5.5642, -5.5092, -5.5878, -5.6695, -5.7016, -4.2221, -4.2397, -5.0101, -5.434, -5.4248, -5.5281, -5.5789, -4.7605, -5.8938, -6.0573, -6.1333, -6.1349, -6.1436, -6.1586, -6.3278, -6.4604, -6.5149, -6.5449, -6.6394, -6.6303, -6.7931, -6.856, -6.8758, -6.9003, -6.8933, -7.0179, -7.0853, -7.1065, -7.1998, -7.2544, -4.8702, -5.5841, -4.1311, -5.8473, -5.4322, -6.445, -5.3353, -6.0376, -4.9783, -4.8904, -4.8049, -5.8237, -4.3921, -5.0087, -4.7991, -5.1586, -4.6556, -4.0239, -5.3352, -5.471, -5.0682, -5.6969, -5.2396, -5.0048, -5.0363, -5.0862, -5.1259, -5.1508, -5.3364, -5.3445, -5.3293, -5.4016, -5.4476, -5.8947, -5.9571, -6.2173, -6.5239, -6.671, -6.7747, -6.9362, -7.0068, -7.0445, -6.9702, -7.1065, -7.224, -7.224, -7.2447, -7.243, -7.2043, -7.2937, -7.3165, -7.3191, -7.4032, -7.4268, -7.3607, -7.4169, -5.7458, -7.5062, -7.4215, -6.2343, -7.5323, -7.5576, -5.2661, -6.8069, -6.3725, -6.6542, -6.4882, -5.6874, -5.5298, -6.5699, -6.8562, -5.3673, -6.0352, -4.3955, -6.2446, -5.8711, -5.7543, -5.3094, -5.6103, -5.4228, -5.2277, -6.2965, -5.744, -5.7466, -6.2651, -5.4859, -5.0004, -4.5079, -4.865, -4.7547, -5.5849, -4.9728, -5.5071, -5.2295, -5.7596, -5.4717, -5.3194, -5.2218, -5.5372, -5.5204, -5.5488, -5.2453, -5.6585, -5.624, -5.6608, -5.6784, -5.1107, -5.3518, -6.0118, -6.1123, -6.188, -6.3336, -6.4049, -6.4187, -6.4549, -6.493, -6.5437, -6.6597, -6.7215, -6.7534, -6.8167, -6.8545, -5.7002, -6.955, -7.0232, -7.0708, -7.1099, -7.1236, -7.1434, -7.0936, -7.1413, -7.2022, -7.2027, -7.2093, -7.2133, -7.2246, -4.5739, -6.3631, -5.676, -4.7944, -6.0417, -4.3106, -5.5842, -4.6247, -5.7782, -6.1962, -4.6386, -5.8918, -5.2938, -4.8487, -4.7855, -5.2214, -4.8862, -4.6618, -4.7992, -5.1859, -5.1277, -4.8448, -5.7758, -4.8759, -4.6491, -4.6389, -4.9894, -5.2511, -5.5844, -5.6455, -4.603, -5.5652, -5.5429, -5.4307, -5.5446, -5.5607], \"loglift\": [30.0, 29.0, 28.0, 27.0, 26.0, 25.0, 24.0, 23.0, 22.0, 21.0, 20.0, 19.0, 18.0, 17.0, 16.0, 15.0, 14.0, 13.0, 12.0, 11.0, 10.0, 9.0, 8.0, 7.0, 6.0, 5.0, 4.0, 3.0, 2.0, 1.0, 1.0367, 1.0365, 1.0361, 1.0361, 1.0359, 1.0359, 1.0352, 1.035, 1.0347, 1.0343, 1.0342, 1.0335, 1.0333, 1.033, 1.0329, 1.0322, 1.0319, 1.0319, 1.0318, 1.0311, 1.0304, 1.0303, 1.03, 1.0297, 1.0296, 1.0296, 1.0284, 1.0283, 1.0282, 1.0281, 1.0178, 1.0217, 1.0096, 0.985, 1.0169, 0.9913, 0.9877, 0.9918, 0.9934, 0.9683, 0.9489, 0.963, 0.9692, 0.9454, 0.885, 0.8627, 0.8215, 0.8555, 0.8839, 0.8443, 0.7296, 0.7067, 0.6083, 0.8117, 0.7716, 0.703, 0.5921, 0.6885, 0.1109, 0.3483, -0.2167, 0.197, 0.5848, -0.002, 0.3527, 0.0836, -0.3712, 1.4635, 1.4631, 1.4611, 1.4604, 1.4604, 1.4586, 1.4585, 1.4571, 1.4569, 1.4567, 1.4566, 1.4564, 1.456, 1.4544, 1.454, 1.4538, 1.4533, 1.4532, 1.453, 1.453, 1.4528, 1.4518, 1.4518, 1.4517, 1.4511, 1.451, 1.4491, 1.4489, 1.4486, 1.4483, 1.4443, 1.4387, 1.4134, 1.42, 1.4103, 1.4236, 1.2909, 1.4204, 1.3393, 1.3773, 1.3536, 1.4121, 1.3335, 1.3988, 1.3388, 1.3317, 1.2577, 1.329, 1.2423, 1.252, 1.0747, 0.9546, 1.3063, 0.9994, 1.1913, 1.2177, 1.1458, 0.9588, 1.1496, 0.6656, 0.4702, 0.3915, 0.5187, 0.9756, 0.2292, 0.4559, 0.7319, 0.6778, 0.474, 0.5811, 0.3374, 0.0391, 1.8482, 1.8481, 1.8464, 1.8447, 1.8447, 1.8443, 1.8441, 1.8429, 1.842, 1.8402, 1.84, 1.84, 1.8399, 1.8398, 1.838, 1.8363, 1.8355, 1.8352, 1.8337, 1.8333, 1.8312, 1.8297, 1.8295, 1.8291, 1.829, 1.8266, 1.825, 1.8242, 1.8221, 1.8206, 1.8011, 1.8076, 1.7929, 1.8079, 1.7934, 1.8057, 1.7268, 1.757, 1.588, 1.5715, 1.4763, 1.6599, 1.2912, 1.4167, 1.3069, 1.3383, 1.0995, 0.7962, 1.3306, 1.4016, 0.9473, 1.4564, 0.9854, 0.7152, 0.7026, 0.5734, 0.6362, 0.5779, 0.9226, 0.2132, -0.6453, -0.2168, 1.9954, 1.9922, 1.992, 1.9898, 1.9855, 1.9837, 1.982, 1.9789, 1.9772, 1.9764, 1.9762, 1.9747, 1.9719, 1.9719, 1.9708, 1.9705, 1.9701, 1.9698, 1.9687, 1.9682, 1.9663, 1.9653, 1.965, 1.9635, 1.9635, 1.9625, 1.9622, 1.9619, 1.9616, 1.9609, 1.9181, 1.9494, 1.9372, 1.9451, 1.9299, 1.8946, 1.888, 1.9263, 1.9338, 1.7359, 1.7849, 1.3595, 1.759, 1.6609, 1.6226, 1.5031, 1.4907, 1.3765, 1.2706, 1.6856, 1.4011, 1.3715, 1.6368, 1.1577, 0.7127, 0.3122, 0.5741, 0.4301, 1.1029, 0.5284, 0.9898, 0.7121, 1.2334, 0.7703, 0.4213, 0.0539, 0.7255, 0.6107, 0.6156, -0.5613, 0.6996, 0.0973, 0.0679, 0.289, 2.0993, 2.0981, 2.0932, 2.0921, 2.0913, 2.0894, 2.0882, 2.088, 2.0874, 2.0868, 2.0862, 2.084, 2.0825, 2.0821, 2.0806, 2.0797, 2.0788, 2.0768, 2.0757, 2.0733, 2.0729, 2.0728, 2.0723, 2.0723, 2.072, 2.0704, 2.0702, 2.0699, 2.0695, 2.0692, 2.0683, 2.0666, 2.0515, 2.031, 2.0481, 1.9985, 2.0323, 1.9993, 2.0113, 2.0243, 1.913, 1.9756, 1.9139, 1.8202, 1.685, 1.7576, 1.6631, 1.5972, 1.5777, 1.5776, 1.5362, 1.3802, 1.76, 1.2301, 1.0104, 0.9188, 1.0261, 1.2275, 1.5513, 1.6086, 0.2171, 1.4559, 1.3241, 0.298, 0.7366, 0.5704]}, \"token.table\": {\"Topic\": [1, 3, 4, 5, 1, 2, 4, 5, 2, 4, 2, 4, 4, 3, 4, 5, 3, 4, 5, 3, 5, 2, 3, 4, 4, 1, 2, 5, 5, 1, 2, 5, 5, 1, 2, 3, 4, 3, 2, 1, 3, 4, 1, 3, 3, 1, 2, 3, 4, 5, 5, 3, 4, 5, 5, 5, 5, 1, 2, 3, 4, 3, 4, 5, 4, 3, 1, 2, 1, 3, 3, 4, 1, 2, 4, 5, 3, 4, 1, 2, 3, 4, 5, 3, 2, 2, 2, 1, 2, 3, 5, 1, 2, 4, 2, 1, 2, 3, 1, 2, 2, 4, 1, 2, 3, 4, 5, 3, 4, 5, 4, 3, 4, 5, 1, 1, 3, 5, 2, 3, 5, 4, 1, 2, 3, 4, 5, 2, 5, 4, 5, 2, 1, 3, 5, 4, 1, 2, 3, 4, 5, 5, 1, 2, 3, 4, 5, 1, 5, 1, 3, 3, 4, 3, 5, 3, 4, 1, 1, 1, 1, 3, 5, 3, 4, 5, 4, 4, 4, 5, 3, 5, 2, 3, 4, 1, 2, 3, 5, 1, 3, 5, 1, 2, 3, 4, 5, 5, 1, 2, 1, 2, 3, 5, 1, 3, 1, 3, 2, 3, 4, 2, 3, 1, 2, 3, 4, 1, 2, 3, 4, 5, 1, 3, 4, 5, 2, 3, 4, 1, 2, 3, 4, 5, 1, 2, 3, 4, 5, 1, 3, 4, 5, 2, 5, 3, 2, 3, 4, 5, 3, 1, 2, 3, 4, 3, 1, 2, 3, 4, 5, 5, 3, 5, 1, 2, 1, 1, 2, 3, 5, 2, 5, 3, 4, 5, 1, 3, 4, 1, 3, 1, 3, 4, 5, 5, 5, 4, 1, 2, 3, 4, 5, 5, 4, 4, 1, 3, 1, 2, 3, 4, 5, 1, 2, 5, 5, 1, 2, 4, 5, 1, 3, 5, 1, 1, 2, 3, 4, 5, 2, 4, 2, 2, 1, 1, 2, 3, 4, 5, 3, 4, 3, 5, 1, 2, 3, 4, 5, 2, 4, 4, 1, 3, 4, 5, 1, 2, 2, 1, 2, 3, 4, 5, 1, 3, 4, 5, 3, 1, 5, 1, 2, 3, 4, 5, 4, 3, 1, 2, 3, 4, 5, 2, 1, 3, 3, 3, 4, 4, 2, 1, 2, 3, 5, 1, 2, 3, 5, 3, 5, 1, 2, 3, 4, 5, 2, 2, 1, 2, 3, 4, 5, 2, 4, 1, 2, 4, 3, 4, 5, 1, 2, 3, 4, 5, 2, 3, 1, 1, 5, 5, 3, 4, 1, 1, 2, 3, 4, 5, 3, 2, 3, 1, 2, 3, 4, 5, 1, 2, 3, 4, 2, 3, 4, 3, 3, 4, 1, 5, 1, 4, 3, 4, 3, 5, 1, 2, 1, 3, 4, 1, 2, 3, 3, 1, 3, 4, 5, 1, 3, 4, 5, 5, 5, 1, 3, 5, 1, 2, 3, 4, 5, 5, 1, 2, 3, 1, 3, 5, 1, 2, 3, 4, 5, 1, 2, 3, 4, 5, 2, 1, 1, 2, 3, 4, 5, 5, 2, 4, 2, 4, 2, 2, 4, 1, 2, 3, 4, 5, 5, 2, 3, 5, 1, 2, 4, 1, 2, 3, 4, 5, 1, 1, 2, 3, 5, 2, 1, 3, 5, 1, 3, 5, 1, 1, 2, 3, 4, 1, 2, 3, 4, 5, 4, 1, 2, 3, 4, 5, 3, 4, 5, 2, 3, 5, 3, 4, 4, 5, 5, 1, 3, 2, 2, 1, 2, 4, 3, 2, 3, 4, 3, 1, 3, 4, 5, 1, 1, 3, 1, 2, 3, 4, 5, 3, 5, 1, 2, 3, 4, 5, 1, 2, 3, 4, 5, 2, 1, 2, 3, 4, 5, 1, 2, 4, 5, 2, 3, 5, 2, 3, 4, 1, 4, 3, 4, 3, 5, 3, 4, 1, 2, 2, 3, 4, 3, 4, 3, 4, 4, 1, 1, 2, 4, 1, 2, 3, 4, 5, 3, 5, 2, 3, 4, 5, 1, 2, 3, 4, 5, 4, 4, 3, 1, 2, 3, 5, 1, 2, 4, 5, 3, 1, 2, 3, 4, 5, 1, 2, 3, 4, 5, 1, 2, 3, 4, 5, 5], \"Freq\": [0.179020761532296, 0.6382479324194902, 0.054484579596785744, 0.12842793762099497, 0.23094948356040026, 0.3490486512901504, 0.002624425949550003, 0.4172837259784505, 0.8716696960775061, 0.12375557413446074, 0.9441734040123982, 0.050221989575127565, 0.9903384450329527, 0.054469917802113375, 0.6972149478670512, 0.23966763832929885, 0.026954664960938388, 0.9613830502734692, 0.9735775714449619, 0.9930464289170117, 0.9664947271518742, 0.09782454723604607, 0.1881241293000886, 0.7148716913403367, 0.953529838789942, 0.9973864728836338, 0.9359764752891773, 0.05505743972289278, 0.9727436840005511, 0.09880844806149142, 0.07622365993315053, 0.8271678652004854, 0.9870045516173622, 0.019331627736748194, 0.16109689780623496, 0.13532139415723735, 0.6830508466984362, 0.9896227401843194, 0.996592684867834, 0.046988144706284686, 0.05370073680718249, 0.8927747494194089, 0.9511096526760365, 0.047924129786001836, 0.9780170254596362, 0.3476378455028734, 0.004514777214323031, 0.09029554428646062, 0.03160344050026122, 0.5237141568614716, 0.9850457297810467, 0.019470011808312693, 0.05841003542493808, 0.9150905549906965, 0.9858580218835221, 0.972583372550754, 0.9870382607004903, 0.3471862888674864, 0.034229634113695846, 0.01955979092211191, 0.6014635708549413, 0.023732837134612453, 0.9018478111152732, 0.07119851140383736, 0.9452755982557706, 0.9919114740110299, 0.9546585457997809, 0.04295963456099014, 0.9788112648505394, 0.01864402409239123, 0.9613583476479001, 0.03923911623052653, 0.7661424486205561, 0.053850267954160494, 0.022029655072156564, 0.1566553249575578, 0.07440255490634483, 0.9194029999141182, 0.2931169852188909, 0.041873855031270134, 0.027915903354180087, 0.04885283086981515, 0.5897234583570543, 0.9858054722386262, 0.9861066117544832, 0.9935191542794861, 0.9901543324625073, 0.18906676704902683, 0.7271798732654878, 0.04726669176225671, 0.03635899366327439, 0.9960560260731145, 0.19071292400841308, 0.8030017852985813, 0.995364575461169, 0.02935645561428415, 0.04892742602380692, 0.9100501240428086, 0.18718005749455463, 0.8130633747419718, 0.9981330286032009, 0.9900839074771348, 0.4315346560797561, 0.003134634305664088, 0.19434732695117346, 0.06478244231705782, 0.30614928385319257, 0.6893473214586502, 0.05600946986851533, 0.25419682478787725, 0.9798483432637731, 0.8244463973245769, 0.014338198214340467, 0.15772018035774515, 0.9954408027102002, 0.31850748033256454, 0.6494566591156199, 0.032348415971276086, 0.051740525324614366, 0.8842926146388637, 0.06114789356545334, 0.9394917064905761, 0.7354566180905109, 0.09951210054501626, 0.05753043312758753, 0.01710364228117467, 0.09329259426095275, 0.168659748640273, 0.8269768320426288, 0.04574989316453032, 0.9515977778222307, 0.9864014963825526, 0.19065296452019986, 0.6750145500580049, 0.12881957062175667, 0.9905746856812744, 0.2531088345744682, 0.25617682044809814, 0.09357356914571249, 0.27611872862669257, 0.1227194349451967, 0.9866163661926066, 0.7980703145947101, 0.10409612799061436, 0.05071349825183776, 0.045375235277960106, 0.00533826297387766, 0.9809997809169182, 0.016817139101432885, 0.9935070469221227, 0.9957262798231711, 0.9930285481090712, 0.005946278731192043, 0.019267998987401468, 0.9730339488637741, 0.9617772607012128, 0.03404521276818453, 0.9986563409416359, 0.9996730968222587, 0.9920073023077687, 0.9997840781128187, 0.09712181857924622, 0.9014118786886289, 0.09688351326678467, 0.290650539800354, 0.6097962305615271, 0.9943935325138179, 0.9534947346745006, 0.0599230561174036, 0.9288073698197559, 0.4202077407020072, 0.577152800482275, 0.6273500973198736, 0.09642151301219846, 0.27583875874375763, 0.15336318808721505, 0.8077127905926659, 0.006816141692765113, 0.03067263761744301, 0.385253244518419, 0.2788169126995165, 0.3355058285595841, 0.21903753878960405, 0.44915000931576116, 0.13659082475082052, 0.14889630445810165, 0.04553027491694017, 0.963892024988676, 0.05351150864675682, 0.9498292784799336, 0.9322668965561213, 0.05357855727334031, 0.010715711454668061, 0.987591258899224, 0.9982957538170918, 0.9959908686212562, 0.9873378850653161, 0.9943556029242755, 0.8400218915956763, 0.08243205478275328, 0.07719827352670545, 0.8733801827285607, 0.120786621015652, 0.0378762198025094, 0.8806221104083436, 0.0378762198025094, 0.042610747277823074, 0.162365277860309, 0.6005938918910458, 0.06384265779944188, 0.14266075384813556, 0.030739057458990537, 0.9486289224691735, 0.0060148572982646874, 0.004296326641617634, 0.041244735759529284, 0.9557693285941377, 0.02811086260570993, 0.009370287535236643, 0.22469397205770983, 0.48022829322137983, 0.08150663692289474, 0.2004622691887411, 0.013217292473982931, 0.36150220762237756, 0.07786201394943516, 0.09640058869930068, 0.2484169016481979, 0.21504746709844, 0.8574523664962593, 0.1092598583347034, 0.019001714492991897, 0.011876071558119936, 0.018465125957750083, 0.9601865498030043, 0.9752502139351331, 0.9949980113773739, 0.994510013708176, 0.9721553409762153, 0.9786616294079726, 0.9718601912801559, 0.641233793506683, 0.10058569309908753, 0.14549002037546588, 0.11315890473647347, 0.9869659046764058, 0.12297206593379242, 0.18084127343204767, 0.12297206593379242, 0.5352901693588611, 0.03616825468640954, 0.9920203573344746, 0.11576708040879384, 0.8840395231216984, 0.9986663852618098, 0.9963518193911163, 0.9979370160139411, 0.04685370206459477, 0.010411933792132172, 0.2837251958356017, 0.6585548123523599, 0.9774531159365112, 0.01535266674245829, 0.40432516735111423, 0.028429113329375217, 0.5685822665875043, 0.9317736145047169, 0.04437017211927223, 0.022185086059636115, 0.9990258576090119, 0.9957203587193387, 0.7160797584522528, 0.07573920522091135, 0.06426356806622782, 0.14229790071807588, 0.9778174178642753, 0.9925915689262993, 0.9557245834700983, 0.7058547934867734, 0.08479424467211238, 0.08937771735709144, 0.06875209027468572, 0.05270993587725905, 0.9837777763592396, 0.9873784717052168, 0.970446036912458, 0.9983759278274345, 0.9839766616840172, 0.3955599575384996, 0.36987424601002555, 0.09075618073394146, 0.09161237111822393, 0.05222761344123046, 0.21904999302373654, 0.025397100640433223, 0.7523891064728342, 0.9772201467320494, 0.8566421926335965, 0.07867122177247315, 0.03205123849989647, 0.03205123849989647, 0.05568611111294878, 0.011137222222589756, 0.9318142592900096, 0.9958169511556795, 0.20877877249326238, 0.1311558955406392, 0.1579224048346472, 0.48179716729214395, 0.0214132074352064, 0.043759678664610356, 0.9408330912891226, 0.9885754049987159, 0.9880110072455177, 0.9927610201810557, 0.4893125455997169, 0.3709820607161252, 0.015990606065350226, 0.0991417576051714, 0.02558496970456036, 0.9471660652685415, 0.04985084554044955, 0.03943467903340022, 0.9464322968016052, 0.2925888528954789, 0.11777941112318008, 0.2801910201456705, 0.14505464317275862, 0.16489117557245211, 0.20501131882068327, 0.7838668072555537, 0.9634919798006434, 0.651280713473975, 0.3181255792738263, 0.001252462910526875, 0.030059109852645, 0.024488317426973088, 0.9754513108410947, 0.9929717748337268, 0.231018126217375, 0.03164631865991439, 0.5949507908063905, 0.12974990650564897, 0.009493895597974315, 0.12383420390728969, 0.37537243059397185, 0.03869818872102803, 0.46050844578023353, 0.9860754052580414, 0.9144134448402917, 0.08481516010112851, 0.05713359388531123, 0.7605909685982057, 0.049991894649647324, 0.07498784197447099, 0.05713359388531123, 0.9731435006953659, 0.9978653835721591, 0.501528996309429, 0.14644128316011754, 0.17883979713359485, 0.05183762235756373, 0.12052247198133567, 0.9786120940242783, 0.9945992750282618, 0.9730491757095044, 0.9927930375537165, 0.4722367748031974, 0.5269704171658322, 0.9643157799326532, 0.9933123380123632, 0.4890620164891442, 0.4139698171069528, 0.023105292117597365, 0.07316675837239166, 0.07535036633261394, 0.0183284674863115, 0.42155475218516447, 0.48468614019357076, 0.7562250971876927, 0.24003049159882398, 0.4355604900146505, 0.3242141993342135, 0.19158111778839892, 0.036023799926023725, 0.01473700906064607, 0.9980442764887781, 0.9921796564989037, 0.22335107758059283, 0.23966323493198446, 0.20954848289864608, 0.2057841388944788, 0.12171378946807587, 0.025598305203437935, 0.9471372925272036, 0.9992340096535499, 0.9521594524440248, 0.037339586370353915, 0.3775956649820537, 0.4302114543647989, 0.18879783249102686, 0.16730139238661362, 0.6116100082330301, 0.07405143597440275, 0.030169103545127047, 0.11519112262684872, 0.9965832479673215, 0.9785386615376345, 0.9910422988930851, 0.9539525876376039, 0.04471652754551268, 0.9913150440845401, 0.9513948357922495, 0.04454691538826586, 0.9952471886641622, 0.28536403611878963, 0.02948595119265952, 0.34883379546570076, 0.18491189730989868, 0.1514278510402684, 0.9977595216626522, 0.030877277223981602, 0.9571955939434297, 0.8061623608153053, 0.024136597629200757, 0.08367353844789596, 0.032182130172267676, 0.053100514784241666, 0.025037385015291434, 0.780331832976583, 0.025037385015291434, 0.1669159001019429, 0.6772195664366593, 0.3220172893038198, 0.001229073623297022, 0.9934224066939352, 0.05921142871697312, 0.9276457165659122, 0.9277949455215353, 0.06995279351154433, 0.9736764374728111, 0.02584981692405693, 0.049133778766688674, 0.9335417965670848, 0.9964178595656246, 0.9809358230176805, 0.9952860245334645, 0.9896852801981499, 0.8387161493672796, 0.14595839482495515, 0.013070901029100461, 0.9904488821802883, 0.9598114810007153, 0.03966163144631055, 0.9835399150013125, 0.9135205908173634, 0.03032433496489173, 0.007581083741222933, 0.04927704431794906, 0.2941188056693611, 0.2282713118627877, 0.4653222895664519, 0.00877966584087645, 0.9500679610574698, 0.9702671862642889, 0.16616857340864613, 0.12084987156992447, 0.7099929954733062, 0.7177751194995543, 0.008464329239381537, 0.03216445110964984, 0.11850060935134152, 0.12019347519921782, 0.9534417900473581, 0.08929401889294164, 0.8538740556637544, 0.055808761808088525, 0.8338842883700859, 0.10650152596030989, 0.05891573776527781, 0.19733293865069235, 0.19733293865069235, 0.08734408759948677, 0.40760574213093825, 0.10675388484381716, 0.25589778952222053, 0.25801264728686696, 0.17764805223030183, 0.27916122493333145, 0.029608008705050308, 0.9922707165058556, 0.9943340481542748, 0.6368187865457431, 0.051741526406841626, 0.14527428568074766, 0.031840939327287154, 0.1353239921409704, 0.9698685006083942, 0.989904042027781, 0.9982544516307684, 0.029240735228456514, 0.964944262539065, 0.9961033149656107, 0.9898661429989201, 0.9668422439398827, 0.5037290380886157, 0.18889838928323088, 0.12593225952215392, 0.18102762306309625, 0.9905516128524346, 0.9540471165647253, 0.9804781154710163, 0.030909030874927752, 0.9643617632977458, 0.05441814325613065, 0.8958063582163045, 0.050232132236428285, 0.1712908820278275, 0.6026901404682818, 0.14591445506074194, 0.048638151686913975, 0.03172053370885694, 0.9970127813170899, 0.1517199799866413, 0.05215374312040794, 0.20387372310704924, 0.5902855471355263, 0.9777149995835239, 0.29263044075133365, 0.5722287566109074, 0.13506020342369246, 0.8241657981149522, 0.1131690349650382, 0.06150491030708598, 0.9906857388810676, 0.0476422406596922, 0.08062533034717141, 0.2638647174998337, 0.6083547653468389, 0.12704860841248186, 0.799476609034642, 0.021691225826521294, 0.040283705106396686, 0.012394986186583596, 0.9873081031647594, 0.10732850457385759, 0.11755026691422497, 0.14821555393532715, 0.5468642852096554, 0.08177409872293911, 0.07753525887654106, 0.019937637996824843, 0.8994090029678762, 0.9862632493204472, 0.3961057843755452, 0.6025864592096061, 0.23034768669367048, 0.7694592938490694, 0.9577748704051909, 0.9979571288413994, 0.9876821785502901, 0.9557982047264221, 0.0422452245182949, 0.9912248776919136, 0.9957236444411334, 0.9944571631581841, 0.4626596934586162, 0.5323073892480853, 0.9893491857100137, 0.9838998296196027, 0.054760051538260975, 0.9309208761504365, 0.9854233227684364, 0.2411444937362637, 0.406311955199458, 0.013213396917055545, 0.3402449706141803, 0.9976321536118642, 0.9821029634236308, 0.015226402533699702, 0.005365864809421184, 0.8826847611497848, 0.021463459237684737, 0.02682932404710592, 0.061707445308343614, 0.944995363091996, 0.05425810697178925, 0.1837887769491597, 0.32802807025103187, 0.15121861394551114, 0.2721935051019201, 0.06281388579275078, 0.24467686942719769, 0.3418279793468203, 0.12665626182113762, 0.20797533901311804, 0.07916016363821102, 0.9988581328018078, 0.13878466875288795, 0.4557108526214231, 0.053856737127986366, 0.29206922827100296, 0.060070976027369404, 0.9972549663600224, 0.9883575741547226, 0.9777519482619228, 0.980360894598859, 0.024564836253423768, 0.04094139375570628, 0.9334637776301032, 0.03474674057174014, 0.5987130683130608, 0.36350436290435834, 0.9975905962549545, 0.950013524347454, 0.05295471923526995, 0.926707586617224, 0.5803818502914979, 0.41765796703219943, 0.9681670357061122, 0.9934969224339891, 0.05097100462273507, 0.9514587529577214, 0.1117298002133731, 0.7706491348050606, 0.11745953355764864, 0.25964227998537315, 0.7317191526860516, 0.9954678212005831, 0.9556588532821639, 0.9588116880882706, 0.9960409086088082, 0.2708515025074461, 0.7276607530050792, 0.967282374027918, 0.21535747254337645, 0.20638424452073575, 0.2973984144646627, 0.14228975864473087, 0.13844408949217057, 0.29001055500290024, 0.7055480666488468, 0.059153107342999944, 0.20562746838280935, 0.09013806833219039, 0.6450505515022374, 0.39474525307486014, 0.36407248003188114, 0.060011947258002386, 0.11068870272031552, 0.07068073788164725, 0.9919367808817412, 0.9724496925144775, 0.9870763554569079, 0.08162172776435374, 0.875578534199431, 0.02597054974320346, 0.014840314138973406, 0.02290104492601307, 0.9160417970405228, 0.04007682862052287, 0.02290104492601307, 0.9928669941485285, 0.3105033977007597, 0.13033475952871393, 0.2530027684969153, 0.25108608085678713, 0.05750062920384438, 0.2271334912869581, 0.38810200902510666, 0.1086290610502843, 0.22910856512423597, 0.04740177209466952, 0.3535676548789239, 0.2904637164753364, 0.08444791756950676, 0.24035176539013461, 0.031551969201793734, 0.963980220928262], \"Term\": [\"access\", \"access\", \"access\", \"access\", \"action\", \"action\", \"action\", \"action\", \"actor\", \"actor\", \"actress\", \"actress\", \"addict\", \"advertis\", \"advertis\", \"advertis\", \"album\", \"album\", \"antispam\", \"appl\", \"arrest\", \"artist\", \"artist\", \"artist\", \"asimo\", \"asylum\", \"athlet\", \"athlet\", \"attach\", \"attack\", \"attack\", \"attack\", \"attorney\", \"audienc\", \"audienc\", \"audienc\", \"audienc\", \"audio\", \"award\", \"band\", \"band\", \"band\", \"bank\", \"bank\", \"batteri\", \"bill\", \"bill\", \"bill\", \"bill\", \"bill\", \"bittorr\", \"blog\", \"blog\", \"blog\", \"blogger\", \"bloglin\", \"bluray\", \"book\", \"book\", \"book\", \"book\", \"brand\", \"brand\", \"brand\", \"brit\", \"broadband\", \"brown\", \"brown\", \"budget\", \"budget\", \"camera\", \"camera\", \"campaign\", \"campaign\", \"campaign\", \"campaign\", \"car\", \"car\", \"case\", \"case\", \"case\", \"case\", \"case\", \"ce\", \"celtic\", \"champion\", \"championship\", \"chanc\", \"chanc\", \"chanc\", \"chanc\", \"chancellor\", \"chart\", \"chart\", \"chelsea\", \"chip\", \"chip\", \"chip\", \"club\", \"club\", \"coach\", \"commodor\", \"compani\", \"compani\", \"compani\", \"compani\", \"compani\", \"comput\", \"comput\", \"comput\", \"concert\", \"connect\", \"connect\", \"connect\", \"conserv\", \"consum\", \"consum\", \"consum\", \"content\", \"content\", \"content\", \"coproduct\", \"countri\", \"countri\", \"countri\", \"countri\", \"countri\", \"court\", \"court\", \"crimin\", \"crimin\", \"cup\", \"custom\", \"custom\", \"custom\", \"danc\", \"day\", \"day\", \"day\", \"day\", \"day\", \"ddo\", \"deal\", \"deal\", \"deal\", \"deal\", \"deal\", \"debt\", \"debt\", \"dem\", \"devic\", \"digit\", \"digit\", \"domain\", \"domain\", \"download\", \"download\", \"econom\", \"economi\", \"economist\", \"elect\", \"email\", \"email\", \"engin\", \"engin\", \"engin\", \"episod\", \"everqu\", \"fake\", \"fake\", \"file\", \"file\", \"film\", \"film\", \"film\", \"final\", \"final\", \"final\", \"final\", \"firm\", \"firm\", \"firm\", \"first\", \"first\", \"first\", \"first\", \"first\", \"flaw\", \"footbal\", \"footbal\", \"foreign\", \"foreign\", \"foreign\", \"fraud\", \"fund\", \"g\", \"ga\", \"gadget\", \"game\", \"game\", \"game\", \"gamer\", \"gamer\", \"goal\", \"goal\", \"goal\", \"goal\", \"good\", \"good\", \"good\", \"good\", \"good\", \"govern\", \"govern\", \"govern\", \"govern\", \"grand\", \"grand\", \"grand\", \"great\", \"great\", \"great\", \"great\", \"great\", \"group\", \"group\", \"group\", \"group\", \"group\", \"growth\", \"growth\", \"growth\", \"growth\", \"guilti\", \"guilti\", \"hacker\", \"halflif\", \"handset\", \"hd\", \"hddvd\", \"hdtv\", \"high\", \"high\", \"high\", \"high\", \"highdefinit\", \"hour\", \"hour\", \"hour\", \"hour\", \"hour\", \"hunt\", \"illeg\", \"illeg\", \"immigr\", \"indoor\", \"inflat\", \"inform\", \"inform\", \"inform\", \"inform\", \"injuri\", \"injuri\", \"internet\", \"internet\", \"internet\", \"invest\", \"invest\", \"invest\", \"investor\", \"ipod\", \"issu\", \"issu\", \"issu\", \"issu\", \"jail\", \"jeev\", \"jewish\", \"job\", \"job\", \"job\", \"job\", \"job\", \"junk\", \"kmh\", \"knife\", \"labour\", \"laptop\", \"last\", \"last\", \"last\", \"last\", \"last\", \"law\", \"law\", \"law\", \"lawyer\", \"leader\", \"leader\", \"leader\", \"leader\", \"legal\", \"legal\", \"legal\", \"liber\", \"life\", \"life\", \"life\", \"life\", \"life\", \"lift\", \"lift\", \"lion\", \"liverpool\", \"loan\", \"m\", \"m\", \"m\", \"m\", \"m\", \"machin\", \"machin\", \"mail\", \"mail\", \"mani\", \"mani\", \"mani\", \"mani\", \"mani\", \"map\", \"map\", \"marin\", \"market\", \"market\", \"market\", \"market\", \"match\", \"match\", \"medal\", \"medium\", \"medium\", \"medium\", \"medium\", \"medium\", \"messag\", \"messag\", \"messag\", \"messag\", \"mini\", \"minist\", \"minist\", \"minut\", \"minut\", \"minut\", \"minut\", \"minut\", \"mmorpg\", \"mobil\", \"month\", \"month\", \"month\", \"month\", \"month\", \"mourinho\", \"mp\", \"mp3\", \"multimedia\", \"music\", \"music\", \"musician\", \"nadal\", \"nation\", \"nation\", \"nation\", \"nation\", \"net\", \"net\", \"net\", \"net\", \"network\", \"network\", \"next\", \"next\", \"next\", \"next\", \"next\", \"nintendo\", \"nomin\", \"number\", \"number\", \"number\", \"number\", \"number\", \"obsess\", \"obsess\", \"oil\", \"olymp\", \"olymp\", \"onlin\", \"onlin\", \"onlin\", \"open\", \"open\", \"open\", \"open\", \"open\", \"oscar\", \"p2p\", \"parliamentari\", \"parti\", \"parti\", \"patent\", \"pc\", \"pc\", \"pension\", \"peopl\", \"peopl\", \"peopl\", \"peopl\", \"peopl\", \"phone\", \"photo\", \"photo\", \"plan\", \"plan\", \"plan\", \"plan\", \"plan\", \"play\", \"play\", \"play\", \"play\", \"player\", \"player\", \"player\", \"playstat\", \"podcast\", \"podcast\", \"polici\", \"polici\", \"polit\", \"polit\", \"pop\", \"pop\", \"portabl\", \"portal\", \"poster\", \"premiership\", \"price\", \"price\", \"price\", \"prime\", \"prize\", \"prize\", \"processor\", \"profit\", \"profit\", \"profit\", \"profit\", \"project\", \"project\", \"project\", \"project\", \"prosecut\", \"prosecutor\", \"protect\", \"protect\", \"protect\", \"public\", \"public\", \"public\", \"public\", \"public\", \"queri\", \"race\", \"race\", \"race\", \"rate\", \"rate\", \"rate\", \"real\", \"real\", \"real\", \"real\", \"real\", \"record\", \"record\", \"record\", \"record\", \"record\", \"refere\", \"reform\", \"report\", \"report\", \"report\", \"report\", \"report\", \"rfid\", \"robinson\", \"robot\", \"rock\", \"rock\", \"roddick\", \"rugbi\", \"sad\", \"sale\", \"sale\", \"sale\", \"sale\", \"scam\", \"screensav\", \"seafar\", \"search\", \"search\", \"season\", \"season\", \"season\", \"second\", \"second\", \"second\", \"second\", \"second\", \"secretari\", \"secur\", \"secur\", \"secur\", \"secur\", \"sequel\", \"servic\", \"servic\", \"servic\", \"share\", \"share\", \"share\", \"sharehold\", \"show\", \"show\", \"show\", \"show\", \"side\", \"side\", \"side\", \"side\", \"side\", \"singer\", \"singl\", \"singl\", \"singl\", \"singl\", \"singl\", \"site\", \"site\", \"site\", \"slam\", \"softwar\", \"softwar\", \"song\", \"song\", \"soul\", \"spam\", \"spammer\", \"spend\", \"spend\", \"squad\", \"stadium\", \"stake\", \"star\", \"star\", \"storag\", \"striker\", \"stuff\", \"stuff\", \"subscript\", \"system\", \"system\", \"system\", \"system\", \"tax\", \"taxi\", \"taxi\", \"team\", \"team\", \"team\", \"team\", \"team\", \"technolog\", \"technolog\", \"thing\", \"thing\", \"thing\", \"thing\", \"thing\", \"time\", \"time\", \"time\", \"time\", \"time\", \"titl\", \"top\", \"top\", \"top\", \"top\", \"top\", \"tori\", \"tournament\", \"tower\", \"tracker\", \"traffic\", \"traffic\", \"traffic\", \"tv\", \"tv\", \"tv\", \"unemploy\", \"upper\", \"urban\", \"urban\", \"user\", \"user\", \"uwb\", \"vehicl\", \"victori\", \"victori\", \"video\", \"video\", \"video\", \"viewer\", \"viewer\", \"viru\", \"visa\", \"volum\", \"wage\", \"wale\", \"wale\", \"warcraft\", \"way\", \"way\", \"way\", \"way\", \"way\", \"web\", \"web\", \"websit\", \"websit\", \"websit\", \"websit\", \"week\", \"week\", \"week\", \"week\", \"week\", \"wheel\", \"wife\", \"wifi\", \"win\", \"win\", \"win\", \"win\", \"winner\", \"winner\", \"winner\", \"winner\", \"wireless\", \"work\", \"work\", \"work\", \"work\", \"work\", \"world\", \"world\", \"world\", \"world\", \"world\", \"year\", \"year\", \"year\", \"year\", \"year\", \"yuko\"]}, \"R\": 30, \"lambda.step\": 0.01, \"plot.opts\": {\"xlab\": \"PC1\", \"ylab\": \"PC2\"}, \"topic.order\": [3, 4, 1, 5, 2]};\n",
       "\n",
       "function LDAvis_load_lib(url, callback){\n",
       "  var s = document.createElement('script');\n",
       "  s.src = url;\n",
       "  s.async = true;\n",
       "  s.onreadystatechange = s.onload = callback;\n",
       "  s.onerror = function(){console.warn(\"failed to load library \" + url);};\n",
       "  document.getElementsByTagName(\"head\")[0].appendChild(s);\n",
       "}\n",
       "\n",
       "if(typeof(LDAvis) !== \"undefined\"){\n",
       "   // already loaded: just create the visualization\n",
       "   !function(LDAvis){\n",
       "       new LDAvis(\"#\" + \"ldavis_el2188023183101610889712156485\", ldavis_el2188023183101610889712156485_data);\n",
       "   }(LDAvis);\n",
       "}else if(typeof define === \"function\" && define.amd){\n",
       "   // require.js is available: use it to load d3/LDAvis\n",
       "   require.config({paths: {d3: \"https://d3js.org/d3.v5\"}});\n",
       "   require([\"d3\"], function(d3){\n",
       "      window.d3 = d3;\n",
       "      LDAvis_load_lib(\"https://cdn.jsdelivr.net/gh/bmabey/pyLDAvis@3.4.0/pyLDAvis/js/ldavis.v3.0.0.js\", function(){\n",
       "        new LDAvis(\"#\" + \"ldavis_el2188023183101610889712156485\", ldavis_el2188023183101610889712156485_data);\n",
       "      });\n",
       "    });\n",
       "}else{\n",
       "    // require.js not available: dynamically load d3 & LDAvis\n",
       "    LDAvis_load_lib(\"https://d3js.org/d3.v5.js\", function(){\n",
       "         LDAvis_load_lib(\"https://cdn.jsdelivr.net/gh/bmabey/pyLDAvis@3.4.0/pyLDAvis/js/ldavis.v3.0.0.js\", function(){\n",
       "                 new LDAvis(\"#\" + \"ldavis_el2188023183101610889712156485\", ldavis_el2188023183101610889712156485_data);\n",
       "            })\n",
       "         });\n",
       "}\n",
       "</script>"
      ],
      "text/plain": [
       "PreparedData(topic_coordinates=              x         y  topics  cluster       Freq\n",
       "topic                                                \n",
       "2     -0.027049  0.112263       1        1  35.430365\n",
       "3      0.205123  0.080329       2        1  23.105600\n",
       "0     -0.099163 -0.154118       3        1  15.730399\n",
       "4      0.104777 -0.124072       4        1  13.529423\n",
       "1     -0.183689  0.085599       5        1  12.204213, topic_info=           Term         Freq        Total Category  logprob  loglift\n",
       "858        game  2292.000000  2292.000000  Default  30.0000  30.0000\n",
       "685   technolog   663.000000   663.000000  Default  29.0000  29.0000\n",
       "770       mobil   573.000000   573.000000  Default  28.0000  28.0000\n",
       "820       phone   563.000000   563.000000  Default  27.0000  27.0000\n",
       "58        music   785.000000   785.000000  Default  26.0000  26.0000\n",
       "...         ...          ...          ...      ...      ...      ...\n",
       "1900       bill   115.924901   221.494872   Topic5  -5.5652   1.4559\n",
       "811      messag   118.540052   258.410027   Topic5  -5.5429   1.3241\n",
       "139        mani   132.613630   806.592588   Topic5  -5.4307   0.2980\n",
       "1928     comput   118.336355   464.207215   Topic5  -5.5446   0.7366\n",
       "188       group   116.449838   539.415793   Topic5  -5.5607   0.5704\n",
       "\n",
       "[371 rows x 6 columns], token_table=      Topic      Freq    Term\n",
       "term                         \n",
       "757       1  0.179021  access\n",
       "757       3  0.638248  access\n",
       "757       4  0.054485  access\n",
       "757       5  0.128428  access\n",
       "167       1  0.230949  action\n",
       "...     ...       ...     ...\n",
       "392       2  0.290464    year\n",
       "392       3  0.084448    year\n",
       "392       4  0.240352    year\n",
       "392       5  0.031552    year\n",
       "219       5  0.963980    yuko\n",
       "\n",
       "[679 rows x 3 columns], R=30, lambda_step=0.01, plot_opts={'xlab': 'PC1', 'ylab': 'PC2'}, topic_order=[3, 4, 1, 5, 2])"
      ]
     },
     "execution_count": 16,
     "metadata": {},
     "output_type": "execute_result"
    }
   ],
   "source": [
    "# Model results evaluation + model visualization html file\n",
    "\n",
    "pyLDAvis.enable_notebook()\n",
    "model_filepath = 'LDA_Model_' + str(num_topics)\n",
    "\n",
    "LDAvis_prepared = pyLDAvis.gensim_models.prepare(lda_model, corpus, id2word)\n",
    "with open(model_filepath, 'wb') as f:\n",
    "  pickle.dump(LDAvis_prepared, f)\n",
    "  \n",
    "with open(model_filepath, 'rb') as f:\n",
    "  LDAvis_prepared = pickle.load(f)\n",
    "  \n",
    "pyLDAvis.save_html(LDAvis_prepared, 'LDAvis_prepared_' + str(num_topics) + '.html')\n",
    "\n",
    "LDAvis_prepared"
   ]
  },
  {
   "cell_type": "code",
   "execution_count": 17,
   "id": "13b8124d",
   "metadata": {},
   "outputs": [
    {
     "data": {
      "text/plain": [
       "-7.7026186920980555"
      ]
     },
     "execution_count": 17,
     "metadata": {},
     "output_type": "execute_result"
    }
   ],
   "source": [
    "perplexity = lda_model.log_perplexity(corpus)\n",
    "perplexity"
   ]
  },
  {
   "cell_type": "code",
   "execution_count": 18,
   "id": "1efd9006",
   "metadata": {},
   "outputs": [
    {
     "name": "stdout",
     "output_type": "stream",
     "text": [
      "0.4764466997069098\n"
     ]
    }
   ],
   "source": [
    "# Model evaluation with Coherence Score\n",
    "coherence_model_lda = CoherenceModel(model = lda_model, texts = words, dictionary = id2word, coherence='c_v')\n",
    "\n",
    "coherence_lda = coherence_model_lda.get_coherence()\n",
    "\n",
    "print(coherence_lda)"
   ]
  },
  {
   "cell_type": "code",
   "execution_count": 19,
   "id": "4390b4c8",
   "metadata": {},
   "outputs": [],
   "source": [
    "def compute_coherence_values(dictionary, corpus, texts, limit, start=2, step=1):\n",
    "    coherence_values = []\n",
    "    model_list = []\n",
    "    perplexity_list = []\n",
    "    \n",
    "    for num_topics in range(start, limit, step):\n",
    "        model = gensim.models.LdaModel(corpus=corpus, id2word=dictionary, num_topics=num_topics,\n",
    "                                                                             chunksize = 1000,\n",
    "                                       passes = 50,\n",
    "                                       iterations = 50,\n",
    "                                       per_word_topics = True)\n",
    "        model_list.append(model)\n",
    "        \n",
    "        coherencemodel = CoherenceModel(model=model, texts=texts, dictionary=dictionary, coherence='c_v')\n",
    "        coherence_values.append(coherencemodel.get_coherence())\n",
    "        \n",
    "        perplexity = model.log_perplexity(corpus)\n",
    "        perplexity_list.append(perplexity)\n",
    "\n",
    "    return model_list, coherence_values, perplexity_list\n",
    "  \n",
    "model_list, coherence_values, perplexity_list = compute_coherence_values(dictionary=id2word, corpus=corpus, texts=words, start=2, limit=10, step=1)"
   ]
  },
  {
   "cell_type": "code",
   "execution_count": 20,
   "id": "57d90946",
   "metadata": {},
   "outputs": [
    {
     "data": {
      "image/png": "[encoded data removed]",
      "text/plain": [
       "<Figure size 640x480 with 1 Axes>"
      ]
     },
     "metadata": {},
     "output_type": "display_data"
    },
    {
     "name": "stdout",
     "output_type": "stream",
     "text": [
      "Num Topics = 2  has Coherence Value of 0.4043\n",
      "Num Topics = 3  has Coherence Value of 0.4477\n",
      "Num Topics = 4  has Coherence Value of 0.5106\n",
      "Num Topics = 5  has Coherence Value of 0.519\n",
      "Num Topics = 6  has Coherence Value of 0.5428\n",
      "Num Topics = 7  has Coherence Value of 0.5672\n",
      "Num Topics = 8  has Coherence Value of 0.4757\n",
      "Num Topics = 9  has Coherence Value of 0.5338\n"
     ]
    }
   ],
   "source": [
    "# Show graph\n",
    "limit=10; start=2; step=1;\n",
    "x = range(start, limit, step)\n",
    "plt.plot(x, coherence_values)\n",
    "plt.xlabel(\"Num Topics\")\n",
    "plt.ylabel(\"Coherence score\")\n",
    "plt.legend((\"coherence_values\"), loc='best')\n",
    "plt.show()\n",
    "\n",
    "# Print the coherence scores\n",
    "for m, cv in zip(x, coherence_values):\n",
    "    print(\"Num Topics =\", m, \" has Coherence Value of\", round(cv, 4))"
   ]
  },
  {
   "cell_type": "code",
   "execution_count": 21,
   "id": "d622ad6a",
   "metadata": {},
   "outputs": [
    {
     "data": {
      "image/png": "[encoded data removed]",
      "text/plain": [
       "<Figure size 640x480 with 1 Axes>"
      ]
     },
     "metadata": {},
     "output_type": "display_data"
    },
    {
     "name": "stdout",
     "output_type": "stream",
     "text": [
      "Num Topics = 2  has Perplexity Value of -7.8792\n",
      "Num Topics = 3  has Perplexity Value of -7.7529\n",
      "Num Topics = 4  has Perplexity Value of -7.7059\n",
      "Num Topics = 5  has Perplexity Value of -7.6214\n",
      "Num Topics = 6  has Perplexity Value of -7.6863\n",
      "Num Topics = 7  has Perplexity Value of -7.651\n",
      "Num Topics = 8  has Perplexity Value of -7.7318\n",
      "Num Topics = 9  has Perplexity Value of -7.7165\n"
     ]
    }
   ],
   "source": [
    "# Show graph\n",
    "limit=10; start=2; step=1;\n",
    "x = range(start, limit, step)\n",
    "plt.plot(x, perplexity_list)\n",
    "plt.xlabel(\"Num Topics\")\n",
    "plt.ylabel(\"Perplexity score\")\n",
    "plt.legend((\"perplexity_values\"), loc='best')\n",
    "plt.show()\n",
    "\n",
    "# Print the perplexity scores\n",
    "for m, cv in zip(x, perplexity_list):\n",
    "    print(\"Num Topics =\", m, \" has Perplexity Value of\", round(cv, 4))"
   ]
  },
  {
   "cell_type": "code",
   "execution_count": 22,
   "id": "6b681ef8",
   "metadata": {},
   "outputs": [
    {
     "data": {
      "text/plain": [
       "[(0,\n",
       "  '0.012*\"govern\" + 0.009*\"peopl\" + 0.007*\"elect\" + 0.006*\"labour\" + 0.006*\"public\" + 0.005*\"law\" + 0.005*\"plan\" + 0.005*\"countri\" + 0.005*\"parti\" + 0.004*\"issu\"'),\n",
       " (1,\n",
       "  '0.012*\"firm\" + 0.010*\"compani\" + 0.010*\"net\" + 0.010*\"secur\" + 0.010*\"softwar\" + 0.010*\"user\" + 0.009*\"peopl\" + 0.008*\"market\" + 0.008*\"servic\" + 0.008*\"viru\"'),\n",
       " (2,\n",
       "  '0.013*\"good\" + 0.012*\"game\" + 0.009*\"film\" + 0.008*\"time\" + 0.007*\"last\" + 0.007*\"year\" + 0.006*\"player\" + 0.006*\"world\" + 0.006*\"first\" + 0.005*\"award\"'),\n",
       " (3,\n",
       "  '0.017*\"peopl\" + 0.015*\"game\" + 0.014*\"technolog\" + 0.013*\"mobil\" + 0.011*\"phone\" + 0.011*\"music\" + 0.008*\"servic\" + 0.008*\"digit\" + 0.007*\"player\" + 0.007*\"video\"')]"
      ]
     },
     "execution_count": 22,
     "metadata": {},
     "output_type": "execute_result"
    }
   ],
   "source": [
    "best_num = 4\n",
    "\n",
    "# Select the model and print the topics\n",
    "optimal_model = model_list[best_num-2]\n",
    "model_topics = optimal_model.show_topics(formatted=False)\n",
    "optimal_model.print_topics(num_words=10)"
   ]
  },
  {
   "cell_type": "code",
   "execution_count": 23,
   "id": "ccb662b0",
   "metadata": {},
   "outputs": [
    {
     "name": "stderr",
     "output_type": "stream",
     "text": [
      "C:\\Users\\User\\anaconda3\\envs\\newtensorflow\\lib\\site-packages\\pyLDAvis\\_prepare.py:243: FutureWarning: In a future version of pandas all arguments of DataFrame.drop except for the argument 'labels' will be keyword-only.\n",
      "  default_term_info = default_term_info.sort_values(\n"
     ]
    },
    {
     "data": {
      "text/html": [
       "\n",
       "<link rel=\"stylesheet\" type=\"text/css\" href=\"https://cdn.jsdelivr.net/gh/bmabey/pyLDAvis@3.4.0/pyLDAvis/js/ldavis.v1.0.0.css\">\n",
       "\n",
       "\n",
       "<div id=\"ldavis_el2188023193671885449906493615\" style=\"background-color:white;\"></div>\n",
       "<script type=\"text/javascript\">\n",
       "\n",
       "var ldavis_el2188023193671885449906493615_data = {\"mdsDat\": {\"x\": [-0.05488962664359921, -0.19717514613174036, 0.08532956068844874, 0.16673521208689085], \"y\": [-0.17103274555876097, 0.07566157845183957, 0.12739990843554455, -0.032028741328623093], \"topics\": [1, 2, 3, 4], \"cluster\": [1, 1, 1, 1], \"Freq\": [34.86867346423002, 30.079158643849496, 18.111365304126387, 16.940802587794096]}, \"tinfo\": {\"Term\": [\"game\", \"govern\", \"mobil\", \"technolog\", \"phone\", \"firm\", \"music\", \"peopl\", \"user\", \"net\", \"softwar\", \"secur\", \"film\", \"elect\", \"viru\", \"market\", \"comput\", \"servic\", \"digit\", \"player\", \"compani\", \"labour\", \"network\", \"video\", \"email\", \"program\", \"devic\", \"site\", \"attack\", \"award\", \"elect\", \"labour\", \"minist\", \"tori\", \"tax\", \"polit\", \"conserv\", \"propos\", \"mp\", \"pension\", \"council\", \"health\", \"liber\", \"immigr\", \"taxi\", \"civil\", \"parliament\", \"terror\", \"reform\", \"secretari\", \"prime\", \"politician\", \"lawyer\", \"wage\", \"chancellor\", \"asylum\", \"commiss\", \"citizen\", \"poverti\", \"polici\", \"govern\", \"parti\", \"patent\", \"law\", \"budget\", \"brown\", \"rule\", \"polic\", \"campaign\", \"educ\", \"fund\", \"public\", \"leader\", \"case\", \"issu\", \"legal\", \"plan\", \"state\", \"countri\", \"spokesman\", \"claim\", \"foreign\", \"peopl\", \"econom\", \"report\", \"court\", \"job\", \"right\", \"commun\", \"gener\", \"time\", \"compani\", \"nation\", \"year\", \"last\", \"week\", \"award\", \"champion\", \"coach\", \"athlet\", \"nomin\", \"oscar\", \"actress\", \"championship\", \"tournament\", \"club\", \"ceremoni\", \"premiership\", \"cup\", \"arsen\", \"seed\", \"indoor\", \"park\", \"stadium\", \"roddick\", \"slam\", \"refere\", \"medal\", \"squad\", \"chelsea\", \"liverpool\", \"rugbi\", \"striker\", \"glazer\", \"nadal\", \"enemi\", \"winner\", \"injuri\", \"match\", \"footbal\", \"olymp\", \"victori\", \"season\", \"chart\", \"grand\", \"comedi\", \"actor\", \"singer\", \"prize\", \"star\", \"film\", \"team\", \"win\", \"final\", \"goal\", \"good\", \"festiv\", \"side\", \"band\", \"minut\", \"game\", \"wale\", \"titl\", \"player\", \"perform\", \"second\", \"top\", \"year\", \"last\", \"first\", \"time\", \"world\", \"m\", \"great\", \"week\", \"open\", \"music\", \"day\", \"number\", \"record\", \"nation\", \"devic\", \"appl\", \"gadget\", \"camera\", \"dvd\", \"portabl\", \"highdefinit\", \"gamer\", \"handset\", \"ipod\", \"consol\", \"multimedia\", \"robot\", \"mini\", \"storag\", \"domain\", \"laptop\", \"graphic\", \"satellit\", \"playstat\", \"nintendo\", \"g\", \"interact\", \"desktop\", \"mobil\", \"mp3\", \"hdtv\", \"audio\", \"librari\", \"bittorr\", \"search\", \"digit\", \"video\", \"content\", \"broadcast\", \"format\", \"technolog\", \"photo\", \"onlin\", \"download\", \"phone\", \"tv\", \"imag\", \"music\", \"game\", \"medium\", \"peopl\", \"comput\", \"consum\", \"servic\", \"player\", \"radio\", \"network\", \"system\", \"pc\", \"way\", \"user\", \"market\", \"time\", \"mani\", \"differ\", \"firm\", \"world\", \"compani\", \"viru\", \"spam\", \"malici\", \"spywar\", \"spammer\", \"antiviru\", \"hacker\", \"scam\", \"junk\", \"uwb\", \"printer\", \"worm\", \"shopper\", \"rfid\", \"bot\", \"tmobil\", \"deutsch\", \"attach\", \"firewal\", \"currenc\", \"skull\", \"telew\", \"variant\", \"antispam\", \"ddo\", \"bofra\", \"crude\", \"outlook\", \"lse\", \"counterfeit\", \"profit\", \"carrier\", \"traffic\", \"program\", \"email\", \"retail\", \"takeov\", \"price\", \"secur\", \"euro\", \"premium\", \"net\", \"softwar\", \"attack\", \"growth\", \"datum\", \"firm\", \"user\", \"custom\", \"site\", \"broadband\", \"rate\", \"share\", \"market\", \"analyst\", \"compani\", \"survey\", \"network\", \"comput\", \"sale\", \"servic\", \"internet\", \"pc\", \"peopl\", \"month\", \"mani\", \"number\", \"high\", \"system\", \"last\"], \"Freq\": [1565.0, 1087.0, 607.0, 742.0, 674.0, 862.0, 782.0, 2033.0, 662.0, 572.0, 556.0, 531.0, 845.0, 603.0, 325.0, 631.0, 539.0, 984.0, 359.0, 809.0, 937.0, 499.0, 478.0, 328.0, 373.0, 338.0, 274.0, 417.0, 394.0, 370.0, 602.6183530659081, 498.50988364160514, 364.6457619069273, 360.15934290128547, 329.7431565591579, 312.619099797821, 212.72653978712216, 196.80570791878853, 166.48533083355352, 159.2292146480255, 167.67633032842062, 145.91099280482072, 134.1732108162211, 127.56367116506786, 119.47148477405442, 119.31593823401217, 115.03801563941748, 104.81337339360749, 100.42483813581042, 95.7151898052225, 93.65614676130954, 90.98959004905987, 91.2031921247323, 85.08920405255999, 71.72837458207832, 68.07286473040229, 68.92440802010206, 70.42644520815932, 66.9353085534171, 253.60718355727943, 1071.9106630406409, 424.39081936255087, 255.5849387809657, 466.5865292709341, 185.97295785432053, 179.83327026316675, 271.21246179747556, 224.40332569951852, 361.5512659081895, 145.4763365985988, 188.12261385740092, 482.42589205284133, 274.5594817531018, 337.77234287542683, 366.38229210017386, 316.94622609529324, 452.00197168619275, 216.7648284656968, 442.3309768363716, 237.73908001237328, 212.51153793357417, 211.99684262983473, 757.8329745557992, 229.4752949522986, 315.26347154129473, 232.77101657340623, 270.26905179072696, 292.6195770290657, 230.06155012354682, 261.17329515534925, 342.45434811055856, 308.9479557364198, 269.44263904554845, 315.3933789844221, 312.4856073120771, 287.2710559775907, 370.0785625588111, 185.26816886508084, 159.72763972377982, 126.44899361663215, 115.54421325438776, 112.79314918189665, 111.98312967230551, 93.17920834664056, 89.94837337762314, 364.38027980305964, 93.15983612423067, 89.80832871508058, 85.58714751325023, 86.67100163934572, 87.46291724243362, 81.35601090026213, 84.80495276974827, 73.55306214255673, 69.0118831000578, 65.16776092405269, 62.509210072437895, 62.456058080144196, 61.44697378287469, 61.18669537850965, 60.49975463443572, 55.86899860925535, 55.08159595215038, 54.507630881816674, 52.298823981992854, 52.22849325884016, 193.08759704247754, 215.84928078067452, 263.0090016411323, 163.6220992732173, 115.56005851612572, 189.7926686846977, 246.7417555642572, 124.27143419842643, 118.48405659377995, 96.88586158384506, 188.63745875820987, 118.22662321310963, 134.5273059196061, 206.61470741268738, 703.3749908699069, 339.3467816631828, 265.95272811210174, 283.40793446456115, 201.86335278768397, 982.5342407890728, 119.87494741442941, 286.1235725626184, 171.62105496107267, 240.69187131531376, 881.4848368803882, 211.2383791116905, 238.70742602453944, 484.6851863098457, 194.49497596991355, 336.501375736265, 308.9971634618397, 529.5973297643741, 556.1645866933995, 431.54862229731555, 600.478432523796, 470.36909657474285, 328.379879882798, 283.4886028310627, 352.2915265419511, 254.14335183426775, 303.71137873699024, 287.0651668168823, 309.04751386591494, 236.2149767776728, 231.6074978242177, 273.9993261951779, 179.34794993132127, 163.23739411155205, 156.7628399811277, 125.78234655930659, 113.2506693476472, 96.18650400231917, 94.80160206372526, 89.12478249938603, 86.90351201985222, 88.78681629530831, 73.37851378289156, 63.75068245216071, 64.2597397317225, 60.864453580074695, 64.00854043461626, 59.06018523205643, 64.59908684148145, 54.216653324391004, 54.238334589727195, 51.613300888826416, 88.60922345557505, 49.68910820537681, 46.04564610315217, 596.7713622937206, 42.432302390747985, 41.40432272512885, 41.69986007908001, 38.29182408804572, 38.18818554745739, 201.57559361539288, 344.42093384247977, 308.47821862354965, 205.52136421703977, 101.730756621259, 98.21069204148215, 607.0874391082647, 65.34613066151758, 206.7040471645849, 113.28427138589079, 489.09884052264374, 272.3765109459564, 141.24976648084993, 474.30410997318626, 683.3437707922747, 202.80612703707442, 771.8090243691734, 272.06572347642316, 218.80262213985424, 371.61695063078594, 309.13019441041683, 152.79822838605716, 225.35361776886074, 259.9912097365088, 206.30770631125463, 281.79108650159515, 252.54913240964643, 218.0614314768534, 260.1192782770375, 218.421847859658, 169.0590623127284, 190.07210529748613, 191.7557013194957, 178.16696173165766, 325.13568317012806, 201.39254987008096, 121.6987161127794, 109.65976947604868, 81.80553447085417, 75.61791594104078, 60.526072259211, 59.30332431309274, 55.23983868417124, 55.120394768581264, 53.34202932595585, 52.7501231503871, 41.50004063236979, 38.99064936407758, 38.645684298067565, 39.164027249417536, 37.15650787435735, 36.59625705183276, 34.02970267422194, 30.737893334764358, 28.18353629797874, 27.540621948814636, 26.957096858217234, 29.697303108767773, 24.90687211236169, 24.90662503425833, 25.038224703269982, 23.172489018451962, 22.53641212769268, 22.37056645502838, 148.4992828767243, 24.00070460618147, 127.01647293969914, 292.1389846902342, 319.9294686521265, 71.93488655757017, 41.13152241805148, 262.05725985477255, 412.9813134188655, 89.07209659799538, 54.75025219920722, 426.31640732263696, 411.3767637524761, 294.9397250761076, 217.06898523709293, 238.33226260980717, 519.6366620844306, 408.8334934282095, 176.07071375260526, 271.84867642536767, 164.86941570525306, 229.5572617521652, 192.84503700241447, 357.12213065806344, 177.26101373869432, 427.55052575414544, 110.78953777313274, 252.93991149122544, 266.3507433957888, 220.37857930735663, 339.35963198861964, 184.44436191767863, 202.46082752156084, 374.91241949834045, 237.13977072292, 244.10158035695227, 232.02119309575727, 190.7650797093488, 188.16074929142053, 187.1221797239722], \"Total\": [1565.0, 1087.0, 607.0, 742.0, 674.0, 862.0, 782.0, 2033.0, 662.0, 572.0, 556.0, 531.0, 845.0, 603.0, 325.0, 631.0, 539.0, 984.0, 359.0, 809.0, 937.0, 499.0, 478.0, 328.0, 373.0, 338.0, 274.0, 417.0, 394.0, 370.0, 603.2177530495306, 499.1137628222631, 365.2486588869199, 360.7566076171537, 330.34474850870737, 313.229403653925, 213.32675479191616, 197.41639067148773, 167.08361193123628, 159.82719252427833, 168.3233848282512, 146.55395171807967, 134.77143985554068, 128.16671614971145, 120.07268768221019, 119.92851771180867, 115.63728076961984, 105.42288008082949, 101.02673330825591, 96.31350849790626, 94.25595158844492, 91.59506050739866, 91.8224532528994, 85.70106393681016, 72.32603887359213, 68.66953854500105, 69.53088539795517, 71.05889565033644, 67.54522790838514, 255.94361468149265, 1087.1569684237534, 432.10287499708755, 259.3068053699972, 489.4532105997919, 191.76948402462767, 188.09245292314395, 290.1733823135492, 238.11026031597973, 402.34047156898134, 151.71619594081324, 201.20612151209048, 580.8201802443034, 310.8712889280952, 393.59263744701695, 437.6458381418805, 377.89043956458704, 581.2260471588879, 242.22027685979597, 619.6849080266716, 284.4644459944171, 242.49271422538786, 244.3840489401491, 2033.2098647369558, 280.7261134887411, 505.51802416234295, 291.60297666834305, 401.9606260011853, 504.3751931548721, 289.3299801294809, 428.98938781056887, 1355.0205532057853, 937.4054765472804, 537.8429355209589, 1068.5227127703881, 1157.0656029392937, 760.9556009715528, 370.6651317638114, 185.8560565772695, 160.32023449673486, 127.03949456726359, 116.14229488153613, 113.3783809702654, 112.56878727844409, 93.76381800287766, 90.53269609587473, 366.76573182390877, 93.77565412990876, 90.41490662376225, 86.17399693707169, 87.26949799329957, 88.08376201281784, 81.94009907204001, 85.43385057907321, 74.14202302222725, 69.59528121756, 65.75094448446065, 63.094378058799165, 63.04679096001437, 62.03415901238642, 61.77293937236564, 61.09913787890787, 56.459477461170714, 55.66659287827956, 55.10812915774513, 52.882324144000556, 52.83451110029662, 195.6504732296272, 219.27922049057045, 267.76659169156517, 165.81594724798768, 117.67651387953381, 195.7832868477129, 257.5277014819788, 127.33763512450926, 121.3252803480385, 99.05896262828865, 197.14039528942803, 121.95670966067229, 140.4123634799214, 221.8782438030498, 845.5811622433679, 389.41061427410966, 300.24387269145524, 325.6183425077675, 223.57427585708902, 1336.1826356899542, 125.75999881396277, 342.28442999147495, 192.54775617778373, 301.67692001722355, 1565.325265734283, 261.91140884315195, 310.87604723377177, 809.8663227434103, 239.00912962150647, 516.5251811839677, 471.3523332768338, 1068.5227127703881, 1157.0656029392937, 800.1987137693488, 1355.0205532057853, 942.4798931743493, 576.7934859696247, 467.854384557328, 760.9556009715528, 400.51397317766, 782.2283551767988, 668.4675084037275, 843.1938764633633, 469.5076202714641, 537.8429355209589, 274.81052554107237, 180.1573662937245, 164.03852838672256, 157.58111676031433, 126.5912664378542, 114.05033154074457, 96.9848773465521, 95.61332674329377, 89.92761939414623, 87.70320662768714, 89.67724530286175, 74.17956098517547, 64.55928186305259, 65.08695067097798, 61.674201629737794, 64.86767015719448, 59.872236084766996, 65.48738134204285, 55.02206012691555, 55.045079354914904, 52.41298205106717, 90.0945022393797, 50.523640771401816, 46.85472935253038, 607.8976400968096, 43.23333081946247, 42.20240482548374, 42.51566090753225, 39.09186042824704, 38.990659601010364, 205.93607649551882, 359.4091392693055, 328.71092934687994, 219.18948969583244, 106.86211271732793, 103.94035499940446, 742.1894278693053, 68.1082460969258, 244.93005683958003, 126.85503379944808, 674.7951659855684, 362.3571262416063, 169.03781533667524, 782.2283551767988, 1565.325265734283, 313.3927211735194, 2033.2098647369558, 539.0507418093148, 401.0253435517915, 984.375585343196, 809.8663227434103, 236.10958926374403, 478.9350235480765, 649.2527636139937, 416.70633169917016, 793.9379898954153, 662.0030048526189, 631.2715463429447, 1355.0205532057853, 829.15856626119, 345.3304640692194, 862.7900066138152, 942.4798931743493, 937.4054765472804, 325.87230413809044, 202.11367482982033, 122.43300291884343, 110.37821368999315, 82.53149949278894, 76.33689379635398, 61.25071803777678, 60.03029630981202, 55.962794768425596, 55.84496476044334, 54.06666664533193, 53.47164392810585, 42.22903266170917, 39.71309342034586, 39.36484869165325, 39.91308887553746, 37.88386089537899, 37.331092101342946, 34.755775886758094, 31.48631669410353, 28.90288995466698, 28.267210845611583, 27.675721636231764, 30.541756290556144, 25.625292576081534, 25.62512198377357, 25.77802062299806, 23.896988965963764, 23.259157436791956, 23.091445113445896, 154.90517350982086, 24.800037646278927, 136.72297515439956, 338.9092061093014, 373.7546224797678, 78.45226174382468, 43.51659432843691, 319.6006471567296, 531.1373763095045, 100.27945994803314, 59.61703986781115, 572.182985593277, 556.3592767103169, 394.89943780618523, 287.52489224209506, 328.4617162781558, 862.7900066138152, 662.0030048526189, 244.3599675901619, 417.4899786164735, 228.953815810989, 345.2578398312054, 280.67466818204053, 631.2715463429447, 268.51781790348565, 937.4054765472804, 143.54356814067654, 478.9350235480765, 539.0507418093148, 466.6889190149817, 984.375585343196, 345.4309916457506, 416.70633169917016, 2033.2098647369558, 715.0233899435032, 829.15856626119, 843.1938764633633, 486.2617378465464, 649.2527636139937, 1157.0656029392937], \"Category\": [\"Default\", \"Default\", \"Default\", \"Default\", \"Default\", \"Default\", \"Default\", \"Default\", \"Default\", \"Default\", \"Default\", \"Default\", \"Default\", \"Default\", \"Default\", \"Default\", \"Default\", \"Default\", \"Default\", \"Default\", \"Default\", \"Default\", \"Default\", \"Default\", \"Default\", \"Default\", \"Default\", \"Default\", \"Default\", \"Default\", \"Topic1\", \"Topic1\", \"Topic1\", \"Topic1\", \"Topic1\", \"Topic1\", \"Topic1\", \"Topic1\", \"Topic1\", \"Topic1\", \"Topic1\", \"Topic1\", \"Topic1\", \"Topic1\", \"Topic1\", \"Topic1\", \"Topic1\", \"Topic1\", \"Topic1\", \"Topic1\", \"Topic1\", \"Topic1\", \"Topic1\", \"Topic1\", \"Topic1\", \"Topic1\", \"Topic1\", \"Topic1\", \"Topic1\", \"Topic1\", \"Topic1\", \"Topic1\", \"Topic1\", \"Topic1\", \"Topic1\", \"Topic1\", \"Topic1\", \"Topic1\", \"Topic1\", \"Topic1\", \"Topic1\", \"Topic1\", \"Topic1\", \"Topic1\", \"Topic1\", \"Topic1\", \"Topic1\", \"Topic1\", \"Topic1\", \"Topic1\", \"Topic1\", \"Topic1\", \"Topic1\", \"Topic1\", \"Topic1\", \"Topic1\", \"Topic1\", \"Topic1\", \"Topic1\", \"Topic1\", \"Topic1\", \"Topic1\", \"Topic1\", \"Topic1\", \"Topic1\", \"Topic1\", \"Topic2\", \"Topic2\", \"Topic2\", \"Topic2\", \"Topic2\", \"Topic2\", \"Topic2\", \"Topic2\", \"Topic2\", \"Topic2\", \"Topic2\", \"Topic2\", \"Topic2\", \"Topic2\", \"Topic2\", \"Topic2\", \"Topic2\", \"Topic2\", \"Topic2\", \"Topic2\", \"Topic2\", \"Topic2\", \"Topic2\", \"Topic2\", \"Topic2\", \"Topic2\", \"Topic2\", \"Topic2\", \"Topic2\", \"Topic2\", \"Topic2\", \"Topic2\", \"Topic2\", \"Topic2\", \"Topic2\", \"Topic2\", \"Topic2\", \"Topic2\", \"Topic2\", \"Topic2\", \"Topic2\", \"Topic2\", \"Topic2\", \"Topic2\", \"Topic2\", \"Topic2\", \"Topic2\", \"Topic2\", \"Topic2\", \"Topic2\", \"Topic2\", \"Topic2\", \"Topic2\", \"Topic2\", \"Topic2\", \"Topic2\", \"Topic2\", \"Topic2\", \"Topic2\", \"Topic2\", \"Topic2\", \"Topic2\", \"Topic2\", \"Topic2\", \"Topic2\", \"Topic2\", \"Topic2\", \"Topic2\", \"Topic2\", \"Topic2\", \"Topic2\", \"Topic2\", \"Topic2\", \"Topic2\", \"Topic2\", \"Topic3\", \"Topic3\", \"Topic3\", \"Topic3\", \"Topic3\", \"Topic3\", \"Topic3\", \"Topic3\", \"Topic3\", \"Topic3\", \"Topic3\", \"Topic3\", \"Topic3\", \"Topic3\", \"Topic3\", \"Topic3\", \"Topic3\", \"Topic3\", \"Topic3\", \"Topic3\", \"Topic3\", \"Topic3\", \"Topic3\", \"Topic3\", \"Topic3\", \"Topic3\", \"Topic3\", \"Topic3\", \"Topic3\", \"Topic3\", \"Topic3\", \"Topic3\", \"Topic3\", \"Topic3\", \"Topic3\", \"Topic3\", \"Topic3\", \"Topic3\", \"Topic3\", \"Topic3\", \"Topic3\", \"Topic3\", \"Topic3\", \"Topic3\", \"Topic3\", \"Topic3\", \"Topic3\", \"Topic3\", \"Topic3\", \"Topic3\", \"Topic3\", \"Topic3\", \"Topic3\", \"Topic3\", \"Topic3\", \"Topic3\", \"Topic3\", \"Topic3\", \"Topic3\", \"Topic3\", \"Topic3\", \"Topic3\", \"Topic3\", \"Topic3\", \"Topic4\", \"Topic4\", \"Topic4\", \"Topic4\", \"Topic4\", \"Topic4\", \"Topic4\", \"Topic4\", \"Topic4\", \"Topic4\", \"Topic4\", \"Topic4\", \"Topic4\", \"Topic4\", \"Topic4\", \"Topic4\", \"Topic4\", \"Topic4\", \"Topic4\", \"Topic4\", \"Topic4\", \"Topic4\", \"Topic4\", \"Topic4\", \"Topic4\", \"Topic4\", \"Topic4\", \"Topic4\", \"Topic4\", \"Topic4\", \"Topic4\", \"Topic4\", \"Topic4\", \"Topic4\", \"Topic4\", \"Topic4\", \"Topic4\", \"Topic4\", \"Topic4\", \"Topic4\", \"Topic4\", \"Topic4\", \"Topic4\", \"Topic4\", \"Topic4\", \"Topic4\", \"Topic4\", \"Topic4\", \"Topic4\", \"Topic4\", \"Topic4\", \"Topic4\", \"Topic4\", \"Topic4\", \"Topic4\", \"Topic4\", \"Topic4\", \"Topic4\", \"Topic4\", \"Topic4\", \"Topic4\", \"Topic4\", \"Topic4\", \"Topic4\", \"Topic4\", \"Topic4\", \"Topic4\", \"Topic4\", \"Topic4\", \"Topic4\"], \"logprob\": [30.0, 29.0, 28.0, 27.0, 26.0, 25.0, 24.0, 23.0, 22.0, 21.0, 20.0, 19.0, 18.0, 17.0, 16.0, 15.0, 14.0, 13.0, 12.0, 11.0, 10.0, 9.0, 8.0, 7.0, 6.0, 5.0, 4.0, 3.0, 2.0, 1.0, -4.9667, -5.1563, -5.469, -5.4814, -5.5696, -5.623, -6.0079, -6.0857, -6.253, -6.2976, -6.2459, -6.3849, -6.4688, -6.5193, -6.5849, -6.5862, -6.6227, -6.7158, -6.7585, -6.8066, -6.8283, -6.8572, -6.8549, -6.9242, -7.0951, -7.1474, -7.1349, -7.1134, -7.1642, -5.8322, -4.3907, -5.3173, -5.8244, -5.2225, -6.1423, -6.1759, -5.765, -5.9545, -5.4775, -6.3879, -6.1308, -5.1891, -5.7528, -5.5456, -5.4643, -5.6092, -5.2543, -5.9891, -5.2759, -5.8968, -6.0089, -6.0114, -4.7375, -5.9321, -5.6145, -5.9179, -5.7685, -5.6891, -5.9296, -5.8028, -5.5318, -5.6348, -5.7716, -5.6141, -5.6234, -5.7075, -5.3065, -5.9984, -6.1467, -6.3803, -6.4705, -6.4946, -6.5018, -6.6857, -6.7209, -5.322, -6.6859, -6.7225, -6.7706, -6.7581, -6.749, -6.8214, -6.7798, -6.9222, -6.9859, -7.0432, -7.0849, -7.0857, -7.102, -7.1063, -7.1175, -7.1972, -7.2114, -7.2218, -7.2632, -7.2646, -5.957, -5.8456, -5.648, -6.1226, -6.4704, -5.9743, -5.7118, -6.3977, -6.4454, -6.6467, -5.9804, -6.4476, -6.3184, -5.8893, -4.6643, -5.3932, -5.6369, -5.5733, -5.9126, -4.33, -6.4337, -5.5638, -6.0749, -5.7367, -4.4386, -5.8672, -5.7449, -5.0367, -5.9498, -5.4016, -5.4869, -4.9481, -4.8991, -5.1528, -4.8225, -5.0667, -5.426, -5.573, -5.3557, -5.6823, -5.5041, -5.5605, -5.4867, -5.7554, -5.7751, -5.0998, -5.5236, -5.6177, -5.6582, -5.8783, -5.9833, -6.1466, -6.1611, -6.2229, -6.2481, -6.2267, -6.4173, -6.5579, -6.55, -6.6042, -6.5539, -6.6343, -6.5447, -6.7199, -6.7195, -6.7691, -6.2287, -6.8071, -6.8833, -4.3214, -6.965, -6.9895, -6.9824, -7.0677, -7.0704, -5.4067, -4.871, -4.9812, -5.3873, -6.0906, -6.1258, -4.3042, -6.5332, -5.3816, -5.983, -4.5203, -5.1057, -5.7624, -4.551, -4.1859, -5.4006, -4.0642, -5.1068, -5.3247, -4.795, -4.9791, -5.6838, -5.2952, -5.1522, -5.3835, -5.0717, -5.1813, -5.3281, -5.1518, -5.3265, -5.5826, -5.4655, -5.4567, -5.5302, -4.8618, -5.3408, -5.8445, -5.9487, -6.2417, -6.3204, -6.543, -6.5634, -6.6344, -6.6366, -6.6694, -6.6805, -6.9204, -6.9828, -6.9916, -6.9783, -7.0309, -7.0461, -7.1188, -7.2206, -7.3073, -7.3304, -7.3518, -7.255, -7.4309, -7.4309, -7.4257, -7.5031, -7.5309, -7.5383, -5.6455, -7.468, -5.8018, -4.9688, -4.878, -6.3703, -6.9293, -5.0775, -4.6227, -6.1566, -6.6433, -4.5909, -4.6266, -4.9593, -5.2659, -5.1724, -4.3929, -4.6328, -5.4752, -5.0408, -5.5409, -5.2099, -5.3842, -4.768, -5.4685, -4.588, -5.9384, -5.1129, -5.0613, -5.2507, -4.819, -5.4287, -5.3355, -4.7194, -5.1774, -5.1485, -5.1992, -5.395, -5.4088, -5.4143], \"loglift\": [30.0, 29.0, 28.0, 27.0, 26.0, 25.0, 24.0, 23.0, 22.0, 21.0, 20.0, 19.0, 18.0, 17.0, 16.0, 15.0, 14.0, 13.0, 12.0, 11.0, 10.0, 9.0, 8.0, 7.0, 6.0, 5.0, 4.0, 3.0, 2.0, 1.0, 1.0526, 1.0524, 1.0519, 1.0519, 1.0518, 1.0516, 1.0508, 1.0505, 1.05, 1.0498, 1.0497, 1.0492, 1.0491, 1.0489, 1.0486, 1.0485, 1.0484, 1.0478, 1.0476, 1.0473, 1.0472, 1.0469, 1.0468, 1.0464, 1.0453, 1.0449, 1.0448, 1.0446, 1.0445, 1.0444, 1.0395, 1.0356, 1.0391, 1.0057, 1.0229, 1.0087, 0.986, 0.9943, 0.9467, 1.0116, 0.9863, 0.868, 0.9294, 0.9006, 0.8758, 0.8777, 0.8021, 0.9425, 0.7164, 0.8741, 0.9216, 0.9114, 0.0667, 0.852, 0.5814, 0.8282, 0.6566, 0.5091, 0.8244, 0.5573, -0.3219, -0.0564, 0.3624, -0.1666, -0.2555, 0.0794, 1.1998, 1.1982, 1.1976, 1.1967, 1.1962, 1.1962, 1.1961, 1.1951, 1.1949, 1.1948, 1.1947, 1.1946, 1.1945, 1.1945, 1.1943, 1.1942, 1.1939, 1.1934, 1.1929, 1.1924, 1.192, 1.1919, 1.1918, 1.1918, 1.1915, 1.1908, 1.1908, 1.1904, 1.1902, 1.1898, 1.1882, 1.1856, 1.1834, 1.188, 1.1832, 1.1703, 1.1586, 1.177, 1.1776, 1.1792, 1.1572, 1.1703, 1.1585, 1.1301, 1.0172, 1.0637, 1.0801, 1.0625, 1.0992, 0.8939, 1.1534, 1.0221, 1.0863, 0.9755, 0.6271, 0.9863, 0.9372, 0.688, 0.9952, 0.7728, 0.7791, 0.4994, 0.4688, 0.5839, 0.3875, 0.5063, 0.638, 0.7004, 0.4312, 0.7465, 0.2553, 0.3561, 0.1976, 0.5144, 0.3588, 1.7057, 1.7041, 1.7037, 1.7034, 1.7022, 1.7016, 1.7004, 1.7001, 1.6997, 1.6995, 1.6987, 1.6978, 1.696, 1.6958, 1.6954, 1.6953, 1.695, 1.695, 1.6939, 1.6939, 1.6933, 1.692, 1.692, 1.6912, 1.6902, 1.6899, 1.6895, 1.6893, 1.688, 1.6878, 1.6872, 1.666, 1.6451, 1.6442, 1.6594, 1.6519, 1.5077, 1.6672, 1.5389, 1.5955, 1.3868, 1.4232, 1.529, 1.2083, 0.8798, 1.2734, 0.74, 1.0249, 1.1028, 0.7345, 0.7455, 1.2735, 0.9547, 0.7935, 1.0056, 0.6728, 0.745, 0.6457, 0.0582, 0.3746, 0.9944, 0.1959, 0.1163, 0.0482, 1.7732, 1.7719, 1.7694, 1.7689, 1.7666, 1.766, 1.7635, 1.7633, 1.7624, 1.7624, 1.762, 1.7619, 1.758, 1.7571, 1.757, 1.7565, 1.7561, 1.7556, 1.7543, 1.7514, 1.7502, 1.7494, 1.7491, 1.7474, 1.747, 1.747, 1.7463, 1.7447, 1.7439, 1.7437, 1.7332, 1.7427, 1.7018, 1.6269, 1.6199, 1.6887, 1.7191, 1.5769, 1.5238, 1.6569, 1.6903, 1.4812, 1.4735, 1.4836, 1.4944, 1.4547, 1.2684, 1.2935, 1.4477, 1.3464, 1.4471, 1.3673, 1.4001, 1.2058, 1.3602, 0.9904, 1.5164, 1.137, 1.0704, 1.0251, 0.7105, 1.148, 1.0536, 0.0848, 0.6718, 0.5526, 0.4851, 0.8397, 0.5369, -0.0464]}, \"token.table\": {\"Topic\": [2, 3, 2, 1, 3, 4, 4, 4, 3, 2, 1, 2, 4, 1, 2, 3, 4, 3, 2, 1, 2, 3, 3, 4, 4, 3, 4, 2, 3, 1, 2, 1, 2, 3, 3, 1, 2, 3, 4, 1, 2, 3, 4, 2, 2, 2, 1, 2, 3, 2, 1, 1, 1, 2, 2, 3, 2, 2, 3, 1, 1, 3, 4, 1, 2, 3, 4, 3, 4, 1, 3, 3, 4, 2, 3, 1, 4, 1, 2, 3, 4, 1, 2, 3, 4, 4, 2, 4, 1, 3, 4, 1, 3, 4, 1, 2, 3, 4, 4, 3, 4, 3, 1, 2, 3, 4, 3, 4, 3, 3, 4, 3, 1, 4, 1, 2, 3, 1, 1, 3, 4, 2, 1, 3, 4, 2, 4, 2, 3, 1, 2, 3, 4, 1, 3, 4, 1, 2, 3, 4, 1, 2, 1, 2, 3, 4, 2, 3, 1, 2, 4, 3, 4, 3, 2, 3, 3, 1, 2, 3, 4, 2, 1, 2, 3, 1, 2, 3, 4, 1, 4, 2, 3, 3, 1, 2, 3, 4, 1, 3, 4, 4, 3, 3, 1, 1, 2, 3, 4, 3, 1, 3, 1, 2, 2, 4, 3, 1, 3, 4, 3, 1, 2, 3, 4, 1, 2, 3, 4, 4, 1, 3, 1, 2, 3, 4, 1, 3, 4, 1, 1, 2, 3, 1, 3, 4, 1, 3, 2, 4, 1, 2, 3, 4, 4, 1, 2, 3, 4, 1, 3, 4, 1, 2, 3, 2, 1, 2, 3, 4, 3, 1, 1, 2, 3, 4, 3, 4, 1, 2, 3, 4, 1, 3, 3, 2, 3, 4, 2, 1, 2, 3, 4, 2, 3, 4, 3, 4, 3, 2, 1, 2, 3, 4, 2, 3, 3, 4, 1, 2, 3, 4, 2, 4, 2, 1, 1, 4, 1, 3, 1, 3, 4, 1, 1, 2, 3, 4, 1, 2, 3, 4, 3, 4, 2, 3, 1, 2, 3, 4, 2, 3, 4, 3, 1, 2, 4, 1, 3, 1, 1, 3, 1, 2, 3, 4, 1, 2, 3, 4, 1, 4, 2, 3, 3, 4, 3, 4, 1, 1, 2, 3, 4, 1, 2, 3, 4, 1, 2, 3, 4, 1, 2, 3, 4, 2, 1, 1, 2, 3, 4, 3, 4, 4, 1, 2, 3, 4, 3, 2, 2, 1, 2, 3, 4, 1, 2, 3, 4, 3, 4, 2, 3, 2, 3, 4, 1, 2, 3, 4, 1, 1, 2, 3, 4, 2, 1, 2, 3, 4, 1, 3, 4, 4, 1, 2, 3, 4, 2, 3, 1, 3, 4, 4, 2, 3, 4, 4, 4, 1, 2, 3, 4, 4, 2, 2, 2, 3, 1, 2, 3, 3, 2, 1, 3, 4, 1, 3, 4, 2, 4, 1, 1, 1, 2, 3, 3, 4, 4, 1, 1, 2, 3, 4, 2, 3, 4, 1, 2, 3, 4, 1, 2, 2, 3, 4, 2, 3, 3, 4, 4, 4, 1, 2, 2, 3, 4, 1, 1, 2, 1, 2, 3, 4, 1, 2, 3, 4, 1, 2, 3, 2, 3, 1, 2, 3, 4, 4, 1, 2, 3, 4], \"Freq\": [0.9587076241909891, 0.04058021689697308, 0.9949472025754602, 0.05586221472048274, 0.2830352212504459, 0.6591741337016963, 0.9822617833302645, 0.9955867500025254, 0.9935758036569121, 0.9969118878932905, 0.9902498464502965, 0.9918175479932092, 0.9911309291342421, 0.15193741559451832, 0.09116244935671099, 0.010129161039634554, 0.7470256266730483, 0.9878712715144246, 0.9982055723432998, 0.046741650895635964, 0.8932848837832651, 0.06232220119418128, 0.9745923867113884, 0.9756051118831975, 0.9907316119893886, 0.27516466487725694, 0.7206693603928158, 0.04678926771011929, 0.9545010612864335, 0.9569761954965275, 0.042532275355401224, 0.9699144832454848, 0.010429187991886933, 0.020858375983773866, 0.9963122690569693, 0.8997354866845282, 0.062136428638434264, 0.03728185718306056, 0.9677404664585674, 0.8587559010056419, 0.04827326070741774, 0.0508139586393871, 0.04319186484347903, 0.9917286193617564, 0.9953939807341516, 0.9918538086529901, 0.9954920955347498, 0.9737890913299453, 0.023559413499918032, 0.987487411474685, 0.9850983379259508, 0.9922577404480232, 0.8783769057985986, 0.1237150571547322, 0.9924591323999794, 0.0054530721560438426, 0.9980025322583883, 0.9792147770008983, 0.020189995402080378, 0.9923647542395485, 0.7949400884660154, 0.16590054020160322, 0.03801887379620074, 0.32963323527629806, 0.024535807156488208, 0.1898858119067348, 0.4565793679555197, 0.5045907164268739, 0.4934600388586341, 0.9984682896796753, 0.9924479693753469, 0.5461001493331223, 0.4538366537836907, 0.05930941313855879, 0.9398260851187008, 0.9980787884667294, 0.9527337891550859, 0.7132657166163809, 0.11618808053479508, 0.050025423563592325, 0.11941552721631717, 0.7990316239638541, 0.1474607718044881, 0.03772252301975277, 0.020575921647137875, 0.9698184498190702, 0.9979808649562959, 0.9845546654812565, 0.008184646690387437, 0.27009334078278546, 0.7202489087540945, 0.009133484516836259, 0.2648710509882515, 0.7245897716690098, 0.300687763388799, 0.42934023926659354, 0.13912418903063833, 0.1301484348996294, 0.9755986170996862, 0.9817578851838098, 0.9766691970013331, 0.9970506022668654, 0.16216350952684888, 0.2606199260252928, 0.48938630553638324, 0.0897690856309342, 0.9571264679005298, 0.038952821368044815, 0.9866239968987348, 0.8907805753979599, 0.10247918124047325, 0.9953293267814454, 0.8157417105024124, 0.1816717346533757, 0.9557318459036943, 0.01977376232904195, 0.0263650164387226, 0.9996390141894369, 0.06153770045009956, 0.08026656580447769, 0.8561767019144287, 0.9842051893181626, 0.03988852754166089, 0.06980492319790656, 0.8875197378019548, 0.9541984822814482, 0.03975827009506034, 0.8313808672545482, 0.16793183947389168, 0.12284320254177884, 0.8691156579830853, 0.006142160127088942, 0.978254667965964, 0.17733167842367326, 0.22021580980717595, 0.6026959005249026, 0.1949515755469782, 0.5398659015147089, 0.192452196373299, 0.07248199603669703, 0.012061566050754336, 0.9890484161618556, 0.867487059484475, 0.06547072147052642, 0.012275760275723704, 0.053194961194802715, 0.04810451147707402, 0.9428484249506508, 0.9343652100997488, 0.014910083139889608, 0.04970027713296536, 0.9878516201080548, 0.011099456405708481, 0.9936689971744064, 0.5628223215235264, 0.4363310392741981, 0.9935853425020923, 0.6084066585704241, 0.020979539950704278, 0.2937135593098599, 0.07692497981924902, 0.9980378728257021, 0.03130950541230634, 0.9035028704694116, 0.06709179731208502, 0.11749890756433243, 0.7356778734760432, 0.07933047262305247, 0.06735606166108228, 0.9860581600780896, 0.013797455598107597, 0.9725920241972698, 0.016484610579614742, 0.9925576296981973, 0.23297847278514458, 0.6048890623687698, 0.1047334418942393, 0.055572846719392284, 0.1495522688998841, 0.09390491303015978, 0.754717263983136, 0.9959066922673111, 0.9896848220780698, 0.9715086182776562, 0.996220151612525, 0.3167018665338605, 0.18302900078904924, 0.10899479822269224, 0.39279257472706075, 0.9898450420983379, 0.15972757306537405, 0.8341328815636201, 0.9986992243015986, 0.9885269961510115, 0.9850454571881723, 0.01368118690539128, 0.9896357276829857, 0.06368855294420608, 0.402395857238393, 0.5326678973515419, 0.9919819735819655, 0.8362926551613782, 0.009139810438922166, 0.08911315177949111, 0.0662636256821857, 0.6717075816256786, 0.12190248703577128, 0.11692687532002552, 0.08707320502555092, 0.9827958061706953, 0.999772070356025, 0.9854317102248847, 0.2696476320853601, 0.48052590845980836, 0.08728977833532489, 0.16161572820500747, 0.9541259305005335, 0.00612928863276574, 0.03881882800751635, 0.991043005019326, 0.8846104796239569, 0.09006943065262106, 0.02573412304360602, 0.8388674780056722, 0.13495975198198512, 0.023816426820350314, 0.9942759396473944, 0.972069366454146, 0.9820105828483825, 0.9888578321249929, 0.22018279174305397, 0.5686610684387535, 0.0225383960051945, 0.18897578188970773, 0.9964633480473362, 0.29186214778099334, 0.1507552416224139, 0.26291714138948985, 0.294274231646952, 0.0887098433699678, 0.34533474740451753, 0.5655252514835448, 0.007469191684314968, 0.9821987064874184, 0.011203787526472452, 0.983396602046276, 0.2488889968724351, 0.04786326862931444, 0.6477495687833887, 0.05743592235517733, 0.9833000215900013, 0.9993192065710038, 0.06629608920317187, 0.7988678748982211, 0.06629608920317187, 0.06961089366333047, 0.9820732317778464, 0.01809515167429868, 0.271319795587846, 0.21677612534080481, 0.180413678509444, 0.3314576884243274, 0.9935145528713957, 0.9714726856320017, 0.9840985714998879, 0.3886333165860372, 0.6059611580979659, 0.00511359627086891, 0.9833153296818431, 0.5001460133327669, 0.43135269551376176, 0.01859278859973111, 0.050200529219274, 0.012233848569862558, 0.24118158609157614, 0.7445170701087785, 0.4697923286819595, 0.5282553740290479, 0.9921206152577849, 0.9987748228870347, 0.18026696379430407, 0.3664637619239471, 0.1778950300601685, 0.27514431315972726, 0.9857531989667023, 0.01699574480977073, 0.8451392314646675, 0.15514633234617084, 0.2247112610976941, 0.6341851146534923, 0.0823941290691545, 0.05742621116941071, 0.9966626708987436, 0.9624643520051277, 0.9949217953289878, 0.9944889678711014, 0.9812478104961876, 0.016199845928003095, 0.9872475179921374, 0.01156930685147036, 0.01919817240928171, 0.49435293953900394, 0.4847538533343631, 0.9948244568948886, 0.37280952308288423, 0.06344647556423755, 0.3796951870976077, 0.18443742896580684, 0.07949487130507649, 0.8116844754307809, 0.02510364357002415, 0.07949487130507649, 0.7246643494930699, 0.2741572692356195, 0.029365019870777057, 0.9543631458002544, 0.7776664556061064, 0.044733026207430894, 0.08258404838294935, 0.09462755543879613, 0.5988642648543152, 0.381544449154605, 0.019756346881791842, 0.9810141184795732, 0.9407406455427205, 0.04199735024744288, 0.01679894009897715, 0.9924060825509894, 0.007814221122448735, 0.9992676177547545, 0.9935033559222269, 0.9907906314119803, 0.9919279581212657, 0.9954110816539492, 0.06709491126814077, 0.9225550299369356, 0.053191381654691505, 0.02190233362252003, 0.10325385850616586, 0.8197730584428926, 0.9972845047540075, 0.980271270423807, 0.9614537969037509, 0.035609399885324106, 0.03873337387030269, 0.9554232221341331, 0.1357295675974189, 0.8615876899662244, 0.9978907998972556, 0.8298609731453582, 0.06886813055148201, 0.06542472402390791, 0.034434065275741006, 0.14400092815383544, 0.17788349948414967, 0.6480041766922595, 0.03388257133031422, 0.2838458354715758, 0.014481930381202848, 0.034756632914886836, 0.666168797535331, 0.12992334387401525, 0.5026542484306163, 0.20659941566851606, 0.15974181623854333, 0.9985041764147162, 0.9898370136830703, 0.6231231824462906, 0.0652795714943733, 0.11869012998976965, 0.19188237681679426, 0.07647963062673953, 0.9177555675208744, 0.9820438712039359, 0.5809167539887954, 0.2597272859130792, 0.13482027055030066, 0.025774463487557478, 0.9913369255835439, 0.9914465290297613, 0.9918618187444842, 0.9339243932000928, 0.03446215473063073, 0.024123508311441513, 0.006892430946126147, 0.008571019874315017, 0.29570018566386813, 0.22284651673219047, 0.47140609308732595, 0.9814245390929014, 0.9828370610650539, 0.019423503001850383, 0.9808869015934444, 0.9591201201991254, 0.007766154819426117, 0.03106461927770447, 0.09099265962652127, 0.6524367296625035, 0.08905664559191444, 0.1684332210107947, 0.996744916649848, 0.16756493511791176, 0.048951554079389954, 0.00564825623992961, 0.7775766090303097, 0.9876962338114017, 0.25904746500909603, 0.01828570341240678, 0.3779045371897401, 0.34438074760032766, 0.17101650216922343, 0.13895090801249405, 0.6876288524720858, 0.9945764170459712, 0.11394032734989244, 0.8355624005658779, 0.037980109116630814, 0.01168618742050179, 0.9675564413661103, 0.024598892577104497, 0.02155740367667085, 0.32815158930043403, 0.6515126444504968, 0.9687612568818161, 0.9885789551716916, 0.2588255575631884, 0.738731278878267, 0.9944898590817368, 0.9935600407595239, 0.836659917790468, 0.03866915586426532, 0.05976142269931914, 0.06327680050516143, 0.9965734751691544, 0.9833292007363246, 0.9980844463579761, 0.9329441068757671, 0.06760464542578022, 0.8958787547155097, 0.06605557638455371, 0.037156261716311464, 0.9890683363234213, 0.9880252617627033, 0.13933052005785077, 0.08359831203471045, 0.7732843863210717, 0.30958666834339793, 0.4004603670113605, 0.2895636499928299, 0.045959478926710366, 0.9421693179975625, 0.998956397792719, 0.9910663473691101, 0.04879168492984561, 0.8705463784851402, 0.07703950252080886, 0.817850507171181, 0.18054689944141394, 0.9905469681083492, 0.9959887257822471, 0.2523946955571093, 0.4427977115037005, 0.19187900831827023, 0.11217542024760413, 0.7687951584776725, 0.2316035623865792, 0.9771230716223247, 0.13790108886938365, 0.6555605609329161, 0.1485088649362593, 0.057281990761128596, 0.9979027200024105, 0.9941159810891902, 0.04388435808410601, 0.029256238722737343, 0.9288855794469106, 0.245614046350114, 0.7506406809801237, 0.38217349188063754, 0.617821969087671, 0.9848694548547401, 0.9755843173625818, 0.03064612969066665, 0.9704607735377773, 0.06084373294109284, 0.9369934872928297, 0.9973231719080956, 0.9918196588862995, 0.19090424590836727, 0.8056159177333099, 0.3035501551345927, 0.2468706655866397, 0.35519146783383876, 0.09572536012543172, 0.37715735272014783, 0.4625762653571151, 0.07621995281452465, 0.08410477551947547, 0.08992689761814547, 0.8859464728306184, 0.023314380863963643, 0.986453019070818, 0.010222311078454071, 0.2005347820879579, 0.49868437873724986, 0.20371787386713186, 0.09655378396827603, 0.9911795506279929, 0.2947995360653503, 0.49601191782424026, 0.11979155751226934, 0.089843668134202], \"Term\": [\"actor\", \"actor\", \"actress\", \"analyst\", \"analyst\", \"analyst\", \"antispam\", \"antiviru\", \"appl\", \"arsen\", \"asylum\", \"athlet\", \"attach\", \"attack\", \"attack\", \"attack\", \"attack\", \"audio\", \"award\", \"band\", \"band\", \"band\", \"bittorr\", \"bofra\", \"bot\", \"broadband\", \"broadband\", \"broadcast\", \"broadcast\", \"brown\", \"brown\", \"budget\", \"budget\", \"budget\", \"camera\", \"campaign\", \"campaign\", \"campaign\", \"carrier\", \"case\", \"case\", \"case\", \"case\", \"ceremoni\", \"champion\", \"championship\", \"chancellor\", \"chart\", \"chart\", \"chelsea\", \"citizen\", \"civil\", \"claim\", \"claim\", \"club\", \"club\", \"coach\", \"comedi\", \"comedi\", \"commiss\", \"commun\", \"commun\", \"commun\", \"compani\", \"compani\", \"compani\", \"compani\", \"comput\", \"comput\", \"conserv\", \"consol\", \"consum\", \"consum\", \"content\", \"content\", \"council\", \"counterfeit\", \"countri\", \"countri\", \"countri\", \"countri\", \"court\", \"court\", \"court\", \"court\", \"crude\", \"cup\", \"currenc\", \"custom\", \"custom\", \"custom\", \"datum\", \"datum\", \"datum\", \"day\", \"day\", \"day\", \"day\", \"ddo\", \"desktop\", \"deutsch\", \"devic\", \"differ\", \"differ\", \"differ\", \"differ\", \"digit\", \"digit\", \"domain\", \"download\", \"download\", \"dvd\", \"econom\", \"econom\", \"educ\", \"educ\", \"educ\", \"elect\", \"email\", \"email\", \"email\", \"enemi\", \"euro\", \"euro\", \"euro\", \"festiv\", \"festiv\", \"film\", \"film\", \"final\", \"final\", \"final\", \"firewal\", \"firm\", \"firm\", \"firm\", \"first\", \"first\", \"first\", \"first\", \"footbal\", \"footbal\", \"foreign\", \"foreign\", \"foreign\", \"foreign\", \"format\", \"format\", \"fund\", \"fund\", \"fund\", \"g\", \"g\", \"gadget\", \"game\", \"game\", \"gamer\", \"gener\", \"gener\", \"gener\", \"gener\", \"glazer\", \"goal\", \"goal\", \"goal\", \"good\", \"good\", \"good\", \"good\", \"govern\", \"govern\", \"grand\", \"grand\", \"graphic\", \"great\", \"great\", \"great\", \"great\", \"growth\", \"growth\", \"growth\", \"hacker\", \"handset\", \"hdtv\", \"health\", \"high\", \"high\", \"high\", \"high\", \"highdefinit\", \"imag\", \"imag\", \"immigr\", \"indoor\", \"injuri\", \"injuri\", \"interact\", \"internet\", \"internet\", \"internet\", \"ipod\", \"issu\", \"issu\", \"issu\", \"issu\", \"job\", \"job\", \"job\", \"job\", \"junk\", \"labour\", \"laptop\", \"last\", \"last\", \"last\", \"last\", \"law\", \"law\", \"law\", \"lawyer\", \"leader\", \"leader\", \"leader\", \"legal\", \"legal\", \"legal\", \"liber\", \"librari\", \"liverpool\", \"lse\", \"m\", \"m\", \"m\", \"m\", \"malici\", \"mani\", \"mani\", \"mani\", \"mani\", \"market\", \"market\", \"market\", \"match\", \"match\", \"match\", \"medal\", \"medium\", \"medium\", \"medium\", \"medium\", \"mini\", \"minist\", \"minut\", \"minut\", \"minut\", \"minut\", \"mobil\", \"mobil\", \"month\", \"month\", \"month\", \"month\", \"mp\", \"mp3\", \"multimedia\", \"music\", \"music\", \"music\", \"nadal\", \"nation\", \"nation\", \"nation\", \"nation\", \"net\", \"net\", \"net\", \"network\", \"network\", \"nintendo\", \"nomin\", \"number\", \"number\", \"number\", \"number\", \"olymp\", \"olymp\", \"onlin\", \"onlin\", \"open\", \"open\", \"open\", \"open\", \"oscar\", \"outlook\", \"park\", \"parliament\", \"parti\", \"parti\", \"patent\", \"patent\", \"pc\", \"pc\", \"pc\", \"pension\", \"peopl\", \"peopl\", \"peopl\", \"peopl\", \"perform\", \"perform\", \"perform\", \"perform\", \"phone\", \"phone\", \"photo\", \"photo\", \"plan\", \"plan\", \"plan\", \"plan\", \"player\", \"player\", \"player\", \"playstat\", \"polic\", \"polic\", \"polic\", \"polici\", \"polici\", \"polit\", \"politician\", \"portabl\", \"poverti\", \"premiership\", \"premium\", \"premium\", \"price\", \"price\", \"price\", \"price\", \"prime\", \"printer\", \"prize\", \"prize\", \"profit\", \"profit\", \"program\", \"program\", \"propos\", \"public\", \"public\", \"public\", \"public\", \"radio\", \"radio\", \"radio\", \"radio\", \"rate\", \"rate\", \"rate\", \"rate\", \"record\", \"record\", \"record\", \"record\", \"refere\", \"reform\", \"report\", \"report\", \"report\", \"report\", \"retail\", \"retail\", \"rfid\", \"right\", \"right\", \"right\", \"right\", \"robot\", \"roddick\", \"rugbi\", \"rule\", \"rule\", \"rule\", \"rule\", \"sale\", \"sale\", \"sale\", \"sale\", \"satellit\", \"scam\", \"search\", \"search\", \"season\", \"season\", \"season\", \"second\", \"second\", \"second\", \"second\", \"secretari\", \"secur\", \"secur\", \"secur\", \"secur\", \"seed\", \"servic\", \"servic\", \"servic\", \"servic\", \"share\", \"share\", \"share\", \"shopper\", \"side\", \"side\", \"side\", \"side\", \"singer\", \"singer\", \"site\", \"site\", \"site\", \"skull\", \"slam\", \"softwar\", \"softwar\", \"spam\", \"spammer\", \"spokesman\", \"spokesman\", \"spokesman\", \"spokesman\", \"spywar\", \"squad\", \"stadium\", \"star\", \"star\", \"state\", \"state\", \"state\", \"storag\", \"striker\", \"survey\", \"survey\", \"survey\", \"system\", \"system\", \"system\", \"takeov\", \"takeov\", \"tax\", \"taxi\", \"team\", \"team\", \"team\", \"technolog\", \"technolog\", \"telew\", \"terror\", \"time\", \"time\", \"time\", \"time\", \"titl\", \"titl\", \"tmobil\", \"top\", \"top\", \"top\", \"top\", \"tori\", \"tournament\", \"traffic\", \"traffic\", \"traffic\", \"tv\", \"tv\", \"user\", \"user\", \"uwb\", \"variant\", \"victori\", \"victori\", \"video\", \"video\", \"viru\", \"wage\", \"wale\", \"wale\", \"way\", \"way\", \"way\", \"way\", \"week\", \"week\", \"week\", \"week\", \"win\", \"win\", \"win\", \"winner\", \"winner\", \"world\", \"world\", \"world\", \"world\", \"worm\", \"year\", \"year\", \"year\", \"year\"]}, \"R\": 30, \"lambda.step\": 0.01, \"plot.opts\": {\"xlab\": \"PC1\", \"ylab\": \"PC2\"}, \"topic.order\": [1, 3, 4, 2]};\n",
       "\n",
       "function LDAvis_load_lib(url, callback){\n",
       "  var s = document.createElement('script');\n",
       "  s.src = url;\n",
       "  s.async = true;\n",
       "  s.onreadystatechange = s.onload = callback;\n",
       "  s.onerror = function(){console.warn(\"failed to load library \" + url);};\n",
       "  document.getElementsByTagName(\"head\")[0].appendChild(s);\n",
       "}\n",
       "\n",
       "if(typeof(LDAvis) !== \"undefined\"){\n",
       "   // already loaded: just create the visualization\n",
       "   !function(LDAvis){\n",
       "       new LDAvis(\"#\" + \"ldavis_el2188023193671885449906493615\", ldavis_el2188023193671885449906493615_data);\n",
       "   }(LDAvis);\n",
       "}else if(typeof define === \"function\" && define.amd){\n",
       "   // require.js is available: use it to load d3/LDAvis\n",
       "   require.config({paths: {d3: \"https://d3js.org/d3.v5\"}});\n",
       "   require([\"d3\"], function(d3){\n",
       "      window.d3 = d3;\n",
       "      LDAvis_load_lib(\"https://cdn.jsdelivr.net/gh/bmabey/pyLDAvis@3.4.0/pyLDAvis/js/ldavis.v3.0.0.js\", function(){\n",
       "        new LDAvis(\"#\" + \"ldavis_el2188023193671885449906493615\", ldavis_el2188023193671885449906493615_data);\n",
       "      });\n",
       "    });\n",
       "}else{\n",
       "    // require.js not available: dynamically load d3 & LDAvis\n",
       "    LDAvis_load_lib(\"https://d3js.org/d3.v5.js\", function(){\n",
       "         LDAvis_load_lib(\"https://cdn.jsdelivr.net/gh/bmabey/pyLDAvis@3.4.0/pyLDAvis/js/ldavis.v3.0.0.js\", function(){\n",
       "                 new LDAvis(\"#\" + \"ldavis_el2188023193671885449906493615\", ldavis_el2188023193671885449906493615_data);\n",
       "            })\n",
       "         });\n",
       "}\n",
       "</script>"
      ],
      "text/plain": [
       "PreparedData(topic_coordinates=              x         y  topics  cluster       Freq\n",
       "topic                                                \n",
       "0     -0.054890 -0.171033       1        1  34.868673\n",
       "2     -0.197175  0.075662       2        1  30.079159\n",
       "3      0.085330  0.127400       3        1  18.111365\n",
       "1      0.166735 -0.032029       4        1  16.940803, topic_info=          Term         Freq        Total Category  logprob  loglift\n",
       "858       game  1565.000000  1565.000000  Default  30.0000  30.0000\n",
       "127     govern  1087.000000  1087.000000  Default  29.0000  29.0000\n",
       "770      mobil   607.000000   607.000000  Default  28.0000  28.0000\n",
       "685  technolog   742.000000   742.000000  Default  27.0000  27.0000\n",
       "820      phone   674.000000   674.000000  Default  26.0000  26.0000\n",
       "..         ...          ...          ...      ...      ...      ...\n",
       "139       mani   244.101580   829.158566   Topic4  -5.1485   0.5526\n",
       "256     number   232.021193   843.193876   Topic4  -5.1992   0.4851\n",
       "43        high   190.765080   486.261738   Topic4  -5.3950   0.8397\n",
       "452     system   188.160749   649.252764   Topic4  -5.4088   0.5369\n",
       "302       last   187.122180  1157.065603   Topic4  -5.4143  -0.0464\n",
       "\n",
       "[305 rows x 6 columns], token_table=      Topic      Freq     Term\n",
       "term                          \n",
       "4578      2  0.958708    actor\n",
       "4578      3  0.040580    actor\n",
       "5457      2  0.994947  actress\n",
       "9         1  0.055862  analyst\n",
       "9         3  0.283035  analyst\n",
       "...     ...       ...      ...\n",
       "7284      4  0.991180     worm\n",
       "392       1  0.294800     year\n",
       "392       2  0.496012     year\n",
       "392       3  0.119792     year\n",
       "392       4  0.089844     year\n",
       "\n",
       "[512 rows x 3 columns], R=30, lambda_step=0.01, plot_opts={'xlab': 'PC1', 'ylab': 'PC2'}, topic_order=[1, 3, 4, 2])"
      ]
     },
     "execution_count": 23,
     "metadata": {},
     "output_type": "execute_result"
    }
   ],
   "source": [
    "# Visualize the topics\n",
    "pyLDAvis.enable_notebook()\n",
    "vis = pyLDAvis.gensim.prepare(optimal_model, corpus, id2word)\n",
    "vis"
   ]
  },
  {
   "cell_type": "markdown",
   "id": "aaae4d49",
   "metadata": {},
   "source": [
    "### Model 2.1 Gensim model with TF-IDF (alternative approach)"
   ]
  },
  {
   "cell_type": "code",
   "execution_count": 24,
   "id": "fa8ecda1",
   "metadata": {},
   "outputs": [
    {
     "name": "stdout",
     "output_type": "stream",
     "text": [
      "[(0, 11.119589620741124),\n",
      " (1, 11.119589620741124),\n",
      " (2, 9.119589620741122),\n",
      " (3, 11.119589620741124),\n",
      " (4, 4.299410658325935),\n",
      " (5, 6.212699025132605),\n",
      " (6, 6.660158002103826),\n",
      " (7, 11.743324214595075),\n",
      " (8, 4.200726383466528),\n",
      " (9, 3.1712223891564446),\n",
      " (10, 10.119589620741122),\n",
      " (11, 11.119589620741124),\n",
      " (12, 2.069741071290561),\n",
      " (13, 4.312234698683518),\n",
      " (14, 9.119589620741122),\n",
      " (15, 4.852803080046221),\n",
      " (16, 3.8249688718494954),\n",
      " (17, 3.5196767785539946),\n",
      " (18, 2.1083623653178685),\n",
      " (19, 10.119589620741122),\n",
      " (20, 4.660158002103826),\n",
      " (21, 5.910136255112173),\n",
      " (22, 8.377704566356472),\n",
      " (23, 7.312234698683518),\n",
      " (24, 5.212699025132604),\n",
      " (25, 5.142309697241206),\n",
      " (26, 3.806706665456767),\n",
      " (27, 6.212699025132605),\n",
      " (28, 7.119589620741122),\n",
      " (29, 4.834187401878874),\n",
      " (30, 6.064253558981567),\n",
      " (31, 3.3058084295240855),\n",
      " (32, 3.6849613931043983),\n",
      " (33, 2.3713967711516624),\n",
      " (34, 6.364702118577654),\n",
      " (35, 5.910136255112173),\n",
      " (36, 13.559030335661985),\n",
      " (37, 3.939680530726188),\n",
      " (38, 8.79766152585376),\n",
      " (39, 5.212699025132604),\n",
      " (40, 4.744550189394198),\n",
      " (41, 3.8528030800462214),\n",
      " (42, 3.2930411334502074),\n",
      " (43, 4.980466001323026),\n",
      " (44, 5.59602766468411),\n",
      " (45, 7.79766152585376),\n",
      " (46, 11.312584399530136),\n",
      " (47, 4.4902330006615125),\n",
      " (48, 6.075195501382669),\n",
      " (49, 3.753267406495307),\n",
      " (50, 4.086166619203672),\n",
      " (51, 4.461378137989327),\n",
      " (52, 2.684961393104398),\n",
      " (53, 5.990306603796156),\n",
      " (54, 2.3950757676211727),\n",
      " (55, 7.534627120019966),\n",
      " (56, 3.4975378012847465),\n",
      " (57, 1.952171474909385),\n",
      " (58, 3.130904933968957),\n",
      " (59, 6.312234698683518),\n",
      " (60, 7.534627120019966),\n",
      " (61, 4.165393310354248),\n",
      " (62, 10.119589620741122),\n",
      " (63, 2.3186897208208177),\n",
      " (64, 6.663374122699382),\n",
      " (65, 32.00518838414092),\n",
      " (66, 6.075195501382669),\n",
      " (67, 5.762037616123039),\n",
      " (68, 15.798658477195241),\n",
      " (69, 6.727272197962362),\n",
      " (70, 4.910136255112173),\n",
      " (71, 5.871662107297538),\n",
      " (72, 17.59532305170752),\n",
      " (73, 7.223589961084852),\n",
      " (74, 17.90293372386559),\n",
      " (75, 5.949664619298811),\n",
      " (76, 14.033533327283836),\n",
      " (77, 11.119589620741124),\n",
      " (78, 2.635773843476866),\n",
      " (79, 8.119589620741122),\n",
      " (80, 4.534627120019966),\n",
      " (81, 15.860098819729142),\n",
      " (82, 6.16134126289764),\n",
      " (83, 12.150391002765337),\n",
      " (84, 3.0588936890535687),\n",
      " (85, 2.790151535242346),\n",
      " (86, 77.83712734518787),\n",
      " (87, 7.660158002103826),\n",
      " (88, 5.727272197962362),\n",
      " (89, 3.5573471965200496),\n",
      " (90, 4.086166619203672),\n",
      " (91, 11.119589620741124),\n",
      " (92, 2.018927281735924),\n",
      " (93, 3.3058084295240855),\n",
      " (94, 4.627736524411448),\n",
      " (95, 22.239179241482248)]\n"
     ]
    }
   ],
   "source": [
    "tfidf = TfidfModel(corpus=corpus, id2word = id2word, normalize = False)\n",
    "corpus_tfidf = tfidf[corpus]\n",
    "\n",
    "for doc in corpus_tfidf:\n",
    "    pprint(doc)\n",
    "    break"
   ]
  },
  {
   "cell_type": "code",
   "execution_count": 25,
   "id": "edb57e5d",
   "metadata": {},
   "outputs": [],
   "source": [
    "# LDA model\n",
    "num_topics = 5\n",
    "\n",
    "lda_model = gensim.models.LdaMulticore(corpus = corpus_tfidf, id2word = id2word, num_topics = num_topics, \n",
    "                                       chunksize = 1000,\n",
    "                                       passes = 50,\n",
    "                                       iterations = 50,\n",
    "                                       per_word_topics = True\n",
    "                                      )"
   ]
  },
  {
   "cell_type": "code",
   "execution_count": 26,
   "id": "03721fe2",
   "metadata": {},
   "outputs": [
    {
     "name": "stdout",
     "output_type": "stream",
     "text": [
      "[(0,\n",
      "  '0.010*\"mobil\" + 0.010*\"phone\" + 0.007*\"technolog\" + 0.006*\"servic\" + '\n",
      "  '0.005*\"game\" + 0.005*\"peopl\" + 0.005*\"devic\" + 0.005*\"digit\" + '\n",
      "  '0.004*\"search\" + 0.004*\"user\"'),\n",
      " (1,\n",
      "  '0.006*\"game\" + 0.005*\"good\" + 0.005*\"player\" + 0.005*\"film\" + 0.004*\"club\" '\n",
      "  '+ 0.004*\"match\" + 0.004*\"award\" + 0.004*\"team\" + 0.004*\"side\" + '\n",
      "  '0.004*\"win\"'),\n",
      " (2,\n",
      "  '0.006*\"price\" + 0.006*\"growth\" + 0.005*\"economi\" + 0.005*\"rate\" + '\n",
      "  '0.005*\"market\" + 0.005*\"sale\" + 0.005*\"profit\" + 0.004*\"econom\" + '\n",
      "  '0.004*\"oil\" + 0.004*\"bank\"'),\n",
      " (3,\n",
      "  '0.007*\"elect\" + 0.006*\"labour\" + 0.006*\"govern\" + 0.005*\"tori\" + '\n",
      "  '0.005*\"parti\" + 0.004*\"law\" + 0.003*\"polit\" + 0.003*\"minist\" + '\n",
      "  '0.003*\"campaign\" + 0.003*\"plan\"'),\n",
      " (4,\n",
      "  '0.009*\"music\" + 0.007*\"film\" + 0.005*\"song\" + 0.005*\"softwar\" + '\n",
      "  '0.005*\"band\" + 0.004*\"viru\" + 0.004*\"program\" + 0.004*\"email\" + '\n",
      "  '0.004*\"site\" + 0.004*\"album\"')]\n"
     ]
    }
   ],
   "source": [
    "# Print the most common words per topic\n",
    "pprint(lda_model.print_topics())"
   ]
  },
  {
   "cell_type": "code",
   "execution_count": 27,
   "id": "2810247b",
   "metadata": {},
   "outputs": [
    {
     "name": "stderr",
     "output_type": "stream",
     "text": [
      "C:\\Users\\User\\anaconda3\\envs\\newtensorflow\\lib\\site-packages\\pyLDAvis\\_prepare.py:243: FutureWarning: In a future version of pandas all arguments of DataFrame.drop except for the argument 'labels' will be keyword-only.\n",
      "  default_term_info = default_term_info.sort_values(\n"
     ]
    },
    {
     "data": {
      "text/html": [
       "\n",
       "<link rel=\"stylesheet\" type=\"text/css\" href=\"https://cdn.jsdelivr.net/gh/bmabey/pyLDAvis@3.4.0/pyLDAvis/js/ldavis.v1.0.0.css\">\n",
       "\n",
       "\n",
       "<div id=\"ldavis_el2188023179076513766951607354\" style=\"background-color:white;\"></div>\n",
       "<script type=\"text/javascript\">\n",
       "\n",
       "var ldavis_el2188023179076513766951607354_data = {\"mdsDat\": {\"x\": [0.06023532512640192, -0.2397054590533602, 0.15144535218465885, 0.11522935340721774, -0.08720457166491796], \"y\": [0.14185953323557812, 0.08363008730299525, 0.03705280227826719, -0.08400143824263226, -0.17854098457420803], \"topics\": [1, 2, 3, 4, 5], \"cluster\": [1, 1, 1, 1, 1], \"Freq\": [25.083802646336945, 20.19705568939603, 18.95690625677399, 18.574365922606614, 17.187869484886413]}, \"tinfo\": {\"Term\": [\"mobil\", \"phone\", \"music\", \"film\", \"elect\", \"technolog\", \"labour\", \"growth\", \"tori\", \"price\", \"devic\", \"economi\", \"song\", \"award\", \"game\", \"parti\", \"band\", \"profit\", \"oil\", \"viru\", \"softwar\", \"rate\", \"album\", \"econom\", \"player\", \"govern\", \"match\", \"bank\", \"digit\", \"club\", \"glazer\", \"asylum\", \"kilroysilk\", \"lse\", \"boers\", \"yuko\", \"lord\", \"jewish\", \"detaine\", \"regiment\", \"detent\", \"visa\", \"verita\", \"apolog\", \"simonetti\", \"quota\", \"antiterror\", \"euronext\", \"parmalat\", \"bing\", \"ukip\", \"rail\", \"backbench\", \"migrant\", \"wolf\", \"drunk\", \"immigr\", \"baikal\", \"islam\", \"menatep\", \"mp\", \"suspect\", \"rosneft\", \"tori\", \"blair\", \"conserv\", \"hunt\", \"poster\", \"labour\", \"parti\", \"terror\", \"politician\", \"polit\", \"elect\", \"prime\", \"deutsch\", \"secretari\", \"liber\", \"inquiri\", \"parliament\", \"polic\", \"minist\", \"law\", \"brown\", \"leader\", \"govern\", \"campaign\", \"propos\", \"issu\", \"case\", \"plan\", \"human\", \"claim\", \"vote\", \"public\", \"spokesman\", \"court\", \"tax\", \"bill\", \"polici\", \"countri\", \"right\", \"peopl\", \"arsen\", \"refere\", \"slam\", \"tournament\", \"mourinho\", \"striker\", \"tenni\", \"souness\", \"vera\", \"eastwood\", \"midfield\", \"bellami\", \"semifin\", \"drake\", \"rugbi\", \"davenport\", \"chelsea\", \"safin\", \"quarterfin\", \"rooney\", \"hodgson\", \"header\", \"ankl\", \"flanker\", \"tiebreak\", \"blackburn\", \"bloglin\", \"barkley\", \"sub\", \"barcelona\", \"roddick\", \"celtic\", \"cup\", \"match\", \"ball\", \"liverpool\", \"nadal\", \"squad\", \"premiership\", \"seed\", \"injuri\", \"leagu\", \"championship\", \"season\", \"victori\", \"coach\", \"goal\", \"ranger\", \"win\", \"lion\", \"champion\", \"grand\", \"england\", \"side\", \"minut\", \"club\", \"team\", \"final\", \"wale\", \"footbal\", \"actress\", \"player\", \"oscar\", \"good\", \"game\", \"award\", \"winner\", \"film\", \"chanc\", \"second\", \"actor\", \"titl\", \"open\", \"first\", \"nation\", \"time\", \"currenc\", \"gdp\", \"yen\", \"bluray\", \"qanta\", \"jobless\", \"hddvd\", \"feta\", \"telew\", \"quarterli\", \"gorg\", \"settop\", \"slide\", \"tremor\", \"mmorpg\", \"chees\", \"upward\", \"eurozon\", \"warcraft\", \"ism\", \"heathrow\", \"pin\", \"relianc\", \"schroeder\", \"oracl\", \"dtt\", \"mallon\", \"restat\", \"mpc\", \"earthquak\", \"export\", \"retail\", \"premium\", \"lend\", \"economist\", \"carrier\", \"pretax\", \"profit\", \"deficit\", \"subsidi\", \"growth\", \"laser\", \"aircraft\", \"barrel\", \"price\", \"fuel\", \"oil\", \"crude\", \"economi\", \"euro\", \"mortgag\", \"bank\", \"rate\", \"output\", \"econom\", \"inflat\", \"fall\", \"quarter\", \"dollar\", \"share\", \"analyst\", \"market\", \"rise\", \"sale\", \"demand\", \"trade\", \"budget\", \"product\", \"car\", \"airlin\", \"compani\", \"high\", \"figur\", \"cost\", \"consum\", \"invest\", \"month\", \"firm\", \"handset\", \"ebber\", \"fiat\", \"multimedia\", \"wifi\", \"ipod\", \"rfid\", \"embargo\", \"portabl\", \"vodafon\", \"tmobil\", \"mobil\", \"mm\", \"seafar\", \"ce\", \"psp\", \"hdtv\", \"podcast\", \"hotspot\", \"commodor\", \"nokia\", \"worldcom\", \"ericsson\", \"carniv\", \"tuition\", \"cebit\", \"rington\", \"wmc\", \"turkcel\", \"cab\", \"devic\", \"nintendo\", \"wireless\", \"phone\", \"mp3\", \"handheld\", \"g\", \"consol\", \"playstat\", \"camera\", \"gadget\", \"student\", \"search\", \"desktop\", \"technolog\", \"storag\", \"digit\", \"wage\", \"audio\", \"servic\", \"content\", \"pension\", \"engin\", \"text\", \"video\", \"imag\", \"network\", \"user\", \"comput\", \"peopl\", \"game\", \"access\", \"tv\", \"consum\", \"pc\", \"music\", \"net\", \"medium\", \"system\", \"player\", \"research\", \"tax\", \"inform\", \"album\", \"spam\", \"bittorr\", \"spammer\", \"iaaf\", \"sprinter\", \"copyright\", \"p2p\", \"junk\", \"thanou\", \"malici\", \"greek\", \"rapper\", \"musician\", \"cont\", \"worm\", \"rap\", \"pirat\", \"osbourn\", \"antiviru\", \"napster\", \"parker\", \"u2\", \"concert\", \"bot\", \"kosta\", \"radcliff\", \"jazz\", \"hiphop\", \"bug\", \"chart\", \"spywar\", \"pop\", \"hacker\", \"patent\", \"viru\", \"uwb\", \"singer\", \"browser\", \"holm\", \"band\", \"bowl\", \"song\", \"artist\", \"program\", \"rock\", \"copi\", \"angel\", \"urban\", \"music\", \"piraci\", \"email\", \"softwar\", \"athlet\", \"film\", \"festiv\", \"murder\", \"site\", \"version\", \"movi\", \"attack\", \"award\", \"secur\", \"file\", \"user\", \"show\", \"record\", \"network\", \"good\", \"number\"], \"Freq\": [2400.0, 2342.0, 2831.0, 3059.0, 2279.0, 2124.0, 1991.0, 1466.0, 1553.0, 1607.0, 1113.0, 1567.0, 1171.0, 1720.0, 3450.0, 1609.0, 1057.0, 1177.0, 1257.0, 942.0, 1487.0, 1598.0, 842.0, 1368.0, 2041.0, 2581.0, 1032.0, 1265.0, 1321.0, 1481.0, 544.0136011230605, 518.0315622258388, 465.5112382830382, 382.1283806620505, 358.74125973452055, 349.63229111689503, 312.1456598169163, 256.26274437633236, 252.34077201411344, 247.9909109071942, 239.18464522570315, 235.01045729571817, 207.90805243257333, 204.01464286568046, 200.73266888963084, 202.03912635357233, 210.77215031586712, 194.97266497460075, 184.8476979969561, 176.06422354530557, 170.62388691224595, 143.19761977943747, 147.70297202359808, 133.1139941750149, 133.55724302849936, 132.079805241988, 752.2066176866659, 128.1403706672618, 174.64133903831137, 116.49655999161153, 862.1513629213522, 354.44526042563064, 311.03132356956746, 1514.5416874176753, 327.4442912868812, 900.8441592102703, 546.6737211871829, 503.24621285445085, 1846.8094954109206, 1487.0293538890087, 604.6937385339627, 477.8125648758841, 1099.8934671262991, 2062.387829297189, 472.699252887826, 451.691565858858, 467.58147853923276, 626.7568291480059, 401.28031577261123, 486.5828735200054, 994.337988223588, 1071.1918591965036, 1273.8280936444903, 893.564315863892, 909.8268540884558, 1791.3025983836928, 1017.0371680484556, 666.0840919711902, 921.2847207821384, 858.0320509622454, 1000.8109187723758, 646.9256661543965, 687.0834443432909, 730.9780253717031, 920.493592201978, 705.3226238898498, 747.0447360388991, 826.7982562633389, 676.6960278718597, 670.2423481676943, 816.2279936470056, 729.5093555704581, 853.2159469374315, 496.3157543427322, 417.9618991440883, 387.16911478150337, 417.8897121542442, 330.7754861740978, 330.06840406707676, 290.8885664204472, 246.70098277287903, 246.05190859866772, 238.5737848356571, 248.6973494617787, 234.85799590902238, 240.237262898622, 241.90752612291118, 350.1045251951602, 242.0125105336861, 392.88863459838757, 212.078412834539, 209.45586632320496, 205.4006411641934, 173.5518065725602, 168.74379968605444, 177.7518659738444, 167.99385376996716, 168.72261275999364, 178.22993032719504, 160.11163430506693, 159.10757890087143, 171.11897732906414, 154.91785313696516, 547.6818308108914, 324.71703492896154, 452.93642148766384, 998.5981746629708, 672.5720341666428, 398.9956955113045, 431.22081703642385, 355.34706450284403, 462.6598397618132, 498.49769593621056, 854.3145252187065, 421.4129183072738, 454.030450803512, 920.1336782779184, 756.770986631801, 663.2543002426581, 799.5402488548877, 284.24706641118536, 924.5325414212866, 463.6741100259455, 674.4601203707763, 502.0224758903351, 537.2012657382865, 925.1002975898673, 872.6540590721114, 1085.0163648381208, 964.2476199119886, 867.2913763827289, 915.1658118028377, 615.1168321791766, 582.7398240012179, 1235.2436968250336, 592.522512218489, 1327.9522215047575, 1595.7131572538628, 975.6405145098797, 622.1290959709123, 1204.324741125613, 668.7557149832753, 787.6341763226131, 668.3542472322706, 634.6050032769872, 655.2959741323566, 667.8125033232965, 629.2119135626765, 627.9498438619959, 368.93127112344985, 264.09982472941783, 279.8221085456189, 214.47081661115746, 168.21760614225838, 159.16678834816696, 143.0339499896539, 130.82340488252882, 125.17320391025919, 138.361772128906, 121.53661682045707, 114.0843432559781, 123.56260545033889, 109.15359867124499, 109.1520587955814, 102.85569533670493, 101.87147091594966, 101.35626057061793, 99.24045050553458, 99.24688175095316, 98.3612720825373, 93.52143590406237, 113.88549723024067, 89.45635228175011, 87.27235568615073, 87.2684746420574, 87.23749596694252, 86.3002830443879, 84.18563659575622, 90.0742186820678, 631.2881516990356, 624.9023360964063, 230.84153440476322, 189.42037015509965, 430.2196882165283, 229.34579255316362, 126.16038266260436, 1095.2706102302473, 670.0150909584444, 217.83228853941299, 1334.9766026349896, 262.88350411701236, 219.29062743824232, 267.3075599307875, 1395.4361624907838, 450.06605170591826, 1072.531175724865, 309.9942511364601, 1300.6311043497242, 738.2433165693645, 340.162742619393, 1031.0253810235718, 1266.218492569473, 358.4079977423189, 1073.6689835817162, 437.75197957340924, 429.2601714840225, 701.0014027417786, 861.9673790281969, 997.8856959638308, 804.708865321116, 1189.3587134107531, 628.8792008690493, 1109.6336785466708, 566.9041246497402, 665.8562839535477, 662.2616985402171, 772.6602762338424, 607.1716084780201, 521.882006451196, 927.7294624089186, 736.5577310420608, 655.8650132270213, 630.8057595182993, 664.7994136338389, 552.0612282894319, 654.9167285287677, 711.9023846295735, 481.3226808157033, 401.5162692499831, 388.83149270660755, 378.18885548795015, 350.6742914686148, 510.6777645471011, 217.27417536415933, 219.7960180771899, 551.4829197498167, 201.98732335386146, 185.42732937528297, 2390.331780616206, 165.42803196218108, 160.46744669612417, 201.31917676669622, 152.90034831082795, 221.97399052575335, 226.21164809358075, 160.63061575824227, 141.75542346714326, 132.33548917781548, 126.87851495073421, 122.10186695963905, 121.25407055236603, 115.92031286223485, 110.37425788525748, 110.01197477725343, 110.34523563910416, 110.34316701040869, 110.360555780334, 1101.021137365482, 339.18964727216877, 481.23185231351005, 2263.0910440018843, 271.6370001481656, 188.65428090570086, 518.4765083833457, 455.17890076993785, 316.4074503009622, 742.0055615155012, 832.5587927219676, 616.2903395703079, 1003.4993992811835, 280.715917924824, 1666.0558007239567, 325.27366116132964, 1061.8355477523858, 513.099930761934, 271.32710181897465, 1341.570403157278, 663.5975156392906, 655.4320169069377, 514.6206937295043, 406.09027355481095, 820.0788035922864, 561.4177992140113, 833.7988229768058, 891.3247790237539, 838.9109984460122, 1210.0935519127038, 1251.0478668505307, 627.3163626405261, 743.5374664039659, 714.1143295674973, 644.3807606629292, 833.9458526388048, 661.358699563882, 603.8316511717483, 655.2249628769831, 671.4969190844, 580.2603713470015, 580.5515359562573, 574.0396839833187, 841.2608455118666, 613.6702212719584, 304.20610447546676, 292.5164831543202, 285.1948086481663, 288.788376740575, 265.07817083860033, 240.27022927192633, 235.4537371519518, 228.34567129160138, 369.331344936713, 332.16174746631845, 197.20778257054891, 332.046844057769, 180.95456023588451, 169.06728837372862, 157.33565541486195, 151.9476028606294, 148.01991273878573, 270.7180152474154, 138.90108776913607, 141.5762498732851, 151.80116229486205, 279.917767898147, 121.93054672871305, 121.38771846413188, 120.52956916768794, 118.29265477912475, 115.79675917602032, 117.47170315529677, 776.4681097899416, 387.47018855812615, 528.5347050962824, 182.31715242686641, 559.3582330514772, 914.3806542472137, 198.43476245847808, 663.6256342485592, 328.4059954996915, 245.98449429613134, 989.5091373038227, 229.04712033811896, 1057.3182707088163, 708.2667835323666, 883.4802039309843, 488.5217347148312, 561.3707484367593, 313.1078714227422, 398.62817629469754, 1975.5111809960056, 358.97474972165656, 848.5225792031802, 1028.0613914706726, 546.0237266040275, 1587.060434495952, 574.9149466555183, 377.8420561885183, 844.8924199219481, 594.3747372474846, 561.5898912471707, 597.831189462438, 738.4089269465173, 633.7813249169164, 486.0219601424696, 617.5946262732585, 542.2045970810685, 566.3876834502051, 565.2739770456327, 573.87214831437, 518.4135519435649], \"Total\": [2400.0, 2342.0, 2831.0, 3059.0, 2279.0, 2124.0, 1991.0, 1466.0, 1553.0, 1607.0, 1113.0, 1567.0, 1171.0, 1720.0, 3450.0, 1609.0, 1057.0, 1177.0, 1257.0, 942.0, 1487.0, 1598.0, 842.0, 1368.0, 2041.0, 2581.0, 1032.0, 1265.0, 1321.0, 1481.0, 544.8054615445681, 518.8589976542293, 466.3023957567764, 382.9226092921119, 359.5386457428456, 350.42646963298364, 312.95788840347797, 257.054074080641, 253.13081691479067, 248.78094687546192, 239.97532551289586, 235.81778001505546, 208.6979998280165, 204.80895588821156, 201.52268714868603, 202.8399068281298, 211.61373698366003, 195.7647408439142, 185.639499554283, 176.85453459077743, 171.4137516977999, 143.99024965026896, 148.57521740843947, 133.90539361560667, 134.3554255499799, 132.8737176897927, 756.8432950112166, 128.93067647443507, 175.75214014817666, 117.28761649426278, 873.347120529197, 357.2001502193281, 313.53650138649186, 1553.836231901817, 330.98211237658086, 936.7178033660367, 563.0210402704517, 520.530483181893, 1991.917562519774, 1609.5512597590953, 633.3598450506634, 495.67944471573315, 1183.056682890923, 2279.4891360342313, 495.43309178451557, 473.38908678836697, 492.1601468457794, 674.989060656879, 420.1309900195208, 520.1324335684999, 1141.8103302923219, 1242.8977045798615, 1508.3859436638002, 1040.1530754786395, 1122.1158604299083, 2581.29149698708, 1335.215569844413, 791.0539579552787, 1247.6763116272737, 1219.4578987724026, 1601.7683415964736, 823.5066032316311, 922.429497260504, 1029.1041474120098, 1529.8937556534136, 986.0034097262404, 1127.0449452614823, 1637.5815295011103, 998.393877013521, 980.7779294543226, 1725.200453574383, 1423.7129955340947, 3004.3079803638075, 497.2802680496248, 418.8079923094755, 387.98742889011197, 418.8185032368173, 331.5714367602028, 330.90179082172756, 291.7205426242184, 247.49428403445756, 246.8717268992803, 239.37125166923607, 249.53206741774244, 235.6509516171835, 241.05160935915225, 242.7282386792429, 351.29763557452617, 242.85592287034024, 394.3061804127812, 212.87399672474683, 210.25195677632115, 206.27051820124703, 174.34960505136698, 169.55230318412507, 178.6224300846832, 168.82139677289612, 169.55433686556358, 179.1110439664765, 160.90831714089813, 159.90177404242164, 171.98355150575603, 155.71084639847487, 551.8470697254454, 326.83447498408435, 460.27996652756246, 1032.1920251180818, 691.2379007822942, 406.3860021570516, 440.81910276622784, 361.8901108156741, 477.38490117210705, 516.3081441539216, 900.1554000227936, 434.71937913490024, 470.4218540897694, 1005.3078532594312, 832.4378664610226, 727.3017010886646, 896.4888203587413, 289.9297175476648, 1077.613426018437, 500.3586557251183, 769.9191551343215, 556.5594431860379, 607.3617362484246, 1169.4883946516227, 1116.2085202015337, 1481.2194315534841, 1282.0538864594678, 1144.2367845627612, 1241.8481421087151, 735.3653831209169, 685.6293395417441, 2041.1951891268664, 718.3031530124792, 2530.4423765595225, 3450.265931502786, 1720.8749806878232, 832.8177134710866, 3059.4428636534617, 988.7300062233465, 1388.557001795447, 1044.7617518508857, 1057.8143643653207, 1205.297932239798, 1648.2261296504544, 1505.6735242035895, 1914.865675136926, 369.77452424338134, 264.94714026820924, 280.77658736379067, 215.26936197668317, 169.01158403884946, 159.96872383283042, 143.83166641760607, 131.61729565962202, 125.96869694454026, 139.25743336633778, 122.3304928826511, 114.8839308805391, 124.45360940648065, 109.94930226620842, 109.94856874126428, 103.65170217345249, 102.66548112123911, 102.15111173756274, 100.0364974599151, 100.04997657789714, 99.16578520177173, 94.31605337678211, 114.87603259383786, 90.25268615852066, 88.06580217258657, 88.06258760303571, 88.03568046847086, 87.0993520546327, 84.98154484084696, 90.95174026135753, 640.0299763196334, 637.7911208849439, 233.91661240301642, 191.63567830272228, 441.1475883973835, 235.61391150360927, 128.08887955642197, 1177.068741864217, 709.6646009649829, 224.05723142654014, 1466.337814156872, 273.4397941237167, 227.01776346491604, 281.48872125009774, 1607.3851590656166, 489.3460849177056, 1257.7595844907464, 334.69694930907013, 1567.0279274449804, 862.2934935696309, 372.505146790347, 1265.6745434771442, 1598.30315211911, 400.8479096226674, 1368.0391669146186, 500.6650423697428, 492.2605937846416, 884.6436465757957, 1134.1756172549087, 1451.0700673585677, 1132.4212624963386, 2057.841041522114, 896.8874382205703, 1970.6835211295227, 795.9004240164583, 1015.227166264709, 1010.2548725719005, 1333.2597579844498, 940.7002793302637, 761.7399369295645, 2146.2707533767675, 1436.675155306913, 1207.7695316384913, 1152.5522696759726, 1425.6598580270877, 892.3326837228545, 1595.6136752132384, 2131.2540181820973, 482.12228728791644, 402.3173668951109, 389.6256674737379, 379.02874029611655, 351.54754229274755, 512.181004475453, 218.06606502055993, 220.59828587497316, 553.5371670619112, 202.82024247340064, 186.22235884257825, 2400.581079832109, 166.23145237569685, 161.25891896328767, 202.3568337077418, 153.69218350374217, 223.14204676704554, 227.40382359267224, 161.48961209129462, 142.54884278837784, 133.16278248334956, 127.67513630233525, 122.89422832439926, 122.04705437100729, 116.72357033014224, 111.16579974104518, 110.80363962153824, 111.14232872417048, 111.14125330034318, 111.16333981395516, 1113.1919500492738, 342.05522842795847, 488.76797220935003, 2342.2577354933806, 276.6026585382382, 191.39578969080773, 549.427777662333, 480.15948752649, 330.4002652043648, 805.865052790524, 937.1770948184349, 684.6153504958206, 1167.0380749353294, 296.61944546959484, 2124.419158404926, 349.460502531262, 1321.3056045315507, 587.9616526949354, 289.2933943510243, 2223.7798536773535, 925.7085346088359, 911.5081203245051, 666.051246024738, 497.55424903568843, 1316.2237173769427, 786.3221661981839, 1483.1947557516128, 1646.744070425973, 1576.8109162206351, 3004.3079803638075, 3450.265931502786, 1004.450032991805, 1507.384064922244, 1425.6598580270877, 1190.8246665661054, 2831.085081258617, 1517.9772888850616, 1100.6926383438424, 1701.0086511112986, 2041.1951891268664, 1017.6373622133929, 1637.5815295011103, 1292.0929195284718, 842.2385731010564, 614.6693587261938, 305.0079133737971, 293.31134139237054, 285.98879760495345, 289.60356612931974, 265.882466591437, 241.06286746528053, 236.26268329215893, 229.1387551143592, 370.67069286178855, 333.42450068249116, 198.02717540803076, 333.46521677232226, 181.74684827726486, 169.87790025601552, 158.13992923369673, 152.75528851241367, 148.81784647145602, 272.2579662860204, 139.69817013834938, 142.3908153074471, 152.74716690254328, 281.7345511468225, 122.72383464739599, 122.18004154038358, 121.33116789245763, 119.0849243528609, 116.59296671594652, 118.28530229646572, 783.8100747129577, 390.2410392572947, 535.0092454832924, 183.92483946102993, 571.055605805403, 942.5584720980276, 201.01781783622684, 694.4712335479313, 337.46880068289454, 250.81533164594245, 1057.055586257246, 233.74580630317962, 1171.2125080579128, 783.564377680166, 999.0907490976213, 531.2171489070541, 623.6922693905893, 329.6223421500608, 437.56210613056965, 2831.085081258617, 390.93837252653594, 1121.2784285057187, 1487.4416251652258, 685.2753743226839, 3059.4428636534617, 764.6339851389516, 429.37077039747726, 1500.8846325853167, 884.8873207207671, 915.9599642995049, 1065.9590644223572, 1720.8749806878232, 1374.8143577968267, 777.2525112681677, 1646.744070425973, 1199.1336480978032, 1436.4225565475458, 1483.1947557516128, 2530.4423765595225, 1763.4857373711397], \"Category\": [\"Default\", \"Default\", \"Default\", \"Default\", \"Default\", \"Default\", \"Default\", \"Default\", \"Default\", \"Default\", \"Default\", \"Default\", \"Default\", \"Default\", \"Default\", \"Default\", \"Default\", \"Default\", \"Default\", \"Default\", \"Default\", \"Default\", \"Default\", \"Default\", \"Default\", \"Default\", \"Default\", \"Default\", \"Default\", \"Default\", \"Topic1\", \"Topic1\", \"Topic1\", \"Topic1\", \"Topic1\", \"Topic1\", \"Topic1\", \"Topic1\", \"Topic1\", \"Topic1\", \"Topic1\", \"Topic1\", \"Topic1\", \"Topic1\", \"Topic1\", \"Topic1\", \"Topic1\", \"Topic1\", \"Topic1\", \"Topic1\", \"Topic1\", \"Topic1\", \"Topic1\", \"Topic1\", \"Topic1\", \"Topic1\", \"Topic1\", \"Topic1\", \"Topic1\", \"Topic1\", \"Topic1\", \"Topic1\", \"Topic1\", \"Topic1\", \"Topic1\", \"Topic1\", \"Topic1\", \"Topic1\", \"Topic1\", \"Topic1\", \"Topic1\", \"Topic1\", \"Topic1\", \"Topic1\", \"Topic1\", \"Topic1\", \"Topic1\", \"Topic1\", \"Topic1\", \"Topic1\", \"Topic1\", \"Topic1\", \"Topic1\", \"Topic1\", \"Topic1\", \"Topic1\", \"Topic1\", \"Topic1\", \"Topic1\", \"Topic1\", \"Topic1\", \"Topic1\", \"Topic1\", \"Topic1\", \"Topic1\", \"Topic1\", \"Topic1\", \"Topic1\", \"Topic1\", \"Topic1\", \"Topic1\", \"Topic1\", \"Topic1\", \"Topic2\", \"Topic2\", \"Topic2\", \"Topic2\", \"Topic2\", \"Topic2\", \"Topic2\", \"Topic2\", \"Topic2\", \"Topic2\", \"Topic2\", \"Topic2\", \"Topic2\", \"Topic2\", \"Topic2\", \"Topic2\", \"Topic2\", \"Topic2\", \"Topic2\", \"Topic2\", \"Topic2\", \"Topic2\", \"Topic2\", \"Topic2\", \"Topic2\", \"Topic2\", \"Topic2\", \"Topic2\", \"Topic2\", \"Topic2\", \"Topic2\", \"Topic2\", \"Topic2\", \"Topic2\", \"Topic2\", \"Topic2\", \"Topic2\", \"Topic2\", \"Topic2\", \"Topic2\", \"Topic2\", \"Topic2\", \"Topic2\", \"Topic2\", \"Topic2\", \"Topic2\", \"Topic2\", \"Topic2\", \"Topic2\", \"Topic2\", \"Topic2\", \"Topic2\", \"Topic2\", \"Topic2\", \"Topic2\", \"Topic2\", \"Topic2\", \"Topic2\", \"Topic2\", \"Topic2\", \"Topic2\", \"Topic2\", \"Topic2\", \"Topic2\", \"Topic2\", \"Topic2\", \"Topic2\", \"Topic2\", \"Topic2\", \"Topic2\", \"Topic2\", \"Topic2\", \"Topic2\", \"Topic2\", \"Topic2\", \"Topic2\", \"Topic3\", \"Topic3\", \"Topic3\", \"Topic3\", \"Topic3\", \"Topic3\", \"Topic3\", \"Topic3\", \"Topic3\", \"Topic3\", \"Topic3\", \"Topic3\", \"Topic3\", \"Topic3\", \"Topic3\", \"Topic3\", \"Topic3\", \"Topic3\", \"Topic3\", \"Topic3\", \"Topic3\", \"Topic3\", \"Topic3\", \"Topic3\", \"Topic3\", \"Topic3\", \"Topic3\", \"Topic3\", \"Topic3\", \"Topic3\", \"Topic3\", \"Topic3\", \"Topic3\", \"Topic3\", \"Topic3\", \"Topic3\", \"Topic3\", \"Topic3\", \"Topic3\", \"Topic3\", \"Topic3\", \"Topic3\", \"Topic3\", \"Topic3\", \"Topic3\", \"Topic3\", \"Topic3\", \"Topic3\", \"Topic3\", \"Topic3\", \"Topic3\", \"Topic3\", \"Topic3\", \"Topic3\", \"Topic3\", \"Topic3\", \"Topic3\", \"Topic3\", \"Topic3\", \"Topic3\", \"Topic3\", \"Topic3\", \"Topic3\", \"Topic3\", \"Topic3\", \"Topic3\", \"Topic3\", \"Topic3\", \"Topic3\", \"Topic3\", \"Topic3\", \"Topic3\", \"Topic3\", \"Topic3\", \"Topic3\", \"Topic3\", \"Topic3\", \"Topic3\", \"Topic4\", \"Topic4\", \"Topic4\", \"Topic4\", \"Topic4\", \"Topic4\", \"Topic4\", \"Topic4\", \"Topic4\", \"Topic4\", \"Topic4\", \"Topic4\", \"Topic4\", \"Topic4\", \"Topic4\", \"Topic4\", \"Topic4\", \"Topic4\", \"Topic4\", \"Topic4\", \"Topic4\", \"Topic4\", \"Topic4\", \"Topic4\", \"Topic4\", \"Topic4\", \"Topic4\", \"Topic4\", \"Topic4\", \"Topic4\", \"Topic4\", \"Topic4\", \"Topic4\", \"Topic4\", \"Topic4\", \"Topic4\", \"Topic4\", \"Topic4\", \"Topic4\", \"Topic4\", \"Topic4\", \"Topic4\", \"Topic4\", \"Topic4\", \"Topic4\", \"Topic4\", \"Topic4\", \"Topic4\", \"Topic4\", \"Topic4\", \"Topic4\", \"Topic4\", \"Topic4\", \"Topic4\", \"Topic4\", \"Topic4\", \"Topic4\", \"Topic4\", \"Topic4\", \"Topic4\", \"Topic4\", \"Topic4\", \"Topic4\", \"Topic4\", \"Topic4\", \"Topic4\", \"Topic4\", \"Topic4\", \"Topic4\", \"Topic4\", \"Topic4\", \"Topic4\", \"Topic4\", \"Topic5\", \"Topic5\", \"Topic5\", \"Topic5\", \"Topic5\", \"Topic5\", \"Topic5\", \"Topic5\", \"Topic5\", \"Topic5\", \"Topic5\", \"Topic5\", \"Topic5\", \"Topic5\", \"Topic5\", \"Topic5\", \"Topic5\", \"Topic5\", \"Topic5\", \"Topic5\", \"Topic5\", \"Topic5\", \"Topic5\", \"Topic5\", \"Topic5\", \"Topic5\", \"Topic5\", \"Topic5\", \"Topic5\", \"Topic5\", \"Topic5\", \"Topic5\", \"Topic5\", \"Topic5\", \"Topic5\", \"Topic5\", \"Topic5\", \"Topic5\", \"Topic5\", \"Topic5\", \"Topic5\", \"Topic5\", \"Topic5\", \"Topic5\", \"Topic5\", \"Topic5\", \"Topic5\", \"Topic5\", \"Topic5\", \"Topic5\", \"Topic5\", \"Topic5\", \"Topic5\", \"Topic5\", \"Topic5\", \"Topic5\", \"Topic5\", \"Topic5\", \"Topic5\", \"Topic5\", \"Topic5\", \"Topic5\", \"Topic5\", \"Topic5\", \"Topic5\", \"Topic5\", \"Topic5\", \"Topic5\", \"Topic5\", \"Topic5\"], \"logprob\": [30.0, 29.0, 28.0, 27.0, 26.0, 25.0, 24.0, 23.0, 22.0, 21.0, 20.0, 19.0, 18.0, 17.0, 16.0, 15.0, 14.0, 13.0, 12.0, 11.0, 10.0, 9.0, 8.0, 7.0, 6.0, 5.0, 4.0, 3.0, 2.0, 1.0, -6.367, -6.416, -6.5229, -6.7202, -6.7834, -6.8091, -6.9225, -7.1198, -7.1352, -7.1526, -7.1888, -7.2064, -7.3289, -7.3478, -7.364, -7.3575, -7.3152, -7.3931, -7.4465, -7.4951, -7.5265, -7.7018, -7.6708, -7.7748, -7.7715, -7.7826, -6.043, -7.8129, -7.5033, -7.9081, -5.9066, -6.7954, -6.9261, -5.3431, -6.8747, -5.8627, -6.3621, -6.4449, -5.1448, -5.3615, -6.2613, -6.4968, -5.663, -5.0344, -6.5075, -6.553, -6.5184, -6.2254, -6.6713, -6.4786, -5.7639, -5.6895, -5.5162, -5.8708, -5.8527, -5.1753, -5.7413, -6.1646, -5.8402, -5.9113, -5.7574, -6.1938, -6.1335, -6.0716, -5.8411, -6.1073, -6.0499, -5.9484, -6.1488, -6.1583, -5.9613, -6.0736, -5.917, -6.2421, -6.4139, -6.4904, -6.4141, -6.6479, -6.65, -6.7764, -6.9411, -6.9438, -6.9746, -6.9331, -6.9903, -6.9677, -6.9607, -6.5911, -6.9603, -6.4758, -7.0923, -7.1048, -7.1243, -7.2928, -7.3209, -7.2689, -7.3254, -7.321, -7.2662, -7.3734, -7.3797, -7.3069, -7.4064, -6.1436, -6.6663, -6.3336, -5.543, -5.9382, -6.4604, -6.3827, -6.5762, -6.3123, -6.2377, -5.699, -6.4057, -6.3311, -5.6248, -5.8202, -5.9521, -5.7653, -6.7995, -5.62, -6.3101, -5.9354, -6.2307, -6.1629, -5.6194, -5.6778, -5.46, -5.578, -5.6839, -5.6302, -6.0275, -6.0816, -5.3303, -6.0649, -5.2579, -5.0742, -5.5662, -6.0162, -5.3556, -5.9439, -5.7803, -5.9445, -5.9963, -5.9642, -5.9453, -6.0048, -6.0068, -6.4753, -6.8096, -6.7518, -7.0178, -7.2607, -7.316, -7.4229, -7.5121, -7.5562, -7.4561, -7.5857, -7.649, -7.5692, -7.6932, -7.6932, -7.7526, -7.7622, -7.7673, -7.7884, -7.7883, -7.7973, -7.8477, -7.6507, -7.8922, -7.9169, -7.9169, -7.9173, -7.9281, -7.9529, -7.8853, -5.9382, -5.9483, -6.9442, -7.142, -6.3216, -6.9507, -7.5484, -5.3872, -5.8786, -7.0022, -5.1893, -6.8142, -6.9955, -6.7975, -5.145, -6.2765, -5.4082, -6.6494, -5.2153, -5.7817, -6.5565, -5.4476, -5.2421, -6.5043, -5.4071, -6.3043, -6.3239, -5.8334, -5.6267, -5.4803, -5.6955, -5.3048, -5.942, -5.3741, -6.0457, -5.8849, -5.8903, -5.7361, -5.9771, -6.1285, -5.5532, -5.7839, -5.9, -5.9389, -5.8864, -6.0723, -5.9014, -5.818, -6.189, -6.3703, -6.4024, -6.4302, -6.5057, -6.1298, -6.9844, -6.9728, -6.0529, -7.0573, -7.1429, -4.5864, -7.257, -7.2875, -7.0607, -7.3358, -6.963, -6.9441, -7.2864, -7.4114, -7.4802, -7.5223, -7.5607, -7.5677, -7.6126, -7.6617, -7.665, -7.6619, -7.662, -7.6618, -5.3616, -6.539, -6.1892, -4.6411, -6.7611, -7.1256, -6.1147, -6.2449, -6.6085, -5.7562, -5.641, -5.9418, -5.4543, -6.7282, -4.9473, -6.5809, -5.3978, -6.1251, -6.7622, -5.164, -5.8679, -5.8803, -6.1221, -6.359, -5.6561, -6.0351, -5.6396, -5.5728, -5.6334, -5.2671, -5.2338, -5.9241, -5.7541, -5.7945, -5.8973, -5.6394, -5.8713, -5.9623, -5.8806, -5.856, -6.0021, -6.0016, -6.0129, -5.5531, -5.8685, -6.5703, -6.6094, -6.6348, -6.6223, -6.7079, -6.8062, -6.8265, -6.8571, -6.3763, -6.4823, -7.0037, -6.4827, -7.0897, -7.1577, -7.2296, -7.2644, -7.2906, -6.6869, -7.3542, -7.3351, -7.2654, -6.6535, -7.4845, -7.489, -7.4961, -7.5148, -7.5361, -7.5218, -5.6332, -6.3283, -6.0179, -7.0822, -5.9612, -5.4697, -6.9975, -5.7903, -6.4937, -6.7827, -5.3908, -6.854, -5.3245, -5.7251, -5.5041, -6.0966, -5.9576, -6.5414, -6.2999, -4.6994, -6.4047, -5.5445, -5.3525, -5.9853, -4.9183, -5.9337, -6.3535, -5.5488, -5.9005, -5.9572, -5.8947, -5.6835, -5.8363, -6.1017, -5.8621, -5.9923, -5.9487, -5.9507, -5.9356, -6.0372], \"loglift\": [30.0, 29.0, 28.0, 27.0, 26.0, 25.0, 24.0, 23.0, 22.0, 21.0, 20.0, 19.0, 18.0, 17.0, 16.0, 15.0, 14.0, 13.0, 12.0, 11.0, 10.0, 9.0, 8.0, 7.0, 6.0, 5.0, 4.0, 3.0, 2.0, 1.0, 1.3815, 1.3814, 1.3812, 1.3809, 1.3807, 1.3807, 1.3803, 1.3799, 1.3798, 1.3798, 1.3796, 1.3795, 1.3792, 1.3791, 1.379, 1.379, 1.379, 1.3789, 1.3787, 1.3785, 1.3783, 1.3774, 1.3771, 1.377, 1.377, 1.377, 1.3768, 1.3768, 1.3766, 1.3762, 1.37, 1.3752, 1.3749, 1.3573, 1.3722, 1.3439, 1.3535, 1.3492, 1.3073, 1.3038, 1.3366, 1.3462, 1.3101, 1.2829, 1.336, 1.336, 1.3317, 1.3088, 1.337, 1.3163, 1.2447, 1.2343, 1.2139, 1.231, 1.1732, 1.0176, 1.1107, 1.211, 1.0797, 1.0314, 0.9127, 1.1416, 1.0884, 1.0409, 0.8749, 1.0479, 0.9717, 0.6995, 0.994, 1.0022, 0.6345, 0.7143, 0.1242, 1.5977, 1.5976, 1.5975, 1.5974, 1.5972, 1.5971, 1.5968, 1.5964, 1.5963, 1.5963, 1.5963, 1.5963, 1.5962, 1.5962, 1.5962, 1.5962, 1.596, 1.5959, 1.5958, 1.5954, 1.595, 1.5949, 1.5947, 1.5947, 1.5947, 1.5947, 1.5947, 1.5947, 1.5946, 1.5945, 1.5921, 1.5931, 1.5836, 1.5665, 1.5723, 1.5813, 1.5776, 1.5814, 1.5683, 1.5645, 1.5474, 1.5685, 1.5642, 1.5111, 1.5043, 1.5075, 1.4852, 1.5798, 1.4464, 1.5235, 1.4673, 1.4965, 1.4769, 1.3652, 1.3535, 1.2884, 1.3148, 1.3225, 1.2944, 1.4211, 1.437, 1.0974, 1.4071, 0.9549, 0.8285, 1.0321, 1.308, 0.6673, 1.2086, 1.0326, 1.1529, 1.0887, 0.9902, 0.6962, 0.7271, 0.4847, 1.6607, 1.6598, 1.6596, 1.6593, 1.6583, 1.658, 1.6574, 1.657, 1.6567, 1.6565, 1.6565, 1.656, 1.6558, 1.6557, 1.6557, 1.6553, 1.6552, 1.6552, 1.655, 1.6549, 1.6549, 1.6545, 1.6543, 1.6541, 1.654, 1.6539, 1.6539, 1.6538, 1.6536, 1.6533, 1.6492, 1.6426, 1.6498, 1.6514, 1.6379, 1.636, 1.6478, 1.591, 1.6055, 1.6348, 1.5691, 1.6236, 1.6284, 1.6113, 1.5216, 1.5793, 1.5037, 1.5863, 1.4767, 1.5077, 1.5722, 1.458, 1.4301, 1.5511, 1.4207, 1.5287, 1.5261, 1.4303, 1.3886, 1.2886, 1.3214, 1.1148, 1.308, 1.0887, 1.3237, 1.2412, 1.2407, 1.1175, 1.2252, 1.2848, 0.8243, 0.9949, 1.0524, 1.0603, 0.9001, 1.1828, 0.7725, 0.5665, 1.6817, 1.6814, 1.6813, 1.6812, 1.6809, 1.6804, 1.6797, 1.6797, 1.6797, 1.6793, 1.6791, 1.6791, 1.6785, 1.6785, 1.6782, 1.6782, 1.6781, 1.6781, 1.6781, 1.6778, 1.6772, 1.6771, 1.6769, 1.6769, 1.6765, 1.6762, 1.6762, 1.6762, 1.6762, 1.6761, 1.6724, 1.675, 1.6678, 1.649, 1.6653, 1.669, 1.6254, 1.63, 1.6401, 1.6008, 1.565, 1.5782, 1.5324, 1.6283, 1.4403, 1.6117, 1.4648, 1.5472, 1.6193, 1.178, 1.3505, 1.3536, 1.4255, 1.4803, 1.2103, 1.3465, 1.1074, 1.0695, 1.0523, 0.774, 0.6689, 1.2126, 0.9767, 0.992, 1.0693, 0.4611, 0.8526, 1.083, 0.7294, 0.5716, 1.1216, 0.6464, 0.8721, 1.7598, 1.7593, 1.7583, 1.7583, 1.7582, 1.7581, 1.7579, 1.7577, 1.7575, 1.7575, 1.7573, 1.7572, 1.7568, 1.7567, 1.7566, 1.7562, 1.7559, 1.7557, 1.7556, 1.7553, 1.7552, 1.7552, 1.7548, 1.7545, 1.7545, 1.7545, 1.7543, 1.7543, 1.7541, 1.7541, 1.7516, 1.7538, 1.7488, 1.7522, 1.7403, 1.7306, 1.748, 1.7155, 1.7337, 1.7415, 1.6949, 1.7407, 1.6587, 1.6599, 1.638, 1.6772, 1.6557, 1.7096, 1.6678, 1.4011, 1.6757, 1.4822, 1.3916, 1.5338, 1.1046, 1.4758, 1.6331, 1.1864, 1.363, 1.2718, 1.1826, 0.9149, 0.9866, 1.2915, 0.7802, 0.9673, 0.8303, 0.7963, 0.2772, 0.5367]}, \"token.table\": {\"Topic\": [1, 2, 3, 4, 5, 1, 2, 3, 5, 2, 3, 5, 1, 3, 4, 1, 3, 4, 5, 1, 3, 4, 5, 2, 5, 2, 1, 3, 5, 1, 2, 1, 2, 3, 4, 5, 1, 2, 5, 1, 2, 3, 4, 5, 3, 4, 5, 2, 3, 5, 1, 1, 2, 3, 4, 1, 4, 5, 1, 3, 4, 5, 2, 2, 1, 2, 3, 4, 2, 1, 2, 3, 4, 5, 1, 5, 2, 1, 4, 2, 3, 1, 5, 1, 4, 5, 1, 2, 4, 3, 5, 1, 2, 3, 4, 5, 4, 1, 2, 3, 4, 5, 1, 2, 3, 4, 5, 1, 2, 3, 4, 5, 4, 1, 3, 4, 5, 1, 2, 3, 4, 5, 4, 4, 2, 5, 1, 2, 4, 5, 2, 5, 1, 2, 3, 4, 5, 2, 5, 3, 1, 2, 1, 2, 3, 4, 5, 1, 2, 3, 4, 5, 2, 5, 4, 1, 2, 3, 4, 5, 1, 3, 4, 5, 3, 4, 5, 1, 2, 3, 4, 2, 3, 4, 3, 4, 5, 5, 1, 2, 3, 4, 5, 2, 3, 4, 5, 5, 1, 2, 3, 4, 5, 1, 2, 3, 4, 5, 1, 2, 3, 4, 5, 1, 3, 5, 2, 5, 3, 2, 2, 3, 1, 2, 3, 4, 5, 3, 4, 1, 1, 1, 4, 5, 1, 3, 4, 3, 4, 5, 1, 2, 3, 5, 2, 1, 3, 3, 2, 4, 1, 3, 4, 1, 2, 3, 4, 1, 3, 1, 2, 3, 4, 1, 3, 4, 5, 4, 1, 2, 3, 4, 5, 1, 2, 3, 4, 5, 4, 1, 2, 3, 4, 5, 1, 3, 1, 3, 4, 5, 1, 2, 3, 4, 5, 2, 3, 5, 3, 4, 1, 2, 3, 4, 5, 1, 3, 4, 5, 1, 2, 3, 4, 5, 1, 2, 3, 4, 5, 1, 2, 3, 4, 5, 1, 2, 3, 4, 5, 2, 1, 2, 5, 1, 3, 4, 5, 4, 5, 3, 4, 1, 2, 3, 4, 5, 3, 1, 1, 2, 3, 4, 5, 1, 2, 3, 4, 5, 3, 1, 3, 4, 5, 2, 3, 4, 5, 5, 1, 3, 4, 3, 5, 3, 4, 4, 3, 4, 2, 3, 1, 2, 3, 4, 5, 5, 2, 2, 5, 4, 1, 2, 3, 4, 5, 1, 2, 5, 1, 2, 3, 4, 5, 1, 2, 3, 5, 1, 3, 4, 1, 2, 3, 4, 5, 1, 2, 3, 4, 5, 1, 3, 4, 5, 1, 2, 3, 4, 5, 3, 4, 1, 3, 1, 2, 3, 4, 5, 5, 1, 3, 5, 1, 5, 1, 2, 3, 4, 3, 4, 1, 2, 3, 4, 5, 1, 2, 3, 4, 5, 1, 2, 5, 3, 4, 1, 4, 2, 3, 4, 5, 1, 2, 1, 1, 1, 5, 3, 1, 3, 4, 5, 1, 2, 3, 4, 5, 1, 2, 3, 4, 5, 1, 2, 1, 1, 2, 3, 4, 5, 1, 2, 3, 4, 5, 4, 3, 3, 4, 1, 2, 3, 4, 5, 1, 3, 4, 2, 2, 3, 4, 5, 1, 4, 3, 4, 5, 3, 4, 1, 2, 3, 4, 5, 2, 3, 4, 5, 1, 5, 2, 4, 5, 1, 2, 3, 4, 5, 1, 2, 3, 4, 5, 1, 2, 3, 4, 5, 3, 4, 4, 1, 2, 3, 4, 5, 1, 2, 3, 1, 2, 3, 4, 5, 3, 5, 2, 5, 1, 3, 4, 5, 5, 5, 1, 4, 5, 1, 1, 2, 3, 4, 5, 4, 5, 1, 3, 4, 5, 1, 3, 4, 1, 2, 3, 4, 5, 1, 3, 4, 5, 3, 4, 5, 5, 1, 2, 3, 4, 5, 1, 2, 3, 4, 5, 3, 4, 2, 4, 1, 2, 3, 4, 5, 1, 3, 4, 5, 1, 2, 3, 4, 5, 1, 3, 4, 5, 2, 3, 5, 3, 4, 1, 4, 5, 1, 2, 1, 3, 4, 1, 3, 1, 2, 3, 4, 5, 1, 2, 3, 4, 1, 2, 3, 4, 5, 1, 3, 4, 5, 3, 4, 5, 1, 2, 3, 4, 5, 4, 1, 2, 3, 4, 5, 3, 1, 2, 3, 4, 5, 2, 3, 1, 5, 1, 2, 5, 5, 5, 1, 2, 3, 4, 5, 1, 2, 3, 4, 5, 2, 1, 3, 1, 2, 3, 4, 5, 3, 1, 3, 4, 4, 1, 2, 3, 4, 5, 4, 1, 2, 3, 4, 5, 2, 3, 4, 5, 2, 4, 2, 1, 3, 2, 5, 2, 1, 2, 3, 4, 5, 3, 4, 1, 2, 3, 4, 5, 1, 2, 3, 4, 5, 1, 2, 3, 4, 5, 1, 3, 4, 1, 2, 3, 4, 5, 2, 3, 2, 1, 2, 3, 4, 5, 3, 1, 2, 3, 4, 5, 1, 2, 3, 4, 5, 1, 2, 3, 4, 5, 1, 1, 2, 4, 5, 1, 2, 3, 4, 5, 2, 3, 3, 4, 5, 2, 4, 5, 2, 5, 5, 1, 2, 3, 4, 5, 5, 3, 5, 1, 2, 3, 4, 2, 1, 2, 3, 4, 5, 2, 3, 5, 1, 3, 1, 2, 3, 4, 5, 1, 3, 4, 1, 2, 3, 4, 5, 1, 2, 3, 4, 5, 3, 2, 1, 3, 4, 1, 2, 3, 4, 5, 5, 2, 1, 2, 3, 4, 5, 1, 2, 3, 4, 5, 4, 1, 4, 2, 1, 2, 3, 4, 5, 3, 4, 4, 1, 2, 3, 4, 5, 5, 1, 3, 1, 4, 5, 1, 3, 4, 5, 4, 5, 2, 1, 1, 2, 3, 4, 5, 1, 2, 3, 5, 1, 2, 3, 4, 5, 3, 5, 1, 4, 1, 2, 4, 5, 1, 2, 3, 4, 1, 2, 3, 4, 5, 3, 4, 1, 2, 3, 4, 5, 1, 2, 3, 4, 5, 3, 4, 4, 1, 4, 5, 3, 1], \"Freq\": [0.18019811245451642, 0.0009955696820691516, 0.10951266502760666, 0.624222190657358, 0.08561899265794704, 0.00478578009880441, 0.6393802212002692, 0.000957156019760882, 0.35414772731152633, 0.8503136700504405, 0.0014585140138086456, 0.14876842940848187, 0.008809883286111597, 0.96468221982922, 0.026429649858334795, 0.2980019675940792, 0.685273247066561, 0.017066191976753433, 0.9985294272423357, 0.07329427903625958, 0.7108662002914333, 0.20133850144900223, 0.014129017645544016, 0.048540398977918765, 0.9495715550055359, 0.9965153867608446, 0.9970997299494436, 0.0036729871071961608, 0.9953795060501596, 0.9960501928018562, 0.9974254597821746, 0.001276219323497856, 0.001276219323497856, 0.003828657970493568, 0.08933535264484992, 0.9035632810364821, 0.9983444487652469, 0.20283816580653516, 0.7967599894271093, 0.2861273103064979, 0.08724537658526002, 0.06285419603454216, 0.002814366986621291, 0.5609971526665106, 0.031110285183627573, 0.9367652538625636, 0.027653586829891177, 0.5671533440563468, 0.0034865984265759022, 0.42885160646883597, 0.9961284430978945, 0.9927815745648428, 0.9736155949179669, 0.014466799330133239, 0.011573439464106591, 0.01608240874086149, 0.04730120217900438, 0.9365638031442868, 0.16038878323514755, 0.8145853966277691, 0.0015801850565039166, 0.022912683319306792, 0.9954348305534493, 0.9943604500461489, 0.017762701033969985, 0.028420321654351977, 0.9485282352139972, 0.003552540206793997, 0.9972376448611123, 0.6780890944815275, 0.0010016087067673967, 0.13521717541359854, 0.09415121843613529, 0.09114639231583309, 0.9951681499558113, 0.9966954517256675, 0.9937968986061828, 0.9879687988333034, 0.00906393393425049, 0.9943550640697909, 0.9941033783673282, 0.9985018418764617, 0.9941019228296144, 0.01283445486123013, 0.004278151620410044, 0.9796967210738999, 0.8594888782005616, 0.042301466041190956, 0.09710109250364288, 0.02370589513404313, 0.9719417004957682, 0.09007627923469726, 0.013857889113030347, 0.6552801852018636, 0.24053336103331244, 0.9891338799367965, 0.989534860900166, 0.012409025512860144, 0.008686317859002101, 0.008686317859002101, 0.9207496930542227, 0.04839519950015456, 0.7616747609665057, 0.058417533289466514, 0.0014978854689606798, 0.0337024230516153, 0.1445459477547056, 0.008504302779303563, 0.027638984032736583, 0.6452639733796579, 0.2551290833791069, 0.06378227084477672, 0.9914208960109403, 0.012732694690457801, 0.9719290280382789, 0.0042442315634859335, 0.008488463126971867, 0.7035913260012723, 0.027881241356693773, 0.08856394313302728, 0.03198142390914874, 0.1476065718883788, 0.9932948461246363, 0.9895129640252591, 0.9943871435711497, 0.003059652749449691, 0.0012988376679958537, 0.8754165882292053, 0.0012988376679958537, 0.12079190312361439, 0.9650912177081049, 0.03401202529367771, 0.14665277587139963, 0.6766255659170093, 0.0414673366257061, 0.06574089952855845, 0.06978649334570051, 0.0089307349137653, 0.9900357561545534, 0.9937125762550245, 0.002536100243098258, 0.9966873955376154, 0.7447723669291809, 0.10190480711985882, 0.044447841403342674, 0.02168187385528911, 0.08672749542115644, 0.24236787092610942, 0.7325045681193001, 0.02295406019913014, 0.0006751194176214747, 0.0013502388352429494, 0.9115886832212625, 0.08662154908437336, 0.9961497913442017, 0.19848381166717494, 0.004659244405332745, 0.43237788081487877, 0.21665486484797264, 0.147698047649048, 0.0012683828983082396, 0.18328132880554063, 0.5320866258403065, 0.28284938632273743, 0.0035494404073956203, 0.0035494404073956203, 0.9938433140707738, 0.9618691955702272, 0.0010675573757716174, 0.0010675573757716174, 0.03522939340046337, 0.0270743374601815, 0.02290905477399973, 0.9476018111063524, 0.4664506728275749, 0.5008207224043436, 0.03226576082717059, 0.9958907222637198, 0.01620380437168417, 0.0604942029876209, 0.1112661233522313, 0.7172884068532192, 0.09506231898054712, 0.00962012885916096, 0.03687716062678368, 0.05451406353524544, 0.8994820483315498, 0.99668098990223, 0.18393959699511195, 0.009544035693142602, 0.5474805929429983, 0.20476294759833216, 0.053793655724985574, 0.47298851464440433, 0.08694641813316256, 0.2718524673630216, 0.1020171306095774, 0.06607927778120355, 0.6627952178310784, 0.1188949922213715, 0.022181901533837964, 0.004436380306767593, 0.19165162925236, 0.03286555202462344, 0.9262110116030243, 0.038841106938191344, 0.9841836120253421, 0.015208135285159812, 0.9979054148065875, 0.996475594005598, 0.05495553807667572, 0.9441079618300701, 0.07789919207119045, 0.002512877163586789, 0.7124006758768545, 0.1796707171964554, 0.027641648799454674, 0.050569847085556584, 0.9473418020694266, 0.9955326778123135, 0.9959357258467665, 0.9548171105221757, 0.03591126300636501, 0.008449708942674121, 0.0008983176710501154, 0.009881494381551269, 0.989047755826177, 0.06508713783174334, 0.8037504695036213, 0.13093110284757672, 0.009698674378685504, 0.2010270689400268, 0.7600233922206276, 0.029096023136056512, 0.9969997776805638, 0.9934244506364119, 0.98793372268567, 0.9895357663457277, 0.9984490549025951, 0.99921115288271, 0.19078401138809603, 0.7850652422636595, 0.023391143158693766, 0.11295267742202675, 0.0006381507198984561, 0.8302340865878916, 0.05615726335106414, 0.02266815066660197, 0.9747304786638846, 0.9045886498881892, 0.0004386947865607125, 0.03026994027268916, 0.06448813362442474, 0.09631862814299132, 0.030322531082052823, 0.11683092858085059, 0.7571714379018485, 0.9972878942708002, 0.022520789638223845, 0.006005543903526358, 0.1156067201428824, 0.7732137775790187, 0.08257622867348742, 0.02305051366336599, 0.8841518455162526, 0.049393957850069975, 0.04116163154172498, 0.0032929305233379983, 0.9927235938042688, 0.07538036699189266, 0.004638791814885701, 0.855857089846412, 0.054505803824906995, 0.010437281583492828, 0.9960935721079418, 0.9887312852696104, 0.0015624268190535442, 0.9858913228227864, 0.006249707276214177, 0.0046872804571606325, 0.07313199645582354, 0.008125777383980393, 0.8714896244318971, 0.004062888691990197, 0.04469177561189216, 0.19094102909049804, 0.05754387178069804, 0.7519937789523039, 0.9953099198967101, 0.9983941831199299, 0.1184000724095122, 0.0264951210986321, 0.543149982521958, 0.2401120349563534, 0.07120563795257377, 0.06432915851043033, 0.09263398825501969, 0.21743255576525453, 0.6252794207213829, 0.00032685689668537915, 0.3935357036091965, 0.04837482070943611, 0.0392228276022455, 0.5187218950396967, 0.05680642405220172, 0.7577103023578292, 0.06554587390638661, 0.03146201947506557, 0.0882684435272673, 0.2299115899933678, 0.0018768293060683085, 0.33407561648015893, 0.255717992951807, 0.1787679914030064, 0.10556803879629116, 0.40528419491909484, 0.15835205819443676, 0.16077890966101815, 0.16987960266069843, 0.9951345221127326, 0.1591045794179865, 0.8363189430945445, 0.004079604600461193, 0.06743693475252731, 0.9195945648071906, 0.006130630432047937, 0.006130630432047937, 0.9427990739819349, 0.05460226297192673, 0.11097155550963243, 0.888839478264652, 0.009564480145919254, 0.4625730397844585, 0.12259924550678318, 0.36258074734984813, 0.04260541155909486, 0.9964251727070901, 0.9985215611783984, 0.02007833181098351, 0.8923703027103783, 0.030117497716475268, 0.0535422181626227, 0.004461851513551891, 0.09484507619031908, 0.5248094215864323, 0.0924739492855611, 0.06125411170624774, 0.22683780722184646, 0.997298360573368, 0.693838724565002, 0.18014238242474925, 0.12358154837310754, 0.0023244178377387, 0.9019701419964935, 0.01617077943818415, 0.03773181868909634, 0.044918831772733744, 0.9957276664445015, 0.006137739825781484, 0.91043140749092, 0.08251850210217328, 0.005437003522364799, 0.9895346410703935, 0.010449550657467024, 0.9874825371306337, 0.9976721937203326, 0.9942177794478764, 0.9948819741344498, 0.9967425792882018, 0.9882440783441616, 0.15382739736512557, 0.11554456091679116, 0.5129900084076812, 0.18027735709306572, 0.03758678487654652, 0.9949142153883849, 0.9979948044547392, 0.01594798840146864, 0.9808012866903212, 0.9969681511711241, 0.7856646169697022, 0.0170004708463305, 0.06921620273148846, 0.1117173798473147, 0.0170004708463305, 0.9715445087758072, 0.028418120914831653, 0.9965425302905769, 0.18694627510087292, 0.002543486736066298, 0.03942404440902762, 0.7134480294665966, 0.055956708193458556, 0.9936006633828409, 0.001321277477902714, 0.001321277477902714, 0.003963832433708142, 0.009986716820359676, 0.8748363934635075, 0.11584591511617223, 0.20122391824179545, 0.020896329971263373, 0.14937006238717893, 0.4442404964261176, 0.18497121715303505, 0.013331031508221956, 0.9487250756684625, 0.004443677169407318, 0.016663789385277444, 0.015552870092925615, 0.9544642255058787, 0.0357031505800204, 0.002380210038668027, 0.00714063011600408, 0.2913711497322586, 0.023533823632220886, 0.618603364046949, 0.054912255141848734, 0.011206582682009946, 0.0019524347667367002, 0.9976941658024538, 0.9957204495629894, 0.9895054790234794, 0.7381722257744814, 0.013625328814512686, 0.06812664407256343, 0.11140710030689784, 0.06812664407256343, 0.990889490346854, 0.9958994072184582, 0.9939442922990199, 0.9946555957353727, 0.9993515028884087, 0.9903417814766944, 0.9272472087969075, 0.0015060864246836613, 0.02610549802785013, 0.04518259274050984, 0.9618205018140364, 0.036571121741978574, 0.8446114241196868, 0.007292563316575004, 0.002651841206027274, 0.011270325125615916, 0.13391798090437734, 0.8109679508953365, 0.0775321007998838, 0.028517554317198643, 0.0588174557792222, 0.024952860027548814, 0.0023003345330268434, 0.9684408384043011, 0.02760401439632212, 0.9862464112838176, 0.010436469960675319, 0.9289039431095706, 0.07111226358733554, 0.9273348121210626, 0.013989964838033272, 0.019985664054333246, 0.03997132810866649, 0.0172250027383935, 0.9818251560884294, 0.9969392418629722, 0.9975906116021265, 0.002697812422879811, 0.9954927840426502, 0.988235673729565, 0.1282897923955916, 0.5777900119634788, 0.2624109389909828, 0.03158650191558126, 0.0009688119803925059, 0.9678431684121134, 0.010656931784317565, 0.013563367725495082, 0.006781683862747541, 0.14808857107035622, 0.05269409277350098, 0.11265633627438142, 0.5487453799171482, 0.1390033826611319, 0.9890217182960167, 0.9978677393120312, 0.9932385575281177, 0.8616960157328729, 0.0008045714432613193, 0.07321600133678005, 0.060342858244598944, 0.003218285773045277, 0.03762737807485721, 0.782111929984532, 0.04300271779983681, 0.07883831596636749, 0.059128736974775616, 0.9925919411874374, 0.9913726140128618, 0.004165658091706437, 0.9955922839178383, 0.1610665563928903, 0.1297306504798766, 0.4105003674604792, 0.1585596839198492, 0.14038485849030127, 0.04832147999858575, 0.912739066639953, 0.037583373332233355, 0.9982765802573759, 0.19760689009854557, 0.026202018576602728, 0.16267086532974195, 0.6135639350021139, 0.9870073190115731, 0.011450200916607577, 0.0036152942465726796, 0.9833600350677688, 0.014461176986290718, 0.988449905886211, 0.9972858514757671, 0.1094625047636362, 0.004657978926112178, 0.002328989463056089, 0.004657978926112178, 0.8803580170352018, 0.006357986243210229, 0.0010596643738683715, 0.2945866959354073, 0.6979656009213008, 0.0029988135184808888, 0.9956060881356551, 0.9777253238241923, 0.020416538084495894, 0.9950022957519203, 0.3114885082727829, 0.41775324457053403, 0.14877063081685155, 0.08434763443633994, 0.037192657704212886, 0.01778682737726018, 0.03359734060149145, 0.2628497823528449, 0.4354478850507029, 0.2496743546659855, 0.0006742202911129142, 0.003371101455564571, 0.052589182706807305, 0.5622997227881704, 0.38093446447879653, 0.005847009002586339, 0.9910680259383846, 0.9912679619510433, 0.1326917451279351, 0.17862350305683575, 0.16501409330012445, 0.2296587896445031, 0.29373642724901877, 0.1423165461883363, 0.004770387023072725, 0.8531042126261724, 0.14685165822120175, 0.5434341024569895, 0.023230770792054514, 0.12610989858543878, 0.15929671400265952, 0.9878976612227085, 0.9945043790724866, 0.8255567270072914, 0.17402123250575283, 0.07733606501573483, 0.8931068153430022, 0.009978847098804493, 0.019957694197608986, 0.9955909117133787, 0.9972553334524895, 0.9363000047099803, 0.04421950740930092, 0.019225872786652574, 0.9965551536401551, 0.9238599833239, 0.0006212911791014795, 0.001242582358202959, 0.043490382537103564, 0.030443267775972494, 0.019262572485363953, 0.9788889108471318, 0.004198770936126253, 0.1855856753767804, 0.5408016965730614, 0.26956109409930545, 0.22161075200085567, 0.05924247825765449, 0.718589319606735, 0.28392561800428523, 0.048596881862398175, 0.11882936181422019, 0.4027549798185054, 0.1454577902319726, 0.001280815494614247, 0.029885694874332427, 0.9661618214373469, 0.002561630989228494, 0.9966489970109382, 0.0792963857695903, 0.9183033061704168, 0.9950555655403558, 0.6249343141607536, 0.031839810211986445, 0.1442156109601739, 0.14359130095601733, 0.05556359036993714, 0.0009798181039489477, 0.6050376791884753, 0.03919272415795791, 0.328728973874872, 0.02547527070267264, 0.0393462153910773, 0.9564156971984943, 0.0043974634383949895, 0.9938267370772675, 0.8705473874505234, 0.01664024181243455, 0.00087580220065445, 0.0035032088026178, 0.10772367068049736, 0.6831311960422777, 0.25591929881583836, 0.05607793400347055, 0.0040783952002524035, 0.9297948406935455, 0.016060092702888513, 0.019441164850865042, 0.033810721479765285, 0.0008452680369941322, 0.9643329072766531, 0.028244060045759713, 0.006052298581234224, 0.0020174328604114083, 0.009345632888050985, 0.003738253155220394, 0.9887679595557942, 0.0018065634242915318, 0.995416446784634, 0.9663218894026477, 0.0019211170763472122, 0.030737873221555394, 0.02932644070984707, 0.9698672891899424, 0.008550055421263485, 0.9875314011559326, 0.0042750277106317425, 0.0078070789865837585, 0.9836919523095536, 0.04106047615766605, 0.011820440105994772, 0.8678691551506688, 0.06221284266313038, 0.016797467519045203, 0.9547202394096989, 0.002018436024121985, 0.01211061614473191, 0.030276540361829772, 0.048002648858727834, 0.035251945255628254, 0.5797819932468221, 0.18000993322022937, 0.1575086915677007, 0.010194816643414258, 0.9302770187115511, 0.03653142630556776, 0.022088769394064227, 0.04003640313567911, 0.07506825587939835, 0.8838035992201164, 0.8419147560066332, 0.00126413627028023, 0.04045236064896736, 0.11503640059550094, 0.00126413627028023, 0.9954962998900636, 0.6013489476640621, 0.03464292850673401, 0.10196786503868879, 0.1666782409286259, 0.09477782327314022, 0.9940147058877519, 0.0214775746974995, 0.08704069745828745, 0.7924094664709026, 0.08930149479486633, 0.009043189346315579, 0.9940454453051628, 0.9909704398828757, 0.9958592624042099, 0.997270545580249, 0.9931228006571685, 0.9795477414394751, 0.017245558828159775, 0.9927916419387531, 0.9948129573331828, 0.04254512037334232, 0.0050053082792167435, 0.7920900351860497, 0.10573713739845371, 0.053807064001579995, 0.09537583448235504, 0.13923479486475188, 0.20815601832280406, 0.16220853601743593, 0.39403446946724785, 0.9980707333090281, 0.9968609056068395, 0.9923741047278747, 0.1483829167509832, 0.008844014905687739, 0.1758976297909006, 0.5699476272554321, 0.09728416396256513, 0.987378183319399, 0.0015679114482065638, 0.9799446551291024, 0.017247025930272202, 0.9951112750144805, 0.5127437919649994, 0.18191868783415732, 0.036524215318054755, 0.134858641174356, 0.13415625241823959, 0.9927471730686541, 0.02006940808058601, 0.014494572502645452, 0.7013143157049223, 0.1984641465746839, 0.06578305981969859, 0.037649386961902, 0.015059754784760801, 0.026354570873331404, 0.9205275112185041, 0.993028739416231, 0.007248384959242562, 0.9938405245096275, 0.9919100284168664, 0.006378842626475025, 0.9963061647927007, 0.002846589042264859, 0.995894300204844, 0.08220498028376855, 0.0517586912897802, 0.5632563463887845, 0.13650086232304778, 0.16643971316713632, 0.98612023406904, 0.992193182421282, 0.011996181016438389, 0.05055533428356178, 0.048841594138356294, 0.8594406828205503, 0.02913358246849323, 0.0009947201712965615, 0.9151425575928366, 0.061672650620386814, 0.001989440342593123, 0.019894403425931233, 0.07417772541337361, 0.5674956080168778, 0.12386959971942002, 0.12170908344524409, 0.11306701834854037, 0.9509099893589106, 0.002031858951621604, 0.04673275588729689, 0.2291218434064037, 0.05746230358446315, 0.15347526653571802, 0.09964981760849939, 0.461153170538603, 0.9645402762648199, 0.032926073687754895, 0.995637409922514, 0.15828904979866384, 0.01978613122483298, 0.13850291857383087, 0.6034770023574059, 0.08004389450046069, 0.9923058788660509, 0.1591928640775405, 0.004134879586429623, 0.687768304542794, 0.1192223614087208, 0.029633303702745632, 0.0400288992608479, 0.20931778571818382, 0.05087005947732754, 0.24767881417649637, 0.4519929874870742, 0.11971046539688357, 0.7909441463722665, 0.023087018326541833, 0.04873926091158831, 0.017101495056697655, 0.9974063111400435, 0.010079611165804855, 0.017279333427094038, 0.0158393889748362, 0.9561231162992034, 0.02265330676444733, 0.005330189826928783, 0.12459318720446032, 0.2851651557406899, 0.5630013004693527, 0.9974549977226411, 0.9963551928413815, 0.04706067035889517, 0.26152286813728887, 0.6911195589849176, 0.0017076320362359946, 0.0947735780110977, 0.9024835311507232, 0.9980028466661931, 0.9989110263645142, 0.9989385293085069, 0.7150076693910624, 0.02332649134183608, 0.059837521268188205, 0.10547630867612837, 0.09634855119454033, 0.9979158884768352, 0.005125037601904691, 0.9916947759685577, 0.01657961856563705, 0.9809607651335255, 0.06867728921053963, 0.9300049580593909, 0.9972747478353376, 0.030674158832096184, 0.016067416531098, 0.004382022690299455, 0.899775325741488, 0.04966292382339382, 0.994281130392152, 0.9729656954699716, 0.02677887235238454, 0.9910410165915016, 0.005599101788652551, 0.2545548488052154, 0.003527318921088435, 0.1069953406063492, 0.3850656488854875, 0.25043964339727887, 0.5050130238412898, 0.1404510223500564, 0.3547914955886208, 0.07097985580879636, 0.7519184725239526, 0.010139979401256622, 0.07409984947072147, 0.09203981302679089, 0.009414337994869414, 0.00047071689974347074, 0.11155990523920258, 0.7842143549726223, 0.09414337994869415, 0.9923100185360595, 0.9975300243934258, 0.9552231716736087, 0.014209931479442113, 0.029998744234377792, 0.022108142019325806, 0.022108142019325806, 0.016078648741327858, 0.8159914236223889, 0.12259969665262492, 0.9950302814825416, 0.9967306240830448, 0.2052363281157556, 0.32796034111118194, 0.1806915255166703, 0.1556244930750513, 0.13003523079089857, 0.006617418174501666, 0.600294362972651, 0.05861141811701475, 0.2117573815840533, 0.12194956350153069, 0.9934360253506854, 0.9750062258142331, 0.025099170169475306, 0.9980456851106349, 0.22852028364606294, 0.0009850012226123403, 0.6560108142598186, 0.0758450941411502, 0.03940004890449361, 0.9913660000869312, 0.9938009921381287, 0.9897315059309336, 0.0072974102990583335, 0.19304967245690682, 0.12604617789282577, 0.49357029659085455, 0.18044505466762426, 0.9951084729249349, 0.997586239763719, 0.9935179661754739, 0.05484935661416333, 0.034280847883852085, 0.9118705537104654, 0.000607258904379309, 0.08258721099558602, 0.5410676838019643, 0.37528600290641295, 0.009949366785134636, 0.9849873117283289, 0.9964689075163478, 0.9966554551141281, 0.02147166035165238, 0.0011300873869290727, 0.054244194572595494, 0.25200948728518324, 0.6712719078358692, 0.048051634376093014, 0.9093771805675602, 0.01561678117223023, 0.027629689766253483, 0.0007597492635924126, 0.047864203606321994, 0.23248327465927826, 0.6229943961457783, 0.0964881564762364, 0.028645437709451684, 0.9697011135718088, 0.9965321528554664, 0.9959558155369614, 0.7103265513391606, 0.0845395485177934, 0.1311820580448518, 0.07287892113602878, 0.028913450260029918, 0.02721265906826345, 0.07143323005419155, 0.8725058813761969, 0.1658817958612899, 0.7368050641411662, 0.0209365373417162, 0.0209365373417162, 0.05556234909916991, 0.9896388069731208, 0.9984424801004821, 0.05846252327494863, 0.858378317925833, 0.0009279765599198194, 0.04361489831623151, 0.039902992076552235, 0.026416344950573375, 0.7468621163298472, 0.010806686570689106, 0.021613373141378213, 0.1957211012247027, 0.014321724004046948, 0.984107035135226, 0.9897219291940024, 0.9973545872931816, 0.9947120769016724, 0.9948321691362297, 0.9972341448726831, 0.9987829982323244], \"Term\": [\"access\", \"access\", \"access\", \"access\", \"access\", \"actor\", \"actor\", \"actor\", \"actor\", \"actress\", \"actress\", \"actress\", \"aircraft\", \"aircraft\", \"aircraft\", \"airlin\", \"airlin\", \"airlin\", \"album\", \"analyst\", \"analyst\", \"analyst\", \"analyst\", \"angel\", \"angel\", \"ankl\", \"antiterror\", \"antiviru\", \"antiviru\", \"apolog\", \"arsen\", \"artist\", \"artist\", \"artist\", \"artist\", \"artist\", \"asylum\", \"athlet\", \"athlet\", \"attack\", \"attack\", \"attack\", \"attack\", \"attack\", \"audio\", \"audio\", \"audio\", \"award\", \"award\", \"award\", \"backbench\", \"baikal\", \"ball\", \"ball\", \"ball\", \"band\", \"band\", \"band\", \"bank\", \"bank\", \"bank\", \"bank\", \"barcelona\", \"barkley\", \"barrel\", \"barrel\", \"barrel\", \"barrel\", \"bellami\", \"bill\", \"bill\", \"bill\", \"bill\", \"bill\", \"bing\", \"bittorr\", \"blackburn\", \"blair\", \"blair\", \"bloglin\", \"bluray\", \"boers\", \"bot\", \"bowl\", \"bowl\", \"bowl\", \"brown\", \"brown\", \"brown\", \"browser\", \"browser\", \"budget\", \"budget\", \"budget\", \"budget\", \"bug\", \"cab\", \"camera\", \"camera\", \"camera\", \"camera\", \"camera\", \"campaign\", \"campaign\", \"campaign\", \"campaign\", \"campaign\", \"car\", \"car\", \"car\", \"car\", \"car\", \"carniv\", \"carrier\", \"carrier\", \"carrier\", \"carrier\", \"case\", \"case\", \"case\", \"case\", \"case\", \"ce\", \"cebit\", \"celtic\", \"celtic\", \"champion\", \"champion\", \"champion\", \"champion\", \"championship\", \"championship\", \"chanc\", \"chanc\", \"chanc\", \"chanc\", \"chanc\", \"chart\", \"chart\", \"chees\", \"chelsea\", \"chelsea\", \"claim\", \"claim\", \"claim\", \"claim\", \"claim\", \"club\", \"club\", \"club\", \"club\", \"club\", \"coach\", \"coach\", \"commodor\", \"compani\", \"compani\", \"compani\", \"compani\", \"compani\", \"comput\", \"comput\", \"comput\", \"comput\", \"concert\", \"concert\", \"concert\", \"conserv\", \"conserv\", \"conserv\", \"conserv\", \"consol\", \"consol\", \"consol\", \"consum\", \"consum\", \"consum\", \"cont\", \"content\", \"content\", \"content\", \"content\", \"content\", \"copi\", \"copi\", \"copi\", \"copi\", \"copyright\", \"cost\", \"cost\", \"cost\", \"cost\", \"cost\", \"countri\", \"countri\", \"countri\", \"countri\", \"countri\", \"court\", \"court\", \"court\", \"court\", \"court\", \"crude\", \"crude\", \"crude\", \"cup\", \"cup\", \"currenc\", \"davenport\", \"deficit\", \"deficit\", \"demand\", \"demand\", \"demand\", \"demand\", \"demand\", \"desktop\", \"desktop\", \"detaine\", \"detent\", \"deutsch\", \"deutsch\", \"deutsch\", \"devic\", \"devic\", \"devic\", \"digit\", \"digit\", \"digit\", \"dollar\", \"dollar\", \"dollar\", \"dollar\", \"drake\", \"drunk\", \"dtt\", \"earthquak\", \"eastwood\", \"ebber\", \"econom\", \"econom\", \"econom\", \"economi\", \"economi\", \"economi\", \"economi\", \"economist\", \"economist\", \"elect\", \"elect\", \"elect\", \"elect\", \"email\", \"email\", \"email\", \"email\", \"embargo\", \"engin\", \"engin\", \"engin\", \"engin\", \"engin\", \"england\", \"england\", \"england\", \"england\", \"england\", \"ericsson\", \"euro\", \"euro\", \"euro\", \"euro\", \"euro\", \"euronext\", \"eurozon\", \"export\", \"export\", \"export\", \"export\", \"fall\", \"fall\", \"fall\", \"fall\", \"fall\", \"festiv\", \"festiv\", \"festiv\", \"feta\", \"fiat\", \"figur\", \"figur\", \"figur\", \"figur\", \"figur\", \"file\", \"file\", \"file\", \"file\", \"film\", \"film\", \"film\", \"film\", \"film\", \"final\", \"final\", \"final\", \"final\", \"final\", \"firm\", \"firm\", \"firm\", \"firm\", \"firm\", \"first\", \"first\", \"first\", \"first\", \"first\", \"flanker\", \"footbal\", \"footbal\", \"footbal\", \"fuel\", \"fuel\", \"fuel\", \"fuel\", \"g\", \"g\", \"gadget\", \"gadget\", \"game\", \"game\", \"game\", \"game\", \"game\", \"gdp\", \"glazer\", \"goal\", \"goal\", \"goal\", \"goal\", \"goal\", \"good\", \"good\", \"good\", \"good\", \"good\", \"gorg\", \"govern\", \"govern\", \"govern\", \"govern\", \"grand\", \"grand\", \"grand\", \"grand\", \"greek\", \"growth\", \"growth\", \"growth\", \"hacker\", \"hacker\", \"handheld\", \"handheld\", \"handset\", \"hddvd\", \"hdtv\", \"header\", \"heathrow\", \"high\", \"high\", \"high\", \"high\", \"high\", \"hiphop\", \"hodgson\", \"holm\", \"holm\", \"hotspot\", \"human\", \"human\", \"human\", \"human\", \"human\", \"hunt\", \"hunt\", \"iaaf\", \"imag\", \"imag\", \"imag\", \"imag\", \"imag\", \"immigr\", \"immigr\", \"immigr\", \"immigr\", \"inflat\", \"inflat\", \"inflat\", \"inform\", \"inform\", \"inform\", \"inform\", \"inform\", \"injuri\", \"injuri\", \"injuri\", \"injuri\", \"injuri\", \"inquiri\", \"inquiri\", \"inquiri\", \"inquiri\", \"invest\", \"invest\", \"invest\", \"invest\", \"invest\", \"ipod\", \"ipod\", \"islam\", \"ism\", \"issu\", \"issu\", \"issu\", \"issu\", \"issu\", \"jazz\", \"jewish\", \"jobless\", \"junk\", \"kilroysilk\", \"kosta\", \"labour\", \"labour\", \"labour\", \"labour\", \"laser\", \"laser\", \"law\", \"law\", \"law\", \"law\", \"law\", \"leader\", \"leader\", \"leader\", \"leader\", \"leader\", \"leagu\", \"leagu\", \"leagu\", \"lend\", \"lend\", \"liber\", \"liber\", \"lion\", \"lion\", \"lion\", \"lion\", \"liverpool\", \"liverpool\", \"lord\", \"lse\", \"malici\", \"malici\", \"mallon\", \"market\", \"market\", \"market\", \"market\", \"match\", \"match\", \"match\", \"match\", \"match\", \"medium\", \"medium\", \"medium\", \"medium\", \"medium\", \"menatep\", \"midfield\", \"migrant\", \"minist\", \"minist\", \"minist\", \"minist\", \"minist\", \"minut\", \"minut\", \"minut\", \"minut\", \"minut\", \"mm\", \"mmorpg\", \"mobil\", \"mobil\", \"month\", \"month\", \"month\", \"month\", \"month\", \"mortgag\", \"mortgag\", \"mortgag\", \"mourinho\", \"movi\", \"movi\", \"movi\", \"movi\", \"mp\", \"mp\", \"mp3\", \"mp3\", \"mp3\", \"mpc\", \"multimedia\", \"murder\", \"murder\", \"murder\", \"murder\", \"murder\", \"music\", \"music\", \"music\", \"music\", \"musician\", \"musician\", \"nadal\", \"nadal\", \"napster\", \"nation\", \"nation\", \"nation\", \"nation\", \"nation\", \"net\", \"net\", \"net\", \"net\", \"net\", \"network\", \"network\", \"network\", \"network\", \"network\", \"nintendo\", \"nintendo\", \"nokia\", \"number\", \"number\", \"number\", \"number\", \"number\", \"oil\", \"oil\", \"oil\", \"open\", \"open\", \"open\", \"open\", \"open\", \"oracl\", \"osbourn\", \"oscar\", \"oscar\", \"output\", \"output\", \"output\", \"output\", \"p2p\", \"parker\", \"parliament\", \"parliament\", \"parliament\", \"parmalat\", \"parti\", \"parti\", \"parti\", \"parti\", \"parti\", \"patent\", \"patent\", \"pc\", \"pc\", \"pc\", \"pc\", \"pension\", \"pension\", \"pension\", \"peopl\", \"peopl\", \"peopl\", \"peopl\", \"peopl\", \"phone\", \"phone\", \"phone\", \"phone\", \"pin\", \"piraci\", \"piraci\", \"pirat\", \"plan\", \"plan\", \"plan\", \"plan\", \"plan\", \"player\", \"player\", \"player\", \"player\", \"player\", \"playstat\", \"playstat\", \"podcast\", \"podcast\", \"polic\", \"polic\", \"polic\", \"polic\", \"polic\", \"polici\", \"polici\", \"polici\", \"polici\", \"polit\", \"polit\", \"polit\", \"polit\", \"polit\", \"politician\", \"politician\", \"politician\", \"politician\", \"pop\", \"pop\", \"pop\", \"portabl\", \"portabl\", \"poster\", \"poster\", \"poster\", \"premiership\", \"premiership\", \"premium\", \"premium\", \"premium\", \"pretax\", \"pretax\", \"price\", \"price\", \"price\", \"price\", \"price\", \"prime\", \"prime\", \"prime\", \"prime\", \"product\", \"product\", \"product\", \"product\", \"product\", \"profit\", \"profit\", \"profit\", \"profit\", \"program\", \"program\", \"program\", \"propos\", \"propos\", \"propos\", \"propos\", \"propos\", \"psp\", \"public\", \"public\", \"public\", \"public\", \"public\", \"qanta\", \"quarter\", \"quarter\", \"quarter\", \"quarter\", \"quarter\", \"quarterfin\", \"quarterli\", \"quota\", \"radcliff\", \"rail\", \"ranger\", \"ranger\", \"rap\", \"rapper\", \"rate\", \"rate\", \"rate\", \"rate\", \"rate\", \"record\", \"record\", \"record\", \"record\", \"record\", \"refere\", \"regiment\", \"relianc\", \"research\", \"research\", \"research\", \"research\", \"research\", \"restat\", \"retail\", \"retail\", \"retail\", \"rfid\", \"right\", \"right\", \"right\", \"right\", \"right\", \"rington\", \"rise\", \"rise\", \"rise\", \"rise\", \"rise\", \"rock\", \"rock\", \"rock\", \"rock\", \"roddick\", \"roddick\", \"rooney\", \"rosneft\", \"rosneft\", \"rugbi\", \"rugbi\", \"safin\", \"sale\", \"sale\", \"sale\", \"sale\", \"sale\", \"schroeder\", \"seafar\", \"search\", \"search\", \"search\", \"search\", \"search\", \"season\", \"season\", \"season\", \"season\", \"season\", \"second\", \"second\", \"second\", \"second\", \"second\", \"secretari\", \"secretari\", \"secretari\", \"secur\", \"secur\", \"secur\", \"secur\", \"secur\", \"seed\", \"seed\", \"semifin\", \"servic\", \"servic\", \"servic\", \"servic\", \"servic\", \"settop\", \"share\", \"share\", \"share\", \"share\", \"share\", \"show\", \"show\", \"show\", \"show\", \"show\", \"side\", \"side\", \"side\", \"side\", \"side\", \"simonetti\", \"singer\", \"singer\", \"singer\", \"singer\", \"site\", \"site\", \"site\", \"site\", \"site\", \"slam\", \"slide\", \"softwar\", \"softwar\", \"softwar\", \"song\", \"song\", \"song\", \"souness\", \"spam\", \"spammer\", \"spokesman\", \"spokesman\", \"spokesman\", \"spokesman\", \"spokesman\", \"sprinter\", \"spywar\", \"spywar\", \"squad\", \"squad\", \"storag\", \"storag\", \"striker\", \"student\", \"student\", \"student\", \"student\", \"student\", \"sub\", \"subsidi\", \"subsidi\", \"suspect\", \"suspect\", \"system\", \"system\", \"system\", \"system\", \"system\", \"tax\", \"tax\", \"tax\", \"team\", \"team\", \"team\", \"team\", \"team\", \"technolog\", \"technolog\", \"technolog\", \"technolog\", \"technolog\", \"telew\", \"tenni\", \"terror\", \"terror\", \"terror\", \"text\", \"text\", \"text\", \"text\", \"text\", \"thanou\", \"tiebreak\", \"time\", \"time\", \"time\", \"time\", \"time\", \"titl\", \"titl\", \"titl\", \"titl\", \"titl\", \"tmobil\", \"tori\", \"tori\", \"tournament\", \"trade\", \"trade\", \"trade\", \"trade\", \"trade\", \"tremor\", \"tuition\", \"turkcel\", \"tv\", \"tv\", \"tv\", \"tv\", \"tv\", \"u2\", \"ukip\", \"upward\", \"urban\", \"urban\", \"urban\", \"user\", \"user\", \"user\", \"user\", \"uwb\", \"uwb\", \"vera\", \"verita\", \"version\", \"version\", \"version\", \"version\", \"version\", \"victori\", \"victori\", \"victori\", \"victori\", \"video\", \"video\", \"video\", \"video\", \"video\", \"viru\", \"viru\", \"visa\", \"vodafon\", \"vote\", \"vote\", \"vote\", \"vote\", \"wage\", \"wage\", \"wage\", \"wage\", \"wale\", \"wale\", \"wale\", \"wale\", \"wale\", \"warcraft\", \"wifi\", \"win\", \"win\", \"win\", \"win\", \"win\", \"winner\", \"winner\", \"winner\", \"winner\", \"winner\", \"wireless\", \"wireless\", \"wmc\", \"wolf\", \"worldcom\", \"worm\", \"yen\", \"yuko\"]}, \"R\": 30, \"lambda.step\": 0.01, \"plot.opts\": {\"xlab\": \"PC1\", \"ylab\": \"PC2\"}, \"topic.order\": [4, 2, 3, 1, 5]};\n",
       "\n",
       "function LDAvis_load_lib(url, callback){\n",
       "  var s = document.createElement('script');\n",
       "  s.src = url;\n",
       "  s.async = true;\n",
       "  s.onreadystatechange = s.onload = callback;\n",
       "  s.onerror = function(){console.warn(\"failed to load library \" + url);};\n",
       "  document.getElementsByTagName(\"head\")[0].appendChild(s);\n",
       "}\n",
       "\n",
       "if(typeof(LDAvis) !== \"undefined\"){\n",
       "   // already loaded: just create the visualization\n",
       "   !function(LDAvis){\n",
       "       new LDAvis(\"#\" + \"ldavis_el2188023179076513766951607354\", ldavis_el2188023179076513766951607354_data);\n",
       "   }(LDAvis);\n",
       "}else if(typeof define === \"function\" && define.amd){\n",
       "   // require.js is available: use it to load d3/LDAvis\n",
       "   require.config({paths: {d3: \"https://d3js.org/d3.v5\"}});\n",
       "   require([\"d3\"], function(d3){\n",
       "      window.d3 = d3;\n",
       "      LDAvis_load_lib(\"https://cdn.jsdelivr.net/gh/bmabey/pyLDAvis@3.4.0/pyLDAvis/js/ldavis.v3.0.0.js\", function(){\n",
       "        new LDAvis(\"#\" + \"ldavis_el2188023179076513766951607354\", ldavis_el2188023179076513766951607354_data);\n",
       "      });\n",
       "    });\n",
       "}else{\n",
       "    // require.js not available: dynamically load d3 & LDAvis\n",
       "    LDAvis_load_lib(\"https://d3js.org/d3.v5.js\", function(){\n",
       "         LDAvis_load_lib(\"https://cdn.jsdelivr.net/gh/bmabey/pyLDAvis@3.4.0/pyLDAvis/js/ldavis.v3.0.0.js\", function(){\n",
       "                 new LDAvis(\"#\" + \"ldavis_el2188023179076513766951607354\", ldavis_el2188023179076513766951607354_data);\n",
       "            })\n",
       "         });\n",
       "}\n",
       "</script>"
      ],
      "text/plain": [
       "PreparedData(topic_coordinates=              x         y  topics  cluster       Freq\n",
       "topic                                                \n",
       "3      0.060235  0.141860       1        1  25.083803\n",
       "1     -0.239705  0.083630       2        1  20.197056\n",
       "2      0.151445  0.037053       3        1  18.956906\n",
       "0      0.115229 -0.084001       4        1  18.574366\n",
       "4     -0.087205 -0.178541       5        1  17.187869, topic_info=         Term         Freq        Total Category  logprob  loglift\n",
       "770     mobil  2400.000000  2400.000000  Default  30.0000  30.0000\n",
       "820     phone  2342.000000  2342.000000  Default  29.0000  29.0000\n",
       "58      music  2831.000000  2831.000000  Default  28.0000  28.0000\n",
       "30       film  3059.000000  3059.000000  Default  27.0000  27.0000\n",
       "364     elect  2279.000000  2279.000000  Default  26.0000  26.0000\n",
       "...       ...          ...          ...      ...      ...      ...\n",
       "2248     show   542.204597  1199.133648   Topic5  -5.9923   0.9673\n",
       "386    record   566.387683  1436.422557   Topic5  -5.9487   0.8303\n",
       "1869  network   565.273977  1483.194756   Topic5  -5.9507   0.7963\n",
       "248      good   573.872148  2530.442377   Topic5  -5.9356   0.2772\n",
       "256    number   518.413552  1763.485737   Topic5  -6.0372   0.5367\n",
       "\n",
       "[400 rows x 6 columns], token_table=       Topic      Freq      Term\n",
       "term                            \n",
       "757        1  0.180198    access\n",
       "757        2  0.000996    access\n",
       "757        3  0.109513    access\n",
       "757        4  0.624222    access\n",
       "757        5  0.085619    access\n",
       "...      ...       ...       ...\n",
       "10955      1  0.997355      wolf\n",
       "1653       4  0.994712  worldcom\n",
       "7284       5  0.994832      worm\n",
       "356        3  0.997234       yen\n",
       "219        1  0.998783      yuko\n",
       "\n",
       "[965 rows x 3 columns], R=30, lambda_step=0.01, plot_opts={'xlab': 'PC1', 'ylab': 'PC2'}, topic_order=[4, 2, 3, 1, 5])"
      ]
     },
     "execution_count": 27,
     "metadata": {},
     "output_type": "execute_result"
    }
   ],
   "source": [
    "# Model results evaluation + model visualization html file\n",
    "\n",
    "pyLDAvis.enable_notebook()\n",
    "model_filepath = 'LDA_Model_' + str(num_topics)\n",
    "\n",
    "LDAvis_prepared = pyLDAvis.gensim_models.prepare(lda_model, corpus_tfidf, id2word)\n",
    "with open(model_filepath, 'wb') as f:\n",
    "  pickle.dump(LDAvis_prepared, f)\n",
    "  \n",
    "with open(model_filepath, 'rb') as f:\n",
    "  LDAvis_prepared = pickle.load(f)\n",
    "  \n",
    "pyLDAvis.save_html(LDAvis_prepared, 'LDAvis_prepared_' + str(num_topics) + '.html')\n",
    "\n",
    "LDAvis_prepared"
   ]
  },
  {
   "cell_type": "markdown",
   "id": "7188970b",
   "metadata": {},
   "source": [
    "### Model 3. BERTopic"
   ]
  },
  {
   "cell_type": "code",
   "execution_count": 41,
   "id": "35c45e5a",
   "metadata": {},
   "outputs": [],
   "source": [
    "\n",
    "# OPTIONAL CODE! MODEL COMPONENTS EXAMPLES\n",
    "# ----------------------------------------------------------------------------------------\n",
    "\n",
    "# embedding_model_1 = SentenceTransformer('paraphrase-multilingual-mpnet-base-v2')\n",
    "# embedding_model_2 = SentenceTransformer('allenai-specter')\n",
    "# umap_model_1 = PCA(n_components = 5)\n",
    "# cluster_model_1 = KMeans(n_clusters = 50)\n",
    "# cluster_model_2 = HDBSCAN(min_cluster_size=80, min_samples=40, metric = 'euclidean', gen_min_span_tree=True, prediction_data=True)\n",
    "# vectorizer_model_1 = CountVectorizer(ngram_range = (1,3), stop_words = 'english')\n",
    "# ctfidf_model_1 = ClassTfidfTransformer(bm25_weighting = True)\n",
    "\n",
    "\n",
    "\n",
    "# topic_model = BERTopic(\n",
    "#   umap_model = (umap_model_1),\n",
    "#                        embedding_model = (embedding_model_1, embedding_model_2),\n",
    "#                        hdbscan_model = (cluster_model_1, cluster_model_2),\n",
    "#                        vectorizer_model = (vectorizer_model_1),\n",
    "#                        ctfidf_model = (ctfidf_model_1),\n",
    "#                        calculate_probabilities = True,\n",
    "#                        verbose = True)\n",
    "\n",
    "# ----------------------------------------------------------------------------------------\n",
    "\n",
    "\n",
    "topic_model = BERTopic(embedding_model = 'all-miniLM-L6-v2', calculate_probabilities = True)\n",
    "\n",
    "topics, probs = topic_model.fit_transform(df['text'])"
   ]
  },
  {
   "cell_type": "code",
   "execution_count": 42,
   "id": "2ca7e556",
   "metadata": {},
   "outputs": [
    {
     "data": {
      "text/html": [
       "<div>\n",
       "<style scoped>\n",
       "    .dataframe tbody tr th:only-of-type {\n",
       "        vertical-align: middle;\n",
       "    }\n",
       "\n",
       "    .dataframe tbody tr th {\n",
       "        vertical-align: top;\n",
       "    }\n",
       "\n",
       "    .dataframe thead th {\n",
       "        text-align: right;\n",
       "    }\n",
       "</style>\n",
       "<table border=\"1\" class=\"dataframe\">\n",
       "  <thead>\n",
       "    <tr style=\"text-align: right;\">\n",
       "      <th></th>\n",
       "      <th>Topic</th>\n",
       "      <th>Count</th>\n",
       "      <th>Name</th>\n",
       "    </tr>\n",
       "  </thead>\n",
       "  <tbody>\n",
       "    <tr>\n",
       "      <th>0</th>\n",
       "      <td>-1</td>\n",
       "      <td>99</td>\n",
       "      <td>-1_tv_dvd_technolog_highdefinit</td>\n",
       "    </tr>\n",
       "    <tr>\n",
       "      <th>1</th>\n",
       "      <td>0</td>\n",
       "      <td>940</td>\n",
       "      <td>0_govern_elect_labour_peopl</td>\n",
       "    </tr>\n",
       "    <tr>\n",
       "      <th>2</th>\n",
       "      <td>1</td>\n",
       "      <td>342</td>\n",
       "      <td>1_club_player_game_side</td>\n",
       "    </tr>\n",
       "    <tr>\n",
       "      <th>3</th>\n",
       "      <td>2</td>\n",
       "      <td>134</td>\n",
       "      <td>2_film_actor_good_award</td>\n",
       "    </tr>\n",
       "    <tr>\n",
       "      <th>4</th>\n",
       "      <td>3</td>\n",
       "      <td>113</td>\n",
       "      <td>3_site_user_email_search</td>\n",
       "    </tr>\n",
       "    <tr>\n",
       "      <th>5</th>\n",
       "      <td>4</td>\n",
       "      <td>102</td>\n",
       "      <td>4_music_band_song_album</td>\n",
       "    </tr>\n",
       "    <tr>\n",
       "      <th>6</th>\n",
       "      <td>5</td>\n",
       "      <td>87</td>\n",
       "      <td>5_open_seed_match_roddick</td>\n",
       "    </tr>\n",
       "    <tr>\n",
       "      <th>7</th>\n",
       "      <td>6</td>\n",
       "      <td>71</td>\n",
       "      <td>6_technolog_comput_gadget_devic</td>\n",
       "    </tr>\n",
       "    <tr>\n",
       "      <th>8</th>\n",
       "      <td>7</td>\n",
       "      <td>61</td>\n",
       "      <td>7_race_indoor_olymp_champion</td>\n",
       "    </tr>\n",
       "    <tr>\n",
       "      <th>9</th>\n",
       "      <td>8</td>\n",
       "      <td>54</td>\n",
       "      <td>8_game_gamer_consol_titl</td>\n",
       "    </tr>\n",
       "    <tr>\n",
       "      <th>10</th>\n",
       "      <td>9</td>\n",
       "      <td>45</td>\n",
       "      <td>9_mobil_phone_camera_servic</td>\n",
       "    </tr>\n",
       "    <tr>\n",
       "      <th>11</th>\n",
       "      <td>10</td>\n",
       "      <td>40</td>\n",
       "      <td>10_show_tv_seri_channel</td>\n",
       "    </tr>\n",
       "    <tr>\n",
       "      <th>12</th>\n",
       "      <td>11</td>\n",
       "      <td>33</td>\n",
       "      <td>11_athlet_drug_iaaf_greek</td>\n",
       "    </tr>\n",
       "    <tr>\n",
       "      <th>13</th>\n",
       "      <td>12</td>\n",
       "      <td>25</td>\n",
       "      <td>12_broadband_servic_net_connect</td>\n",
       "    </tr>\n",
       "    <tr>\n",
       "      <th>14</th>\n",
       "      <td>13</td>\n",
       "      <td>21</td>\n",
       "      <td>13_film_festiv_music_singer</td>\n",
       "    </tr>\n",
       "    <tr>\n",
       "      <th>15</th>\n",
       "      <td>14</td>\n",
       "      <td>21</td>\n",
       "      <td>14_music_player_digit_download</td>\n",
       "    </tr>\n",
       "    <tr>\n",
       "      <th>16</th>\n",
       "      <td>15</td>\n",
       "      <td>14</td>\n",
       "      <td>15_file_system_network_bittorr</td>\n",
       "    </tr>\n",
       "    <tr>\n",
       "      <th>17</th>\n",
       "      <td>16</td>\n",
       "      <td>12</td>\n",
       "      <td>16_book_novel_winner_prize</td>\n",
       "    </tr>\n",
       "    <tr>\n",
       "      <th>18</th>\n",
       "      <td>17</td>\n",
       "      <td>11</td>\n",
       "      <td>17_patent_softwar_law_invent</td>\n",
       "    </tr>\n",
       "  </tbody>\n",
       "</table>\n",
       "</div>"
      ],
      "text/plain": [
       "    Topic  Count                             Name\n",
       "0      -1     99  -1_tv_dvd_technolog_highdefinit\n",
       "1       0    940      0_govern_elect_labour_peopl\n",
       "2       1    342          1_club_player_game_side\n",
       "3       2    134          2_film_actor_good_award\n",
       "4       3    113         3_site_user_email_search\n",
       "5       4    102          4_music_band_song_album\n",
       "6       5     87        5_open_seed_match_roddick\n",
       "7       6     71  6_technolog_comput_gadget_devic\n",
       "8       7     61     7_race_indoor_olymp_champion\n",
       "9       8     54         8_game_gamer_consol_titl\n",
       "10      9     45      9_mobil_phone_camera_servic\n",
       "11     10     40          10_show_tv_seri_channel\n",
       "12     11     33        11_athlet_drug_iaaf_greek\n",
       "13     12     25  12_broadband_servic_net_connect\n",
       "14     13     21      13_film_festiv_music_singer\n",
       "15     14     21   14_music_player_digit_download\n",
       "16     15     14   15_file_system_network_bittorr\n",
       "17     16     12       16_book_novel_winner_prize\n",
       "18     17     11     17_patent_softwar_law_invent"
      ]
     },
     "execution_count": 42,
     "metadata": {},
     "output_type": "execute_result"
    }
   ],
   "source": [
    "topic_model.get_topic_info()"
   ]
  },
  {
   "cell_type": "code",
   "execution_count": 43,
   "id": "ebe869b9",
   "metadata": {},
   "outputs": [
    {
     "data": {
      "text/plain": [
       "[('govern', 0.025713186080743997),\n",
       " ('elect', 0.018883465194214626),\n",
       " ('labour', 0.01671775318540039),\n",
       " ('peopl', 0.015254967322065799),\n",
       " ('market', 0.014824154241202672),\n",
       " ('compani', 0.014644830764531871),\n",
       " ('plan', 0.014316758612497852),\n",
       " ('economi', 0.014168885308187813),\n",
       " ('countri', 0.013935405288994746),\n",
       " ('parti', 0.013685598266992121)]"
      ]
     },
     "execution_count": 43,
     "metadata": {},
     "output_type": "execute_result"
    }
   ],
   "source": [
    "topic_number = 0\n",
    "topic_model.get_topic(0)"
   ]
  },
  {
   "cell_type": "code",
   "execution_count": 44,
   "id": "a9f39d57",
   "metadata": {},
   "outputs": [
    {
     "data": {
      "text/plain": [
       "['elect gener elect good chanc pressur group real impact govern polici lobbi plan sure caus spring poll state pension pension credit guarante level mani pension disadvantag current system pension poverti line gener peopl live poverti pension manifesto candid constitu top issu pension issu support respons result constitu way politician fact m voter countri like vote section societi true swing voter pension conserv labour guarante vote labour govern time vote pension big elect issu govern public adair turner full report issu least gener pension system world govern aviat environ specif plan polit parti incumb mp variou local group particular area nation brief larg demonstr success issu public conscious extent difficult elect import public mind big issu hunt bill act high court action way court side appeal plumb time ban forc februari court compens lot legal territori engag minist intellig rural engag difficult intimidatori whole group angri housewif cours element peopl angri violenc fall plumb import gener elect issu tabl elect peopl live anim sport abroad reason trophi sort form sport principl tiger pheasant relat trophi hunt publicis darker aspect target anim industri pledg individu mp wouldb mp anim sport support polit parti gener elect much pledg mp elector mani mp happi real climb agenda ban sure mobilis public opinion anim suffer time lead ban issu import elect choic languag consumer govern polit spectrum choic ideolog privatis decad issu debat consum choic choic choic school mani pension scandal pension industri maximum choic minimum qualiti choic consum term clear access inform choic campaign chang day member medium preelect confer opinion former journalist other open commun member public politician success much languag main polit parti politician side sensit issu issu fuel duti larg part oper cost road haulag worker increas postpon sound great deal oper vehicl vehicl time fuel duti rise horrifi huge effect industri widespread demonstr number firm busi issu trade press stori nation press public lorri minor car road work',\n",
       " 'labour voter cri support stake home protest vote gener elect fall clear fundament choic labour invest tori cut spring confer tori win conserv dem voter high taxi labour audienc gateshead sage centr shadow cut equival teacher gp nurs countri conserv record govern promis labour mistak inflat interest rate 3bn reserv neg equiti unemploy tori boom bust central divid line elect conserv parti deep cut 35bn servic labour govern stabil reform renew hospit school public servic proud 60bn economi chancellor econom stabil growth third term power child pension poverti help young peopl properti ladder messag thousand young coupl first home hous manifesto labour govern low mortgag rate firsttim buyer initi speech ovat end teenag unemploy next year plan debt relief world poor countri nation minimum wage creation network flexibl matern speech shadow futur taxi black hole spend simpl choic elect valu money low taxi conserv high taxi liber pictur rosi brown portray trumpet labour manag economi gordon brown system massiv centralis bureaucraci system million peopl test system taxat complex posit word econom problem horizon least unpreced level person debt nation minist question email text messag telephon part labour attempt public campaign audienc war safe place democraci troop possibl job pm big chang countri',\n",
       " 'unveil elect slogan liber real altern forthcom gener elect campaign slogan spring confer glass ceil ambit deleg labour public trust tori respons conserv parti major peopl credibl principl polit parti differ vision liber war strong opposit govern card antiterror measur taxat conserv good vote peopl parti listen concern prepar stand parti minist claim labour soft crime support high taxi immigr support parti plan incom tax rate earn money help key polici univers tuition fee council tax favour local incom tax free care elderli tori sum famili world world class busi world class workforc pension poverti line parti elect prime minist earli radio today programm possibl coalit labour event elect independ parti independ parti fire recent day monday vote govern controversi antiterror law lib colleagu vote govern major idea confer certain mp chanc vote plan']"
      ]
     },
     "execution_count": 44,
     "metadata": {},
     "output_type": "execute_result"
    }
   ],
   "source": [
    "topic_number = 0\n",
    "topic_model.get_representative_docs(0)"
   ]
  },
  {
   "cell_type": "code",
   "execution_count": 45,
   "id": "b12f5e7d",
   "metadata": {},
   "outputs": [],
   "source": [
    "assigned_topics_df = pd.DataFrame({'topic':topics, 'document': df['text']})"
   ]
  },
  {
   "cell_type": "code",
   "execution_count": 46,
   "id": "fa0c5958",
   "metadata": {},
   "outputs": [
    {
     "data": {
      "application/vnd.plotly.v1+json": {
       "config": {
        "plotlyServerURL": "https://plot.ly"
       },
       "data": [
        {
         "marker": {
          "color": "#D55E00"
         },
         "orientation": "h",
         "type": "bar",
         "x": [
          0.014824154241202672,
          0.015254967322065799,
          0.01671775318540039,
          0.018883465194214626,
          0.025713186080743997
         ],
         "xaxis": "x",
         "y": [
          "market  ",
          "peopl  ",
          "labour  ",
          "elect  ",
          "govern  "
         ],
         "yaxis": "y"
        },
        {
         "marker": {
          "color": "#0072B2"
         },
         "orientation": "h",
         "type": "bar",
         "x": [
          0.029467450213305282,
          0.033767073144161615,
          0.03851569694715491,
          0.03957531180429002,
          0.043035587152533895
         ],
         "xaxis": "x2",
         "y": [
          "team  ",
          "side  ",
          "game  ",
          "player  ",
          "club  "
         ],
         "yaxis": "y2"
        },
        {
         "marker": {
          "color": "#CC79A7"
         },
         "orientation": "h",
         "type": "bar",
         "x": [
          0.04701606224473519,
          0.055528634730036046,
          0.056986577809589115,
          0.05802918914444401,
          0.14579877509388517
         ],
         "xaxis": "x3",
         "y": [
          "oscar  ",
          "award  ",
          "good  ",
          "actor  ",
          "film  "
         ],
         "yaxis": "y3"
        },
        {
         "marker": {
          "color": "#E69F00"
         },
         "orientation": "h",
         "type": "bar",
         "x": [
          0.03999111129891081,
          0.040687398092981115,
          0.04239419060848712,
          0.04462463243957378,
          0.05211528276400321
         ],
         "xaxis": "x4",
         "y": [
          "viru  ",
          "search  ",
          "email  ",
          "user  ",
          "site  "
         ],
         "yaxis": "y4"
        },
        {
         "marker": {
          "color": "#56B4E9"
         },
         "orientation": "h",
         "type": "bar",
         "x": [
          0.04343763062917232,
          0.05966533057012628,
          0.06123683805910198,
          0.07042029315775705,
          0.07767047865808151
         ],
         "xaxis": "x5",
         "y": [
          "good  ",
          "album  ",
          "song  ",
          "band  ",
          "music  "
         ],
         "yaxis": "y5"
        },
        {
         "marker": {
          "color": "#009E73"
         },
         "orientation": "h",
         "type": "bar",
         "x": [
          0.053554384396935786,
          0.061195525313238366,
          0.06464909041827996,
          0.0684459154325364,
          0.08071012639577532
         ],
         "xaxis": "x6",
         "y": [
          "australian  ",
          "roddick  ",
          "match  ",
          "seed  ",
          "open  "
         ],
         "yaxis": "y6"
        },
        {
         "marker": {
          "color": "#F0E442"
         },
         "orientation": "h",
         "type": "bar",
         "x": [
          0.02971496885595323,
          0.029819311152933056,
          0.03850517549398857,
          0.04012679616229815,
          0.04753159954104129
         ],
         "xaxis": "x7",
         "y": [
          "digit  ",
          "devic  ",
          "gadget  ",
          "comput  ",
          "technolog  "
         ],
         "yaxis": "y7"
        },
        {
         "marker": {
          "color": "#D55E00"
         },
         "orientation": "h",
         "type": "bar",
         "x": [
          0.05446122192419492,
          0.05614449957622342,
          0.0702064204961891,
          0.078649956187382,
          0.09016076147928569
         ],
         "xaxis": "x8",
         "y": [
          "world  ",
          "champion  ",
          "olymp  ",
          "indoor  ",
          "race  "
         ],
         "yaxis": "y8"
        }
       ],
       "layout": {
        "annotations": [
         {
          "font": {
           "size": 16
          },
          "showarrow": false,
          "text": "Topic 0",
          "x": 0.0875,
          "xanchor": "center",
          "xref": "paper",
          "y": 1,
          "yanchor": "bottom",
          "yref": "paper"
         },
         {
          "font": {
           "size": 16
          },
          "showarrow": false,
          "text": "Topic 1",
          "x": 0.36250000000000004,
          "xanchor": "center",
          "xref": "paper",
          "y": 1,
          "yanchor": "bottom",
          "yref": "paper"
         },
         {
          "font": {
           "size": 16
          },
          "showarrow": false,
          "text": "Topic 2",
          "x": 0.6375000000000001,
          "xanchor": "center",
          "xref": "paper",
          "y": 1,
          "yanchor": "bottom",
          "yref": "paper"
         },
         {
          "font": {
           "size": 16
          },
          "showarrow": false,
          "text": "Topic 3",
          "x": 0.9125,
          "xanchor": "center",
          "xref": "paper",
          "y": 1,
          "yanchor": "bottom",
          "yref": "paper"
         },
         {
          "font": {
           "size": 16
          },
          "showarrow": false,
          "text": "Topic 4",
          "x": 0.0875,
          "xanchor": "center",
          "xref": "paper",
          "y": 0.4,
          "yanchor": "bottom",
          "yref": "paper"
         },
         {
          "font": {
           "size": 16
          },
          "showarrow": false,
          "text": "Topic 5",
          "x": 0.36250000000000004,
          "xanchor": "center",
          "xref": "paper",
          "y": 0.4,
          "yanchor": "bottom",
          "yref": "paper"
         },
         {
          "font": {
           "size": 16
          },
          "showarrow": false,
          "text": "Topic 6",
          "x": 0.6375000000000001,
          "xanchor": "center",
          "xref": "paper",
          "y": 0.4,
          "yanchor": "bottom",
          "yref": "paper"
         },
         {
          "font": {
           "size": 16
          },
          "showarrow": false,
          "text": "Topic 7",
          "x": 0.9125,
          "xanchor": "center",
          "xref": "paper",
          "y": 0.4,
          "yanchor": "bottom",
          "yref": "paper"
         }
        ],
        "height": 500,
        "hoverlabel": {
         "bgcolor": "white",
         "font": {
          "family": "Rockwell",
          "size": 16
         }
        },
        "showlegend": false,
        "template": {
         "data": {
          "bar": [
           {
            "error_x": {
             "color": "#2a3f5f"
            },
            "error_y": {
             "color": "#2a3f5f"
            },
            "marker": {
             "line": {
              "color": "white",
              "width": 0.5
             },
             "pattern": {
              "fillmode": "overlay",
              "size": 10,
              "solidity": 0.2
             }
            },
            "type": "bar"
           }
          ],
          "barpolar": [
           {
            "marker": {
             "line": {
              "color": "white",
              "width": 0.5
             },
             "pattern": {
              "fillmode": "overlay",
              "size": 10,
              "solidity": 0.2
             }
            },
            "type": "barpolar"
           }
          ],
          "carpet": [
           {
            "aaxis": {
             "endlinecolor": "#2a3f5f",
             "gridcolor": "#C8D4E3",
             "linecolor": "#C8D4E3",
             "minorgridcolor": "#C8D4E3",
             "startlinecolor": "#2a3f5f"
            },
            "baxis": {
             "endlinecolor": "#2a3f5f",
             "gridcolor": "#C8D4E3",
             "linecolor": "#C8D4E3",
             "minorgridcolor": "#C8D4E3",
             "startlinecolor": "#2a3f5f"
            },
            "type": "carpet"
           }
          ],
          "choropleth": [
           {
            "colorbar": {
             "outlinewidth": 0,
             "ticks": ""
            },
            "type": "choropleth"
           }
          ],
          "contour": [
           {
            "colorbar": {
             "outlinewidth": 0,
             "ticks": ""
            },
            "colorscale": [
             [
              0,
              "#0d0887"
             ],
             [
              0.1111111111111111,
              "#46039f"
             ],
             [
              0.2222222222222222,
              "#7201a8"
             ],
             [
              0.3333333333333333,
              "#9c179e"
             ],
             [
              0.4444444444444444,
              "#bd3786"
             ],
             [
              0.5555555555555556,
              "#d8576b"
             ],
             [
              0.6666666666666666,
              "#ed7953"
             ],
             [
              0.7777777777777778,
              "#fb9f3a"
             ],
             [
              0.8888888888888888,
              "#fdca26"
             ],
             [
              1,
              "#f0f921"
             ]
            ],
            "type": "contour"
           }
          ],
          "contourcarpet": [
           {
            "colorbar": {
             "outlinewidth": 0,
             "ticks": ""
            },
            "type": "contourcarpet"
           }
          ],
          "heatmap": [
           {
            "colorbar": {
             "outlinewidth": 0,
             "ticks": ""
            },
            "colorscale": [
             [
              0,
              "#0d0887"
             ],
             [
              0.1111111111111111,
              "#46039f"
             ],
             [
              0.2222222222222222,
              "#7201a8"
             ],
             [
              0.3333333333333333,
              "#9c179e"
             ],
             [
              0.4444444444444444,
              "#bd3786"
             ],
             [
              0.5555555555555556,
              "#d8576b"
             ],
             [
              0.6666666666666666,
              "#ed7953"
             ],
             [
              0.7777777777777778,
              "#fb9f3a"
             ],
             [
              0.8888888888888888,
              "#fdca26"
             ],
             [
              1,
              "#f0f921"
             ]
            ],
            "type": "heatmap"
           }
          ],
          "heatmapgl": [
           {
            "colorbar": {
             "outlinewidth": 0,
             "ticks": ""
            },
            "colorscale": [
             [
              0,
              "#0d0887"
             ],
             [
              0.1111111111111111,
              "#46039f"
             ],
             [
              0.2222222222222222,
              "#7201a8"
             ],
             [
              0.3333333333333333,
              "#9c179e"
             ],
             [
              0.4444444444444444,
              "#bd3786"
             ],
             [
              0.5555555555555556,
              "#d8576b"
             ],
             [
              0.6666666666666666,
              "#ed7953"
             ],
             [
              0.7777777777777778,
              "#fb9f3a"
             ],
             [
              0.8888888888888888,
              "#fdca26"
             ],
             [
              1,
              "#f0f921"
             ]
            ],
            "type": "heatmapgl"
           }
          ],
          "histogram": [
           {
            "marker": {
             "pattern": {
              "fillmode": "overlay",
              "size": 10,
              "solidity": 0.2
             }
            },
            "type": "histogram"
           }
          ],
          "histogram2d": [
           {
            "colorbar": {
             "outlinewidth": 0,
             "ticks": ""
            },
            "colorscale": [
             [
              0,
              "#0d0887"
             ],
             [
              0.1111111111111111,
              "#46039f"
             ],
             [
              0.2222222222222222,
              "#7201a8"
             ],
             [
              0.3333333333333333,
              "#9c179e"
             ],
             [
              0.4444444444444444,
              "#bd3786"
             ],
             [
              0.5555555555555556,
              "#d8576b"
             ],
             [
              0.6666666666666666,
              "#ed7953"
             ],
             [
              0.7777777777777778,
              "#fb9f3a"
             ],
             [
              0.8888888888888888,
              "#fdca26"
             ],
             [
              1,
              "#f0f921"
             ]
            ],
            "type": "histogram2d"
           }
          ],
          "histogram2dcontour": [
           {
            "colorbar": {
             "outlinewidth": 0,
             "ticks": ""
            },
            "colorscale": [
             [
              0,
              "#0d0887"
             ],
             [
              0.1111111111111111,
              "#46039f"
             ],
             [
              0.2222222222222222,
              "#7201a8"
             ],
             [
              0.3333333333333333,
              "#9c179e"
             ],
             [
              0.4444444444444444,
              "#bd3786"
             ],
             [
              0.5555555555555556,
              "#d8576b"
             ],
             [
              0.6666666666666666,
              "#ed7953"
             ],
             [
              0.7777777777777778,
              "#fb9f3a"
             ],
             [
              0.8888888888888888,
              "#fdca26"
             ],
             [
              1,
              "#f0f921"
             ]
            ],
            "type": "histogram2dcontour"
           }
          ],
          "mesh3d": [
           {
            "colorbar": {
             "outlinewidth": 0,
             "ticks": ""
            },
            "type": "mesh3d"
           }
          ],
          "parcoords": [
           {
            "line": {
             "colorbar": {
              "outlinewidth": 0,
              "ticks": ""
             }
            },
            "type": "parcoords"
           }
          ],
          "pie": [
           {
            "automargin": true,
            "type": "pie"
           }
          ],
          "scatter": [
           {
            "fillpattern": {
             "fillmode": "overlay",
             "size": 10,
             "solidity": 0.2
            },
            "type": "scatter"
           }
          ],
          "scatter3d": [
           {
            "line": {
             "colorbar": {
              "outlinewidth": 0,
              "ticks": ""
             }
            },
            "marker": {
             "colorbar": {
              "outlinewidth": 0,
              "ticks": ""
             }
            },
            "type": "scatter3d"
           }
          ],
          "scattercarpet": [
           {
            "marker": {
             "colorbar": {
              "outlinewidth": 0,
              "ticks": ""
             }
            },
            "type": "scattercarpet"
           }
          ],
          "scattergeo": [
           {
            "marker": {
             "colorbar": {
              "outlinewidth": 0,
              "ticks": ""
             }
            },
            "type": "scattergeo"
           }
          ],
          "scattergl": [
           {
            "marker": {
             "colorbar": {
              "outlinewidth": 0,
              "ticks": ""
             }
            },
            "type": "scattergl"
           }
          ],
          "scattermapbox": [
           {
            "marker": {
             "colorbar": {
              "outlinewidth": 0,
              "ticks": ""
             }
            },
            "type": "scattermapbox"
           }
          ],
          "scatterpolar": [
           {
            "marker": {
             "colorbar": {
              "outlinewidth": 0,
              "ticks": ""
             }
            },
            "type": "scatterpolar"
           }
          ],
          "scatterpolargl": [
           {
            "marker": {
             "colorbar": {
              "outlinewidth": 0,
              "ticks": ""
             }
            },
            "type": "scatterpolargl"
           }
          ],
          "scatterternary": [
           {
            "marker": {
             "colorbar": {
              "outlinewidth": 0,
              "ticks": ""
             }
            },
            "type": "scatterternary"
           }
          ],
          "surface": [
           {
            "colorbar": {
             "outlinewidth": 0,
             "ticks": ""
            },
            "colorscale": [
             [
              0,
              "#0d0887"
             ],
             [
              0.1111111111111111,
              "#46039f"
             ],
             [
              0.2222222222222222,
              "#7201a8"
             ],
             [
              0.3333333333333333,
              "#9c179e"
             ],
             [
              0.4444444444444444,
              "#bd3786"
             ],
             [
              0.5555555555555556,
              "#d8576b"
             ],
             [
              0.6666666666666666,
              "#ed7953"
             ],
             [
              0.7777777777777778,
              "#fb9f3a"
             ],
             [
              0.8888888888888888,
              "#fdca26"
             ],
             [
              1,
              "#f0f921"
             ]
            ],
            "type": "surface"
           }
          ],
          "table": [
           {
            "cells": {
             "fill": {
              "color": "#EBF0F8"
             },
             "line": {
              "color": "white"
             }
            },
            "header": {
             "fill": {
              "color": "#C8D4E3"
             },
             "line": {
              "color": "white"
             }
            },
            "type": "table"
           }
          ]
         },
         "layout": {
          "annotationdefaults": {
           "arrowcolor": "#2a3f5f",
           "arrowhead": 0,
           "arrowwidth": 1
          },
          "autotypenumbers": "strict",
          "coloraxis": {
           "colorbar": {
            "outlinewidth": 0,
            "ticks": ""
           }
          },
          "colorscale": {
           "diverging": [
            [
             0,
             "#8e0152"
            ],
            [
             0.1,
             "#c51b7d"
            ],
            [
             0.2,
             "#de77ae"
            ],
            [
             0.3,
             "#f1b6da"
            ],
            [
             0.4,
             "#fde0ef"
            ],
            [
             0.5,
             "#f7f7f7"
            ],
            [
             0.6,
             "#e6f5d0"
            ],
            [
             0.7,
             "#b8e186"
            ],
            [
             0.8,
             "#7fbc41"
            ],
            [
             0.9,
             "#4d9221"
            ],
            [
             1,
             "#276419"
            ]
           ],
           "sequential": [
            [
             0,
             "#0d0887"
            ],
            [
             0.1111111111111111,
             "#46039f"
            ],
            [
             0.2222222222222222,
             "#7201a8"
            ],
            [
             0.3333333333333333,
             "#9c179e"
            ],
            [
             0.4444444444444444,
             "#bd3786"
            ],
            [
             0.5555555555555556,
             "#d8576b"
            ],
            [
             0.6666666666666666,
             "#ed7953"
            ],
            [
             0.7777777777777778,
             "#fb9f3a"
            ],
            [
             0.8888888888888888,
             "#fdca26"
            ],
            [
             1,
             "#f0f921"
            ]
           ],
           "sequentialminus": [
            [
             0,
             "#0d0887"
            ],
            [
             0.1111111111111111,
             "#46039f"
            ],
            [
             0.2222222222222222,
             "#7201a8"
            ],
            [
             0.3333333333333333,
             "#9c179e"
            ],
            [
             0.4444444444444444,
             "#bd3786"
            ],
            [
             0.5555555555555556,
             "#d8576b"
            ],
            [
             0.6666666666666666,
             "#ed7953"
            ],
            [
             0.7777777777777778,
             "#fb9f3a"
            ],
            [
             0.8888888888888888,
             "#fdca26"
            ],
            [
             1,
             "#f0f921"
            ]
           ]
          },
          "colorway": [
           "#636efa",
           "#EF553B",
           "#00cc96",
           "#ab63fa",
           "#FFA15A",
           "#19d3f3",
           "#FF6692",
           "#B6E880",
           "#FF97FF",
           "#FECB52"
          ],
          "font": {
           "color": "#2a3f5f"
          },
          "geo": {
           "bgcolor": "white",
           "lakecolor": "white",
           "landcolor": "white",
           "showlakes": true,
           "showland": true,
           "subunitcolor": "#C8D4E3"
          },
          "hoverlabel": {
           "align": "left"
          },
          "hovermode": "closest",
          "mapbox": {
           "style": "light"
          },
          "paper_bgcolor": "white",
          "plot_bgcolor": "white",
          "polar": {
           "angularaxis": {
            "gridcolor": "#EBF0F8",
            "linecolor": "#EBF0F8",
            "ticks": ""
           },
           "bgcolor": "white",
           "radialaxis": {
            "gridcolor": "#EBF0F8",
            "linecolor": "#EBF0F8",
            "ticks": ""
           }
          },
          "scene": {
           "xaxis": {
            "backgroundcolor": "white",
            "gridcolor": "#DFE8F3",
            "gridwidth": 2,
            "linecolor": "#EBF0F8",
            "showbackground": true,
            "ticks": "",
            "zerolinecolor": "#EBF0F8"
           },
           "yaxis": {
            "backgroundcolor": "white",
            "gridcolor": "#DFE8F3",
            "gridwidth": 2,
            "linecolor": "#EBF0F8",
            "showbackground": true,
            "ticks": "",
            "zerolinecolor": "#EBF0F8"
           },
           "zaxis": {
            "backgroundcolor": "white",
            "gridcolor": "#DFE8F3",
            "gridwidth": 2,
            "linecolor": "#EBF0F8",
            "showbackground": true,
            "ticks": "",
            "zerolinecolor": "#EBF0F8"
           }
          },
          "shapedefaults": {
           "line": {
            "color": "#2a3f5f"
           }
          },
          "ternary": {
           "aaxis": {
            "gridcolor": "#DFE8F3",
            "linecolor": "#A2B1C6",
            "ticks": ""
           },
           "baxis": {
            "gridcolor": "#DFE8F3",
            "linecolor": "#A2B1C6",
            "ticks": ""
           },
           "bgcolor": "white",
           "caxis": {
            "gridcolor": "#DFE8F3",
            "linecolor": "#A2B1C6",
            "ticks": ""
           }
          },
          "title": {
           "x": 0.05
          },
          "xaxis": {
           "automargin": true,
           "gridcolor": "#EBF0F8",
           "linecolor": "#EBF0F8",
           "ticks": "",
           "title": {
            "standoff": 15
           },
           "zerolinecolor": "#EBF0F8",
           "zerolinewidth": 2
          },
          "yaxis": {
           "automargin": true,
           "gridcolor": "#EBF0F8",
           "linecolor": "#EBF0F8",
           "ticks": "",
           "title": {
            "standoff": 15
           },
           "zerolinecolor": "#EBF0F8",
           "zerolinewidth": 2
          }
         }
        },
        "title": {
         "font": {
          "color": "Black",
          "size": 22
         },
         "text": "Topic Word Scores",
         "x": 0.5,
         "xanchor": "center",
         "yanchor": "top"
        },
        "width": 1000,
        "xaxis": {
         "anchor": "y",
         "domain": [
          0,
          0.175
         ],
         "showgrid": true
        },
        "xaxis2": {
         "anchor": "y2",
         "domain": [
          0.275,
          0.45
         ],
         "showgrid": true
        },
        "xaxis3": {
         "anchor": "y3",
         "domain": [
          0.55,
          0.7250000000000001
         ],
         "showgrid": true
        },
        "xaxis4": {
         "anchor": "y4",
         "domain": [
          0.825,
          1
         ],
         "showgrid": true
        },
        "xaxis5": {
         "anchor": "y5",
         "domain": [
          0,
          0.175
         ],
         "showgrid": true
        },
        "xaxis6": {
         "anchor": "y6",
         "domain": [
          0.275,
          0.45
         ],
         "showgrid": true
        },
        "xaxis7": {
         "anchor": "y7",
         "domain": [
          0.55,
          0.7250000000000001
         ],
         "showgrid": true
        },
        "xaxis8": {
         "anchor": "y8",
         "domain": [
          0.825,
          1
         ],
         "showgrid": true
        },
        "yaxis": {
         "anchor": "x",
         "domain": [
          0.6000000000000001,
          1
         ],
         "showgrid": true
        },
        "yaxis2": {
         "anchor": "x2",
         "domain": [
          0.6000000000000001,
          1
         ],
         "showgrid": true
        },
        "yaxis3": {
         "anchor": "x3",
         "domain": [
          0.6000000000000001,
          1
         ],
         "showgrid": true
        },
        "yaxis4": {
         "anchor": "x4",
         "domain": [
          0.6000000000000001,
          1
         ],
         "showgrid": true
        },
        "yaxis5": {
         "anchor": "x5",
         "domain": [
          0,
          0.4
         ],
         "showgrid": true
        },
        "yaxis6": {
         "anchor": "x6",
         "domain": [
          0,
          0.4
         ],
         "showgrid": true
        },
        "yaxis7": {
         "anchor": "x7",
         "domain": [
          0,
          0.4
         ],
         "showgrid": true
        },
        "yaxis8": {
         "anchor": "x8",
         "domain": [
          0,
          0.4
         ],
         "showgrid": true
        }
       }
      },
      "text/html": [
       "<div>                            <div id=\"1ddb0cae-54a0-4aea-a14b-8f7092a11863\" class=\"plotly-graph-div\" style=\"height:500px; width:1000px;\"></div>            <script type=\"text/javascript\">                require([\"plotly\"], function(Plotly) {                    window.PLOTLYENV=window.PLOTLYENV || {};                                    if (document.getElementById(\"1ddb0cae-54a0-4aea-a14b-8f7092a11863\")) {                    Plotly.newPlot(                        \"1ddb0cae-54a0-4aea-a14b-8f7092a11863\",                        [{\"marker\":{\"color\":\"#D55E00\"},\"orientation\":\"h\",\"x\":[0.014824154241202672,0.015254967322065799,0.01671775318540039,0.018883465194214626,0.025713186080743997],\"y\":[\"market  \",\"peopl  \",\"labour  \",\"elect  \",\"govern  \"],\"type\":\"bar\",\"xaxis\":\"x\",\"yaxis\":\"y\"},{\"marker\":{\"color\":\"#0072B2\"},\"orientation\":\"h\",\"x\":[0.029467450213305282,0.033767073144161615,0.03851569694715491,0.03957531180429002,0.043035587152533895],\"y\":[\"team  \",\"side  \",\"game  \",\"player  \",\"club  \"],\"type\":\"bar\",\"xaxis\":\"x2\",\"yaxis\":\"y2\"},{\"marker\":{\"color\":\"#CC79A7\"},\"orientation\":\"h\",\"x\":[0.04701606224473519,0.055528634730036046,0.056986577809589115,0.05802918914444401,0.14579877509388517],\"y\":[\"oscar  \",\"award  \",\"good  \",\"actor  \",\"film  \"],\"type\":\"bar\",\"xaxis\":\"x3\",\"yaxis\":\"y3\"},{\"marker\":{\"color\":\"#E69F00\"},\"orientation\":\"h\",\"x\":[0.03999111129891081,0.040687398092981115,0.04239419060848712,0.04462463243957378,0.05211528276400321],\"y\":[\"viru  \",\"search  \",\"email  \",\"user  \",\"site  \"],\"type\":\"bar\",\"xaxis\":\"x4\",\"yaxis\":\"y4\"},{\"marker\":{\"color\":\"#56B4E9\"},\"orientation\":\"h\",\"x\":[0.04343763062917232,0.05966533057012628,0.06123683805910198,0.07042029315775705,0.07767047865808151],\"y\":[\"good  \",\"album  \",\"song  \",\"band  \",\"music  \"],\"type\":\"bar\",\"xaxis\":\"x5\",\"yaxis\":\"y5\"},{\"marker\":{\"color\":\"#009E73\"},\"orientation\":\"h\",\"x\":[0.053554384396935786,0.061195525313238366,0.06464909041827996,0.0684459154325364,0.08071012639577532],\"y\":[\"australian  \",\"roddick  \",\"match  \",\"seed  \",\"open  \"],\"type\":\"bar\",\"xaxis\":\"x6\",\"yaxis\":\"y6\"},{\"marker\":{\"color\":\"#F0E442\"},\"orientation\":\"h\",\"x\":[0.02971496885595323,0.029819311152933056,0.03850517549398857,0.04012679616229815,0.04753159954104129],\"y\":[\"digit  \",\"devic  \",\"gadget  \",\"comput  \",\"technolog  \"],\"type\":\"bar\",\"xaxis\":\"x7\",\"yaxis\":\"y7\"},{\"marker\":{\"color\":\"#D55E00\"},\"orientation\":\"h\",\"x\":[0.05446122192419492,0.05614449957622342,0.0702064204961891,0.078649956187382,0.09016076147928569],\"y\":[\"world  \",\"champion  \",\"olymp  \",\"indoor  \",\"race  \"],\"type\":\"bar\",\"xaxis\":\"x8\",\"yaxis\":\"y8\"}],                        {\"template\":{\"data\":{\"barpolar\":[{\"marker\":{\"line\":{\"color\":\"white\",\"width\":0.5},\"pattern\":{\"fillmode\":\"overlay\",\"size\":10,\"solidity\":0.2}},\"type\":\"barpolar\"}],\"bar\":[{\"error_x\":{\"color\":\"#2a3f5f\"},\"error_y\":{\"color\":\"#2a3f5f\"},\"marker\":{\"line\":{\"color\":\"white\",\"width\":0.5},\"pattern\":{\"fillmode\":\"overlay\",\"size\":10,\"solidity\":0.2}},\"type\":\"bar\"}],\"carpet\":[{\"aaxis\":{\"endlinecolor\":\"#2a3f5f\",\"gridcolor\":\"#C8D4E3\",\"linecolor\":\"#C8D4E3\",\"minorgridcolor\":\"#C8D4E3\",\"startlinecolor\":\"#2a3f5f\"},\"baxis\":{\"endlinecolor\":\"#2a3f5f\",\"gridcolor\":\"#C8D4E3\",\"linecolor\":\"#C8D4E3\",\"minorgridcolor\":\"#C8D4E3\",\"startlinecolor\":\"#2a3f5f\"},\"type\":\"carpet\"}],\"choropleth\":[{\"colorbar\":{\"outlinewidth\":0,\"ticks\":\"\"},\"type\":\"choropleth\"}],\"contourcarpet\":[{\"colorbar\":{\"outlinewidth\":0,\"ticks\":\"\"},\"type\":\"contourcarpet\"}],\"contour\":[{\"colorbar\":{\"outlinewidth\":0,\"ticks\":\"\"},\"colorscale\":[[0.0,\"#0d0887\"],[0.1111111111111111,\"#46039f\"],[0.2222222222222222,\"#7201a8\"],[0.3333333333333333,\"#9c179e\"],[0.4444444444444444,\"#bd3786\"],[0.5555555555555556,\"#d8576b\"],[0.6666666666666666,\"#ed7953\"],[0.7777777777777778,\"#fb9f3a\"],[0.8888888888888888,\"#fdca26\"],[1.0,\"#f0f921\"]],\"type\":\"contour\"}],\"heatmapgl\":[{\"colorbar\":{\"outlinewidth\":0,\"ticks\":\"\"},\"colorscale\":[[0.0,\"#0d0887\"],[0.1111111111111111,\"#46039f\"],[0.2222222222222222,\"#7201a8\"],[0.3333333333333333,\"#9c179e\"],[0.4444444444444444,\"#bd3786\"],[0.5555555555555556,\"#d8576b\"],[0.6666666666666666,\"#ed7953\"],[0.7777777777777778,\"#fb9f3a\"],[0.8888888888888888,\"#fdca26\"],[1.0,\"#f0f921\"]],\"type\":\"heatmapgl\"}],\"heatmap\":[{\"colorbar\":{\"outlinewidth\":0,\"ticks\":\"\"},\"colorscale\":[[0.0,\"#0d0887\"],[0.1111111111111111,\"#46039f\"],[0.2222222222222222,\"#7201a8\"],[0.3333333333333333,\"#9c179e\"],[0.4444444444444444,\"#bd3786\"],[0.5555555555555556,\"#d8576b\"],[0.6666666666666666,\"#ed7953\"],[0.7777777777777778,\"#fb9f3a\"],[0.8888888888888888,\"#fdca26\"],[1.0,\"#f0f921\"]],\"type\":\"heatmap\"}],\"histogram2dcontour\":[{\"colorbar\":{\"outlinewidth\":0,\"ticks\":\"\"},\"colorscale\":[[0.0,\"#0d0887\"],[0.1111111111111111,\"#46039f\"],[0.2222222222222222,\"#7201a8\"],[0.3333333333333333,\"#9c179e\"],[0.4444444444444444,\"#bd3786\"],[0.5555555555555556,\"#d8576b\"],[0.6666666666666666,\"#ed7953\"],[0.7777777777777778,\"#fb9f3a\"],[0.8888888888888888,\"#fdca26\"],[1.0,\"#f0f921\"]],\"type\":\"histogram2dcontour\"}],\"histogram2d\":[{\"colorbar\":{\"outlinewidth\":0,\"ticks\":\"\"},\"colorscale\":[[0.0,\"#0d0887\"],[0.1111111111111111,\"#46039f\"],[0.2222222222222222,\"#7201a8\"],[0.3333333333333333,\"#9c179e\"],[0.4444444444444444,\"#bd3786\"],[0.5555555555555556,\"#d8576b\"],[0.6666666666666666,\"#ed7953\"],[0.7777777777777778,\"#fb9f3a\"],[0.8888888888888888,\"#fdca26\"],[1.0,\"#f0f921\"]],\"type\":\"histogram2d\"}],\"histogram\":[{\"marker\":{\"pattern\":{\"fillmode\":\"overlay\",\"size\":10,\"solidity\":0.2}},\"type\":\"histogram\"}],\"mesh3d\":[{\"colorbar\":{\"outlinewidth\":0,\"ticks\":\"\"},\"type\":\"mesh3d\"}],\"parcoords\":[{\"line\":{\"colorbar\":{\"outlinewidth\":0,\"ticks\":\"\"}},\"type\":\"parcoords\"}],\"pie\":[{\"automargin\":true,\"type\":\"pie\"}],\"scatter3d\":[{\"line\":{\"colorbar\":{\"outlinewidth\":0,\"ticks\":\"\"}},\"marker\":{\"colorbar\":{\"outlinewidth\":0,\"ticks\":\"\"}},\"type\":\"scatter3d\"}],\"scattercarpet\":[{\"marker\":{\"colorbar\":{\"outlinewidth\":0,\"ticks\":\"\"}},\"type\":\"scattercarpet\"}],\"scattergeo\":[{\"marker\":{\"colorbar\":{\"outlinewidth\":0,\"ticks\":\"\"}},\"type\":\"scattergeo\"}],\"scattergl\":[{\"marker\":{\"colorbar\":{\"outlinewidth\":0,\"ticks\":\"\"}},\"type\":\"scattergl\"}],\"scattermapbox\":[{\"marker\":{\"colorbar\":{\"outlinewidth\":0,\"ticks\":\"\"}},\"type\":\"scattermapbox\"}],\"scatterpolargl\":[{\"marker\":{\"colorbar\":{\"outlinewidth\":0,\"ticks\":\"\"}},\"type\":\"scatterpolargl\"}],\"scatterpolar\":[{\"marker\":{\"colorbar\":{\"outlinewidth\":0,\"ticks\":\"\"}},\"type\":\"scatterpolar\"}],\"scatter\":[{\"fillpattern\":{\"fillmode\":\"overlay\",\"size\":10,\"solidity\":0.2},\"type\":\"scatter\"}],\"scatterternary\":[{\"marker\":{\"colorbar\":{\"outlinewidth\":0,\"ticks\":\"\"}},\"type\":\"scatterternary\"}],\"surface\":[{\"colorbar\":{\"outlinewidth\":0,\"ticks\":\"\"},\"colorscale\":[[0.0,\"#0d0887\"],[0.1111111111111111,\"#46039f\"],[0.2222222222222222,\"#7201a8\"],[0.3333333333333333,\"#9c179e\"],[0.4444444444444444,\"#bd3786\"],[0.5555555555555556,\"#d8576b\"],[0.6666666666666666,\"#ed7953\"],[0.7777777777777778,\"#fb9f3a\"],[0.8888888888888888,\"#fdca26\"],[1.0,\"#f0f921\"]],\"type\":\"surface\"}],\"table\":[{\"cells\":{\"fill\":{\"color\":\"#EBF0F8\"},\"line\":{\"color\":\"white\"}},\"header\":{\"fill\":{\"color\":\"#C8D4E3\"},\"line\":{\"color\":\"white\"}},\"type\":\"table\"}]},\"layout\":{\"annotationdefaults\":{\"arrowcolor\":\"#2a3f5f\",\"arrowhead\":0,\"arrowwidth\":1},\"autotypenumbers\":\"strict\",\"coloraxis\":{\"colorbar\":{\"outlinewidth\":0,\"ticks\":\"\"}},\"colorscale\":{\"diverging\":[[0,\"#8e0152\"],[0.1,\"#c51b7d\"],[0.2,\"#de77ae\"],[0.3,\"#f1b6da\"],[0.4,\"#fde0ef\"],[0.5,\"#f7f7f7\"],[0.6,\"#e6f5d0\"],[0.7,\"#b8e186\"],[0.8,\"#7fbc41\"],[0.9,\"#4d9221\"],[1,\"#276419\"]],\"sequential\":[[0.0,\"#0d0887\"],[0.1111111111111111,\"#46039f\"],[0.2222222222222222,\"#7201a8\"],[0.3333333333333333,\"#9c179e\"],[0.4444444444444444,\"#bd3786\"],[0.5555555555555556,\"#d8576b\"],[0.6666666666666666,\"#ed7953\"],[0.7777777777777778,\"#fb9f3a\"],[0.8888888888888888,\"#fdca26\"],[1.0,\"#f0f921\"]],\"sequentialminus\":[[0.0,\"#0d0887\"],[0.1111111111111111,\"#46039f\"],[0.2222222222222222,\"#7201a8\"],[0.3333333333333333,\"#9c179e\"],[0.4444444444444444,\"#bd3786\"],[0.5555555555555556,\"#d8576b\"],[0.6666666666666666,\"#ed7953\"],[0.7777777777777778,\"#fb9f3a\"],[0.8888888888888888,\"#fdca26\"],[1.0,\"#f0f921\"]]},\"colorway\":[\"#636efa\",\"#EF553B\",\"#00cc96\",\"#ab63fa\",\"#FFA15A\",\"#19d3f3\",\"#FF6692\",\"#B6E880\",\"#FF97FF\",\"#FECB52\"],\"font\":{\"color\":\"#2a3f5f\"},\"geo\":{\"bgcolor\":\"white\",\"lakecolor\":\"white\",\"landcolor\":\"white\",\"showlakes\":true,\"showland\":true,\"subunitcolor\":\"#C8D4E3\"},\"hoverlabel\":{\"align\":\"left\"},\"hovermode\":\"closest\",\"mapbox\":{\"style\":\"light\"},\"paper_bgcolor\":\"white\",\"plot_bgcolor\":\"white\",\"polar\":{\"angularaxis\":{\"gridcolor\":\"#EBF0F8\",\"linecolor\":\"#EBF0F8\",\"ticks\":\"\"},\"bgcolor\":\"white\",\"radialaxis\":{\"gridcolor\":\"#EBF0F8\",\"linecolor\":\"#EBF0F8\",\"ticks\":\"\"}},\"scene\":{\"xaxis\":{\"backgroundcolor\":\"white\",\"gridcolor\":\"#DFE8F3\",\"gridwidth\":2,\"linecolor\":\"#EBF0F8\",\"showbackground\":true,\"ticks\":\"\",\"zerolinecolor\":\"#EBF0F8\"},\"yaxis\":{\"backgroundcolor\":\"white\",\"gridcolor\":\"#DFE8F3\",\"gridwidth\":2,\"linecolor\":\"#EBF0F8\",\"showbackground\":true,\"ticks\":\"\",\"zerolinecolor\":\"#EBF0F8\"},\"zaxis\":{\"backgroundcolor\":\"white\",\"gridcolor\":\"#DFE8F3\",\"gridwidth\":2,\"linecolor\":\"#EBF0F8\",\"showbackground\":true,\"ticks\":\"\",\"zerolinecolor\":\"#EBF0F8\"}},\"shapedefaults\":{\"line\":{\"color\":\"#2a3f5f\"}},\"ternary\":{\"aaxis\":{\"gridcolor\":\"#DFE8F3\",\"linecolor\":\"#A2B1C6\",\"ticks\":\"\"},\"baxis\":{\"gridcolor\":\"#DFE8F3\",\"linecolor\":\"#A2B1C6\",\"ticks\":\"\"},\"bgcolor\":\"white\",\"caxis\":{\"gridcolor\":\"#DFE8F3\",\"linecolor\":\"#A2B1C6\",\"ticks\":\"\"}},\"title\":{\"x\":0.05},\"xaxis\":{\"automargin\":true,\"gridcolor\":\"#EBF0F8\",\"linecolor\":\"#EBF0F8\",\"ticks\":\"\",\"title\":{\"standoff\":15},\"zerolinecolor\":\"#EBF0F8\",\"zerolinewidth\":2},\"yaxis\":{\"automargin\":true,\"gridcolor\":\"#EBF0F8\",\"linecolor\":\"#EBF0F8\",\"ticks\":\"\",\"title\":{\"standoff\":15},\"zerolinecolor\":\"#EBF0F8\",\"zerolinewidth\":2}}},\"xaxis\":{\"anchor\":\"y\",\"domain\":[0.0,0.175],\"showgrid\":true},\"yaxis\":{\"anchor\":\"x\",\"domain\":[0.6000000000000001,1.0],\"showgrid\":true},\"xaxis2\":{\"anchor\":\"y2\",\"domain\":[0.275,0.45],\"showgrid\":true},\"yaxis2\":{\"anchor\":\"x2\",\"domain\":[0.6000000000000001,1.0],\"showgrid\":true},\"xaxis3\":{\"anchor\":\"y3\",\"domain\":[0.55,0.7250000000000001],\"showgrid\":true},\"yaxis3\":{\"anchor\":\"x3\",\"domain\":[0.6000000000000001,1.0],\"showgrid\":true},\"xaxis4\":{\"anchor\":\"y4\",\"domain\":[0.825,1.0],\"showgrid\":true},\"yaxis4\":{\"anchor\":\"x4\",\"domain\":[0.6000000000000001,1.0],\"showgrid\":true},\"xaxis5\":{\"anchor\":\"y5\",\"domain\":[0.0,0.175],\"showgrid\":true},\"yaxis5\":{\"anchor\":\"x5\",\"domain\":[0.0,0.4],\"showgrid\":true},\"xaxis6\":{\"anchor\":\"y6\",\"domain\":[0.275,0.45],\"showgrid\":true},\"yaxis6\":{\"anchor\":\"x6\",\"domain\":[0.0,0.4],\"showgrid\":true},\"xaxis7\":{\"anchor\":\"y7\",\"domain\":[0.55,0.7250000000000001],\"showgrid\":true},\"yaxis7\":{\"anchor\":\"x7\",\"domain\":[0.0,0.4],\"showgrid\":true},\"xaxis8\":{\"anchor\":\"y8\",\"domain\":[0.825,1.0],\"showgrid\":true},\"yaxis8\":{\"anchor\":\"x8\",\"domain\":[0.0,0.4],\"showgrid\":true},\"annotations\":[{\"font\":{\"size\":16},\"showarrow\":false,\"text\":\"Topic 0\",\"x\":0.0875,\"xanchor\":\"center\",\"xref\":\"paper\",\"y\":1.0,\"yanchor\":\"bottom\",\"yref\":\"paper\"},{\"font\":{\"size\":16},\"showarrow\":false,\"text\":\"Topic 1\",\"x\":0.36250000000000004,\"xanchor\":\"center\",\"xref\":\"paper\",\"y\":1.0,\"yanchor\":\"bottom\",\"yref\":\"paper\"},{\"font\":{\"size\":16},\"showarrow\":false,\"text\":\"Topic 2\",\"x\":0.6375000000000001,\"xanchor\":\"center\",\"xref\":\"paper\",\"y\":1.0,\"yanchor\":\"bottom\",\"yref\":\"paper\"},{\"font\":{\"size\":16},\"showarrow\":false,\"text\":\"Topic 3\",\"x\":0.9125,\"xanchor\":\"center\",\"xref\":\"paper\",\"y\":1.0,\"yanchor\":\"bottom\",\"yref\":\"paper\"},{\"font\":{\"size\":16},\"showarrow\":false,\"text\":\"Topic 4\",\"x\":0.0875,\"xanchor\":\"center\",\"xref\":\"paper\",\"y\":0.4,\"yanchor\":\"bottom\",\"yref\":\"paper\"},{\"font\":{\"size\":16},\"showarrow\":false,\"text\":\"Topic 5\",\"x\":0.36250000000000004,\"xanchor\":\"center\",\"xref\":\"paper\",\"y\":0.4,\"yanchor\":\"bottom\",\"yref\":\"paper\"},{\"font\":{\"size\":16},\"showarrow\":false,\"text\":\"Topic 6\",\"x\":0.6375000000000001,\"xanchor\":\"center\",\"xref\":\"paper\",\"y\":0.4,\"yanchor\":\"bottom\",\"yref\":\"paper\"},{\"font\":{\"size\":16},\"showarrow\":false,\"text\":\"Topic 7\",\"x\":0.9125,\"xanchor\":\"center\",\"xref\":\"paper\",\"y\":0.4,\"yanchor\":\"bottom\",\"yref\":\"paper\"}],\"title\":{\"font\":{\"size\":22,\"color\":\"Black\"},\"text\":\"Topic Word Scores\",\"x\":0.5,\"xanchor\":\"center\",\"yanchor\":\"top\"},\"hoverlabel\":{\"font\":{\"size\":16,\"family\":\"Rockwell\"},\"bgcolor\":\"white\"},\"showlegend\":false,\"width\":1000,\"height\":500},                        {\"responsive\": true}                    ).then(function(){\n",
       "                            \n",
       "var gd = document.getElementById('1ddb0cae-54a0-4aea-a14b-8f7092a11863');\n",
       "var x = new MutationObserver(function (mutations, observer) {{\n",
       "        var display = window.getComputedStyle(gd).display;\n",
       "        if (!display || display === 'none') {{\n",
       "            console.log([gd, 'removed!']);\n",
       "            Plotly.purge(gd);\n",
       "            observer.disconnect();\n",
       "        }}\n",
       "}});\n",
       "\n",
       "// Listen for the removal of the full notebook cells\n",
       "var notebookContainer = gd.closest('#notebook-container');\n",
       "if (notebookContainer) {{\n",
       "    x.observe(notebookContainer, {childList: true});\n",
       "}}\n",
       "\n",
       "// Listen for the clearing of the current output cell\n",
       "var outputEl = gd.closest('.output');\n",
       "if (outputEl) {{\n",
       "    x.observe(outputEl, {childList: true});\n",
       "}}\n",
       "\n",
       "                        })                };                });            </script>        </div>"
      ]
     },
     "metadata": {},
     "output_type": "display_data"
    }
   ],
   "source": [
    "topic_model.visualize_barchart(top_n_topics = 8)"
   ]
  },
  {
   "cell_type": "code",
   "execution_count": 47,
   "id": "2700339a",
   "metadata": {},
   "outputs": [
    {
     "data": {
      "application/vnd.plotly.v1+json": {
       "config": {
        "plotlyServerURL": "https://plot.ly"
       },
       "data": [
        {
         "customdata": [
          [
           0,
           "govern | elect | labour | peopl | market",
           940
          ],
          [
           1,
           "club | player | game | side | team",
           342
          ],
          [
           2,
           "film | actor | good | award | oscar",
           134
          ],
          [
           3,
           "site | user | email | search | viru",
           113
          ],
          [
           4,
           "music | band | song | album | good",
           102
          ],
          [
           5,
           "open | seed | match | roddick | australian",
           87
          ],
          [
           6,
           "technolog | comput | gadget | devic | digit",
           71
          ],
          [
           7,
           "race | indoor | olymp | champion | world",
           61
          ],
          [
           8,
           "game | gamer | consol | titl | nintendo",
           54
          ],
          [
           9,
           "mobil | phone | camera | servic | technolog",
           45
          ],
          [
           10,
           "show | tv | seri | channel | comedi",
           40
          ],
          [
           11,
           "athlet | drug | iaaf | greek | test",
           33
          ],
          [
           12,
           "broadband | servic | net | connect | user",
           25
          ],
          [
           13,
           "film | festiv | music | singer | produc",
           21
          ],
          [
           14,
           "music | player | digit | download | ipod",
           21
          ],
          [
           15,
           "file | system | network | bittorr | peertop",
           14
          ],
          [
           16,
           "book | novel | winner | prize | award",
           12
          ],
          [
           17,
           "patent | softwar | law | invent | direct",
           11
          ]
         ],
         "hovertemplate": "<b>Topic %{customdata[0]}</b><br>%{customdata[1]}<br>Size: %{customdata[2]}",
         "legendgroup": "",
         "marker": {
          "color": "#B0BEC5",
          "line": {
           "color": "DarkSlateGrey",
           "width": 2
          },
          "size": [
           940,
           342,
           134,
           113,
           102,
           87,
           71,
           61,
           54,
           45,
           40,
           33,
           25,
           21,
           21,
           14,
           12,
           11
          ],
          "sizemode": "area",
          "sizeref": 0.5875,
          "symbol": "circle"
         },
         "mode": "markers",
         "name": "",
         "orientation": "v",
         "showlegend": false,
         "type": "scatter",
         "x": [
          14.31696605682373,
          10.549692153930664,
          6.034939765930176,
          14.608417510986328,
          6.359355926513672,
          10.785664558410645,
          14.280499458312988,
          10.904681205749512,
          14.03024959564209,
          15.207677841186523,
          5.9177350997924805,
          10.732911109924316,
          15.431797981262207,
          6.255356311798096,
          14.905940055847168,
          -5.276946067810059,
          6.5464043617248535,
          -5.14993953704834
         ],
         "xaxis": "x",
         "y": [
          -2.132772445678711,
          10.125688552856445,
          4.441110134124756,
          -2.0175795555114746,
          4.228152751922607,
          9.70508861541748,
          -0.3994850814342499,
          9.326783180236816,
          -0.07556334137916565,
          -1.9028820991516113,
          5.370539665222168,
          9.180953025817871,
          -1.5353409051895142,
          5.124957084655762,
          -1.5524060726165771,
          5.127841949462891,
          5.333609580993652,
          5.254804611206055
         ],
         "yaxis": "y"
        }
       ],
       "layout": {
        "annotations": [
         {
          "showarrow": false,
          "text": "D1",
          "x": -6.068487977981567,
          "y": 4.595926761627197,
          "yshift": 10
         },
         {
          "showarrow": false,
          "text": "D2",
          "x": 5.839039850234985,
          "xshift": 10,
          "y": 11.644541835784912
         }
        ],
        "height": 650,
        "hoverlabel": {
         "bgcolor": "white",
         "font": {
          "family": "Rockwell",
          "size": 16
         }
        },
        "legend": {
         "itemsizing": "constant",
         "tracegroupgap": 0
        },
        "margin": {
         "t": 60
        },
        "shapes": [
         {
          "line": {
           "color": "#CFD8DC",
           "width": 2
          },
          "type": "line",
          "x0": 5.839039850234985,
          "x1": 5.839039850234985,
          "y0": -2.4526883125305177,
          "y1": 11.644541835784912
         },
         {
          "line": {
           "color": "#9E9E9E",
           "width": 2
          },
          "type": "line",
          "x0": -6.068487977981567,
          "x1": 17.746567678451537,
          "y0": 4.595926761627197,
          "y1": 4.595926761627197
         }
        ],
        "sliders": [
         {
          "active": 0,
          "pad": {
           "t": 50
          },
          "steps": [
           {
            "args": [
             {
              "marker.color": [
               [
                "red",
                "#B0BEC5",
                "#B0BEC5",
                "#B0BEC5",
                "#B0BEC5",
                "#B0BEC5",
                "#B0BEC5",
                "#B0BEC5",
                "#B0BEC5",
                "#B0BEC5",
                "#B0BEC5",
                "#B0BEC5",
                "#B0BEC5",
                "#B0BEC5",
                "#B0BEC5",
                "#B0BEC5",
                "#B0BEC5",
                "#B0BEC5"
               ]
              ]
             }
            ],
            "label": "Topic 0",
            "method": "update"
           },
           {
            "args": [
             {
              "marker.color": [
               [
                "#B0BEC5",
                "red",
                "#B0BEC5",
                "#B0BEC5",
                "#B0BEC5",
                "#B0BEC5",
                "#B0BEC5",
                "#B0BEC5",
                "#B0BEC5",
                "#B0BEC5",
                "#B0BEC5",
                "#B0BEC5",
                "#B0BEC5",
                "#B0BEC5",
                "#B0BEC5",
                "#B0BEC5",
                "#B0BEC5",
                "#B0BEC5"
               ]
              ]
             }
            ],
            "label": "Topic 1",
            "method": "update"
           },
           {
            "args": [
             {
              "marker.color": [
               [
                "#B0BEC5",
                "#B0BEC5",
                "red",
                "#B0BEC5",
                "#B0BEC5",
                "#B0BEC5",
                "#B0BEC5",
                "#B0BEC5",
                "#B0BEC5",
                "#B0BEC5",
                "#B0BEC5",
                "#B0BEC5",
                "#B0BEC5",
                "#B0BEC5",
                "#B0BEC5",
                "#B0BEC5",
                "#B0BEC5",
                "#B0BEC5"
               ]
              ]
             }
            ],
            "label": "Topic 2",
            "method": "update"
           },
           {
            "args": [
             {
              "marker.color": [
               [
                "#B0BEC5",
                "#B0BEC5",
                "#B0BEC5",
                "red",
                "#B0BEC5",
                "#B0BEC5",
                "#B0BEC5",
                "#B0BEC5",
                "#B0BEC5",
                "#B0BEC5",
                "#B0BEC5",
                "#B0BEC5",
                "#B0BEC5",
                "#B0BEC5",
                "#B0BEC5",
                "#B0BEC5",
                "#B0BEC5",
                "#B0BEC5"
               ]
              ]
             }
            ],
            "label": "Topic 3",
            "method": "update"
           },
           {
            "args": [
             {
              "marker.color": [
               [
                "#B0BEC5",
                "#B0BEC5",
                "#B0BEC5",
                "#B0BEC5",
                "red",
                "#B0BEC5",
                "#B0BEC5",
                "#B0BEC5",
                "#B0BEC5",
                "#B0BEC5",
                "#B0BEC5",
                "#B0BEC5",
                "#B0BEC5",
                "#B0BEC5",
                "#B0BEC5",
                "#B0BEC5",
                "#B0BEC5",
                "#B0BEC5"
               ]
              ]
             }
            ],
            "label": "Topic 4",
            "method": "update"
           },
           {
            "args": [
             {
              "marker.color": [
               [
                "#B0BEC5",
                "#B0BEC5",
                "#B0BEC5",
                "#B0BEC5",
                "#B0BEC5",
                "red",
                "#B0BEC5",
                "#B0BEC5",
                "#B0BEC5",
                "#B0BEC5",
                "#B0BEC5",
                "#B0BEC5",
                "#B0BEC5",
                "#B0BEC5",
                "#B0BEC5",
                "#B0BEC5",
                "#B0BEC5",
                "#B0BEC5"
               ]
              ]
             }
            ],
            "label": "Topic 5",
            "method": "update"
           },
           {
            "args": [
             {
              "marker.color": [
               [
                "#B0BEC5",
                "#B0BEC5",
                "#B0BEC5",
                "#B0BEC5",
                "#B0BEC5",
                "#B0BEC5",
                "red",
                "#B0BEC5",
                "#B0BEC5",
                "#B0BEC5",
                "#B0BEC5",
                "#B0BEC5",
                "#B0BEC5",
                "#B0BEC5",
                "#B0BEC5",
                "#B0BEC5",
                "#B0BEC5",
                "#B0BEC5"
               ]
              ]
             }
            ],
            "label": "Topic 6",
            "method": "update"
           },
           {
            "args": [
             {
              "marker.color": [
               [
                "#B0BEC5",
                "#B0BEC5",
                "#B0BEC5",
                "#B0BEC5",
                "#B0BEC5",
                "#B0BEC5",
                "#B0BEC5",
                "red",
                "#B0BEC5",
                "#B0BEC5",
                "#B0BEC5",
                "#B0BEC5",
                "#B0BEC5",
                "#B0BEC5",
                "#B0BEC5",
                "#B0BEC5",
                "#B0BEC5",
                "#B0BEC5"
               ]
              ]
             }
            ],
            "label": "Topic 7",
            "method": "update"
           },
           {
            "args": [
             {
              "marker.color": [
               [
                "#B0BEC5",
                "#B0BEC5",
                "#B0BEC5",
                "#B0BEC5",
                "#B0BEC5",
                "#B0BEC5",
                "#B0BEC5",
                "#B0BEC5",
                "red",
                "#B0BEC5",
                "#B0BEC5",
                "#B0BEC5",
                "#B0BEC5",
                "#B0BEC5",
                "#B0BEC5",
                "#B0BEC5",
                "#B0BEC5",
                "#B0BEC5"
               ]
              ]
             }
            ],
            "label": "Topic 8",
            "method": "update"
           },
           {
            "args": [
             {
              "marker.color": [
               [
                "#B0BEC5",
                "#B0BEC5",
                "#B0BEC5",
                "#B0BEC5",
                "#B0BEC5",
                "#B0BEC5",
                "#B0BEC5",
                "#B0BEC5",
                "#B0BEC5",
                "red",
                "#B0BEC5",
                "#B0BEC5",
                "#B0BEC5",
                "#B0BEC5",
                "#B0BEC5",
                "#B0BEC5",
                "#B0BEC5",
                "#B0BEC5"
               ]
              ]
             }
            ],
            "label": "Topic 9",
            "method": "update"
           },
           {
            "args": [
             {
              "marker.color": [
               [
                "#B0BEC5",
                "#B0BEC5",
                "#B0BEC5",
                "#B0BEC5",
                "#B0BEC5",
                "#B0BEC5",
                "#B0BEC5",
                "#B0BEC5",
                "#B0BEC5",
                "#B0BEC5",
                "red",
                "#B0BEC5",
                "#B0BEC5",
                "#B0BEC5",
                "#B0BEC5",
                "#B0BEC5",
                "#B0BEC5",
                "#B0BEC5"
               ]
              ]
             }
            ],
            "label": "Topic 10",
            "method": "update"
           },
           {
            "args": [
             {
              "marker.color": [
               [
                "#B0BEC5",
                "#B0BEC5",
                "#B0BEC5",
                "#B0BEC5",
                "#B0BEC5",
                "#B0BEC5",
                "#B0BEC5",
                "#B0BEC5",
                "#B0BEC5",
                "#B0BEC5",
                "#B0BEC5",
                "red",
                "#B0BEC5",
                "#B0BEC5",
                "#B0BEC5",
                "#B0BEC5",
                "#B0BEC5",
                "#B0BEC5"
               ]
              ]
             }
            ],
            "label": "Topic 11",
            "method": "update"
           },
           {
            "args": [
             {
              "marker.color": [
               [
                "#B0BEC5",
                "#B0BEC5",
                "#B0BEC5",
                "#B0BEC5",
                "#B0BEC5",
                "#B0BEC5",
                "#B0BEC5",
                "#B0BEC5",
                "#B0BEC5",
                "#B0BEC5",
                "#B0BEC5",
                "#B0BEC5",
                "red",
                "#B0BEC5",
                "#B0BEC5",
                "#B0BEC5",
                "#B0BEC5",
                "#B0BEC5"
               ]
              ]
             }
            ],
            "label": "Topic 12",
            "method": "update"
           },
           {
            "args": [
             {
              "marker.color": [
               [
                "#B0BEC5",
                "#B0BEC5",
                "#B0BEC5",
                "#B0BEC5",
                "#B0BEC5",
                "#B0BEC5",
                "#B0BEC5",
                "#B0BEC5",
                "#B0BEC5",
                "#B0BEC5",
                "#B0BEC5",
                "#B0BEC5",
                "#B0BEC5",
                "red",
                "#B0BEC5",
                "#B0BEC5",
                "#B0BEC5",
                "#B0BEC5"
               ]
              ]
             }
            ],
            "label": "Topic 13",
            "method": "update"
           },
           {
            "args": [
             {
              "marker.color": [
               [
                "#B0BEC5",
                "#B0BEC5",
                "#B0BEC5",
                "#B0BEC5",
                "#B0BEC5",
                "#B0BEC5",
                "#B0BEC5",
                "#B0BEC5",
                "#B0BEC5",
                "#B0BEC5",
                "#B0BEC5",
                "#B0BEC5",
                "#B0BEC5",
                "#B0BEC5",
                "red",
                "#B0BEC5",
                "#B0BEC5",
                "#B0BEC5"
               ]
              ]
             }
            ],
            "label": "Topic 14",
            "method": "update"
           },
           {
            "args": [
             {
              "marker.color": [
               [
                "#B0BEC5",
                "#B0BEC5",
                "#B0BEC5",
                "#B0BEC5",
                "#B0BEC5",
                "#B0BEC5",
                "#B0BEC5",
                "#B0BEC5",
                "#B0BEC5",
                "#B0BEC5",
                "#B0BEC5",
                "#B0BEC5",
                "#B0BEC5",
                "#B0BEC5",
                "#B0BEC5",
                "red",
                "#B0BEC5",
                "#B0BEC5"
               ]
              ]
             }
            ],
            "label": "Topic 15",
            "method": "update"
           },
           {
            "args": [
             {
              "marker.color": [
               [
                "#B0BEC5",
                "#B0BEC5",
                "#B0BEC5",
                "#B0BEC5",
                "#B0BEC5",
                "#B0BEC5",
                "#B0BEC5",
                "#B0BEC5",
                "#B0BEC5",
                "#B0BEC5",
                "#B0BEC5",
                "#B0BEC5",
                "#B0BEC5",
                "#B0BEC5",
                "#B0BEC5",
                "#B0BEC5",
                "red",
                "#B0BEC5"
               ]
              ]
             }
            ],
            "label": "Topic 16",
            "method": "update"
           },
           {
            "args": [
             {
              "marker.color": [
               [
                "#B0BEC5",
                "#B0BEC5",
                "#B0BEC5",
                "#B0BEC5",
                "#B0BEC5",
                "#B0BEC5",
                "#B0BEC5",
                "#B0BEC5",
                "#B0BEC5",
                "#B0BEC5",
                "#B0BEC5",
                "#B0BEC5",
                "#B0BEC5",
                "#B0BEC5",
                "#B0BEC5",
                "#B0BEC5",
                "#B0BEC5",
                "red"
               ]
              ]
             }
            ],
            "label": "Topic 17",
            "method": "update"
           }
          ]
         }
        ],
        "template": {
         "data": {
          "bar": [
           {
            "error_x": {
             "color": "rgb(36,36,36)"
            },
            "error_y": {
             "color": "rgb(36,36,36)"
            },
            "marker": {
             "line": {
              "color": "white",
              "width": 0.5
             },
             "pattern": {
              "fillmode": "overlay",
              "size": 10,
              "solidity": 0.2
             }
            },
            "type": "bar"
           }
          ],
          "barpolar": [
           {
            "marker": {
             "line": {
              "color": "white",
              "width": 0.5
             },
             "pattern": {
              "fillmode": "overlay",
              "size": 10,
              "solidity": 0.2
             }
            },
            "type": "barpolar"
           }
          ],
          "carpet": [
           {
            "aaxis": {
             "endlinecolor": "rgb(36,36,36)",
             "gridcolor": "white",
             "linecolor": "white",
             "minorgridcolor": "white",
             "startlinecolor": "rgb(36,36,36)"
            },
            "baxis": {
             "endlinecolor": "rgb(36,36,36)",
             "gridcolor": "white",
             "linecolor": "white",
             "minorgridcolor": "white",
             "startlinecolor": "rgb(36,36,36)"
            },
            "type": "carpet"
           }
          ],
          "choropleth": [
           {
            "colorbar": {
             "outlinewidth": 1,
             "tickcolor": "rgb(36,36,36)",
             "ticks": "outside"
            },
            "type": "choropleth"
           }
          ],
          "contour": [
           {
            "colorbar": {
             "outlinewidth": 1,
             "tickcolor": "rgb(36,36,36)",
             "ticks": "outside"
            },
            "colorscale": [
             [
              0,
              "#440154"
             ],
             [
              0.1111111111111111,
              "#482878"
             ],
             [
              0.2222222222222222,
              "#3e4989"
             ],
             [
              0.3333333333333333,
              "#31688e"
             ],
             [
              0.4444444444444444,
              "#26828e"
             ],
             [
              0.5555555555555556,
              "#1f9e89"
             ],
             [
              0.6666666666666666,
              "#35b779"
             ],
             [
              0.7777777777777778,
              "#6ece58"
             ],
             [
              0.8888888888888888,
              "#b5de2b"
             ],
             [
              1,
              "#fde725"
             ]
            ],
            "type": "contour"
           }
          ],
          "contourcarpet": [
           {
            "colorbar": {
             "outlinewidth": 1,
             "tickcolor": "rgb(36,36,36)",
             "ticks": "outside"
            },
            "type": "contourcarpet"
           }
          ],
          "heatmap": [
           {
            "colorbar": {
             "outlinewidth": 1,
             "tickcolor": "rgb(36,36,36)",
             "ticks": "outside"
            },
            "colorscale": [
             [
              0,
              "#440154"
             ],
             [
              0.1111111111111111,
              "#482878"
             ],
             [
              0.2222222222222222,
              "#3e4989"
             ],
             [
              0.3333333333333333,
              "#31688e"
             ],
             [
              0.4444444444444444,
              "#26828e"
             ],
             [
              0.5555555555555556,
              "#1f9e89"
             ],
             [
              0.6666666666666666,
              "#35b779"
             ],
             [
              0.7777777777777778,
              "#6ece58"
             ],
             [
              0.8888888888888888,
              "#b5de2b"
             ],
             [
              1,
              "#fde725"
             ]
            ],
            "type": "heatmap"
           }
          ],
          "heatmapgl": [
           {
            "colorbar": {
             "outlinewidth": 1,
             "tickcolor": "rgb(36,36,36)",
             "ticks": "outside"
            },
            "colorscale": [
             [
              0,
              "#440154"
             ],
             [
              0.1111111111111111,
              "#482878"
             ],
             [
              0.2222222222222222,
              "#3e4989"
             ],
             [
              0.3333333333333333,
              "#31688e"
             ],
             [
              0.4444444444444444,
              "#26828e"
             ],
             [
              0.5555555555555556,
              "#1f9e89"
             ],
             [
              0.6666666666666666,
              "#35b779"
             ],
             [
              0.7777777777777778,
              "#6ece58"
             ],
             [
              0.8888888888888888,
              "#b5de2b"
             ],
             [
              1,
              "#fde725"
             ]
            ],
            "type": "heatmapgl"
           }
          ],
          "histogram": [
           {
            "marker": {
             "line": {
              "color": "white",
              "width": 0.6
             }
            },
            "type": "histogram"
           }
          ],
          "histogram2d": [
           {
            "colorbar": {
             "outlinewidth": 1,
             "tickcolor": "rgb(36,36,36)",
             "ticks": "outside"
            },
            "colorscale": [
             [
              0,
              "#440154"
             ],
             [
              0.1111111111111111,
              "#482878"
             ],
             [
              0.2222222222222222,
              "#3e4989"
             ],
             [
              0.3333333333333333,
              "#31688e"
             ],
             [
              0.4444444444444444,
              "#26828e"
             ],
             [
              0.5555555555555556,
              "#1f9e89"
             ],
             [
              0.6666666666666666,
              "#35b779"
             ],
             [
              0.7777777777777778,
              "#6ece58"
             ],
             [
              0.8888888888888888,
              "#b5de2b"
             ],
             [
              1,
              "#fde725"
             ]
            ],
            "type": "histogram2d"
           }
          ],
          "histogram2dcontour": [
           {
            "colorbar": {
             "outlinewidth": 1,
             "tickcolor": "rgb(36,36,36)",
             "ticks": "outside"
            },
            "colorscale": [
             [
              0,
              "#440154"
             ],
             [
              0.1111111111111111,
              "#482878"
             ],
             [
              0.2222222222222222,
              "#3e4989"
             ],
             [
              0.3333333333333333,
              "#31688e"
             ],
             [
              0.4444444444444444,
              "#26828e"
             ],
             [
              0.5555555555555556,
              "#1f9e89"
             ],
             [
              0.6666666666666666,
              "#35b779"
             ],
             [
              0.7777777777777778,
              "#6ece58"
             ],
             [
              0.8888888888888888,
              "#b5de2b"
             ],
             [
              1,
              "#fde725"
             ]
            ],
            "type": "histogram2dcontour"
           }
          ],
          "mesh3d": [
           {
            "colorbar": {
             "outlinewidth": 1,
             "tickcolor": "rgb(36,36,36)",
             "ticks": "outside"
            },
            "type": "mesh3d"
           }
          ],
          "parcoords": [
           {
            "line": {
             "colorbar": {
              "outlinewidth": 1,
              "tickcolor": "rgb(36,36,36)",
              "ticks": "outside"
             }
            },
            "type": "parcoords"
           }
          ],
          "pie": [
           {
            "automargin": true,
            "type": "pie"
           }
          ],
          "scatter": [
           {
            "fillpattern": {
             "fillmode": "overlay",
             "size": 10,
             "solidity": 0.2
            },
            "type": "scatter"
           }
          ],
          "scatter3d": [
           {
            "line": {
             "colorbar": {
              "outlinewidth": 1,
              "tickcolor": "rgb(36,36,36)",
              "ticks": "outside"
             }
            },
            "marker": {
             "colorbar": {
              "outlinewidth": 1,
              "tickcolor": "rgb(36,36,36)",
              "ticks": "outside"
             }
            },
            "type": "scatter3d"
           }
          ],
          "scattercarpet": [
           {
            "marker": {
             "colorbar": {
              "outlinewidth": 1,
              "tickcolor": "rgb(36,36,36)",
              "ticks": "outside"
             }
            },
            "type": "scattercarpet"
           }
          ],
          "scattergeo": [
           {
            "marker": {
             "colorbar": {
              "outlinewidth": 1,
              "tickcolor": "rgb(36,36,36)",
              "ticks": "outside"
             }
            },
            "type": "scattergeo"
           }
          ],
          "scattergl": [
           {
            "marker": {
             "colorbar": {
              "outlinewidth": 1,
              "tickcolor": "rgb(36,36,36)",
              "ticks": "outside"
             }
            },
            "type": "scattergl"
           }
          ],
          "scattermapbox": [
           {
            "marker": {
             "colorbar": {
              "outlinewidth": 1,
              "tickcolor": "rgb(36,36,36)",
              "ticks": "outside"
             }
            },
            "type": "scattermapbox"
           }
          ],
          "scatterpolar": [
           {
            "marker": {
             "colorbar": {
              "outlinewidth": 1,
              "tickcolor": "rgb(36,36,36)",
              "ticks": "outside"
             }
            },
            "type": "scatterpolar"
           }
          ],
          "scatterpolargl": [
           {
            "marker": {
             "colorbar": {
              "outlinewidth": 1,
              "tickcolor": "rgb(36,36,36)",
              "ticks": "outside"
             }
            },
            "type": "scatterpolargl"
           }
          ],
          "scatterternary": [
           {
            "marker": {
             "colorbar": {
              "outlinewidth": 1,
              "tickcolor": "rgb(36,36,36)",
              "ticks": "outside"
             }
            },
            "type": "scatterternary"
           }
          ],
          "surface": [
           {
            "colorbar": {
             "outlinewidth": 1,
             "tickcolor": "rgb(36,36,36)",
             "ticks": "outside"
            },
            "colorscale": [
             [
              0,
              "#440154"
             ],
             [
              0.1111111111111111,
              "#482878"
             ],
             [
              0.2222222222222222,
              "#3e4989"
             ],
             [
              0.3333333333333333,
              "#31688e"
             ],
             [
              0.4444444444444444,
              "#26828e"
             ],
             [
              0.5555555555555556,
              "#1f9e89"
             ],
             [
              0.6666666666666666,
              "#35b779"
             ],
             [
              0.7777777777777778,
              "#6ece58"
             ],
             [
              0.8888888888888888,
              "#b5de2b"
             ],
             [
              1,
              "#fde725"
             ]
            ],
            "type": "surface"
           }
          ],
          "table": [
           {
            "cells": {
             "fill": {
              "color": "rgb(237,237,237)"
             },
             "line": {
              "color": "white"
             }
            },
            "header": {
             "fill": {
              "color": "rgb(217,217,217)"
             },
             "line": {
              "color": "white"
             }
            },
            "type": "table"
           }
          ]
         },
         "layout": {
          "annotationdefaults": {
           "arrowhead": 0,
           "arrowwidth": 1
          },
          "autotypenumbers": "strict",
          "coloraxis": {
           "colorbar": {
            "outlinewidth": 1,
            "tickcolor": "rgb(36,36,36)",
            "ticks": "outside"
           }
          },
          "colorscale": {
           "diverging": [
            [
             0,
             "rgb(103,0,31)"
            ],
            [
             0.1,
             "rgb(178,24,43)"
            ],
            [
             0.2,
             "rgb(214,96,77)"
            ],
            [
             0.3,
             "rgb(244,165,130)"
            ],
            [
             0.4,
             "rgb(253,219,199)"
            ],
            [
             0.5,
             "rgb(247,247,247)"
            ],
            [
             0.6,
             "rgb(209,229,240)"
            ],
            [
             0.7,
             "rgb(146,197,222)"
            ],
            [
             0.8,
             "rgb(67,147,195)"
            ],
            [
             0.9,
             "rgb(33,102,172)"
            ],
            [
             1,
             "rgb(5,48,97)"
            ]
           ],
           "sequential": [
            [
             0,
             "#440154"
            ],
            [
             0.1111111111111111,
             "#482878"
            ],
            [
             0.2222222222222222,
             "#3e4989"
            ],
            [
             0.3333333333333333,
             "#31688e"
            ],
            [
             0.4444444444444444,
             "#26828e"
            ],
            [
             0.5555555555555556,
             "#1f9e89"
            ],
            [
             0.6666666666666666,
             "#35b779"
            ],
            [
             0.7777777777777778,
             "#6ece58"
            ],
            [
             0.8888888888888888,
             "#b5de2b"
            ],
            [
             1,
             "#fde725"
            ]
           ],
           "sequentialminus": [
            [
             0,
             "#440154"
            ],
            [
             0.1111111111111111,
             "#482878"
            ],
            [
             0.2222222222222222,
             "#3e4989"
            ],
            [
             0.3333333333333333,
             "#31688e"
            ],
            [
             0.4444444444444444,
             "#26828e"
            ],
            [
             0.5555555555555556,
             "#1f9e89"
            ],
            [
             0.6666666666666666,
             "#35b779"
            ],
            [
             0.7777777777777778,
             "#6ece58"
            ],
            [
             0.8888888888888888,
             "#b5de2b"
            ],
            [
             1,
             "#fde725"
            ]
           ]
          },
          "colorway": [
           "#1F77B4",
           "#FF7F0E",
           "#2CA02C",
           "#D62728",
           "#9467BD",
           "#8C564B",
           "#E377C2",
           "#7F7F7F",
           "#BCBD22",
           "#17BECF"
          ],
          "font": {
           "color": "rgb(36,36,36)"
          },
          "geo": {
           "bgcolor": "white",
           "lakecolor": "white",
           "landcolor": "white",
           "showlakes": true,
           "showland": true,
           "subunitcolor": "white"
          },
          "hoverlabel": {
           "align": "left"
          },
          "hovermode": "closest",
          "mapbox": {
           "style": "light"
          },
          "paper_bgcolor": "white",
          "plot_bgcolor": "white",
          "polar": {
           "angularaxis": {
            "gridcolor": "rgb(232,232,232)",
            "linecolor": "rgb(36,36,36)",
            "showgrid": false,
            "showline": true,
            "ticks": "outside"
           },
           "bgcolor": "white",
           "radialaxis": {
            "gridcolor": "rgb(232,232,232)",
            "linecolor": "rgb(36,36,36)",
            "showgrid": false,
            "showline": true,
            "ticks": "outside"
           }
          },
          "scene": {
           "xaxis": {
            "backgroundcolor": "white",
            "gridcolor": "rgb(232,232,232)",
            "gridwidth": 2,
            "linecolor": "rgb(36,36,36)",
            "showbackground": true,
            "showgrid": false,
            "showline": true,
            "ticks": "outside",
            "zeroline": false,
            "zerolinecolor": "rgb(36,36,36)"
           },
           "yaxis": {
            "backgroundcolor": "white",
            "gridcolor": "rgb(232,232,232)",
            "gridwidth": 2,
            "linecolor": "rgb(36,36,36)",
            "showbackground": true,
            "showgrid": false,
            "showline": true,
            "ticks": "outside",
            "zeroline": false,
            "zerolinecolor": "rgb(36,36,36)"
           },
           "zaxis": {
            "backgroundcolor": "white",
            "gridcolor": "rgb(232,232,232)",
            "gridwidth": 2,
            "linecolor": "rgb(36,36,36)",
            "showbackground": true,
            "showgrid": false,
            "showline": true,
            "ticks": "outside",
            "zeroline": false,
            "zerolinecolor": "rgb(36,36,36)"
           }
          },
          "shapedefaults": {
           "fillcolor": "black",
           "line": {
            "width": 0
           },
           "opacity": 0.3
          },
          "ternary": {
           "aaxis": {
            "gridcolor": "rgb(232,232,232)",
            "linecolor": "rgb(36,36,36)",
            "showgrid": false,
            "showline": true,
            "ticks": "outside"
           },
           "baxis": {
            "gridcolor": "rgb(232,232,232)",
            "linecolor": "rgb(36,36,36)",
            "showgrid": false,
            "showline": true,
            "ticks": "outside"
           },
           "bgcolor": "white",
           "caxis": {
            "gridcolor": "rgb(232,232,232)",
            "linecolor": "rgb(36,36,36)",
            "showgrid": false,
            "showline": true,
            "ticks": "outside"
           }
          },
          "title": {
           "x": 0.05
          },
          "xaxis": {
           "automargin": true,
           "gridcolor": "rgb(232,232,232)",
           "linecolor": "rgb(36,36,36)",
           "showgrid": false,
           "showline": true,
           "ticks": "outside",
           "title": {
            "standoff": 15
           },
           "zeroline": false,
           "zerolinecolor": "rgb(36,36,36)"
          },
          "yaxis": {
           "automargin": true,
           "gridcolor": "rgb(232,232,232)",
           "linecolor": "rgb(36,36,36)",
           "showgrid": false,
           "showline": true,
           "ticks": "outside",
           "title": {
            "standoff": 15
           },
           "zeroline": false,
           "zerolinecolor": "rgb(36,36,36)"
          }
         }
        },
        "title": {
         "font": {
          "color": "Black",
          "size": 22
         },
         "text": "<b>Intertopic Distance Map</b>",
         "x": 0.5,
         "xanchor": "center",
         "y": 0.95,
         "yanchor": "top"
        },
        "width": 650,
        "xaxis": {
         "anchor": "y",
         "domain": [
          0,
          1
         ],
         "range": [
          -6.068487977981567,
          17.746567678451537
         ],
         "title": {
          "text": ""
         },
         "visible": false
        },
        "yaxis": {
         "anchor": "x",
         "domain": [
          0,
          1
         ],
         "range": [
          -2.4526883125305177,
          11.644541835784912
         ],
         "title": {
          "text": ""
         },
         "visible": false
        }
       }
      },
      "text/html": [
       "<div>                            <div id=\"7d2ec341-f8b8-4d98-b323-43bd1560a890\" class=\"plotly-graph-div\" style=\"height:650px; width:650px;\"></div>            <script type=\"text/javascript\">                require([\"plotly\"], function(Plotly) {                    window.PLOTLYENV=window.PLOTLYENV || {};                                    if (document.getElementById(\"7d2ec341-f8b8-4d98-b323-43bd1560a890\")) {                    Plotly.newPlot(                        \"7d2ec341-f8b8-4d98-b323-43bd1560a890\",                        [{\"customdata\":[[0,\"govern | elect | labour | peopl | market\",940],[1,\"club | player | game | side | team\",342],[2,\"film | actor | good | award | oscar\",134],[3,\"site | user | email | search | viru\",113],[4,\"music | band | song | album | good\",102],[5,\"open | seed | match | roddick | australian\",87],[6,\"technolog | comput | gadget | devic | digit\",71],[7,\"race | indoor | olymp | champion | world\",61],[8,\"game | gamer | consol | titl | nintendo\",54],[9,\"mobil | phone | camera | servic | technolog\",45],[10,\"show | tv | seri | channel | comedi\",40],[11,\"athlet | drug | iaaf | greek | test\",33],[12,\"broadband | servic | net | connect | user\",25],[13,\"film | festiv | music | singer | produc\",21],[14,\"music | player | digit | download | ipod\",21],[15,\"file | system | network | bittorr | peertop\",14],[16,\"book | novel | winner | prize | award\",12],[17,\"patent | softwar | law | invent | direct\",11]],\"hovertemplate\":\"<b>Topic %{customdata[0]}</b><br>%{customdata[1]}<br>Size: %{customdata[2]}\",\"legendgroup\":\"\",\"marker\":{\"color\":\"#B0BEC5\",\"size\":[940,342,134,113,102,87,71,61,54,45,40,33,25,21,21,14,12,11],\"sizemode\":\"area\",\"sizeref\":0.5875,\"symbol\":\"circle\",\"line\":{\"color\":\"DarkSlateGrey\",\"width\":2}},\"mode\":\"markers\",\"name\":\"\",\"orientation\":\"v\",\"showlegend\":false,\"x\":[14.31696605682373,10.549692153930664,6.034939765930176,14.608417510986328,6.359355926513672,10.785664558410645,14.280499458312988,10.904681205749512,14.03024959564209,15.207677841186523,5.9177350997924805,10.732911109924316,15.431797981262207,6.255356311798096,14.905940055847168,-5.276946067810059,6.5464043617248535,-5.14993953704834],\"xaxis\":\"x\",\"y\":[-2.132772445678711,10.125688552856445,4.441110134124756,-2.0175795555114746,4.228152751922607,9.70508861541748,-0.3994850814342499,9.326783180236816,-0.07556334137916565,-1.9028820991516113,5.370539665222168,9.180953025817871,-1.5353409051895142,5.124957084655762,-1.5524060726165771,5.127841949462891,5.333609580993652,5.254804611206055],\"yaxis\":\"y\",\"type\":\"scatter\"}],                        {\"template\":{\"data\":{\"barpolar\":[{\"marker\":{\"line\":{\"color\":\"white\",\"width\":0.5},\"pattern\":{\"fillmode\":\"overlay\",\"size\":10,\"solidity\":0.2}},\"type\":\"barpolar\"}],\"bar\":[{\"error_x\":{\"color\":\"rgb(36,36,36)\"},\"error_y\":{\"color\":\"rgb(36,36,36)\"},\"marker\":{\"line\":{\"color\":\"white\",\"width\":0.5},\"pattern\":{\"fillmode\":\"overlay\",\"size\":10,\"solidity\":0.2}},\"type\":\"bar\"}],\"carpet\":[{\"aaxis\":{\"endlinecolor\":\"rgb(36,36,36)\",\"gridcolor\":\"white\",\"linecolor\":\"white\",\"minorgridcolor\":\"white\",\"startlinecolor\":\"rgb(36,36,36)\"},\"baxis\":{\"endlinecolor\":\"rgb(36,36,36)\",\"gridcolor\":\"white\",\"linecolor\":\"white\",\"minorgridcolor\":\"white\",\"startlinecolor\":\"rgb(36,36,36)\"},\"type\":\"carpet\"}],\"choropleth\":[{\"colorbar\":{\"outlinewidth\":1,\"tickcolor\":\"rgb(36,36,36)\",\"ticks\":\"outside\"},\"type\":\"choropleth\"}],\"contourcarpet\":[{\"colorbar\":{\"outlinewidth\":1,\"tickcolor\":\"rgb(36,36,36)\",\"ticks\":\"outside\"},\"type\":\"contourcarpet\"}],\"contour\":[{\"colorbar\":{\"outlinewidth\":1,\"tickcolor\":\"rgb(36,36,36)\",\"ticks\":\"outside\"},\"colorscale\":[[0.0,\"#440154\"],[0.1111111111111111,\"#482878\"],[0.2222222222222222,\"#3e4989\"],[0.3333333333333333,\"#31688e\"],[0.4444444444444444,\"#26828e\"],[0.5555555555555556,\"#1f9e89\"],[0.6666666666666666,\"#35b779\"],[0.7777777777777778,\"#6ece58\"],[0.8888888888888888,\"#b5de2b\"],[1.0,\"#fde725\"]],\"type\":\"contour\"}],\"heatmapgl\":[{\"colorbar\":{\"outlinewidth\":1,\"tickcolor\":\"rgb(36,36,36)\",\"ticks\":\"outside\"},\"colorscale\":[[0.0,\"#440154\"],[0.1111111111111111,\"#482878\"],[0.2222222222222222,\"#3e4989\"],[0.3333333333333333,\"#31688e\"],[0.4444444444444444,\"#26828e\"],[0.5555555555555556,\"#1f9e89\"],[0.6666666666666666,\"#35b779\"],[0.7777777777777778,\"#6ece58\"],[0.8888888888888888,\"#b5de2b\"],[1.0,\"#fde725\"]],\"type\":\"heatmapgl\"}],\"heatmap\":[{\"colorbar\":{\"outlinewidth\":1,\"tickcolor\":\"rgb(36,36,36)\",\"ticks\":\"outside\"},\"colorscale\":[[0.0,\"#440154\"],[0.1111111111111111,\"#482878\"],[0.2222222222222222,\"#3e4989\"],[0.3333333333333333,\"#31688e\"],[0.4444444444444444,\"#26828e\"],[0.5555555555555556,\"#1f9e89\"],[0.6666666666666666,\"#35b779\"],[0.7777777777777778,\"#6ece58\"],[0.8888888888888888,\"#b5de2b\"],[1.0,\"#fde725\"]],\"type\":\"heatmap\"}],\"histogram2dcontour\":[{\"colorbar\":{\"outlinewidth\":1,\"tickcolor\":\"rgb(36,36,36)\",\"ticks\":\"outside\"},\"colorscale\":[[0.0,\"#440154\"],[0.1111111111111111,\"#482878\"],[0.2222222222222222,\"#3e4989\"],[0.3333333333333333,\"#31688e\"],[0.4444444444444444,\"#26828e\"],[0.5555555555555556,\"#1f9e89\"],[0.6666666666666666,\"#35b779\"],[0.7777777777777778,\"#6ece58\"],[0.8888888888888888,\"#b5de2b\"],[1.0,\"#fde725\"]],\"type\":\"histogram2dcontour\"}],\"histogram2d\":[{\"colorbar\":{\"outlinewidth\":1,\"tickcolor\":\"rgb(36,36,36)\",\"ticks\":\"outside\"},\"colorscale\":[[0.0,\"#440154\"],[0.1111111111111111,\"#482878\"],[0.2222222222222222,\"#3e4989\"],[0.3333333333333333,\"#31688e\"],[0.4444444444444444,\"#26828e\"],[0.5555555555555556,\"#1f9e89\"],[0.6666666666666666,\"#35b779\"],[0.7777777777777778,\"#6ece58\"],[0.8888888888888888,\"#b5de2b\"],[1.0,\"#fde725\"]],\"type\":\"histogram2d\"}],\"histogram\":[{\"marker\":{\"line\":{\"color\":\"white\",\"width\":0.6}},\"type\":\"histogram\"}],\"mesh3d\":[{\"colorbar\":{\"outlinewidth\":1,\"tickcolor\":\"rgb(36,36,36)\",\"ticks\":\"outside\"},\"type\":\"mesh3d\"}],\"parcoords\":[{\"line\":{\"colorbar\":{\"outlinewidth\":1,\"tickcolor\":\"rgb(36,36,36)\",\"ticks\":\"outside\"}},\"type\":\"parcoords\"}],\"pie\":[{\"automargin\":true,\"type\":\"pie\"}],\"scatter3d\":[{\"line\":{\"colorbar\":{\"outlinewidth\":1,\"tickcolor\":\"rgb(36,36,36)\",\"ticks\":\"outside\"}},\"marker\":{\"colorbar\":{\"outlinewidth\":1,\"tickcolor\":\"rgb(36,36,36)\",\"ticks\":\"outside\"}},\"type\":\"scatter3d\"}],\"scattercarpet\":[{\"marker\":{\"colorbar\":{\"outlinewidth\":1,\"tickcolor\":\"rgb(36,36,36)\",\"ticks\":\"outside\"}},\"type\":\"scattercarpet\"}],\"scattergeo\":[{\"marker\":{\"colorbar\":{\"outlinewidth\":1,\"tickcolor\":\"rgb(36,36,36)\",\"ticks\":\"outside\"}},\"type\":\"scattergeo\"}],\"scattergl\":[{\"marker\":{\"colorbar\":{\"outlinewidth\":1,\"tickcolor\":\"rgb(36,36,36)\",\"ticks\":\"outside\"}},\"type\":\"scattergl\"}],\"scattermapbox\":[{\"marker\":{\"colorbar\":{\"outlinewidth\":1,\"tickcolor\":\"rgb(36,36,36)\",\"ticks\":\"outside\"}},\"type\":\"scattermapbox\"}],\"scatterpolargl\":[{\"marker\":{\"colorbar\":{\"outlinewidth\":1,\"tickcolor\":\"rgb(36,36,36)\",\"ticks\":\"outside\"}},\"type\":\"scatterpolargl\"}],\"scatterpolar\":[{\"marker\":{\"colorbar\":{\"outlinewidth\":1,\"tickcolor\":\"rgb(36,36,36)\",\"ticks\":\"outside\"}},\"type\":\"scatterpolar\"}],\"scatter\":[{\"fillpattern\":{\"fillmode\":\"overlay\",\"size\":10,\"solidity\":0.2},\"type\":\"scatter\"}],\"scatterternary\":[{\"marker\":{\"colorbar\":{\"outlinewidth\":1,\"tickcolor\":\"rgb(36,36,36)\",\"ticks\":\"outside\"}},\"type\":\"scatterternary\"}],\"surface\":[{\"colorbar\":{\"outlinewidth\":1,\"tickcolor\":\"rgb(36,36,36)\",\"ticks\":\"outside\"},\"colorscale\":[[0.0,\"#440154\"],[0.1111111111111111,\"#482878\"],[0.2222222222222222,\"#3e4989\"],[0.3333333333333333,\"#31688e\"],[0.4444444444444444,\"#26828e\"],[0.5555555555555556,\"#1f9e89\"],[0.6666666666666666,\"#35b779\"],[0.7777777777777778,\"#6ece58\"],[0.8888888888888888,\"#b5de2b\"],[1.0,\"#fde725\"]],\"type\":\"surface\"}],\"table\":[{\"cells\":{\"fill\":{\"color\":\"rgb(237,237,237)\"},\"line\":{\"color\":\"white\"}},\"header\":{\"fill\":{\"color\":\"rgb(217,217,217)\"},\"line\":{\"color\":\"white\"}},\"type\":\"table\"}]},\"layout\":{\"annotationdefaults\":{\"arrowhead\":0,\"arrowwidth\":1},\"autotypenumbers\":\"strict\",\"coloraxis\":{\"colorbar\":{\"outlinewidth\":1,\"tickcolor\":\"rgb(36,36,36)\",\"ticks\":\"outside\"}},\"colorscale\":{\"diverging\":[[0.0,\"rgb(103,0,31)\"],[0.1,\"rgb(178,24,43)\"],[0.2,\"rgb(214,96,77)\"],[0.3,\"rgb(244,165,130)\"],[0.4,\"rgb(253,219,199)\"],[0.5,\"rgb(247,247,247)\"],[0.6,\"rgb(209,229,240)\"],[0.7,\"rgb(146,197,222)\"],[0.8,\"rgb(67,147,195)\"],[0.9,\"rgb(33,102,172)\"],[1.0,\"rgb(5,48,97)\"]],\"sequential\":[[0.0,\"#440154\"],[0.1111111111111111,\"#482878\"],[0.2222222222222222,\"#3e4989\"],[0.3333333333333333,\"#31688e\"],[0.4444444444444444,\"#26828e\"],[0.5555555555555556,\"#1f9e89\"],[0.6666666666666666,\"#35b779\"],[0.7777777777777778,\"#6ece58\"],[0.8888888888888888,\"#b5de2b\"],[1.0,\"#fde725\"]],\"sequentialminus\":[[0.0,\"#440154\"],[0.1111111111111111,\"#482878\"],[0.2222222222222222,\"#3e4989\"],[0.3333333333333333,\"#31688e\"],[0.4444444444444444,\"#26828e\"],[0.5555555555555556,\"#1f9e89\"],[0.6666666666666666,\"#35b779\"],[0.7777777777777778,\"#6ece58\"],[0.8888888888888888,\"#b5de2b\"],[1.0,\"#fde725\"]]},\"colorway\":[\"#1F77B4\",\"#FF7F0E\",\"#2CA02C\",\"#D62728\",\"#9467BD\",\"#8C564B\",\"#E377C2\",\"#7F7F7F\",\"#BCBD22\",\"#17BECF\"],\"font\":{\"color\":\"rgb(36,36,36)\"},\"geo\":{\"bgcolor\":\"white\",\"lakecolor\":\"white\",\"landcolor\":\"white\",\"showlakes\":true,\"showland\":true,\"subunitcolor\":\"white\"},\"hoverlabel\":{\"align\":\"left\"},\"hovermode\":\"closest\",\"mapbox\":{\"style\":\"light\"},\"paper_bgcolor\":\"white\",\"plot_bgcolor\":\"white\",\"polar\":{\"angularaxis\":{\"gridcolor\":\"rgb(232,232,232)\",\"linecolor\":\"rgb(36,36,36)\",\"showgrid\":false,\"showline\":true,\"ticks\":\"outside\"},\"bgcolor\":\"white\",\"radialaxis\":{\"gridcolor\":\"rgb(232,232,232)\",\"linecolor\":\"rgb(36,36,36)\",\"showgrid\":false,\"showline\":true,\"ticks\":\"outside\"}},\"scene\":{\"xaxis\":{\"backgroundcolor\":\"white\",\"gridcolor\":\"rgb(232,232,232)\",\"gridwidth\":2,\"linecolor\":\"rgb(36,36,36)\",\"showbackground\":true,\"showgrid\":false,\"showline\":true,\"ticks\":\"outside\",\"zeroline\":false,\"zerolinecolor\":\"rgb(36,36,36)\"},\"yaxis\":{\"backgroundcolor\":\"white\",\"gridcolor\":\"rgb(232,232,232)\",\"gridwidth\":2,\"linecolor\":\"rgb(36,36,36)\",\"showbackground\":true,\"showgrid\":false,\"showline\":true,\"ticks\":\"outside\",\"zeroline\":false,\"zerolinecolor\":\"rgb(36,36,36)\"},\"zaxis\":{\"backgroundcolor\":\"white\",\"gridcolor\":\"rgb(232,232,232)\",\"gridwidth\":2,\"linecolor\":\"rgb(36,36,36)\",\"showbackground\":true,\"showgrid\":false,\"showline\":true,\"ticks\":\"outside\",\"zeroline\":false,\"zerolinecolor\":\"rgb(36,36,36)\"}},\"shapedefaults\":{\"fillcolor\":\"black\",\"line\":{\"width\":0},\"opacity\":0.3},\"ternary\":{\"aaxis\":{\"gridcolor\":\"rgb(232,232,232)\",\"linecolor\":\"rgb(36,36,36)\",\"showgrid\":false,\"showline\":true,\"ticks\":\"outside\"},\"baxis\":{\"gridcolor\":\"rgb(232,232,232)\",\"linecolor\":\"rgb(36,36,36)\",\"showgrid\":false,\"showline\":true,\"ticks\":\"outside\"},\"bgcolor\":\"white\",\"caxis\":{\"gridcolor\":\"rgb(232,232,232)\",\"linecolor\":\"rgb(36,36,36)\",\"showgrid\":false,\"showline\":true,\"ticks\":\"outside\"}},\"title\":{\"x\":0.05},\"xaxis\":{\"automargin\":true,\"gridcolor\":\"rgb(232,232,232)\",\"linecolor\":\"rgb(36,36,36)\",\"showgrid\":false,\"showline\":true,\"ticks\":\"outside\",\"title\":{\"standoff\":15},\"zeroline\":false,\"zerolinecolor\":\"rgb(36,36,36)\"},\"yaxis\":{\"automargin\":true,\"gridcolor\":\"rgb(232,232,232)\",\"linecolor\":\"rgb(36,36,36)\",\"showgrid\":false,\"showline\":true,\"ticks\":\"outside\",\"title\":{\"standoff\":15},\"zeroline\":false,\"zerolinecolor\":\"rgb(36,36,36)\"}}},\"xaxis\":{\"anchor\":\"y\",\"domain\":[0.0,1.0],\"title\":{\"text\":\"\"},\"visible\":false,\"range\":[-6.068487977981567,17.746567678451537]},\"yaxis\":{\"anchor\":\"x\",\"domain\":[0.0,1.0],\"title\":{\"text\":\"\"},\"visible\":false,\"range\":[-2.4526883125305177,11.644541835784912]},\"legend\":{\"tracegroupgap\":0,\"itemsizing\":\"constant\"},\"margin\":{\"t\":60},\"title\":{\"font\":{\"size\":22,\"color\":\"Black\"},\"text\":\"<b>Intertopic Distance Map</b>\",\"y\":0.95,\"x\":0.5,\"xanchor\":\"center\",\"yanchor\":\"top\"},\"hoverlabel\":{\"font\":{\"size\":16,\"family\":\"Rockwell\"},\"bgcolor\":\"white\"},\"width\":650,\"height\":650,\"sliders\":[{\"active\":0,\"pad\":{\"t\":50},\"steps\":[{\"args\":[{\"marker.color\":[[\"red\",\"#B0BEC5\",\"#B0BEC5\",\"#B0BEC5\",\"#B0BEC5\",\"#B0BEC5\",\"#B0BEC5\",\"#B0BEC5\",\"#B0BEC5\",\"#B0BEC5\",\"#B0BEC5\",\"#B0BEC5\",\"#B0BEC5\",\"#B0BEC5\",\"#B0BEC5\",\"#B0BEC5\",\"#B0BEC5\",\"#B0BEC5\"]]}],\"label\":\"Topic 0\",\"method\":\"update\"},{\"args\":[{\"marker.color\":[[\"#B0BEC5\",\"red\",\"#B0BEC5\",\"#B0BEC5\",\"#B0BEC5\",\"#B0BEC5\",\"#B0BEC5\",\"#B0BEC5\",\"#B0BEC5\",\"#B0BEC5\",\"#B0BEC5\",\"#B0BEC5\",\"#B0BEC5\",\"#B0BEC5\",\"#B0BEC5\",\"#B0BEC5\",\"#B0BEC5\",\"#B0BEC5\"]]}],\"label\":\"Topic 1\",\"method\":\"update\"},{\"args\":[{\"marker.color\":[[\"#B0BEC5\",\"#B0BEC5\",\"red\",\"#B0BEC5\",\"#B0BEC5\",\"#B0BEC5\",\"#B0BEC5\",\"#B0BEC5\",\"#B0BEC5\",\"#B0BEC5\",\"#B0BEC5\",\"#B0BEC5\",\"#B0BEC5\",\"#B0BEC5\",\"#B0BEC5\",\"#B0BEC5\",\"#B0BEC5\",\"#B0BEC5\"]]}],\"label\":\"Topic 2\",\"method\":\"update\"},{\"args\":[{\"marker.color\":[[\"#B0BEC5\",\"#B0BEC5\",\"#B0BEC5\",\"red\",\"#B0BEC5\",\"#B0BEC5\",\"#B0BEC5\",\"#B0BEC5\",\"#B0BEC5\",\"#B0BEC5\",\"#B0BEC5\",\"#B0BEC5\",\"#B0BEC5\",\"#B0BEC5\",\"#B0BEC5\",\"#B0BEC5\",\"#B0BEC5\",\"#B0BEC5\"]]}],\"label\":\"Topic 3\",\"method\":\"update\"},{\"args\":[{\"marker.color\":[[\"#B0BEC5\",\"#B0BEC5\",\"#B0BEC5\",\"#B0BEC5\",\"red\",\"#B0BEC5\",\"#B0BEC5\",\"#B0BEC5\",\"#B0BEC5\",\"#B0BEC5\",\"#B0BEC5\",\"#B0BEC5\",\"#B0BEC5\",\"#B0BEC5\",\"#B0BEC5\",\"#B0BEC5\",\"#B0BEC5\",\"#B0BEC5\"]]}],\"label\":\"Topic 4\",\"method\":\"update\"},{\"args\":[{\"marker.color\":[[\"#B0BEC5\",\"#B0BEC5\",\"#B0BEC5\",\"#B0BEC5\",\"#B0BEC5\",\"red\",\"#B0BEC5\",\"#B0BEC5\",\"#B0BEC5\",\"#B0BEC5\",\"#B0BEC5\",\"#B0BEC5\",\"#B0BEC5\",\"#B0BEC5\",\"#B0BEC5\",\"#B0BEC5\",\"#B0BEC5\",\"#B0BEC5\"]]}],\"label\":\"Topic 5\",\"method\":\"update\"},{\"args\":[{\"marker.color\":[[\"#B0BEC5\",\"#B0BEC5\",\"#B0BEC5\",\"#B0BEC5\",\"#B0BEC5\",\"#B0BEC5\",\"red\",\"#B0BEC5\",\"#B0BEC5\",\"#B0BEC5\",\"#B0BEC5\",\"#B0BEC5\",\"#B0BEC5\",\"#B0BEC5\",\"#B0BEC5\",\"#B0BEC5\",\"#B0BEC5\",\"#B0BEC5\"]]}],\"label\":\"Topic 6\",\"method\":\"update\"},{\"args\":[{\"marker.color\":[[\"#B0BEC5\",\"#B0BEC5\",\"#B0BEC5\",\"#B0BEC5\",\"#B0BEC5\",\"#B0BEC5\",\"#B0BEC5\",\"red\",\"#B0BEC5\",\"#B0BEC5\",\"#B0BEC5\",\"#B0BEC5\",\"#B0BEC5\",\"#B0BEC5\",\"#B0BEC5\",\"#B0BEC5\",\"#B0BEC5\",\"#B0BEC5\"]]}],\"label\":\"Topic 7\",\"method\":\"update\"},{\"args\":[{\"marker.color\":[[\"#B0BEC5\",\"#B0BEC5\",\"#B0BEC5\",\"#B0BEC5\",\"#B0BEC5\",\"#B0BEC5\",\"#B0BEC5\",\"#B0BEC5\",\"red\",\"#B0BEC5\",\"#B0BEC5\",\"#B0BEC5\",\"#B0BEC5\",\"#B0BEC5\",\"#B0BEC5\",\"#B0BEC5\",\"#B0BEC5\",\"#B0BEC5\"]]}],\"label\":\"Topic 8\",\"method\":\"update\"},{\"args\":[{\"marker.color\":[[\"#B0BEC5\",\"#B0BEC5\",\"#B0BEC5\",\"#B0BEC5\",\"#B0BEC5\",\"#B0BEC5\",\"#B0BEC5\",\"#B0BEC5\",\"#B0BEC5\",\"red\",\"#B0BEC5\",\"#B0BEC5\",\"#B0BEC5\",\"#B0BEC5\",\"#B0BEC5\",\"#B0BEC5\",\"#B0BEC5\",\"#B0BEC5\"]]}],\"label\":\"Topic 9\",\"method\":\"update\"},{\"args\":[{\"marker.color\":[[\"#B0BEC5\",\"#B0BEC5\",\"#B0BEC5\",\"#B0BEC5\",\"#B0BEC5\",\"#B0BEC5\",\"#B0BEC5\",\"#B0BEC5\",\"#B0BEC5\",\"#B0BEC5\",\"red\",\"#B0BEC5\",\"#B0BEC5\",\"#B0BEC5\",\"#B0BEC5\",\"#B0BEC5\",\"#B0BEC5\",\"#B0BEC5\"]]}],\"label\":\"Topic 10\",\"method\":\"update\"},{\"args\":[{\"marker.color\":[[\"#B0BEC5\",\"#B0BEC5\",\"#B0BEC5\",\"#B0BEC5\",\"#B0BEC5\",\"#B0BEC5\",\"#B0BEC5\",\"#B0BEC5\",\"#B0BEC5\",\"#B0BEC5\",\"#B0BEC5\",\"red\",\"#B0BEC5\",\"#B0BEC5\",\"#B0BEC5\",\"#B0BEC5\",\"#B0BEC5\",\"#B0BEC5\"]]}],\"label\":\"Topic 11\",\"method\":\"update\"},{\"args\":[{\"marker.color\":[[\"#B0BEC5\",\"#B0BEC5\",\"#B0BEC5\",\"#B0BEC5\",\"#B0BEC5\",\"#B0BEC5\",\"#B0BEC5\",\"#B0BEC5\",\"#B0BEC5\",\"#B0BEC5\",\"#B0BEC5\",\"#B0BEC5\",\"red\",\"#B0BEC5\",\"#B0BEC5\",\"#B0BEC5\",\"#B0BEC5\",\"#B0BEC5\"]]}],\"label\":\"Topic 12\",\"method\":\"update\"},{\"args\":[{\"marker.color\":[[\"#B0BEC5\",\"#B0BEC5\",\"#B0BEC5\",\"#B0BEC5\",\"#B0BEC5\",\"#B0BEC5\",\"#B0BEC5\",\"#B0BEC5\",\"#B0BEC5\",\"#B0BEC5\",\"#B0BEC5\",\"#B0BEC5\",\"#B0BEC5\",\"red\",\"#B0BEC5\",\"#B0BEC5\",\"#B0BEC5\",\"#B0BEC5\"]]}],\"label\":\"Topic 13\",\"method\":\"update\"},{\"args\":[{\"marker.color\":[[\"#B0BEC5\",\"#B0BEC5\",\"#B0BEC5\",\"#B0BEC5\",\"#B0BEC5\",\"#B0BEC5\",\"#B0BEC5\",\"#B0BEC5\",\"#B0BEC5\",\"#B0BEC5\",\"#B0BEC5\",\"#B0BEC5\",\"#B0BEC5\",\"#B0BEC5\",\"red\",\"#B0BEC5\",\"#B0BEC5\",\"#B0BEC5\"]]}],\"label\":\"Topic 14\",\"method\":\"update\"},{\"args\":[{\"marker.color\":[[\"#B0BEC5\",\"#B0BEC5\",\"#B0BEC5\",\"#B0BEC5\",\"#B0BEC5\",\"#B0BEC5\",\"#B0BEC5\",\"#B0BEC5\",\"#B0BEC5\",\"#B0BEC5\",\"#B0BEC5\",\"#B0BEC5\",\"#B0BEC5\",\"#B0BEC5\",\"#B0BEC5\",\"red\",\"#B0BEC5\",\"#B0BEC5\"]]}],\"label\":\"Topic 15\",\"method\":\"update\"},{\"args\":[{\"marker.color\":[[\"#B0BEC5\",\"#B0BEC5\",\"#B0BEC5\",\"#B0BEC5\",\"#B0BEC5\",\"#B0BEC5\",\"#B0BEC5\",\"#B0BEC5\",\"#B0BEC5\",\"#B0BEC5\",\"#B0BEC5\",\"#B0BEC5\",\"#B0BEC5\",\"#B0BEC5\",\"#B0BEC5\",\"#B0BEC5\",\"red\",\"#B0BEC5\"]]}],\"label\":\"Topic 16\",\"method\":\"update\"},{\"args\":[{\"marker.color\":[[\"#B0BEC5\",\"#B0BEC5\",\"#B0BEC5\",\"#B0BEC5\",\"#B0BEC5\",\"#B0BEC5\",\"#B0BEC5\",\"#B0BEC5\",\"#B0BEC5\",\"#B0BEC5\",\"#B0BEC5\",\"#B0BEC5\",\"#B0BEC5\",\"#B0BEC5\",\"#B0BEC5\",\"#B0BEC5\",\"#B0BEC5\",\"red\"]]}],\"label\":\"Topic 17\",\"method\":\"update\"}]}],\"shapes\":[{\"line\":{\"color\":\"#CFD8DC\",\"width\":2},\"type\":\"line\",\"x0\":5.839039850234985,\"x1\":5.839039850234985,\"y0\":-2.4526883125305177,\"y1\":11.644541835784912},{\"line\":{\"color\":\"#9E9E9E\",\"width\":2},\"type\":\"line\",\"x0\":-6.068487977981567,\"x1\":17.746567678451537,\"y0\":4.595926761627197,\"y1\":4.595926761627197}],\"annotations\":[{\"showarrow\":false,\"text\":\"D1\",\"x\":-6.068487977981567,\"y\":4.595926761627197,\"yshift\":10},{\"showarrow\":false,\"text\":\"D2\",\"x\":5.839039850234985,\"xshift\":10,\"y\":11.644541835784912}]},                        {\"responsive\": true}                    ).then(function(){\n",
       "                            \n",
       "var gd = document.getElementById('7d2ec341-f8b8-4d98-b323-43bd1560a890');\n",
       "var x = new MutationObserver(function (mutations, observer) {{\n",
       "        var display = window.getComputedStyle(gd).display;\n",
       "        if (!display || display === 'none') {{\n",
       "            console.log([gd, 'removed!']);\n",
       "            Plotly.purge(gd);\n",
       "            observer.disconnect();\n",
       "        }}\n",
       "}});\n",
       "\n",
       "// Listen for the removal of the full notebook cells\n",
       "var notebookContainer = gd.closest('#notebook-container');\n",
       "if (notebookContainer) {{\n",
       "    x.observe(notebookContainer, {childList: true});\n",
       "}}\n",
       "\n",
       "// Listen for the clearing of the current output cell\n",
       "var outputEl = gd.closest('.output');\n",
       "if (outputEl) {{\n",
       "    x.observe(outputEl, {childList: true});\n",
       "}}\n",
       "\n",
       "                        })                };                });            </script>        </div>"
      ]
     },
     "metadata": {},
     "output_type": "display_data"
    }
   ],
   "source": [
    "topic_model.visualize_topics()"
   ]
  },
  {
   "cell_type": "code",
   "execution_count": 48,
   "id": "7d36c35f",
   "metadata": {},
   "outputs": [
    {
     "data": {
      "application/vnd.plotly.v1+json": {
       "config": {
        "plotlyServerURL": "https://plot.ly"
       },
       "data": [
        {
         "coloraxis": "coloraxis",
         "hovertemplate": "x: %{x}<br>y: %{y}<br>Similarity Score: %{z}<extra></extra>",
         "name": "0",
         "type": "heatmap",
         "x": [
          "0_govern_elect_labour",
          "1_club_player_game",
          "2_film_actor_good",
          "3_site_user_email",
          "4_music_band_song",
          "5_open_seed_match",
          "6_technolog_comput_gadget",
          "7_race_indoor_olymp",
          "8_game_gamer_consol",
          "9_mobil_phone_camera",
          "10_show_tv_seri",
          "11_athlet_drug_iaaf",
          "12_broadband_servic_net",
          "13_film_festiv_music",
          "14_music_player_digit",
          "15_file_system_network",
          "16_book_novel_winner",
          "17_patent_softwar_law"
         ],
         "xaxis": "x",
         "y": [
          "0_govern_elect_labour",
          "1_club_player_game",
          "2_film_actor_good",
          "3_site_user_email",
          "4_music_band_song",
          "5_open_seed_match",
          "6_technolog_comput_gadget",
          "7_race_indoor_olymp",
          "8_game_gamer_consol",
          "9_mobil_phone_camera",
          "10_show_tv_seri",
          "11_athlet_drug_iaaf",
          "12_broadband_servic_net",
          "13_film_festiv_music",
          "14_music_player_digit",
          "15_file_system_network",
          "16_book_novel_winner",
          "17_patent_softwar_law"
         ],
         "yaxis": "y",
         "z": [
          [
           1,
           0.7029692098672943,
           0.6897107459734733,
           0.678539994677938,
           0.6047630663262826,
           0.6381484345103206,
           0.6538338840829447,
           0.6889248200616493,
           0.6275734900186618,
           0.6605822672173834,
           0.6910081453668486,
           0.6639687600389618,
           0.6213014730028271,
           0.7164626338762486,
           0.5967638560101445,
           0.6347609986834605,
           0.6266459507908108,
           0.6530327422106583
          ],
          [
           0.7029692098672943,
           1,
           0.6752424200953365,
           0.7104523633096766,
           0.7119321093761292,
           0.7679862180185506,
           0.6353638145661075,
           0.8022278420517918,
           0.8511778633453997,
           0.6375623461230016,
           0.7266799953836023,
           0.7369368020671098,
           0.6458978721493939,
           0.7476738621797726,
           0.7213674016484348,
           0.6765344163926542,
           0.6598664864498992,
           0.591690906426868
          ],
          [
           0.6897107459734733,
           0.6752424200953365,
           0.9999999999999999,
           0.669822991603206,
           0.6883972031158976,
           0.6584556723422204,
           0.6233916636500816,
           0.7123494286918413,
           0.643288147718066,
           0.6085160912279104,
           0.7196090907151207,
           0.6681374694643388,
           0.5572540416252191,
           0.8313422217357186,
           0.6488342930456815,
           0.6480810477439424,
           0.7037506835475944,
           0.6473026355907838
          ],
          [
           0.678539994677938,
           0.7104523633096766,
           0.669822991603206,
           1.0000000000000002,
           0.641119168020591,
           0.6941281996791073,
           0.7659535507951405,
           0.721356736391334,
           0.7056778255825096,
           0.676082156193803,
           0.7292312460104617,
           0.6716946906628347,
           0.7857080246479669,
           0.7054917504263956,
           0.719629778229847,
           0.7876033885450595,
           0.6541207634636181,
           0.664662346587237
          ],
          [
           0.6047630663262826,
           0.7119321093761292,
           0.6883972031158976,
           0.641119168020591,
           0.9999999999999998,
           0.6326412764822669,
           0.61427380686608,
           0.7018066232336243,
           0.658701215124373,
           0.6754601273433294,
           0.6607986905423611,
           0.6538340405145271,
           0.6019456673534325,
           0.8229706800811754,
           0.8686666667026428,
           0.6508760238875871,
           0.6750954271618825,
           0.5529756944727442
          ],
          [
           0.6381484345103206,
           0.7679862180185506,
           0.6584556723422204,
           0.6941281996791073,
           0.6326412764822669,
           0.9999999999999998,
           0.5974186876049261,
           0.7992571030735145,
           0.7439938982415056,
           0.5991799121857743,
           0.6852515776142334,
           0.7036634262289163,
           0.6459003932449386,
           0.6890362218664678,
           0.6474460771669904,
           0.6647096957701764,
           0.6600508765495976,
           0.5771379958332681
          ],
          [
           0.6538338840829447,
           0.6353638145661075,
           0.6233916636500816,
           0.7659535507951405,
           0.61427380686608,
           0.5974186876049261,
           1,
           0.6671303752830202,
           0.6721990232837904,
           0.7416097576065509,
           0.6862518871394195,
           0.6346494152849902,
           0.7248878089639633,
           0.676623696578027,
           0.7184495461775346,
           0.7523553682393553,
           0.5848169910497797,
           0.6303546737637521
          ],
          [
           0.6889248200616493,
           0.8022278420517918,
           0.7123494286918413,
           0.721356736391334,
           0.7018066232336243,
           0.7992571030735145,
           0.6671303752830202,
           0.9999999999999994,
           0.7705159550426981,
           0.67700080244451,
           0.7248854596474851,
           0.8215258954768697,
           0.6591122830886602,
           0.7666477441355435,
           0.6891866055784738,
           0.6929906063301687,
           0.7000996743469557,
           0.6373755270349746
          ],
          [
           0.6275734900186618,
           0.8511778633453997,
           0.643288147718066,
           0.7056778255825096,
           0.658701215124373,
           0.7439938982415056,
           0.6721990232837904,
           0.7705159550426981,
           1.0000000000000002,
           0.6342575372008622,
           0.6893965320296354,
           0.6693045850045571,
           0.6488934854431946,
           0.7077986284066313,
           0.7261247470895453,
           0.6725416603207311,
           0.6473964965973261,
           0.591346306777887
          ],
          [
           0.6605822672173834,
           0.6375623461230016,
           0.6085160912279104,
           0.676082156193803,
           0.6754601273433294,
           0.5991799121857743,
           0.7416097576065509,
           0.67700080244451,
           0.6342575372008622,
           0.9999999999999996,
           0.700401566918085,
           0.6279520550917993,
           0.7819461144691412,
           0.6757693096957389,
           0.7358397234500742,
           0.7453057517201377,
           0.5649970513301278,
           0.5822122790353762
          ],
          [
           0.6910081453668486,
           0.7266799953836023,
           0.7196090907151207,
           0.7292312460104617,
           0.6607986905423611,
           0.6852515776142334,
           0.6862518871394195,
           0.7248854596474851,
           0.6893965320296354,
           0.700401566918085,
           0.9999999999999998,
           0.6756414911045194,
           0.6929508070658216,
           0.7457184826166725,
           0.7196462245250669,
           0.7156577438119114,
           0.6228916556307645,
           0.5999179306017238
          ],
          [
           0.6639687600389618,
           0.7369368020671098,
           0.6681374694643388,
           0.6716946906628347,
           0.6538340405145271,
           0.7036634262289163,
           0.6346494152849902,
           0.8215258954768697,
           0.6693045850045571,
           0.6279520550917993,
           0.6756414911045194,
           0.9999999999999993,
           0.6002754635138818,
           0.7010661616503896,
           0.6386192691889034,
           0.631094273830566,
           0.6354204373796599,
           0.6273500443047403
          ],
          [
           0.6213014730028271,
           0.6458978721493939,
           0.5572540416252191,
           0.7857080246479669,
           0.6019456673534325,
           0.6459003932449386,
           0.7248878089639633,
           0.6591122830886602,
           0.6488934854431946,
           0.7819461144691412,
           0.6929508070658216,
           0.6002754635138818,
           0.9999999999999998,
           0.5934607445195874,
           0.6942457597024886,
           0.8165461459075434,
           0.579771988846631,
           0.5538918823129986
          ],
          [
           0.7164626338762486,
           0.7476738621797726,
           0.8313422217357186,
           0.7054917504263956,
           0.8229706800811754,
           0.6890362218664678,
           0.676623696578027,
           0.7666477441355435,
           0.7077986284066313,
           0.6757693096957389,
           0.7457184826166725,
           0.7010661616503896,
           0.5934607445195874,
           1,
           0.7929043392530054,
           0.6867783012091968,
           0.6981107070349489,
           0.6472952538725635
          ],
          [
           0.5967638560101445,
           0.7213674016484348,
           0.6488342930456815,
           0.719629778229847,
           0.8686666667026428,
           0.6474460771669904,
           0.7184495461775346,
           0.6891866055784738,
           0.7261247470895453,
           0.7358397234500742,
           0.7196462245250669,
           0.6386192691889034,
           0.6942457597024886,
           0.7929043392530054,
           1,
           0.7457271731134486,
           0.6142976732126543,
           0.5703330984200176
          ],
          [
           0.6347609986834605,
           0.6765344163926542,
           0.6480810477439424,
           0.7876033885450595,
           0.6508760238875871,
           0.6647096957701764,
           0.7523553682393553,
           0.6929906063301687,
           0.6725416603207311,
           0.7453057517201377,
           0.7156577438119114,
           0.631094273830566,
           0.8165461459075434,
           0.6867783012091968,
           0.7457271731134486,
           1.0000000000000002,
           0.6141292230273517,
           0.656348759510917
          ],
          [
           0.6266459507908108,
           0.6598664864498992,
           0.7037506835475944,
           0.6541207634636181,
           0.6750954271618825,
           0.6600508765495976,
           0.5848169910497797,
           0.7000996743469557,
           0.6473964965973261,
           0.5649970513301278,
           0.6228916556307645,
           0.6354204373796599,
           0.579771988846631,
           0.6981107070349489,
           0.6142976732126543,
           0.6141292230273517,
           1,
           0.6315183047669164
          ],
          [
           0.6530327422106583,
           0.591690906426868,
           0.6473026355907838,
           0.664662346587237,
           0.5529756944727442,
           0.5771379958332681,
           0.6303546737637521,
           0.6373755270349746,
           0.591346306777887,
           0.5822122790353762,
           0.5999179306017238,
           0.6273500443047403,
           0.5538918823129986,
           0.6472952538725635,
           0.5703330984200176,
           0.656348759510917,
           0.6315183047669164,
           1.0000000000000002
          ]
         ]
        }
       ],
       "layout": {
        "coloraxis": {
         "colorbar": {
          "title": {
           "text": "Similarity Score"
          }
         },
         "colorscale": [
          [
           0,
           "rgb(247,252,240)"
          ],
          [
           0.125,
           "rgb(224,243,219)"
          ],
          [
           0.25,
           "rgb(204,235,197)"
          ],
          [
           0.375,
           "rgb(168,221,181)"
          ],
          [
           0.5,
           "rgb(123,204,196)"
          ],
          [
           0.625,
           "rgb(78,179,211)"
          ],
          [
           0.75,
           "rgb(43,140,190)"
          ],
          [
           0.875,
           "rgb(8,104,172)"
          ],
          [
           1,
           "rgb(8,64,129)"
          ]
         ]
        },
        "height": 800,
        "hoverlabel": {
         "bgcolor": "white",
         "font": {
          "family": "Rockwell",
          "size": 16
         }
        },
        "legend": {
         "title": {
          "text": "Trend"
         }
        },
        "margin": {
         "t": 60
        },
        "showlegend": true,
        "template": {
         "data": {
          "bar": [
           {
            "error_x": {
             "color": "#2a3f5f"
            },
            "error_y": {
             "color": "#2a3f5f"
            },
            "marker": {
             "line": {
              "color": "#E5ECF6",
              "width": 0.5
             },
             "pattern": {
              "fillmode": "overlay",
              "size": 10,
              "solidity": 0.2
             }
            },
            "type": "bar"
           }
          ],
          "barpolar": [
           {
            "marker": {
             "line": {
              "color": "#E5ECF6",
              "width": 0.5
             },
             "pattern": {
              "fillmode": "overlay",
              "size": 10,
              "solidity": 0.2
             }
            },
            "type": "barpolar"
           }
          ],
          "carpet": [
           {
            "aaxis": {
             "endlinecolor": "#2a3f5f",
             "gridcolor": "white",
             "linecolor": "white",
             "minorgridcolor": "white",
             "startlinecolor": "#2a3f5f"
            },
            "baxis": {
             "endlinecolor": "#2a3f5f",
             "gridcolor": "white",
             "linecolor": "white",
             "minorgridcolor": "white",
             "startlinecolor": "#2a3f5f"
            },
            "type": "carpet"
           }
          ],
          "choropleth": [
           {
            "colorbar": {
             "outlinewidth": 0,
             "ticks": ""
            },
            "type": "choropleth"
           }
          ],
          "contour": [
           {
            "colorbar": {
             "outlinewidth": 0,
             "ticks": ""
            },
            "colorscale": [
             [
              0,
              "#0d0887"
             ],
             [
              0.1111111111111111,
              "#46039f"
             ],
             [
              0.2222222222222222,
              "#7201a8"
             ],
             [
              0.3333333333333333,
              "#9c179e"
             ],
             [
              0.4444444444444444,
              "#bd3786"
             ],
             [
              0.5555555555555556,
              "#d8576b"
             ],
             [
              0.6666666666666666,
              "#ed7953"
             ],
             [
              0.7777777777777778,
              "#fb9f3a"
             ],
             [
              0.8888888888888888,
              "#fdca26"
             ],
             [
              1,
              "#f0f921"
             ]
            ],
            "type": "contour"
           }
          ],
          "contourcarpet": [
           {
            "colorbar": {
             "outlinewidth": 0,
             "ticks": ""
            },
            "type": "contourcarpet"
           }
          ],
          "heatmap": [
           {
            "colorbar": {
             "outlinewidth": 0,
             "ticks": ""
            },
            "colorscale": [
             [
              0,
              "#0d0887"
             ],
             [
              0.1111111111111111,
              "#46039f"
             ],
             [
              0.2222222222222222,
              "#7201a8"
             ],
             [
              0.3333333333333333,
              "#9c179e"
             ],
             [
              0.4444444444444444,
              "#bd3786"
             ],
             [
              0.5555555555555556,
              "#d8576b"
             ],
             [
              0.6666666666666666,
              "#ed7953"
             ],
             [
              0.7777777777777778,
              "#fb9f3a"
             ],
             [
              0.8888888888888888,
              "#fdca26"
             ],
             [
              1,
              "#f0f921"
             ]
            ],
            "type": "heatmap"
           }
          ],
          "heatmapgl": [
           {
            "colorbar": {
             "outlinewidth": 0,
             "ticks": ""
            },
            "colorscale": [
             [
              0,
              "#0d0887"
             ],
             [
              0.1111111111111111,
              "#46039f"
             ],
             [
              0.2222222222222222,
              "#7201a8"
             ],
             [
              0.3333333333333333,
              "#9c179e"
             ],
             [
              0.4444444444444444,
              "#bd3786"
             ],
             [
              0.5555555555555556,
              "#d8576b"
             ],
             [
              0.6666666666666666,
              "#ed7953"
             ],
             [
              0.7777777777777778,
              "#fb9f3a"
             ],
             [
              0.8888888888888888,
              "#fdca26"
             ],
             [
              1,
              "#f0f921"
             ]
            ],
            "type": "heatmapgl"
           }
          ],
          "histogram": [
           {
            "marker": {
             "pattern": {
              "fillmode": "overlay",
              "size": 10,
              "solidity": 0.2
             }
            },
            "type": "histogram"
           }
          ],
          "histogram2d": [
           {
            "colorbar": {
             "outlinewidth": 0,
             "ticks": ""
            },
            "colorscale": [
             [
              0,
              "#0d0887"
             ],
             [
              0.1111111111111111,
              "#46039f"
             ],
             [
              0.2222222222222222,
              "#7201a8"
             ],
             [
              0.3333333333333333,
              "#9c179e"
             ],
             [
              0.4444444444444444,
              "#bd3786"
             ],
             [
              0.5555555555555556,
              "#d8576b"
             ],
             [
              0.6666666666666666,
              "#ed7953"
             ],
             [
              0.7777777777777778,
              "#fb9f3a"
             ],
             [
              0.8888888888888888,
              "#fdca26"
             ],
             [
              1,
              "#f0f921"
             ]
            ],
            "type": "histogram2d"
           }
          ],
          "histogram2dcontour": [
           {
            "colorbar": {
             "outlinewidth": 0,
             "ticks": ""
            },
            "colorscale": [
             [
              0,
              "#0d0887"
             ],
             [
              0.1111111111111111,
              "#46039f"
             ],
             [
              0.2222222222222222,
              "#7201a8"
             ],
             [
              0.3333333333333333,
              "#9c179e"
             ],
             [
              0.4444444444444444,
              "#bd3786"
             ],
             [
              0.5555555555555556,
              "#d8576b"
             ],
             [
              0.6666666666666666,
              "#ed7953"
             ],
             [
              0.7777777777777778,
              "#fb9f3a"
             ],
             [
              0.8888888888888888,
              "#fdca26"
             ],
             [
              1,
              "#f0f921"
             ]
            ],
            "type": "histogram2dcontour"
           }
          ],
          "mesh3d": [
           {
            "colorbar": {
             "outlinewidth": 0,
             "ticks": ""
            },
            "type": "mesh3d"
           }
          ],
          "parcoords": [
           {
            "line": {
             "colorbar": {
              "outlinewidth": 0,
              "ticks": ""
             }
            },
            "type": "parcoords"
           }
          ],
          "pie": [
           {
            "automargin": true,
            "type": "pie"
           }
          ],
          "scatter": [
           {
            "fillpattern": {
             "fillmode": "overlay",
             "size": 10,
             "solidity": 0.2
            },
            "type": "scatter"
           }
          ],
          "scatter3d": [
           {
            "line": {
             "colorbar": {
              "outlinewidth": 0,
              "ticks": ""
             }
            },
            "marker": {
             "colorbar": {
              "outlinewidth": 0,
              "ticks": ""
             }
            },
            "type": "scatter3d"
           }
          ],
          "scattercarpet": [
           {
            "marker": {
             "colorbar": {
              "outlinewidth": 0,
              "ticks": ""
             }
            },
            "type": "scattercarpet"
           }
          ],
          "scattergeo": [
           {
            "marker": {
             "colorbar": {
              "outlinewidth": 0,
              "ticks": ""
             }
            },
            "type": "scattergeo"
           }
          ],
          "scattergl": [
           {
            "marker": {
             "colorbar": {
              "outlinewidth": 0,
              "ticks": ""
             }
            },
            "type": "scattergl"
           }
          ],
          "scattermapbox": [
           {
            "marker": {
             "colorbar": {
              "outlinewidth": 0,
              "ticks": ""
             }
            },
            "type": "scattermapbox"
           }
          ],
          "scatterpolar": [
           {
            "marker": {
             "colorbar": {
              "outlinewidth": 0,
              "ticks": ""
             }
            },
            "type": "scatterpolar"
           }
          ],
          "scatterpolargl": [
           {
            "marker": {
             "colorbar": {
              "outlinewidth": 0,
              "ticks": ""
             }
            },
            "type": "scatterpolargl"
           }
          ],
          "scatterternary": [
           {
            "marker": {
             "colorbar": {
              "outlinewidth": 0,
              "ticks": ""
             }
            },
            "type": "scatterternary"
           }
          ],
          "surface": [
           {
            "colorbar": {
             "outlinewidth": 0,
             "ticks": ""
            },
            "colorscale": [
             [
              0,
              "#0d0887"
             ],
             [
              0.1111111111111111,
              "#46039f"
             ],
             [
              0.2222222222222222,
              "#7201a8"
             ],
             [
              0.3333333333333333,
              "#9c179e"
             ],
             [
              0.4444444444444444,
              "#bd3786"
             ],
             [
              0.5555555555555556,
              "#d8576b"
             ],
             [
              0.6666666666666666,
              "#ed7953"
             ],
             [
              0.7777777777777778,
              "#fb9f3a"
             ],
             [
              0.8888888888888888,
              "#fdca26"
             ],
             [
              1,
              "#f0f921"
             ]
            ],
            "type": "surface"
           }
          ],
          "table": [
           {
            "cells": {
             "fill": {
              "color": "#EBF0F8"
             },
             "line": {
              "color": "white"
             }
            },
            "header": {
             "fill": {
              "color": "#C8D4E3"
             },
             "line": {
              "color": "white"
             }
            },
            "type": "table"
           }
          ]
         },
         "layout": {
          "annotationdefaults": {
           "arrowcolor": "#2a3f5f",
           "arrowhead": 0,
           "arrowwidth": 1
          },
          "autotypenumbers": "strict",
          "coloraxis": {
           "colorbar": {
            "outlinewidth": 0,
            "ticks": ""
           }
          },
          "colorscale": {
           "diverging": [
            [
             0,
             "#8e0152"
            ],
            [
             0.1,
             "#c51b7d"
            ],
            [
             0.2,
             "#de77ae"
            ],
            [
             0.3,
             "#f1b6da"
            ],
            [
             0.4,
             "#fde0ef"
            ],
            [
             0.5,
             "#f7f7f7"
            ],
            [
             0.6,
             "#e6f5d0"
            ],
            [
             0.7,
             "#b8e186"
            ],
            [
             0.8,
             "#7fbc41"
            ],
            [
             0.9,
             "#4d9221"
            ],
            [
             1,
             "#276419"
            ]
           ],
           "sequential": [
            [
             0,
             "#0d0887"
            ],
            [
             0.1111111111111111,
             "#46039f"
            ],
            [
             0.2222222222222222,
             "#7201a8"
            ],
            [
             0.3333333333333333,
             "#9c179e"
            ],
            [
             0.4444444444444444,
             "#bd3786"
            ],
            [
             0.5555555555555556,
             "#d8576b"
            ],
            [
             0.6666666666666666,
             "#ed7953"
            ],
            [
             0.7777777777777778,
             "#fb9f3a"
            ],
            [
             0.8888888888888888,
             "#fdca26"
            ],
            [
             1,
             "#f0f921"
            ]
           ],
           "sequentialminus": [
            [
             0,
             "#0d0887"
            ],
            [
             0.1111111111111111,
             "#46039f"
            ],
            [
             0.2222222222222222,
             "#7201a8"
            ],
            [
             0.3333333333333333,
             "#9c179e"
            ],
            [
             0.4444444444444444,
             "#bd3786"
            ],
            [
             0.5555555555555556,
             "#d8576b"
            ],
            [
             0.6666666666666666,
             "#ed7953"
            ],
            [
             0.7777777777777778,
             "#fb9f3a"
            ],
            [
             0.8888888888888888,
             "#fdca26"
            ],
            [
             1,
             "#f0f921"
            ]
           ]
          },
          "colorway": [
           "#636efa",
           "#EF553B",
           "#00cc96",
           "#ab63fa",
           "#FFA15A",
           "#19d3f3",
           "#FF6692",
           "#B6E880",
           "#FF97FF",
           "#FECB52"
          ],
          "font": {
           "color": "#2a3f5f"
          },
          "geo": {
           "bgcolor": "white",
           "lakecolor": "white",
           "landcolor": "#E5ECF6",
           "showlakes": true,
           "showland": true,
           "subunitcolor": "white"
          },
          "hoverlabel": {
           "align": "left"
          },
          "hovermode": "closest",
          "mapbox": {
           "style": "light"
          },
          "paper_bgcolor": "white",
          "plot_bgcolor": "#E5ECF6",
          "polar": {
           "angularaxis": {
            "gridcolor": "white",
            "linecolor": "white",
            "ticks": ""
           },
           "bgcolor": "#E5ECF6",
           "radialaxis": {
            "gridcolor": "white",
            "linecolor": "white",
            "ticks": ""
           }
          },
          "scene": {
           "xaxis": {
            "backgroundcolor": "#E5ECF6",
            "gridcolor": "white",
            "gridwidth": 2,
            "linecolor": "white",
            "showbackground": true,
            "ticks": "",
            "zerolinecolor": "white"
           },
           "yaxis": {
            "backgroundcolor": "#E5ECF6",
            "gridcolor": "white",
            "gridwidth": 2,
            "linecolor": "white",
            "showbackground": true,
            "ticks": "",
            "zerolinecolor": "white"
           },
           "zaxis": {
            "backgroundcolor": "#E5ECF6",
            "gridcolor": "white",
            "gridwidth": 2,
            "linecolor": "white",
            "showbackground": true,
            "ticks": "",
            "zerolinecolor": "white"
           }
          },
          "shapedefaults": {
           "line": {
            "color": "#2a3f5f"
           }
          },
          "ternary": {
           "aaxis": {
            "gridcolor": "white",
            "linecolor": "white",
            "ticks": ""
           },
           "baxis": {
            "gridcolor": "white",
            "linecolor": "white",
            "ticks": ""
           },
           "bgcolor": "#E5ECF6",
           "caxis": {
            "gridcolor": "white",
            "linecolor": "white",
            "ticks": ""
           }
          },
          "title": {
           "x": 0.05
          },
          "xaxis": {
           "automargin": true,
           "gridcolor": "white",
           "linecolor": "white",
           "ticks": "",
           "title": {
            "standoff": 15
           },
           "zerolinecolor": "white",
           "zerolinewidth": 2
          },
          "yaxis": {
           "automargin": true,
           "gridcolor": "white",
           "linecolor": "white",
           "ticks": "",
           "title": {
            "standoff": 15
           },
           "zerolinecolor": "white",
           "zerolinewidth": 2
          }
         }
        },
        "title": {
         "font": {
          "color": "Black",
          "size": 22
         },
         "text": "<b>Similarity Matrix</b>",
         "x": 0.55,
         "xanchor": "center",
         "y": 0.95,
         "yanchor": "top"
        },
        "width": 800,
        "xaxis": {
         "anchor": "y",
         "constrain": "domain",
         "domain": [
          0,
          1
         ],
         "scaleanchor": "y"
        },
        "yaxis": {
         "anchor": "x",
         "autorange": "reversed",
         "constrain": "domain",
         "domain": [
          0,
          1
         ]
        }
       }
      },
      "text/html": [
       "<div>                            <div id=\"a5341b2e-a6df-4274-8912-d0ed5b45cda5\" class=\"plotly-graph-div\" style=\"height:800px; width:800px;\"></div>            <script type=\"text/javascript\">                require([\"plotly\"], function(Plotly) {                    window.PLOTLYENV=window.PLOTLYENV || {};                                    if (document.getElementById(\"a5341b2e-a6df-4274-8912-d0ed5b45cda5\")) {                    Plotly.newPlot(                        \"a5341b2e-a6df-4274-8912-d0ed5b45cda5\",                        [{\"coloraxis\":\"coloraxis\",\"name\":\"0\",\"x\":[\"0_govern_elect_labour\",\"1_club_player_game\",\"2_film_actor_good\",\"3_site_user_email\",\"4_music_band_song\",\"5_open_seed_match\",\"6_technolog_comput_gadget\",\"7_race_indoor_olymp\",\"8_game_gamer_consol\",\"9_mobil_phone_camera\",\"10_show_tv_seri\",\"11_athlet_drug_iaaf\",\"12_broadband_servic_net\",\"13_film_festiv_music\",\"14_music_player_digit\",\"15_file_system_network\",\"16_book_novel_winner\",\"17_patent_softwar_law\"],\"y\":[\"0_govern_elect_labour\",\"1_club_player_game\",\"2_film_actor_good\",\"3_site_user_email\",\"4_music_band_song\",\"5_open_seed_match\",\"6_technolog_comput_gadget\",\"7_race_indoor_olymp\",\"8_game_gamer_consol\",\"9_mobil_phone_camera\",\"10_show_tv_seri\",\"11_athlet_drug_iaaf\",\"12_broadband_servic_net\",\"13_film_festiv_music\",\"14_music_player_digit\",\"15_file_system_network\",\"16_book_novel_winner\",\"17_patent_softwar_law\"],\"z\":[[1.0,0.7029692098672943,0.6897107459734733,0.678539994677938,0.6047630663262826,0.6381484345103206,0.6538338840829447,0.6889248200616493,0.6275734900186618,0.6605822672173834,0.6910081453668486,0.6639687600389618,0.6213014730028271,0.7164626338762486,0.5967638560101445,0.6347609986834605,0.6266459507908108,0.6530327422106583],[0.7029692098672943,1.0,0.6752424200953365,0.7104523633096766,0.7119321093761292,0.7679862180185506,0.6353638145661075,0.8022278420517918,0.8511778633453997,0.6375623461230016,0.7266799953836023,0.7369368020671098,0.6458978721493939,0.7476738621797726,0.7213674016484348,0.6765344163926542,0.6598664864498992,0.591690906426868],[0.6897107459734733,0.6752424200953365,0.9999999999999999,0.669822991603206,0.6883972031158976,0.6584556723422204,0.6233916636500816,0.7123494286918413,0.643288147718066,0.6085160912279104,0.7196090907151207,0.6681374694643388,0.5572540416252191,0.8313422217357186,0.6488342930456815,0.6480810477439424,0.7037506835475944,0.6473026355907838],[0.678539994677938,0.7104523633096766,0.669822991603206,1.0000000000000002,0.641119168020591,0.6941281996791073,0.7659535507951405,0.721356736391334,0.7056778255825096,0.676082156193803,0.7292312460104617,0.6716946906628347,0.7857080246479669,0.7054917504263956,0.719629778229847,0.7876033885450595,0.6541207634636181,0.664662346587237],[0.6047630663262826,0.7119321093761292,0.6883972031158976,0.641119168020591,0.9999999999999998,0.6326412764822669,0.61427380686608,0.7018066232336243,0.658701215124373,0.6754601273433294,0.6607986905423611,0.6538340405145271,0.6019456673534325,0.8229706800811754,0.8686666667026428,0.6508760238875871,0.6750954271618825,0.5529756944727442],[0.6381484345103206,0.7679862180185506,0.6584556723422204,0.6941281996791073,0.6326412764822669,0.9999999999999998,0.5974186876049261,0.7992571030735145,0.7439938982415056,0.5991799121857743,0.6852515776142334,0.7036634262289163,0.6459003932449386,0.6890362218664678,0.6474460771669904,0.6647096957701764,0.6600508765495976,0.5771379958332681],[0.6538338840829447,0.6353638145661075,0.6233916636500816,0.7659535507951405,0.61427380686608,0.5974186876049261,1.0,0.6671303752830202,0.6721990232837904,0.7416097576065509,0.6862518871394195,0.6346494152849902,0.7248878089639633,0.676623696578027,0.7184495461775346,0.7523553682393553,0.5848169910497797,0.6303546737637521],[0.6889248200616493,0.8022278420517918,0.7123494286918413,0.721356736391334,0.7018066232336243,0.7992571030735145,0.6671303752830202,0.9999999999999994,0.7705159550426981,0.67700080244451,0.7248854596474851,0.8215258954768697,0.6591122830886602,0.7666477441355435,0.6891866055784738,0.6929906063301687,0.7000996743469557,0.6373755270349746],[0.6275734900186618,0.8511778633453997,0.643288147718066,0.7056778255825096,0.658701215124373,0.7439938982415056,0.6721990232837904,0.7705159550426981,1.0000000000000002,0.6342575372008622,0.6893965320296354,0.6693045850045571,0.6488934854431946,0.7077986284066313,0.7261247470895453,0.6725416603207311,0.6473964965973261,0.591346306777887],[0.6605822672173834,0.6375623461230016,0.6085160912279104,0.676082156193803,0.6754601273433294,0.5991799121857743,0.7416097576065509,0.67700080244451,0.6342575372008622,0.9999999999999996,0.700401566918085,0.6279520550917993,0.7819461144691412,0.6757693096957389,0.7358397234500742,0.7453057517201377,0.5649970513301278,0.5822122790353762],[0.6910081453668486,0.7266799953836023,0.7196090907151207,0.7292312460104617,0.6607986905423611,0.6852515776142334,0.6862518871394195,0.7248854596474851,0.6893965320296354,0.700401566918085,0.9999999999999998,0.6756414911045194,0.6929508070658216,0.7457184826166725,0.7196462245250669,0.7156577438119114,0.6228916556307645,0.5999179306017238],[0.6639687600389618,0.7369368020671098,0.6681374694643388,0.6716946906628347,0.6538340405145271,0.7036634262289163,0.6346494152849902,0.8215258954768697,0.6693045850045571,0.6279520550917993,0.6756414911045194,0.9999999999999993,0.6002754635138818,0.7010661616503896,0.6386192691889034,0.631094273830566,0.6354204373796599,0.6273500443047403],[0.6213014730028271,0.6458978721493939,0.5572540416252191,0.7857080246479669,0.6019456673534325,0.6459003932449386,0.7248878089639633,0.6591122830886602,0.6488934854431946,0.7819461144691412,0.6929508070658216,0.6002754635138818,0.9999999999999998,0.5934607445195874,0.6942457597024886,0.8165461459075434,0.579771988846631,0.5538918823129986],[0.7164626338762486,0.7476738621797726,0.8313422217357186,0.7054917504263956,0.8229706800811754,0.6890362218664678,0.676623696578027,0.7666477441355435,0.7077986284066313,0.6757693096957389,0.7457184826166725,0.7010661616503896,0.5934607445195874,1.0,0.7929043392530054,0.6867783012091968,0.6981107070349489,0.6472952538725635],[0.5967638560101445,0.7213674016484348,0.6488342930456815,0.719629778229847,0.8686666667026428,0.6474460771669904,0.7184495461775346,0.6891866055784738,0.7261247470895453,0.7358397234500742,0.7196462245250669,0.6386192691889034,0.6942457597024886,0.7929043392530054,1.0,0.7457271731134486,0.6142976732126543,0.5703330984200176],[0.6347609986834605,0.6765344163926542,0.6480810477439424,0.7876033885450595,0.6508760238875871,0.6647096957701764,0.7523553682393553,0.6929906063301687,0.6725416603207311,0.7453057517201377,0.7156577438119114,0.631094273830566,0.8165461459075434,0.6867783012091968,0.7457271731134486,1.0000000000000002,0.6141292230273517,0.656348759510917],[0.6266459507908108,0.6598664864498992,0.7037506835475944,0.6541207634636181,0.6750954271618825,0.6600508765495976,0.5848169910497797,0.7000996743469557,0.6473964965973261,0.5649970513301278,0.6228916556307645,0.6354204373796599,0.579771988846631,0.6981107070349489,0.6142976732126543,0.6141292230273517,1.0,0.6315183047669164],[0.6530327422106583,0.591690906426868,0.6473026355907838,0.664662346587237,0.5529756944727442,0.5771379958332681,0.6303546737637521,0.6373755270349746,0.591346306777887,0.5822122790353762,0.5999179306017238,0.6273500443047403,0.5538918823129986,0.6472952538725635,0.5703330984200176,0.656348759510917,0.6315183047669164,1.0000000000000002]],\"type\":\"heatmap\",\"xaxis\":\"x\",\"yaxis\":\"y\",\"hovertemplate\":\"x: %{x}<br>y: %{y}<br>Similarity Score: %{z}<extra></extra>\"}],                        {\"template\":{\"data\":{\"histogram2dcontour\":[{\"type\":\"histogram2dcontour\",\"colorbar\":{\"outlinewidth\":0,\"ticks\":\"\"},\"colorscale\":[[0.0,\"#0d0887\"],[0.1111111111111111,\"#46039f\"],[0.2222222222222222,\"#7201a8\"],[0.3333333333333333,\"#9c179e\"],[0.4444444444444444,\"#bd3786\"],[0.5555555555555556,\"#d8576b\"],[0.6666666666666666,\"#ed7953\"],[0.7777777777777778,\"#fb9f3a\"],[0.8888888888888888,\"#fdca26\"],[1.0,\"#f0f921\"]]}],\"choropleth\":[{\"type\":\"choropleth\",\"colorbar\":{\"outlinewidth\":0,\"ticks\":\"\"}}],\"histogram2d\":[{\"type\":\"histogram2d\",\"colorbar\":{\"outlinewidth\":0,\"ticks\":\"\"},\"colorscale\":[[0.0,\"#0d0887\"],[0.1111111111111111,\"#46039f\"],[0.2222222222222222,\"#7201a8\"],[0.3333333333333333,\"#9c179e\"],[0.4444444444444444,\"#bd3786\"],[0.5555555555555556,\"#d8576b\"],[0.6666666666666666,\"#ed7953\"],[0.7777777777777778,\"#fb9f3a\"],[0.8888888888888888,\"#fdca26\"],[1.0,\"#f0f921\"]]}],\"heatmap\":[{\"type\":\"heatmap\",\"colorbar\":{\"outlinewidth\":0,\"ticks\":\"\"},\"colorscale\":[[0.0,\"#0d0887\"],[0.1111111111111111,\"#46039f\"],[0.2222222222222222,\"#7201a8\"],[0.3333333333333333,\"#9c179e\"],[0.4444444444444444,\"#bd3786\"],[0.5555555555555556,\"#d8576b\"],[0.6666666666666666,\"#ed7953\"],[0.7777777777777778,\"#fb9f3a\"],[0.8888888888888888,\"#fdca26\"],[1.0,\"#f0f921\"]]}],\"heatmapgl\":[{\"type\":\"heatmapgl\",\"colorbar\":{\"outlinewidth\":0,\"ticks\":\"\"},\"colorscale\":[[0.0,\"#0d0887\"],[0.1111111111111111,\"#46039f\"],[0.2222222222222222,\"#7201a8\"],[0.3333333333333333,\"#9c179e\"],[0.4444444444444444,\"#bd3786\"],[0.5555555555555556,\"#d8576b\"],[0.6666666666666666,\"#ed7953\"],[0.7777777777777778,\"#fb9f3a\"],[0.8888888888888888,\"#fdca26\"],[1.0,\"#f0f921\"]]}],\"contourcarpet\":[{\"type\":\"contourcarpet\",\"colorbar\":{\"outlinewidth\":0,\"ticks\":\"\"}}],\"contour\":[{\"type\":\"contour\",\"colorbar\":{\"outlinewidth\":0,\"ticks\":\"\"},\"colorscale\":[[0.0,\"#0d0887\"],[0.1111111111111111,\"#46039f\"],[0.2222222222222222,\"#7201a8\"],[0.3333333333333333,\"#9c179e\"],[0.4444444444444444,\"#bd3786\"],[0.5555555555555556,\"#d8576b\"],[0.6666666666666666,\"#ed7953\"],[0.7777777777777778,\"#fb9f3a\"],[0.8888888888888888,\"#fdca26\"],[1.0,\"#f0f921\"]]}],\"surface\":[{\"type\":\"surface\",\"colorbar\":{\"outlinewidth\":0,\"ticks\":\"\"},\"colorscale\":[[0.0,\"#0d0887\"],[0.1111111111111111,\"#46039f\"],[0.2222222222222222,\"#7201a8\"],[0.3333333333333333,\"#9c179e\"],[0.4444444444444444,\"#bd3786\"],[0.5555555555555556,\"#d8576b\"],[0.6666666666666666,\"#ed7953\"],[0.7777777777777778,\"#fb9f3a\"],[0.8888888888888888,\"#fdca26\"],[1.0,\"#f0f921\"]]}],\"mesh3d\":[{\"type\":\"mesh3d\",\"colorbar\":{\"outlinewidth\":0,\"ticks\":\"\"}}],\"scatter\":[{\"fillpattern\":{\"fillmode\":\"overlay\",\"size\":10,\"solidity\":0.2},\"type\":\"scatter\"}],\"parcoords\":[{\"type\":\"parcoords\",\"line\":{\"colorbar\":{\"outlinewidth\":0,\"ticks\":\"\"}}}],\"scatterpolargl\":[{\"type\":\"scatterpolargl\",\"marker\":{\"colorbar\":{\"outlinewidth\":0,\"ticks\":\"\"}}}],\"bar\":[{\"error_x\":{\"color\":\"#2a3f5f\"},\"error_y\":{\"color\":\"#2a3f5f\"},\"marker\":{\"line\":{\"color\":\"#E5ECF6\",\"width\":0.5},\"pattern\":{\"fillmode\":\"overlay\",\"size\":10,\"solidity\":0.2}},\"type\":\"bar\"}],\"scattergeo\":[{\"type\":\"scattergeo\",\"marker\":{\"colorbar\":{\"outlinewidth\":0,\"ticks\":\"\"}}}],\"scatterpolar\":[{\"type\":\"scatterpolar\",\"marker\":{\"colorbar\":{\"outlinewidth\":0,\"ticks\":\"\"}}}],\"histogram\":[{\"marker\":{\"pattern\":{\"fillmode\":\"overlay\",\"size\":10,\"solidity\":0.2}},\"type\":\"histogram\"}],\"scattergl\":[{\"type\":\"scattergl\",\"marker\":{\"colorbar\":{\"outlinewidth\":0,\"ticks\":\"\"}}}],\"scatter3d\":[{\"type\":\"scatter3d\",\"line\":{\"colorbar\":{\"outlinewidth\":0,\"ticks\":\"\"}},\"marker\":{\"colorbar\":{\"outlinewidth\":0,\"ticks\":\"\"}}}],\"scattermapbox\":[{\"type\":\"scattermapbox\",\"marker\":{\"colorbar\":{\"outlinewidth\":0,\"ticks\":\"\"}}}],\"scatterternary\":[{\"type\":\"scatterternary\",\"marker\":{\"colorbar\":{\"outlinewidth\":0,\"ticks\":\"\"}}}],\"scattercarpet\":[{\"type\":\"scattercarpet\",\"marker\":{\"colorbar\":{\"outlinewidth\":0,\"ticks\":\"\"}}}],\"carpet\":[{\"aaxis\":{\"endlinecolor\":\"#2a3f5f\",\"gridcolor\":\"white\",\"linecolor\":\"white\",\"minorgridcolor\":\"white\",\"startlinecolor\":\"#2a3f5f\"},\"baxis\":{\"endlinecolor\":\"#2a3f5f\",\"gridcolor\":\"white\",\"linecolor\":\"white\",\"minorgridcolor\":\"white\",\"startlinecolor\":\"#2a3f5f\"},\"type\":\"carpet\"}],\"table\":[{\"cells\":{\"fill\":{\"color\":\"#EBF0F8\"},\"line\":{\"color\":\"white\"}},\"header\":{\"fill\":{\"color\":\"#C8D4E3\"},\"line\":{\"color\":\"white\"}},\"type\":\"table\"}],\"barpolar\":[{\"marker\":{\"line\":{\"color\":\"#E5ECF6\",\"width\":0.5},\"pattern\":{\"fillmode\":\"overlay\",\"size\":10,\"solidity\":0.2}},\"type\":\"barpolar\"}],\"pie\":[{\"automargin\":true,\"type\":\"pie\"}]},\"layout\":{\"autotypenumbers\":\"strict\",\"colorway\":[\"#636efa\",\"#EF553B\",\"#00cc96\",\"#ab63fa\",\"#FFA15A\",\"#19d3f3\",\"#FF6692\",\"#B6E880\",\"#FF97FF\",\"#FECB52\"],\"font\":{\"color\":\"#2a3f5f\"},\"hovermode\":\"closest\",\"hoverlabel\":{\"align\":\"left\"},\"paper_bgcolor\":\"white\",\"plot_bgcolor\":\"#E5ECF6\",\"polar\":{\"bgcolor\":\"#E5ECF6\",\"angularaxis\":{\"gridcolor\":\"white\",\"linecolor\":\"white\",\"ticks\":\"\"},\"radialaxis\":{\"gridcolor\":\"white\",\"linecolor\":\"white\",\"ticks\":\"\"}},\"ternary\":{\"bgcolor\":\"#E5ECF6\",\"aaxis\":{\"gridcolor\":\"white\",\"linecolor\":\"white\",\"ticks\":\"\"},\"baxis\":{\"gridcolor\":\"white\",\"linecolor\":\"white\",\"ticks\":\"\"},\"caxis\":{\"gridcolor\":\"white\",\"linecolor\":\"white\",\"ticks\":\"\"}},\"coloraxis\":{\"colorbar\":{\"outlinewidth\":0,\"ticks\":\"\"}},\"colorscale\":{\"sequential\":[[0.0,\"#0d0887\"],[0.1111111111111111,\"#46039f\"],[0.2222222222222222,\"#7201a8\"],[0.3333333333333333,\"#9c179e\"],[0.4444444444444444,\"#bd3786\"],[0.5555555555555556,\"#d8576b\"],[0.6666666666666666,\"#ed7953\"],[0.7777777777777778,\"#fb9f3a\"],[0.8888888888888888,\"#fdca26\"],[1.0,\"#f0f921\"]],\"sequentialminus\":[[0.0,\"#0d0887\"],[0.1111111111111111,\"#46039f\"],[0.2222222222222222,\"#7201a8\"],[0.3333333333333333,\"#9c179e\"],[0.4444444444444444,\"#bd3786\"],[0.5555555555555556,\"#d8576b\"],[0.6666666666666666,\"#ed7953\"],[0.7777777777777778,\"#fb9f3a\"],[0.8888888888888888,\"#fdca26\"],[1.0,\"#f0f921\"]],\"diverging\":[[0,\"#8e0152\"],[0.1,\"#c51b7d\"],[0.2,\"#de77ae\"],[0.3,\"#f1b6da\"],[0.4,\"#fde0ef\"],[0.5,\"#f7f7f7\"],[0.6,\"#e6f5d0\"],[0.7,\"#b8e186\"],[0.8,\"#7fbc41\"],[0.9,\"#4d9221\"],[1,\"#276419\"]]},\"xaxis\":{\"gridcolor\":\"white\",\"linecolor\":\"white\",\"ticks\":\"\",\"title\":{\"standoff\":15},\"zerolinecolor\":\"white\",\"automargin\":true,\"zerolinewidth\":2},\"yaxis\":{\"gridcolor\":\"white\",\"linecolor\":\"white\",\"ticks\":\"\",\"title\":{\"standoff\":15},\"zerolinecolor\":\"white\",\"automargin\":true,\"zerolinewidth\":2},\"scene\":{\"xaxis\":{\"backgroundcolor\":\"#E5ECF6\",\"gridcolor\":\"white\",\"linecolor\":\"white\",\"showbackground\":true,\"ticks\":\"\",\"zerolinecolor\":\"white\",\"gridwidth\":2},\"yaxis\":{\"backgroundcolor\":\"#E5ECF6\",\"gridcolor\":\"white\",\"linecolor\":\"white\",\"showbackground\":true,\"ticks\":\"\",\"zerolinecolor\":\"white\",\"gridwidth\":2},\"zaxis\":{\"backgroundcolor\":\"#E5ECF6\",\"gridcolor\":\"white\",\"linecolor\":\"white\",\"showbackground\":true,\"ticks\":\"\",\"zerolinecolor\":\"white\",\"gridwidth\":2}},\"shapedefaults\":{\"line\":{\"color\":\"#2a3f5f\"}},\"annotationdefaults\":{\"arrowcolor\":\"#2a3f5f\",\"arrowhead\":0,\"arrowwidth\":1},\"geo\":{\"bgcolor\":\"white\",\"landcolor\":\"#E5ECF6\",\"subunitcolor\":\"white\",\"showland\":true,\"showlakes\":true,\"lakecolor\":\"white\"},\"title\":{\"x\":0.05},\"mapbox\":{\"style\":\"light\"}}},\"xaxis\":{\"anchor\":\"y\",\"domain\":[0.0,1.0],\"scaleanchor\":\"y\",\"constrain\":\"domain\"},\"yaxis\":{\"anchor\":\"x\",\"domain\":[0.0,1.0],\"autorange\":\"reversed\",\"constrain\":\"domain\"},\"coloraxis\":{\"colorbar\":{\"title\":{\"text\":\"Similarity Score\"}},\"colorscale\":[[0.0,\"rgb(247,252,240)\"],[0.125,\"rgb(224,243,219)\"],[0.25,\"rgb(204,235,197)\"],[0.375,\"rgb(168,221,181)\"],[0.5,\"rgb(123,204,196)\"],[0.625,\"rgb(78,179,211)\"],[0.75,\"rgb(43,140,190)\"],[0.875,\"rgb(8,104,172)\"],[1.0,\"rgb(8,64,129)\"]]},\"margin\":{\"t\":60},\"title\":{\"font\":{\"size\":22,\"color\":\"Black\"},\"text\":\"<b>Similarity Matrix</b>\",\"y\":0.95,\"x\":0.55,\"xanchor\":\"center\",\"yanchor\":\"top\"},\"hoverlabel\":{\"font\":{\"size\":16,\"family\":\"Rockwell\"},\"bgcolor\":\"white\"},\"width\":800,\"height\":800,\"showlegend\":true,\"legend\":{\"title\":{\"text\":\"Trend\"}}},                        {\"responsive\": true}                    ).then(function(){\n",
       "                            \n",
       "var gd = document.getElementById('a5341b2e-a6df-4274-8912-d0ed5b45cda5');\n",
       "var x = new MutationObserver(function (mutations, observer) {{\n",
       "        var display = window.getComputedStyle(gd).display;\n",
       "        if (!display || display === 'none') {{\n",
       "            console.log([gd, 'removed!']);\n",
       "            Plotly.purge(gd);\n",
       "            observer.disconnect();\n",
       "        }}\n",
       "}});\n",
       "\n",
       "// Listen for the removal of the full notebook cells\n",
       "var notebookContainer = gd.closest('#notebook-container');\n",
       "if (notebookContainer) {{\n",
       "    x.observe(notebookContainer, {childList: true});\n",
       "}}\n",
       "\n",
       "// Listen for the clearing of the current output cell\n",
       "var outputEl = gd.closest('.output');\n",
       "if (outputEl) {{\n",
       "    x.observe(outputEl, {childList: true});\n",
       "}}\n",
       "\n",
       "                        })                };                });            </script>        </div>"
      ]
     },
     "metadata": {},
     "output_type": "display_data"
    }
   ],
   "source": [
    "topic_model.visualize_heatmap()"
   ]
  },
  {
   "cell_type": "code",
   "execution_count": 49,
   "id": "14426084",
   "metadata": {},
   "outputs": [
    {
     "name": "stderr",
     "output_type": "stream",
     "text": [
      "C:\\Users\\User\\anaconda3\\envs\\newtensorflow\\lib\\site-packages\\plotly\\figure_factory\\_dendrogram.py:350: DeprecationWarning:\n",
      "\n",
      "scipy.array is deprecated and will be removed in SciPy 2.0.0, use numpy.array instead\n",
      "\n",
      "C:\\Users\\User\\anaconda3\\envs\\newtensorflow\\lib\\site-packages\\plotly\\figure_factory\\_dendrogram.py:351: DeprecationWarning:\n",
      "\n",
      "scipy.array is deprecated and will be removed in SciPy 2.0.0, use numpy.array instead\n",
      "\n",
      "C:\\Users\\User\\anaconda3\\envs\\newtensorflow\\lib\\site-packages\\plotly\\figure_factory\\_dendrogram.py:352: DeprecationWarning:\n",
      "\n",
      "scipy.array is deprecated and will be removed in SciPy 2.0.0, use numpy.array instead\n",
      "\n",
      "C:\\Users\\User\\anaconda3\\envs\\newtensorflow\\lib\\site-packages\\plotly\\figure_factory\\_dendrogram.py:353: DeprecationWarning:\n",
      "\n",
      "scipy.array is deprecated and will be removed in SciPy 2.0.0, use numpy.array instead\n",
      "\n"
     ]
    },
    {
     "data": {
      "application/vnd.plotly.v1+json": {
       "config": {
        "plotlyServerURL": "https://plot.ly"
       },
       "data": [
        {
         "hoverinfo": "text",
         "marker": {
          "color": "rgb(61,153,112)"
         },
         "mode": "lines",
         "type": "scatter",
         "x": [
          0,
          0.8727634012618722,
          0.8727634012618722,
          0
         ],
         "xaxis": "x",
         "y": [
          -25,
          -25,
          -35,
          -35
         ],
         "yaxis": "y"
        },
        {
         "hoverinfo": "text",
         "marker": {
          "color": "rgb(255,65,54)"
         },
         "mode": "lines",
         "type": "scatter",
         "x": [
          0,
          0.8181318667033298,
          0.8181318667033298,
          0
         ],
         "xaxis": "x",
         "y": [
          -45,
          -45,
          -55,
          -55
         ],
         "yaxis": "y"
        },
        {
         "hoverinfo": "text",
         "marker": {
          "color": "rgb(0,116,217)"
         },
         "mode": "lines",
         "type": "scatter",
         "x": [
          0.8727634012618722,
          1.034613926010362,
          1.034613926010362,
          0.8181318667033298
         ],
         "xaxis": "x",
         "y": [
          -30,
          -30,
          -50,
          -50
         ],
         "yaxis": "y"
        },
        {
         "hoverinfo": "text",
         "marker": {
          "color": "rgb(0,116,217)"
         },
         "mode": "lines",
         "type": "scatter",
         "x": [
          0,
          1.1248636779519867,
          1.1248636779519867,
          1.034613926010362
         ],
         "xaxis": "x",
         "y": [
          -15,
          -15,
          -40,
          -40
         ],
         "yaxis": "y"
        },
        {
         "hoverinfo": "text",
         "marker": {
          "color": "rgb(35,205,205)"
         },
         "mode": "lines",
         "type": "scatter",
         "x": [
          0,
          0.9447760330278364,
          0.9447760330278364,
          0
         ],
         "xaxis": "x",
         "y": [
          -65,
          -65,
          -75,
          -75
         ],
         "yaxis": "y"
        },
        {
         "hoverinfo": "text",
         "marker": {
          "color": "rgb(0,116,217)"
         },
         "mode": "lines",
         "type": "scatter",
         "x": [
          0,
          1.0298398766380874,
          1.0298398766380874,
          0
         ],
         "xaxis": "x",
         "y": [
          -85,
          -85,
          -95,
          -95
         ],
         "yaxis": "y"
        },
        {
         "hoverinfo": "text",
         "marker": {
          "color": "rgb(0,116,217)"
         },
         "mode": "lines",
         "type": "scatter",
         "x": [
          0.9447760330278364,
          1.2713648354495188,
          1.2713648354495188,
          1.0298398766380874
         ],
         "xaxis": "x",
         "y": [
          -70,
          -70,
          -90,
          -90
         ],
         "yaxis": "y"
        },
        {
         "hoverinfo": "text",
         "marker": {
          "color": "rgb(0,116,217)"
         },
         "mode": "lines",
         "type": "scatter",
         "x": [
          1.1248636779519867,
          1.485440731018908,
          1.485440731018908,
          1.2713648354495188
         ],
         "xaxis": "x",
         "y": [
          -27.5,
          -27.5,
          -80,
          -80
         ],
         "yaxis": "y"
        },
        {
         "hoverinfo": "text",
         "marker": {
          "color": "rgb(0,116,217)"
         },
         "mode": "lines",
         "type": "scatter",
         "x": [
          0,
          1.539896056467036,
          1.539896056467036,
          1.485440731018908
         ],
         "xaxis": "x",
         "y": [
          -5,
          -5,
          -53.75,
          -53.75
         ],
         "yaxis": "y"
        },
        {
         "hoverinfo": "text",
         "marker": {
          "color": "rgb(133,20,75)"
         },
         "mode": "lines",
         "type": "scatter",
         "x": [
          0,
          0.8279917462252437,
          0.8279917462252437,
          0
         ],
         "xaxis": "x",
         "y": [
          -125,
          -125,
          -135,
          -135
         ],
         "yaxis": "y"
        },
        {
         "hoverinfo": "text",
         "marker": {
          "color": "rgb(133,20,75)"
         },
         "mode": "lines",
         "type": "scatter",
         "x": [
          0,
          0.9891015021430898,
          0.9891015021430898,
          0.8279917462252437
         ],
         "xaxis": "x",
         "y": [
          -115,
          -115,
          -130,
          -130
         ],
         "yaxis": "y"
        },
        {
         "hoverinfo": "text",
         "marker": {
          "color": "rgb(0,116,217)"
         },
         "mode": "lines",
         "type": "scatter",
         "x": [
          0,
          1.3234822429986925,
          1.3234822429986925,
          0.9891015021430898
         ],
         "xaxis": "x",
         "y": [
          -105,
          -105,
          -122.5,
          -122.5
         ],
         "yaxis": "y"
        },
        {
         "hoverinfo": "text",
         "marker": {
          "color": "rgb(255,220,0)"
         },
         "mode": "lines",
         "type": "scatter",
         "x": [
          0,
          0.7152383873412658,
          0.7152383873412658,
          0
         ],
         "xaxis": "x",
         "y": [
          -145,
          -145,
          -155,
          -155
         ],
         "yaxis": "y"
        },
        {
         "hoverinfo": "text",
         "marker": {
          "color": "rgb(0,116,217)"
         },
         "mode": "lines",
         "type": "scatter",
         "x": [
          0.7152383873412658,
          1.1083743177487861,
          1.1083743177487861,
          0
         ],
         "xaxis": "x",
         "y": [
          -150,
          -150,
          -165,
          -165
         ],
         "yaxis": "y"
        },
        {
         "hoverinfo": "text",
         "marker": {
          "color": "rgb(0,116,217)"
         },
         "mode": "lines",
         "type": "scatter",
         "x": [
          1.1083743177487861,
          1.3117989024664616,
          1.3117989024664616,
          0
         ],
         "xaxis": "x",
         "y": [
          -157.5,
          -157.5,
          -175,
          -175
         ],
         "yaxis": "y"
        },
        {
         "hoverinfo": "text",
         "marker": {
          "color": "rgb(0,116,217)"
         },
         "mode": "lines",
         "type": "scatter",
         "x": [
          1.3234822429986925,
          1.950265242176899,
          1.950265242176899,
          1.3117989024664616
         ],
         "xaxis": "x",
         "y": [
          -113.75,
          -113.75,
          -166.25,
          -166.25
         ],
         "yaxis": "y"
        },
        {
         "hoverinfo": "text",
         "marker": {
          "color": "rgb(0,116,217)"
         },
         "mode": "lines",
         "type": "scatter",
         "x": [
          1.539896056467036,
          2.3015331430628296,
          2.3015331430628296,
          1.950265242176899
         ],
         "xaxis": "x",
         "y": [
          -29.375,
          -29.375,
          -140,
          -140
         ],
         "yaxis": "y"
        }
       ],
       "layout": {
        "autosize": false,
        "height": 470,
        "hoverlabel": {
         "bgcolor": "white",
         "font": {
          "family": "Rockwell",
          "size": 16
         }
        },
        "hovermode": "closest",
        "plot_bgcolor": "#ECEFF1",
        "showlegend": false,
        "template": {
         "data": {
          "bar": [
           {
            "error_x": {
             "color": "#2a3f5f"
            },
            "error_y": {
             "color": "#2a3f5f"
            },
            "marker": {
             "line": {
              "color": "white",
              "width": 0.5
             },
             "pattern": {
              "fillmode": "overlay",
              "size": 10,
              "solidity": 0.2
             }
            },
            "type": "bar"
           }
          ],
          "barpolar": [
           {
            "marker": {
             "line": {
              "color": "white",
              "width": 0.5
             },
             "pattern": {
              "fillmode": "overlay",
              "size": 10,
              "solidity": 0.2
             }
            },
            "type": "barpolar"
           }
          ],
          "carpet": [
           {
            "aaxis": {
             "endlinecolor": "#2a3f5f",
             "gridcolor": "#C8D4E3",
             "linecolor": "#C8D4E3",
             "minorgridcolor": "#C8D4E3",
             "startlinecolor": "#2a3f5f"
            },
            "baxis": {
             "endlinecolor": "#2a3f5f",
             "gridcolor": "#C8D4E3",
             "linecolor": "#C8D4E3",
             "minorgridcolor": "#C8D4E3",
             "startlinecolor": "#2a3f5f"
            },
            "type": "carpet"
           }
          ],
          "choropleth": [
           {
            "colorbar": {
             "outlinewidth": 0,
             "ticks": ""
            },
            "type": "choropleth"
           }
          ],
          "contour": [
           {
            "colorbar": {
             "outlinewidth": 0,
             "ticks": ""
            },
            "colorscale": [
             [
              0,
              "#0d0887"
             ],
             [
              0.1111111111111111,
              "#46039f"
             ],
             [
              0.2222222222222222,
              "#7201a8"
             ],
             [
              0.3333333333333333,
              "#9c179e"
             ],
             [
              0.4444444444444444,
              "#bd3786"
             ],
             [
              0.5555555555555556,
              "#d8576b"
             ],
             [
              0.6666666666666666,
              "#ed7953"
             ],
             [
              0.7777777777777778,
              "#fb9f3a"
             ],
             [
              0.8888888888888888,
              "#fdca26"
             ],
             [
              1,
              "#f0f921"
             ]
            ],
            "type": "contour"
           }
          ],
          "contourcarpet": [
           {
            "colorbar": {
             "outlinewidth": 0,
             "ticks": ""
            },
            "type": "contourcarpet"
           }
          ],
          "heatmap": [
           {
            "colorbar": {
             "outlinewidth": 0,
             "ticks": ""
            },
            "colorscale": [
             [
              0,
              "#0d0887"
             ],
             [
              0.1111111111111111,
              "#46039f"
             ],
             [
              0.2222222222222222,
              "#7201a8"
             ],
             [
              0.3333333333333333,
              "#9c179e"
             ],
             [
              0.4444444444444444,
              "#bd3786"
             ],
             [
              0.5555555555555556,
              "#d8576b"
             ],
             [
              0.6666666666666666,
              "#ed7953"
             ],
             [
              0.7777777777777778,
              "#fb9f3a"
             ],
             [
              0.8888888888888888,
              "#fdca26"
             ],
             [
              1,
              "#f0f921"
             ]
            ],
            "type": "heatmap"
           }
          ],
          "heatmapgl": [
           {
            "colorbar": {
             "outlinewidth": 0,
             "ticks": ""
            },
            "colorscale": [
             [
              0,
              "#0d0887"
             ],
             [
              0.1111111111111111,
              "#46039f"
             ],
             [
              0.2222222222222222,
              "#7201a8"
             ],
             [
              0.3333333333333333,
              "#9c179e"
             ],
             [
              0.4444444444444444,
              "#bd3786"
             ],
             [
              0.5555555555555556,
              "#d8576b"
             ],
             [
              0.6666666666666666,
              "#ed7953"
             ],
             [
              0.7777777777777778,
              "#fb9f3a"
             ],
             [
              0.8888888888888888,
              "#fdca26"
             ],
             [
              1,
              "#f0f921"
             ]
            ],
            "type": "heatmapgl"
           }
          ],
          "histogram": [
           {
            "marker": {
             "pattern": {
              "fillmode": "overlay",
              "size": 10,
              "solidity": 0.2
             }
            },
            "type": "histogram"
           }
          ],
          "histogram2d": [
           {
            "colorbar": {
             "outlinewidth": 0,
             "ticks": ""
            },
            "colorscale": [
             [
              0,
              "#0d0887"
             ],
             [
              0.1111111111111111,
              "#46039f"
             ],
             [
              0.2222222222222222,
              "#7201a8"
             ],
             [
              0.3333333333333333,
              "#9c179e"
             ],
             [
              0.4444444444444444,
              "#bd3786"
             ],
             [
              0.5555555555555556,
              "#d8576b"
             ],
             [
              0.6666666666666666,
              "#ed7953"
             ],
             [
              0.7777777777777778,
              "#fb9f3a"
             ],
             [
              0.8888888888888888,
              "#fdca26"
             ],
             [
              1,
              "#f0f921"
             ]
            ],
            "type": "histogram2d"
           }
          ],
          "histogram2dcontour": [
           {
            "colorbar": {
             "outlinewidth": 0,
             "ticks": ""
            },
            "colorscale": [
             [
              0,
              "#0d0887"
             ],
             [
              0.1111111111111111,
              "#46039f"
             ],
             [
              0.2222222222222222,
              "#7201a8"
             ],
             [
              0.3333333333333333,
              "#9c179e"
             ],
             [
              0.4444444444444444,
              "#bd3786"
             ],
             [
              0.5555555555555556,
              "#d8576b"
             ],
             [
              0.6666666666666666,
              "#ed7953"
             ],
             [
              0.7777777777777778,
              "#fb9f3a"
             ],
             [
              0.8888888888888888,
              "#fdca26"
             ],
             [
              1,
              "#f0f921"
             ]
            ],
            "type": "histogram2dcontour"
           }
          ],
          "mesh3d": [
           {
            "colorbar": {
             "outlinewidth": 0,
             "ticks": ""
            },
            "type": "mesh3d"
           }
          ],
          "parcoords": [
           {
            "line": {
             "colorbar": {
              "outlinewidth": 0,
              "ticks": ""
             }
            },
            "type": "parcoords"
           }
          ],
          "pie": [
           {
            "automargin": true,
            "type": "pie"
           }
          ],
          "scatter": [
           {
            "fillpattern": {
             "fillmode": "overlay",
             "size": 10,
             "solidity": 0.2
            },
            "type": "scatter"
           }
          ],
          "scatter3d": [
           {
            "line": {
             "colorbar": {
              "outlinewidth": 0,
              "ticks": ""
             }
            },
            "marker": {
             "colorbar": {
              "outlinewidth": 0,
              "ticks": ""
             }
            },
            "type": "scatter3d"
           }
          ],
          "scattercarpet": [
           {
            "marker": {
             "colorbar": {
              "outlinewidth": 0,
              "ticks": ""
             }
            },
            "type": "scattercarpet"
           }
          ],
          "scattergeo": [
           {
            "marker": {
             "colorbar": {
              "outlinewidth": 0,
              "ticks": ""
             }
            },
            "type": "scattergeo"
           }
          ],
          "scattergl": [
           {
            "marker": {
             "colorbar": {
              "outlinewidth": 0,
              "ticks": ""
             }
            },
            "type": "scattergl"
           }
          ],
          "scattermapbox": [
           {
            "marker": {
             "colorbar": {
              "outlinewidth": 0,
              "ticks": ""
             }
            },
            "type": "scattermapbox"
           }
          ],
          "scatterpolar": [
           {
            "marker": {
             "colorbar": {
              "outlinewidth": 0,
              "ticks": ""
             }
            },
            "type": "scatterpolar"
           }
          ],
          "scatterpolargl": [
           {
            "marker": {
             "colorbar": {
              "outlinewidth": 0,
              "ticks": ""
             }
            },
            "type": "scatterpolargl"
           }
          ],
          "scatterternary": [
           {
            "marker": {
             "colorbar": {
              "outlinewidth": 0,
              "ticks": ""
             }
            },
            "type": "scatterternary"
           }
          ],
          "surface": [
           {
            "colorbar": {
             "outlinewidth": 0,
             "ticks": ""
            },
            "colorscale": [
             [
              0,
              "#0d0887"
             ],
             [
              0.1111111111111111,
              "#46039f"
             ],
             [
              0.2222222222222222,
              "#7201a8"
             ],
             [
              0.3333333333333333,
              "#9c179e"
             ],
             [
              0.4444444444444444,
              "#bd3786"
             ],
             [
              0.5555555555555556,
              "#d8576b"
             ],
             [
              0.6666666666666666,
              "#ed7953"
             ],
             [
              0.7777777777777778,
              "#fb9f3a"
             ],
             [
              0.8888888888888888,
              "#fdca26"
             ],
             [
              1,
              "#f0f921"
             ]
            ],
            "type": "surface"
           }
          ],
          "table": [
           {
            "cells": {
             "fill": {
              "color": "#EBF0F8"
             },
             "line": {
              "color": "white"
             }
            },
            "header": {
             "fill": {
              "color": "#C8D4E3"
             },
             "line": {
              "color": "white"
             }
            },
            "type": "table"
           }
          ]
         },
         "layout": {
          "annotationdefaults": {
           "arrowcolor": "#2a3f5f",
           "arrowhead": 0,
           "arrowwidth": 1
          },
          "autotypenumbers": "strict",
          "coloraxis": {
           "colorbar": {
            "outlinewidth": 0,
            "ticks": ""
           }
          },
          "colorscale": {
           "diverging": [
            [
             0,
             "#8e0152"
            ],
            [
             0.1,
             "#c51b7d"
            ],
            [
             0.2,
             "#de77ae"
            ],
            [
             0.3,
             "#f1b6da"
            ],
            [
             0.4,
             "#fde0ef"
            ],
            [
             0.5,
             "#f7f7f7"
            ],
            [
             0.6,
             "#e6f5d0"
            ],
            [
             0.7,
             "#b8e186"
            ],
            [
             0.8,
             "#7fbc41"
            ],
            [
             0.9,
             "#4d9221"
            ],
            [
             1,
             "#276419"
            ]
           ],
           "sequential": [
            [
             0,
             "#0d0887"
            ],
            [
             0.1111111111111111,
             "#46039f"
            ],
            [
             0.2222222222222222,
             "#7201a8"
            ],
            [
             0.3333333333333333,
             "#9c179e"
            ],
            [
             0.4444444444444444,
             "#bd3786"
            ],
            [
             0.5555555555555556,
             "#d8576b"
            ],
            [
             0.6666666666666666,
             "#ed7953"
            ],
            [
             0.7777777777777778,
             "#fb9f3a"
            ],
            [
             0.8888888888888888,
             "#fdca26"
            ],
            [
             1,
             "#f0f921"
            ]
           ],
           "sequentialminus": [
            [
             0,
             "#0d0887"
            ],
            [
             0.1111111111111111,
             "#46039f"
            ],
            [
             0.2222222222222222,
             "#7201a8"
            ],
            [
             0.3333333333333333,
             "#9c179e"
            ],
            [
             0.4444444444444444,
             "#bd3786"
            ],
            [
             0.5555555555555556,
             "#d8576b"
            ],
            [
             0.6666666666666666,
             "#ed7953"
            ],
            [
             0.7777777777777778,
             "#fb9f3a"
            ],
            [
             0.8888888888888888,
             "#fdca26"
            ],
            [
             1,
             "#f0f921"
            ]
           ]
          },
          "colorway": [
           "#636efa",
           "#EF553B",
           "#00cc96",
           "#ab63fa",
           "#FFA15A",
           "#19d3f3",
           "#FF6692",
           "#B6E880",
           "#FF97FF",
           "#FECB52"
          ],
          "font": {
           "color": "#2a3f5f"
          },
          "geo": {
           "bgcolor": "white",
           "lakecolor": "white",
           "landcolor": "white",
           "showlakes": true,
           "showland": true,
           "subunitcolor": "#C8D4E3"
          },
          "hoverlabel": {
           "align": "left"
          },
          "hovermode": "closest",
          "mapbox": {
           "style": "light"
          },
          "paper_bgcolor": "white",
          "plot_bgcolor": "white",
          "polar": {
           "angularaxis": {
            "gridcolor": "#EBF0F8",
            "linecolor": "#EBF0F8",
            "ticks": ""
           },
           "bgcolor": "white",
           "radialaxis": {
            "gridcolor": "#EBF0F8",
            "linecolor": "#EBF0F8",
            "ticks": ""
           }
          },
          "scene": {
           "xaxis": {
            "backgroundcolor": "white",
            "gridcolor": "#DFE8F3",
            "gridwidth": 2,
            "linecolor": "#EBF0F8",
            "showbackground": true,
            "ticks": "",
            "zerolinecolor": "#EBF0F8"
           },
           "yaxis": {
            "backgroundcolor": "white",
            "gridcolor": "#DFE8F3",
            "gridwidth": 2,
            "linecolor": "#EBF0F8",
            "showbackground": true,
            "ticks": "",
            "zerolinecolor": "#EBF0F8"
           },
           "zaxis": {
            "backgroundcolor": "white",
            "gridcolor": "#DFE8F3",
            "gridwidth": 2,
            "linecolor": "#EBF0F8",
            "showbackground": true,
            "ticks": "",
            "zerolinecolor": "#EBF0F8"
           }
          },
          "shapedefaults": {
           "line": {
            "color": "#2a3f5f"
           }
          },
          "ternary": {
           "aaxis": {
            "gridcolor": "#DFE8F3",
            "linecolor": "#A2B1C6",
            "ticks": ""
           },
           "baxis": {
            "gridcolor": "#DFE8F3",
            "linecolor": "#A2B1C6",
            "ticks": ""
           },
           "bgcolor": "white",
           "caxis": {
            "gridcolor": "#DFE8F3",
            "linecolor": "#A2B1C6",
            "ticks": ""
           }
          },
          "title": {
           "x": 0.05
          },
          "xaxis": {
           "automargin": true,
           "gridcolor": "#EBF0F8",
           "linecolor": "#EBF0F8",
           "ticks": "",
           "title": {
            "standoff": 15
           },
           "zerolinecolor": "#EBF0F8",
           "zerolinewidth": 2
          },
          "yaxis": {
           "automargin": true,
           "gridcolor": "#EBF0F8",
           "linecolor": "#EBF0F8",
           "ticks": "",
           "title": {
            "standoff": 15
           },
           "zerolinecolor": "#EBF0F8",
           "zerolinewidth": 2
          }
         }
        },
        "title": {
         "font": {
          "color": "Black",
          "size": 22
         },
         "text": "<b>Hierarchical Clustering</b>",
         "x": 0.5,
         "xanchor": "center",
         "yanchor": "top"
        },
        "width": 1000,
        "xaxis": {
         "mirror": "allticks",
         "rangemode": "tozero",
         "showgrid": false,
         "showline": true,
         "showticklabels": true,
         "ticks": "outside",
         "type": "linear",
         "zeroline": false
        },
        "yaxis": {
         "mirror": "allticks",
         "range": [
          -180,
          0
         ],
         "rangemode": "tozero",
         "showgrid": false,
         "showline": true,
         "showticklabels": true,
         "tickmode": "array",
         "ticks": "outside",
         "ticktext": [
          "17_patent_softwar_law",
          "15_file_system_network",
          "3_site_user_email",
          "12_broadband_servic_net",
          "9_mobil_phone_camera",
          "6_technolog_comput_gadget",
          "4_music_band_song",
          "14_music_player_digit",
          "0_govern_elect_labour",
          "8_game_gamer_consol",
          "11_athlet_drug_iaaf",
          "7_race_indoor_olymp",
          "5_open_seed_match",
          "1_club_player_game",
          "13_film_festiv_music",
          "2_film_actor_good",
          "10_show_tv_seri",
          "16_book_novel_winner"
         ],
         "tickvals": [
          -5,
          -15,
          -25,
          -35,
          -45,
          -55,
          -65,
          -75,
          -85,
          -95,
          -105,
          -115,
          -125,
          -135,
          -145,
          -155,
          -165,
          -175
         ],
         "type": "linear",
         "zeroline": false
        }
       }
      },
      "text/html": [
       "<div>                            <div id=\"0b5067a2-c64f-41cf-b7c8-137d95dfe102\" class=\"plotly-graph-div\" style=\"height:470px; width:1000px;\"></div>            <script type=\"text/javascript\">                require([\"plotly\"], function(Plotly) {                    window.PLOTLYENV=window.PLOTLYENV || {};                                    if (document.getElementById(\"0b5067a2-c64f-41cf-b7c8-137d95dfe102\")) {                    Plotly.newPlot(                        \"0b5067a2-c64f-41cf-b7c8-137d95dfe102\",                        [{\"hoverinfo\":\"text\",\"marker\":{\"color\":\"rgb(61,153,112)\"},\"mode\":\"lines\",\"x\":[0.0,0.8727634012618722,0.8727634012618722,0.0],\"xaxis\":\"x\",\"y\":[-25.0,-25.0,-35.0,-35.0],\"yaxis\":\"y\",\"type\":\"scatter\"},{\"hoverinfo\":\"text\",\"marker\":{\"color\":\"rgb(255,65,54)\"},\"mode\":\"lines\",\"x\":[0.0,0.8181318667033298,0.8181318667033298,0.0],\"xaxis\":\"x\",\"y\":[-45.0,-45.0,-55.0,-55.0],\"yaxis\":\"y\",\"type\":\"scatter\"},{\"hoverinfo\":\"text\",\"marker\":{\"color\":\"rgb(0,116,217)\"},\"mode\":\"lines\",\"x\":[0.8727634012618722,1.034613926010362,1.034613926010362,0.8181318667033298],\"xaxis\":\"x\",\"y\":[-30.0,-30.0,-50.0,-50.0],\"yaxis\":\"y\",\"type\":\"scatter\"},{\"hoverinfo\":\"text\",\"marker\":{\"color\":\"rgb(0,116,217)\"},\"mode\":\"lines\",\"x\":[0.0,1.1248636779519867,1.1248636779519867,1.034613926010362],\"xaxis\":\"x\",\"y\":[-15.0,-15.0,-40.0,-40.0],\"yaxis\":\"y\",\"type\":\"scatter\"},{\"hoverinfo\":\"text\",\"marker\":{\"color\":\"rgb(35,205,205)\"},\"mode\":\"lines\",\"x\":[0.0,0.9447760330278364,0.9447760330278364,0.0],\"xaxis\":\"x\",\"y\":[-65.0,-65.0,-75.0,-75.0],\"yaxis\":\"y\",\"type\":\"scatter\"},{\"hoverinfo\":\"text\",\"marker\":{\"color\":\"rgb(0,116,217)\"},\"mode\":\"lines\",\"x\":[0.0,1.0298398766380874,1.0298398766380874,0.0],\"xaxis\":\"x\",\"y\":[-85.0,-85.0,-95.0,-95.0],\"yaxis\":\"y\",\"type\":\"scatter\"},{\"hoverinfo\":\"text\",\"marker\":{\"color\":\"rgb(0,116,217)\"},\"mode\":\"lines\",\"x\":[0.9447760330278364,1.2713648354495188,1.2713648354495188,1.0298398766380874],\"xaxis\":\"x\",\"y\":[-70.0,-70.0,-90.0,-90.0],\"yaxis\":\"y\",\"type\":\"scatter\"},{\"hoverinfo\":\"text\",\"marker\":{\"color\":\"rgb(0,116,217)\"},\"mode\":\"lines\",\"x\":[1.1248636779519867,1.485440731018908,1.485440731018908,1.2713648354495188],\"xaxis\":\"x\",\"y\":[-27.5,-27.5,-80.0,-80.0],\"yaxis\":\"y\",\"type\":\"scatter\"},{\"hoverinfo\":\"text\",\"marker\":{\"color\":\"rgb(0,116,217)\"},\"mode\":\"lines\",\"x\":[0.0,1.539896056467036,1.539896056467036,1.485440731018908],\"xaxis\":\"x\",\"y\":[-5.0,-5.0,-53.75,-53.75],\"yaxis\":\"y\",\"type\":\"scatter\"},{\"hoverinfo\":\"text\",\"marker\":{\"color\":\"rgb(133,20,75)\"},\"mode\":\"lines\",\"x\":[0.0,0.8279917462252437,0.8279917462252437,0.0],\"xaxis\":\"x\",\"y\":[-125.0,-125.0,-135.0,-135.0],\"yaxis\":\"y\",\"type\":\"scatter\"},{\"hoverinfo\":\"text\",\"marker\":{\"color\":\"rgb(133,20,75)\"},\"mode\":\"lines\",\"x\":[0.0,0.9891015021430898,0.9891015021430898,0.8279917462252437],\"xaxis\":\"x\",\"y\":[-115.0,-115.0,-130.0,-130.0],\"yaxis\":\"y\",\"type\":\"scatter\"},{\"hoverinfo\":\"text\",\"marker\":{\"color\":\"rgb(0,116,217)\"},\"mode\":\"lines\",\"x\":[0.0,1.3234822429986925,1.3234822429986925,0.9891015021430898],\"xaxis\":\"x\",\"y\":[-105.0,-105.0,-122.5,-122.5],\"yaxis\":\"y\",\"type\":\"scatter\"},{\"hoverinfo\":\"text\",\"marker\":{\"color\":\"rgb(255,220,0)\"},\"mode\":\"lines\",\"x\":[0.0,0.7152383873412658,0.7152383873412658,0.0],\"xaxis\":\"x\",\"y\":[-145.0,-145.0,-155.0,-155.0],\"yaxis\":\"y\",\"type\":\"scatter\"},{\"hoverinfo\":\"text\",\"marker\":{\"color\":\"rgb(0,116,217)\"},\"mode\":\"lines\",\"x\":[0.7152383873412658,1.1083743177487861,1.1083743177487861,0.0],\"xaxis\":\"x\",\"y\":[-150.0,-150.0,-165.0,-165.0],\"yaxis\":\"y\",\"type\":\"scatter\"},{\"hoverinfo\":\"text\",\"marker\":{\"color\":\"rgb(0,116,217)\"},\"mode\":\"lines\",\"x\":[1.1083743177487861,1.3117989024664616,1.3117989024664616,0.0],\"xaxis\":\"x\",\"y\":[-157.5,-157.5,-175.0,-175.0],\"yaxis\":\"y\",\"type\":\"scatter\"},{\"hoverinfo\":\"text\",\"marker\":{\"color\":\"rgb(0,116,217)\"},\"mode\":\"lines\",\"x\":[1.3234822429986925,1.950265242176899,1.950265242176899,1.3117989024664616],\"xaxis\":\"x\",\"y\":[-113.75,-113.75,-166.25,-166.25],\"yaxis\":\"y\",\"type\":\"scatter\"},{\"hoverinfo\":\"text\",\"marker\":{\"color\":\"rgb(0,116,217)\"},\"mode\":\"lines\",\"x\":[1.539896056467036,2.3015331430628296,2.3015331430628296,1.950265242176899],\"xaxis\":\"x\",\"y\":[-29.375,-29.375,-140.0,-140.0],\"yaxis\":\"y\",\"type\":\"scatter\"}],                        {\"autosize\":false,\"height\":470,\"hovermode\":\"closest\",\"showlegend\":false,\"width\":1000,\"xaxis\":{\"mirror\":\"allticks\",\"rangemode\":\"tozero\",\"showgrid\":false,\"showline\":true,\"showticklabels\":true,\"ticks\":\"outside\",\"type\":\"linear\",\"zeroline\":false},\"yaxis\":{\"mirror\":\"allticks\",\"rangemode\":\"tozero\",\"showgrid\":false,\"showline\":true,\"showticklabels\":true,\"tickmode\":\"array\",\"ticks\":\"outside\",\"ticktext\":[\"17_patent_softwar_law\",\"15_file_system_network\",\"3_site_user_email\",\"12_broadband_servic_net\",\"9_mobil_phone_camera\",\"6_technolog_comput_gadget\",\"4_music_band_song\",\"14_music_player_digit\",\"0_govern_elect_labour\",\"8_game_gamer_consol\",\"11_athlet_drug_iaaf\",\"7_race_indoor_olymp\",\"5_open_seed_match\",\"1_club_player_game\",\"13_film_festiv_music\",\"2_film_actor_good\",\"10_show_tv_seri\",\"16_book_novel_winner\"],\"tickvals\":[-5.0,-15.0,-25.0,-35.0,-45.0,-55.0,-65.0,-75.0,-85.0,-95.0,-105.0,-115.0,-125.0,-135.0,-145.0,-155.0,-165.0,-175.0],\"type\":\"linear\",\"zeroline\":false,\"range\":[-180.0,0.0]},\"template\":{\"data\":{\"barpolar\":[{\"marker\":{\"line\":{\"color\":\"white\",\"width\":0.5},\"pattern\":{\"fillmode\":\"overlay\",\"size\":10,\"solidity\":0.2}},\"type\":\"barpolar\"}],\"bar\":[{\"error_x\":{\"color\":\"#2a3f5f\"},\"error_y\":{\"color\":\"#2a3f5f\"},\"marker\":{\"line\":{\"color\":\"white\",\"width\":0.5},\"pattern\":{\"fillmode\":\"overlay\",\"size\":10,\"solidity\":0.2}},\"type\":\"bar\"}],\"carpet\":[{\"aaxis\":{\"endlinecolor\":\"#2a3f5f\",\"gridcolor\":\"#C8D4E3\",\"linecolor\":\"#C8D4E3\",\"minorgridcolor\":\"#C8D4E3\",\"startlinecolor\":\"#2a3f5f\"},\"baxis\":{\"endlinecolor\":\"#2a3f5f\",\"gridcolor\":\"#C8D4E3\",\"linecolor\":\"#C8D4E3\",\"minorgridcolor\":\"#C8D4E3\",\"startlinecolor\":\"#2a3f5f\"},\"type\":\"carpet\"}],\"choropleth\":[{\"colorbar\":{\"outlinewidth\":0,\"ticks\":\"\"},\"type\":\"choropleth\"}],\"contourcarpet\":[{\"colorbar\":{\"outlinewidth\":0,\"ticks\":\"\"},\"type\":\"contourcarpet\"}],\"contour\":[{\"colorbar\":{\"outlinewidth\":0,\"ticks\":\"\"},\"colorscale\":[[0.0,\"#0d0887\"],[0.1111111111111111,\"#46039f\"],[0.2222222222222222,\"#7201a8\"],[0.3333333333333333,\"#9c179e\"],[0.4444444444444444,\"#bd3786\"],[0.5555555555555556,\"#d8576b\"],[0.6666666666666666,\"#ed7953\"],[0.7777777777777778,\"#fb9f3a\"],[0.8888888888888888,\"#fdca26\"],[1.0,\"#f0f921\"]],\"type\":\"contour\"}],\"heatmapgl\":[{\"colorbar\":{\"outlinewidth\":0,\"ticks\":\"\"},\"colorscale\":[[0.0,\"#0d0887\"],[0.1111111111111111,\"#46039f\"],[0.2222222222222222,\"#7201a8\"],[0.3333333333333333,\"#9c179e\"],[0.4444444444444444,\"#bd3786\"],[0.5555555555555556,\"#d8576b\"],[0.6666666666666666,\"#ed7953\"],[0.7777777777777778,\"#fb9f3a\"],[0.8888888888888888,\"#fdca26\"],[1.0,\"#f0f921\"]],\"type\":\"heatmapgl\"}],\"heatmap\":[{\"colorbar\":{\"outlinewidth\":0,\"ticks\":\"\"},\"colorscale\":[[0.0,\"#0d0887\"],[0.1111111111111111,\"#46039f\"],[0.2222222222222222,\"#7201a8\"],[0.3333333333333333,\"#9c179e\"],[0.4444444444444444,\"#bd3786\"],[0.5555555555555556,\"#d8576b\"],[0.6666666666666666,\"#ed7953\"],[0.7777777777777778,\"#fb9f3a\"],[0.8888888888888888,\"#fdca26\"],[1.0,\"#f0f921\"]],\"type\":\"heatmap\"}],\"histogram2dcontour\":[{\"colorbar\":{\"outlinewidth\":0,\"ticks\":\"\"},\"colorscale\":[[0.0,\"#0d0887\"],[0.1111111111111111,\"#46039f\"],[0.2222222222222222,\"#7201a8\"],[0.3333333333333333,\"#9c179e\"],[0.4444444444444444,\"#bd3786\"],[0.5555555555555556,\"#d8576b\"],[0.6666666666666666,\"#ed7953\"],[0.7777777777777778,\"#fb9f3a\"],[0.8888888888888888,\"#fdca26\"],[1.0,\"#f0f921\"]],\"type\":\"histogram2dcontour\"}],\"histogram2d\":[{\"colorbar\":{\"outlinewidth\":0,\"ticks\":\"\"},\"colorscale\":[[0.0,\"#0d0887\"],[0.1111111111111111,\"#46039f\"],[0.2222222222222222,\"#7201a8\"],[0.3333333333333333,\"#9c179e\"],[0.4444444444444444,\"#bd3786\"],[0.5555555555555556,\"#d8576b\"],[0.6666666666666666,\"#ed7953\"],[0.7777777777777778,\"#fb9f3a\"],[0.8888888888888888,\"#fdca26\"],[1.0,\"#f0f921\"]],\"type\":\"histogram2d\"}],\"histogram\":[{\"marker\":{\"pattern\":{\"fillmode\":\"overlay\",\"size\":10,\"solidity\":0.2}},\"type\":\"histogram\"}],\"mesh3d\":[{\"colorbar\":{\"outlinewidth\":0,\"ticks\":\"\"},\"type\":\"mesh3d\"}],\"parcoords\":[{\"line\":{\"colorbar\":{\"outlinewidth\":0,\"ticks\":\"\"}},\"type\":\"parcoords\"}],\"pie\":[{\"automargin\":true,\"type\":\"pie\"}],\"scatter3d\":[{\"line\":{\"colorbar\":{\"outlinewidth\":0,\"ticks\":\"\"}},\"marker\":{\"colorbar\":{\"outlinewidth\":0,\"ticks\":\"\"}},\"type\":\"scatter3d\"}],\"scattercarpet\":[{\"marker\":{\"colorbar\":{\"outlinewidth\":0,\"ticks\":\"\"}},\"type\":\"scattercarpet\"}],\"scattergeo\":[{\"marker\":{\"colorbar\":{\"outlinewidth\":0,\"ticks\":\"\"}},\"type\":\"scattergeo\"}],\"scattergl\":[{\"marker\":{\"colorbar\":{\"outlinewidth\":0,\"ticks\":\"\"}},\"type\":\"scattergl\"}],\"scattermapbox\":[{\"marker\":{\"colorbar\":{\"outlinewidth\":0,\"ticks\":\"\"}},\"type\":\"scattermapbox\"}],\"scatterpolargl\":[{\"marker\":{\"colorbar\":{\"outlinewidth\":0,\"ticks\":\"\"}},\"type\":\"scatterpolargl\"}],\"scatterpolar\":[{\"marker\":{\"colorbar\":{\"outlinewidth\":0,\"ticks\":\"\"}},\"type\":\"scatterpolar\"}],\"scatter\":[{\"fillpattern\":{\"fillmode\":\"overlay\",\"size\":10,\"solidity\":0.2},\"type\":\"scatter\"}],\"scatterternary\":[{\"marker\":{\"colorbar\":{\"outlinewidth\":0,\"ticks\":\"\"}},\"type\":\"scatterternary\"}],\"surface\":[{\"colorbar\":{\"outlinewidth\":0,\"ticks\":\"\"},\"colorscale\":[[0.0,\"#0d0887\"],[0.1111111111111111,\"#46039f\"],[0.2222222222222222,\"#7201a8\"],[0.3333333333333333,\"#9c179e\"],[0.4444444444444444,\"#bd3786\"],[0.5555555555555556,\"#d8576b\"],[0.6666666666666666,\"#ed7953\"],[0.7777777777777778,\"#fb9f3a\"],[0.8888888888888888,\"#fdca26\"],[1.0,\"#f0f921\"]],\"type\":\"surface\"}],\"table\":[{\"cells\":{\"fill\":{\"color\":\"#EBF0F8\"},\"line\":{\"color\":\"white\"}},\"header\":{\"fill\":{\"color\":\"#C8D4E3\"},\"line\":{\"color\":\"white\"}},\"type\":\"table\"}]},\"layout\":{\"annotationdefaults\":{\"arrowcolor\":\"#2a3f5f\",\"arrowhead\":0,\"arrowwidth\":1},\"autotypenumbers\":\"strict\",\"coloraxis\":{\"colorbar\":{\"outlinewidth\":0,\"ticks\":\"\"}},\"colorscale\":{\"diverging\":[[0,\"#8e0152\"],[0.1,\"#c51b7d\"],[0.2,\"#de77ae\"],[0.3,\"#f1b6da\"],[0.4,\"#fde0ef\"],[0.5,\"#f7f7f7\"],[0.6,\"#e6f5d0\"],[0.7,\"#b8e186\"],[0.8,\"#7fbc41\"],[0.9,\"#4d9221\"],[1,\"#276419\"]],\"sequential\":[[0.0,\"#0d0887\"],[0.1111111111111111,\"#46039f\"],[0.2222222222222222,\"#7201a8\"],[0.3333333333333333,\"#9c179e\"],[0.4444444444444444,\"#bd3786\"],[0.5555555555555556,\"#d8576b\"],[0.6666666666666666,\"#ed7953\"],[0.7777777777777778,\"#fb9f3a\"],[0.8888888888888888,\"#fdca26\"],[1.0,\"#f0f921\"]],\"sequentialminus\":[[0.0,\"#0d0887\"],[0.1111111111111111,\"#46039f\"],[0.2222222222222222,\"#7201a8\"],[0.3333333333333333,\"#9c179e\"],[0.4444444444444444,\"#bd3786\"],[0.5555555555555556,\"#d8576b\"],[0.6666666666666666,\"#ed7953\"],[0.7777777777777778,\"#fb9f3a\"],[0.8888888888888888,\"#fdca26\"],[1.0,\"#f0f921\"]]},\"colorway\":[\"#636efa\",\"#EF553B\",\"#00cc96\",\"#ab63fa\",\"#FFA15A\",\"#19d3f3\",\"#FF6692\",\"#B6E880\",\"#FF97FF\",\"#FECB52\"],\"font\":{\"color\":\"#2a3f5f\"},\"geo\":{\"bgcolor\":\"white\",\"lakecolor\":\"white\",\"landcolor\":\"white\",\"showlakes\":true,\"showland\":true,\"subunitcolor\":\"#C8D4E3\"},\"hoverlabel\":{\"align\":\"left\"},\"hovermode\":\"closest\",\"mapbox\":{\"style\":\"light\"},\"paper_bgcolor\":\"white\",\"plot_bgcolor\":\"white\",\"polar\":{\"angularaxis\":{\"gridcolor\":\"#EBF0F8\",\"linecolor\":\"#EBF0F8\",\"ticks\":\"\"},\"bgcolor\":\"white\",\"radialaxis\":{\"gridcolor\":\"#EBF0F8\",\"linecolor\":\"#EBF0F8\",\"ticks\":\"\"}},\"scene\":{\"xaxis\":{\"backgroundcolor\":\"white\",\"gridcolor\":\"#DFE8F3\",\"gridwidth\":2,\"linecolor\":\"#EBF0F8\",\"showbackground\":true,\"ticks\":\"\",\"zerolinecolor\":\"#EBF0F8\"},\"yaxis\":{\"backgroundcolor\":\"white\",\"gridcolor\":\"#DFE8F3\",\"gridwidth\":2,\"linecolor\":\"#EBF0F8\",\"showbackground\":true,\"ticks\":\"\",\"zerolinecolor\":\"#EBF0F8\"},\"zaxis\":{\"backgroundcolor\":\"white\",\"gridcolor\":\"#DFE8F3\",\"gridwidth\":2,\"linecolor\":\"#EBF0F8\",\"showbackground\":true,\"ticks\":\"\",\"zerolinecolor\":\"#EBF0F8\"}},\"shapedefaults\":{\"line\":{\"color\":\"#2a3f5f\"}},\"ternary\":{\"aaxis\":{\"gridcolor\":\"#DFE8F3\",\"linecolor\":\"#A2B1C6\",\"ticks\":\"\"},\"baxis\":{\"gridcolor\":\"#DFE8F3\",\"linecolor\":\"#A2B1C6\",\"ticks\":\"\"},\"bgcolor\":\"white\",\"caxis\":{\"gridcolor\":\"#DFE8F3\",\"linecolor\":\"#A2B1C6\",\"ticks\":\"\"}},\"title\":{\"x\":0.05},\"xaxis\":{\"automargin\":true,\"gridcolor\":\"#EBF0F8\",\"linecolor\":\"#EBF0F8\",\"ticks\":\"\",\"title\":{\"standoff\":15},\"zerolinecolor\":\"#EBF0F8\",\"zerolinewidth\":2},\"yaxis\":{\"automargin\":true,\"gridcolor\":\"#EBF0F8\",\"linecolor\":\"#EBF0F8\",\"ticks\":\"\",\"title\":{\"standoff\":15},\"zerolinecolor\":\"#EBF0F8\",\"zerolinewidth\":2}}},\"title\":{\"font\":{\"size\":22,\"color\":\"Black\"},\"text\":\"<b>Hierarchical Clustering</b>\",\"x\":0.5,\"xanchor\":\"center\",\"yanchor\":\"top\"},\"hoverlabel\":{\"font\":{\"size\":16,\"family\":\"Rockwell\"},\"bgcolor\":\"white\"},\"plot_bgcolor\":\"#ECEFF1\"},                        {\"responsive\": true}                    ).then(function(){\n",
       "                            \n",
       "var gd = document.getElementById('0b5067a2-c64f-41cf-b7c8-137d95dfe102');\n",
       "var x = new MutationObserver(function (mutations, observer) {{\n",
       "        var display = window.getComputedStyle(gd).display;\n",
       "        if (!display || display === 'none') {{\n",
       "            console.log([gd, 'removed!']);\n",
       "            Plotly.purge(gd);\n",
       "            observer.disconnect();\n",
       "        }}\n",
       "}});\n",
       "\n",
       "// Listen for the removal of the full notebook cells\n",
       "var notebookContainer = gd.closest('#notebook-container');\n",
       "if (notebookContainer) {{\n",
       "    x.observe(notebookContainer, {childList: true});\n",
       "}}\n",
       "\n",
       "// Listen for the clearing of the current output cell\n",
       "var outputEl = gd.closest('.output');\n",
       "if (outputEl) {{\n",
       "    x.observe(outputEl, {childList: true});\n",
       "}}\n",
       "\n",
       "                        })                };                });            </script>        </div>"
      ]
     },
     "metadata": {},
     "output_type": "display_data"
    }
   ],
   "source": [
    "topic_model.visualize_hierarchy()"
   ]
  },
  {
   "cell_type": "code",
   "execution_count": 51,
   "id": "6d539bcf",
   "metadata": {},
   "outputs": [
    {
     "data": {
      "application/vnd.plotly.v1+json": {
       "config": {
        "plotlyServerURL": "https://plot.ly"
       },
       "data": [
        {
         "marker": {
          "color": "#C8D2D7",
          "line": {
           "color": "#6E8484",
           "width": 1
          }
         },
         "orientation": "h",
         "type": "bar",
         "x": [
          0.34126798555346227,
          0.02122508549470936,
          0.02649863303789367,
          0.06734732391274013,
          0.033855274999376885,
          0.01632751585620755,
          0.05343381620586882,
          0.016587635656832793,
          0.056121615339087494,
          0.04831874266215913,
          0.03567380973013217,
          0.0168201448571596,
          0.05290078450340981,
          0.029704263279601573,
          0.03797955357167719,
          0.05646087181148784,
          0.029431682345091352,
          0.060045261183102314
         ],
         "y": [
          "<b>Topic 0</b>: govern_elect_labour_peop...",
          "<b>Topic 1</b>: club_player_game_side_te...",
          "<b>Topic 2</b>: film_actor_good_award_os...",
          "<b>Topic 3</b>: site_user_email_search_v...",
          "<b>Topic 4</b>: music_band_song_album_go...",
          "<b>Topic 5</b>: open_seed_match_roddick_...",
          "<b>Topic 6</b>: technolog_comput_gadget_...",
          "<b>Topic 7</b>: race_indoor_olymp_champi...",
          "<b>Topic 8</b>: game_gamer_consol_titl_n...",
          "<b>Topic 9</b>: mobil_phone_camera_servi...",
          "<b>Topic 10</b>: show_tv_seri_channel_co...",
          "<b>Topic 11</b>: athlet_drug_iaaf_greek_...",
          "<b>Topic 12</b>: broadband_servic_net_co...",
          "<b>Topic 13</b>: film_festiv_music_singe...",
          "<b>Topic 14</b>: music_player_digit_down...",
          "<b>Topic 15</b>: file_system_network_bit...",
          "<b>Topic 16</b>: book_novel_winner_prize...",
          "<b>Topic 17</b>: patent_softwar_law_inve..."
         ]
        }
       ],
       "layout": {
        "height": 600,
        "hoverlabel": {
         "bgcolor": "white",
         "font": {
          "family": "Rockwell",
          "size": 16
         }
        },
        "template": {
         "data": {
          "bar": [
           {
            "error_x": {
             "color": "rgb(36,36,36)"
            },
            "error_y": {
             "color": "rgb(36,36,36)"
            },
            "marker": {
             "line": {
              "color": "white",
              "width": 0.5
             },
             "pattern": {
              "fillmode": "overlay",
              "size": 10,
              "solidity": 0.2
             }
            },
            "type": "bar"
           }
          ],
          "barpolar": [
           {
            "marker": {
             "line": {
              "color": "white",
              "width": 0.5
             },
             "pattern": {
              "fillmode": "overlay",
              "size": 10,
              "solidity": 0.2
             }
            },
            "type": "barpolar"
           }
          ],
          "carpet": [
           {
            "aaxis": {
             "endlinecolor": "rgb(36,36,36)",
             "gridcolor": "white",
             "linecolor": "white",
             "minorgridcolor": "white",
             "startlinecolor": "rgb(36,36,36)"
            },
            "baxis": {
             "endlinecolor": "rgb(36,36,36)",
             "gridcolor": "white",
             "linecolor": "white",
             "minorgridcolor": "white",
             "startlinecolor": "rgb(36,36,36)"
            },
            "type": "carpet"
           }
          ],
          "choropleth": [
           {
            "colorbar": {
             "outlinewidth": 1,
             "tickcolor": "rgb(36,36,36)",
             "ticks": "outside"
            },
            "type": "choropleth"
           }
          ],
          "contour": [
           {
            "colorbar": {
             "outlinewidth": 1,
             "tickcolor": "rgb(36,36,36)",
             "ticks": "outside"
            },
            "colorscale": [
             [
              0,
              "#440154"
             ],
             [
              0.1111111111111111,
              "#482878"
             ],
             [
              0.2222222222222222,
              "#3e4989"
             ],
             [
              0.3333333333333333,
              "#31688e"
             ],
             [
              0.4444444444444444,
              "#26828e"
             ],
             [
              0.5555555555555556,
              "#1f9e89"
             ],
             [
              0.6666666666666666,
              "#35b779"
             ],
             [
              0.7777777777777778,
              "#6ece58"
             ],
             [
              0.8888888888888888,
              "#b5de2b"
             ],
             [
              1,
              "#fde725"
             ]
            ],
            "type": "contour"
           }
          ],
          "contourcarpet": [
           {
            "colorbar": {
             "outlinewidth": 1,
             "tickcolor": "rgb(36,36,36)",
             "ticks": "outside"
            },
            "type": "contourcarpet"
           }
          ],
          "heatmap": [
           {
            "colorbar": {
             "outlinewidth": 1,
             "tickcolor": "rgb(36,36,36)",
             "ticks": "outside"
            },
            "colorscale": [
             [
              0,
              "#440154"
             ],
             [
              0.1111111111111111,
              "#482878"
             ],
             [
              0.2222222222222222,
              "#3e4989"
             ],
             [
              0.3333333333333333,
              "#31688e"
             ],
             [
              0.4444444444444444,
              "#26828e"
             ],
             [
              0.5555555555555556,
              "#1f9e89"
             ],
             [
              0.6666666666666666,
              "#35b779"
             ],
             [
              0.7777777777777778,
              "#6ece58"
             ],
             [
              0.8888888888888888,
              "#b5de2b"
             ],
             [
              1,
              "#fde725"
             ]
            ],
            "type": "heatmap"
           }
          ],
          "heatmapgl": [
           {
            "colorbar": {
             "outlinewidth": 1,
             "tickcolor": "rgb(36,36,36)",
             "ticks": "outside"
            },
            "colorscale": [
             [
              0,
              "#440154"
             ],
             [
              0.1111111111111111,
              "#482878"
             ],
             [
              0.2222222222222222,
              "#3e4989"
             ],
             [
              0.3333333333333333,
              "#31688e"
             ],
             [
              0.4444444444444444,
              "#26828e"
             ],
             [
              0.5555555555555556,
              "#1f9e89"
             ],
             [
              0.6666666666666666,
              "#35b779"
             ],
             [
              0.7777777777777778,
              "#6ece58"
             ],
             [
              0.8888888888888888,
              "#b5de2b"
             ],
             [
              1,
              "#fde725"
             ]
            ],
            "type": "heatmapgl"
           }
          ],
          "histogram": [
           {
            "marker": {
             "line": {
              "color": "white",
              "width": 0.6
             }
            },
            "type": "histogram"
           }
          ],
          "histogram2d": [
           {
            "colorbar": {
             "outlinewidth": 1,
             "tickcolor": "rgb(36,36,36)",
             "ticks": "outside"
            },
            "colorscale": [
             [
              0,
              "#440154"
             ],
             [
              0.1111111111111111,
              "#482878"
             ],
             [
              0.2222222222222222,
              "#3e4989"
             ],
             [
              0.3333333333333333,
              "#31688e"
             ],
             [
              0.4444444444444444,
              "#26828e"
             ],
             [
              0.5555555555555556,
              "#1f9e89"
             ],
             [
              0.6666666666666666,
              "#35b779"
             ],
             [
              0.7777777777777778,
              "#6ece58"
             ],
             [
              0.8888888888888888,
              "#b5de2b"
             ],
             [
              1,
              "#fde725"
             ]
            ],
            "type": "histogram2d"
           }
          ],
          "histogram2dcontour": [
           {
            "colorbar": {
             "outlinewidth": 1,
             "tickcolor": "rgb(36,36,36)",
             "ticks": "outside"
            },
            "colorscale": [
             [
              0,
              "#440154"
             ],
             [
              0.1111111111111111,
              "#482878"
             ],
             [
              0.2222222222222222,
              "#3e4989"
             ],
             [
              0.3333333333333333,
              "#31688e"
             ],
             [
              0.4444444444444444,
              "#26828e"
             ],
             [
              0.5555555555555556,
              "#1f9e89"
             ],
             [
              0.6666666666666666,
              "#35b779"
             ],
             [
              0.7777777777777778,
              "#6ece58"
             ],
             [
              0.8888888888888888,
              "#b5de2b"
             ],
             [
              1,
              "#fde725"
             ]
            ],
            "type": "histogram2dcontour"
           }
          ],
          "mesh3d": [
           {
            "colorbar": {
             "outlinewidth": 1,
             "tickcolor": "rgb(36,36,36)",
             "ticks": "outside"
            },
            "type": "mesh3d"
           }
          ],
          "parcoords": [
           {
            "line": {
             "colorbar": {
              "outlinewidth": 1,
              "tickcolor": "rgb(36,36,36)",
              "ticks": "outside"
             }
            },
            "type": "parcoords"
           }
          ],
          "pie": [
           {
            "automargin": true,
            "type": "pie"
           }
          ],
          "scatter": [
           {
            "fillpattern": {
             "fillmode": "overlay",
             "size": 10,
             "solidity": 0.2
            },
            "type": "scatter"
           }
          ],
          "scatter3d": [
           {
            "line": {
             "colorbar": {
              "outlinewidth": 1,
              "tickcolor": "rgb(36,36,36)",
              "ticks": "outside"
             }
            },
            "marker": {
             "colorbar": {
              "outlinewidth": 1,
              "tickcolor": "rgb(36,36,36)",
              "ticks": "outside"
             }
            },
            "type": "scatter3d"
           }
          ],
          "scattercarpet": [
           {
            "marker": {
             "colorbar": {
              "outlinewidth": 1,
              "tickcolor": "rgb(36,36,36)",
              "ticks": "outside"
             }
            },
            "type": "scattercarpet"
           }
          ],
          "scattergeo": [
           {
            "marker": {
             "colorbar": {
              "outlinewidth": 1,
              "tickcolor": "rgb(36,36,36)",
              "ticks": "outside"
             }
            },
            "type": "scattergeo"
           }
          ],
          "scattergl": [
           {
            "marker": {
             "colorbar": {
              "outlinewidth": 1,
              "tickcolor": "rgb(36,36,36)",
              "ticks": "outside"
             }
            },
            "type": "scattergl"
           }
          ],
          "scattermapbox": [
           {
            "marker": {
             "colorbar": {
              "outlinewidth": 1,
              "tickcolor": "rgb(36,36,36)",
              "ticks": "outside"
             }
            },
            "type": "scattermapbox"
           }
          ],
          "scatterpolar": [
           {
            "marker": {
             "colorbar": {
              "outlinewidth": 1,
              "tickcolor": "rgb(36,36,36)",
              "ticks": "outside"
             }
            },
            "type": "scatterpolar"
           }
          ],
          "scatterpolargl": [
           {
            "marker": {
             "colorbar": {
              "outlinewidth": 1,
              "tickcolor": "rgb(36,36,36)",
              "ticks": "outside"
             }
            },
            "type": "scatterpolargl"
           }
          ],
          "scatterternary": [
           {
            "marker": {
             "colorbar": {
              "outlinewidth": 1,
              "tickcolor": "rgb(36,36,36)",
              "ticks": "outside"
             }
            },
            "type": "scatterternary"
           }
          ],
          "surface": [
           {
            "colorbar": {
             "outlinewidth": 1,
             "tickcolor": "rgb(36,36,36)",
             "ticks": "outside"
            },
            "colorscale": [
             [
              0,
              "#440154"
             ],
             [
              0.1111111111111111,
              "#482878"
             ],
             [
              0.2222222222222222,
              "#3e4989"
             ],
             [
              0.3333333333333333,
              "#31688e"
             ],
             [
              0.4444444444444444,
              "#26828e"
             ],
             [
              0.5555555555555556,
              "#1f9e89"
             ],
             [
              0.6666666666666666,
              "#35b779"
             ],
             [
              0.7777777777777778,
              "#6ece58"
             ],
             [
              0.8888888888888888,
              "#b5de2b"
             ],
             [
              1,
              "#fde725"
             ]
            ],
            "type": "surface"
           }
          ],
          "table": [
           {
            "cells": {
             "fill": {
              "color": "rgb(237,237,237)"
             },
             "line": {
              "color": "white"
             }
            },
            "header": {
             "fill": {
              "color": "rgb(217,217,217)"
             },
             "line": {
              "color": "white"
             }
            },
            "type": "table"
           }
          ]
         },
         "layout": {
          "annotationdefaults": {
           "arrowhead": 0,
           "arrowwidth": 1
          },
          "autotypenumbers": "strict",
          "coloraxis": {
           "colorbar": {
            "outlinewidth": 1,
            "tickcolor": "rgb(36,36,36)",
            "ticks": "outside"
           }
          },
          "colorscale": {
           "diverging": [
            [
             0,
             "rgb(103,0,31)"
            ],
            [
             0.1,
             "rgb(178,24,43)"
            ],
            [
             0.2,
             "rgb(214,96,77)"
            ],
            [
             0.3,
             "rgb(244,165,130)"
            ],
            [
             0.4,
             "rgb(253,219,199)"
            ],
            [
             0.5,
             "rgb(247,247,247)"
            ],
            [
             0.6,
             "rgb(209,229,240)"
            ],
            [
             0.7,
             "rgb(146,197,222)"
            ],
            [
             0.8,
             "rgb(67,147,195)"
            ],
            [
             0.9,
             "rgb(33,102,172)"
            ],
            [
             1,
             "rgb(5,48,97)"
            ]
           ],
           "sequential": [
            [
             0,
             "#440154"
            ],
            [
             0.1111111111111111,
             "#482878"
            ],
            [
             0.2222222222222222,
             "#3e4989"
            ],
            [
             0.3333333333333333,
             "#31688e"
            ],
            [
             0.4444444444444444,
             "#26828e"
            ],
            [
             0.5555555555555556,
             "#1f9e89"
            ],
            [
             0.6666666666666666,
             "#35b779"
            ],
            [
             0.7777777777777778,
             "#6ece58"
            ],
            [
             0.8888888888888888,
             "#b5de2b"
            ],
            [
             1,
             "#fde725"
            ]
           ],
           "sequentialminus": [
            [
             0,
             "#440154"
            ],
            [
             0.1111111111111111,
             "#482878"
            ],
            [
             0.2222222222222222,
             "#3e4989"
            ],
            [
             0.3333333333333333,
             "#31688e"
            ],
            [
             0.4444444444444444,
             "#26828e"
            ],
            [
             0.5555555555555556,
             "#1f9e89"
            ],
            [
             0.6666666666666666,
             "#35b779"
            ],
            [
             0.7777777777777778,
             "#6ece58"
            ],
            [
             0.8888888888888888,
             "#b5de2b"
            ],
            [
             1,
             "#fde725"
            ]
           ]
          },
          "colorway": [
           "#1F77B4",
           "#FF7F0E",
           "#2CA02C",
           "#D62728",
           "#9467BD",
           "#8C564B",
           "#E377C2",
           "#7F7F7F",
           "#BCBD22",
           "#17BECF"
          ],
          "font": {
           "color": "rgb(36,36,36)"
          },
          "geo": {
           "bgcolor": "white",
           "lakecolor": "white",
           "landcolor": "white",
           "showlakes": true,
           "showland": true,
           "subunitcolor": "white"
          },
          "hoverlabel": {
           "align": "left"
          },
          "hovermode": "closest",
          "mapbox": {
           "style": "light"
          },
          "paper_bgcolor": "white",
          "plot_bgcolor": "white",
          "polar": {
           "angularaxis": {
            "gridcolor": "rgb(232,232,232)",
            "linecolor": "rgb(36,36,36)",
            "showgrid": false,
            "showline": true,
            "ticks": "outside"
           },
           "bgcolor": "white",
           "radialaxis": {
            "gridcolor": "rgb(232,232,232)",
            "linecolor": "rgb(36,36,36)",
            "showgrid": false,
            "showline": true,
            "ticks": "outside"
           }
          },
          "scene": {
           "xaxis": {
            "backgroundcolor": "white",
            "gridcolor": "rgb(232,232,232)",
            "gridwidth": 2,
            "linecolor": "rgb(36,36,36)",
            "showbackground": true,
            "showgrid": false,
            "showline": true,
            "ticks": "outside",
            "zeroline": false,
            "zerolinecolor": "rgb(36,36,36)"
           },
           "yaxis": {
            "backgroundcolor": "white",
            "gridcolor": "rgb(232,232,232)",
            "gridwidth": 2,
            "linecolor": "rgb(36,36,36)",
            "showbackground": true,
            "showgrid": false,
            "showline": true,
            "ticks": "outside",
            "zeroline": false,
            "zerolinecolor": "rgb(36,36,36)"
           },
           "zaxis": {
            "backgroundcolor": "white",
            "gridcolor": "rgb(232,232,232)",
            "gridwidth": 2,
            "linecolor": "rgb(36,36,36)",
            "showbackground": true,
            "showgrid": false,
            "showline": true,
            "ticks": "outside",
            "zeroline": false,
            "zerolinecolor": "rgb(36,36,36)"
           }
          },
          "shapedefaults": {
           "fillcolor": "black",
           "line": {
            "width": 0
           },
           "opacity": 0.3
          },
          "ternary": {
           "aaxis": {
            "gridcolor": "rgb(232,232,232)",
            "linecolor": "rgb(36,36,36)",
            "showgrid": false,
            "showline": true,
            "ticks": "outside"
           },
           "baxis": {
            "gridcolor": "rgb(232,232,232)",
            "linecolor": "rgb(36,36,36)",
            "showgrid": false,
            "showline": true,
            "ticks": "outside"
           },
           "bgcolor": "white",
           "caxis": {
            "gridcolor": "rgb(232,232,232)",
            "linecolor": "rgb(36,36,36)",
            "showgrid": false,
            "showline": true,
            "ticks": "outside"
           }
          },
          "title": {
           "x": 0.05
          },
          "xaxis": {
           "automargin": true,
           "gridcolor": "rgb(232,232,232)",
           "linecolor": "rgb(36,36,36)",
           "showgrid": false,
           "showline": true,
           "ticks": "outside",
           "title": {
            "standoff": 15
           },
           "zeroline": false,
           "zerolinecolor": "rgb(36,36,36)"
          },
          "yaxis": {
           "automargin": true,
           "gridcolor": "rgb(232,232,232)",
           "linecolor": "rgb(36,36,36)",
           "showgrid": false,
           "showline": true,
           "ticks": "outside",
           "title": {
            "standoff": 15
           },
           "zeroline": false,
           "zerolinecolor": "rgb(36,36,36)"
          }
         }
        },
        "title": {
         "font": {
          "color": "Black",
          "size": 22
         },
         "text": "<b>Topic Probability Distribution</b>",
         "x": 0.5,
         "xanchor": "center",
         "y": 0.95,
         "yanchor": "top"
        },
        "width": 800,
        "xaxis": {
         "title": {
          "text": "Probability"
         }
        }
       }
      },
      "text/html": [
       "<div>                            <div id=\"518f5e61-6ea2-4466-99b8-9a8738e6a3cd\" class=\"plotly-graph-div\" style=\"height:600px; width:800px;\"></div>            <script type=\"text/javascript\">                require([\"plotly\"], function(Plotly) {                    window.PLOTLYENV=window.PLOTLYENV || {};                                    if (document.getElementById(\"518f5e61-6ea2-4466-99b8-9a8738e6a3cd\")) {                    Plotly.newPlot(                        \"518f5e61-6ea2-4466-99b8-9a8738e6a3cd\",                        [{\"marker\":{\"color\":\"#C8D2D7\",\"line\":{\"color\":\"#6E8484\",\"width\":1}},\"orientation\":\"h\",\"x\":[0.34126798555346227,0.02122508549470936,0.02649863303789367,0.06734732391274013,0.033855274999376885,0.01632751585620755,0.05343381620586882,0.016587635656832793,0.056121615339087494,0.04831874266215913,0.03567380973013217,0.0168201448571596,0.05290078450340981,0.029704263279601573,0.03797955357167719,0.05646087181148784,0.029431682345091352,0.060045261183102314],\"y\":[\"<b>Topic 0</b>: govern_elect_labour_peop...\",\"<b>Topic 1</b>: club_player_game_side_te...\",\"<b>Topic 2</b>: film_actor_good_award_os...\",\"<b>Topic 3</b>: site_user_email_search_v...\",\"<b>Topic 4</b>: music_band_song_album_go...\",\"<b>Topic 5</b>: open_seed_match_roddick_...\",\"<b>Topic 6</b>: technolog_comput_gadget_...\",\"<b>Topic 7</b>: race_indoor_olymp_champi...\",\"<b>Topic 8</b>: game_gamer_consol_titl_n...\",\"<b>Topic 9</b>: mobil_phone_camera_servi...\",\"<b>Topic 10</b>: show_tv_seri_channel_co...\",\"<b>Topic 11</b>: athlet_drug_iaaf_greek_...\",\"<b>Topic 12</b>: broadband_servic_net_co...\",\"<b>Topic 13</b>: film_festiv_music_singe...\",\"<b>Topic 14</b>: music_player_digit_down...\",\"<b>Topic 15</b>: file_system_network_bit...\",\"<b>Topic 16</b>: book_novel_winner_prize...\",\"<b>Topic 17</b>: patent_softwar_law_inve...\"],\"type\":\"bar\"}],                        {\"template\":{\"data\":{\"barpolar\":[{\"marker\":{\"line\":{\"color\":\"white\",\"width\":0.5},\"pattern\":{\"fillmode\":\"overlay\",\"size\":10,\"solidity\":0.2}},\"type\":\"barpolar\"}],\"bar\":[{\"error_x\":{\"color\":\"rgb(36,36,36)\"},\"error_y\":{\"color\":\"rgb(36,36,36)\"},\"marker\":{\"line\":{\"color\":\"white\",\"width\":0.5},\"pattern\":{\"fillmode\":\"overlay\",\"size\":10,\"solidity\":0.2}},\"type\":\"bar\"}],\"carpet\":[{\"aaxis\":{\"endlinecolor\":\"rgb(36,36,36)\",\"gridcolor\":\"white\",\"linecolor\":\"white\",\"minorgridcolor\":\"white\",\"startlinecolor\":\"rgb(36,36,36)\"},\"baxis\":{\"endlinecolor\":\"rgb(36,36,36)\",\"gridcolor\":\"white\",\"linecolor\":\"white\",\"minorgridcolor\":\"white\",\"startlinecolor\":\"rgb(36,36,36)\"},\"type\":\"carpet\"}],\"choropleth\":[{\"colorbar\":{\"outlinewidth\":1,\"tickcolor\":\"rgb(36,36,36)\",\"ticks\":\"outside\"},\"type\":\"choropleth\"}],\"contourcarpet\":[{\"colorbar\":{\"outlinewidth\":1,\"tickcolor\":\"rgb(36,36,36)\",\"ticks\":\"outside\"},\"type\":\"contourcarpet\"}],\"contour\":[{\"colorbar\":{\"outlinewidth\":1,\"tickcolor\":\"rgb(36,36,36)\",\"ticks\":\"outside\"},\"colorscale\":[[0.0,\"#440154\"],[0.1111111111111111,\"#482878\"],[0.2222222222222222,\"#3e4989\"],[0.3333333333333333,\"#31688e\"],[0.4444444444444444,\"#26828e\"],[0.5555555555555556,\"#1f9e89\"],[0.6666666666666666,\"#35b779\"],[0.7777777777777778,\"#6ece58\"],[0.8888888888888888,\"#b5de2b\"],[1.0,\"#fde725\"]],\"type\":\"contour\"}],\"heatmapgl\":[{\"colorbar\":{\"outlinewidth\":1,\"tickcolor\":\"rgb(36,36,36)\",\"ticks\":\"outside\"},\"colorscale\":[[0.0,\"#440154\"],[0.1111111111111111,\"#482878\"],[0.2222222222222222,\"#3e4989\"],[0.3333333333333333,\"#31688e\"],[0.4444444444444444,\"#26828e\"],[0.5555555555555556,\"#1f9e89\"],[0.6666666666666666,\"#35b779\"],[0.7777777777777778,\"#6ece58\"],[0.8888888888888888,\"#b5de2b\"],[1.0,\"#fde725\"]],\"type\":\"heatmapgl\"}],\"heatmap\":[{\"colorbar\":{\"outlinewidth\":1,\"tickcolor\":\"rgb(36,36,36)\",\"ticks\":\"outside\"},\"colorscale\":[[0.0,\"#440154\"],[0.1111111111111111,\"#482878\"],[0.2222222222222222,\"#3e4989\"],[0.3333333333333333,\"#31688e\"],[0.4444444444444444,\"#26828e\"],[0.5555555555555556,\"#1f9e89\"],[0.6666666666666666,\"#35b779\"],[0.7777777777777778,\"#6ece58\"],[0.8888888888888888,\"#b5de2b\"],[1.0,\"#fde725\"]],\"type\":\"heatmap\"}],\"histogram2dcontour\":[{\"colorbar\":{\"outlinewidth\":1,\"tickcolor\":\"rgb(36,36,36)\",\"ticks\":\"outside\"},\"colorscale\":[[0.0,\"#440154\"],[0.1111111111111111,\"#482878\"],[0.2222222222222222,\"#3e4989\"],[0.3333333333333333,\"#31688e\"],[0.4444444444444444,\"#26828e\"],[0.5555555555555556,\"#1f9e89\"],[0.6666666666666666,\"#35b779\"],[0.7777777777777778,\"#6ece58\"],[0.8888888888888888,\"#b5de2b\"],[1.0,\"#fde725\"]],\"type\":\"histogram2dcontour\"}],\"histogram2d\":[{\"colorbar\":{\"outlinewidth\":1,\"tickcolor\":\"rgb(36,36,36)\",\"ticks\":\"outside\"},\"colorscale\":[[0.0,\"#440154\"],[0.1111111111111111,\"#482878\"],[0.2222222222222222,\"#3e4989\"],[0.3333333333333333,\"#31688e\"],[0.4444444444444444,\"#26828e\"],[0.5555555555555556,\"#1f9e89\"],[0.6666666666666666,\"#35b779\"],[0.7777777777777778,\"#6ece58\"],[0.8888888888888888,\"#b5de2b\"],[1.0,\"#fde725\"]],\"type\":\"histogram2d\"}],\"histogram\":[{\"marker\":{\"line\":{\"color\":\"white\",\"width\":0.6}},\"type\":\"histogram\"}],\"mesh3d\":[{\"colorbar\":{\"outlinewidth\":1,\"tickcolor\":\"rgb(36,36,36)\",\"ticks\":\"outside\"},\"type\":\"mesh3d\"}],\"parcoords\":[{\"line\":{\"colorbar\":{\"outlinewidth\":1,\"tickcolor\":\"rgb(36,36,36)\",\"ticks\":\"outside\"}},\"type\":\"parcoords\"}],\"pie\":[{\"automargin\":true,\"type\":\"pie\"}],\"scatter3d\":[{\"line\":{\"colorbar\":{\"outlinewidth\":1,\"tickcolor\":\"rgb(36,36,36)\",\"ticks\":\"outside\"}},\"marker\":{\"colorbar\":{\"outlinewidth\":1,\"tickcolor\":\"rgb(36,36,36)\",\"ticks\":\"outside\"}},\"type\":\"scatter3d\"}],\"scattercarpet\":[{\"marker\":{\"colorbar\":{\"outlinewidth\":1,\"tickcolor\":\"rgb(36,36,36)\",\"ticks\":\"outside\"}},\"type\":\"scattercarpet\"}],\"scattergeo\":[{\"marker\":{\"colorbar\":{\"outlinewidth\":1,\"tickcolor\":\"rgb(36,36,36)\",\"ticks\":\"outside\"}},\"type\":\"scattergeo\"}],\"scattergl\":[{\"marker\":{\"colorbar\":{\"outlinewidth\":1,\"tickcolor\":\"rgb(36,36,36)\",\"ticks\":\"outside\"}},\"type\":\"scattergl\"}],\"scattermapbox\":[{\"marker\":{\"colorbar\":{\"outlinewidth\":1,\"tickcolor\":\"rgb(36,36,36)\",\"ticks\":\"outside\"}},\"type\":\"scattermapbox\"}],\"scatterpolargl\":[{\"marker\":{\"colorbar\":{\"outlinewidth\":1,\"tickcolor\":\"rgb(36,36,36)\",\"ticks\":\"outside\"}},\"type\":\"scatterpolargl\"}],\"scatterpolar\":[{\"marker\":{\"colorbar\":{\"outlinewidth\":1,\"tickcolor\":\"rgb(36,36,36)\",\"ticks\":\"outside\"}},\"type\":\"scatterpolar\"}],\"scatter\":[{\"fillpattern\":{\"fillmode\":\"overlay\",\"size\":10,\"solidity\":0.2},\"type\":\"scatter\"}],\"scatterternary\":[{\"marker\":{\"colorbar\":{\"outlinewidth\":1,\"tickcolor\":\"rgb(36,36,36)\",\"ticks\":\"outside\"}},\"type\":\"scatterternary\"}],\"surface\":[{\"colorbar\":{\"outlinewidth\":1,\"tickcolor\":\"rgb(36,36,36)\",\"ticks\":\"outside\"},\"colorscale\":[[0.0,\"#440154\"],[0.1111111111111111,\"#482878\"],[0.2222222222222222,\"#3e4989\"],[0.3333333333333333,\"#31688e\"],[0.4444444444444444,\"#26828e\"],[0.5555555555555556,\"#1f9e89\"],[0.6666666666666666,\"#35b779\"],[0.7777777777777778,\"#6ece58\"],[0.8888888888888888,\"#b5de2b\"],[1.0,\"#fde725\"]],\"type\":\"surface\"}],\"table\":[{\"cells\":{\"fill\":{\"color\":\"rgb(237,237,237)\"},\"line\":{\"color\":\"white\"}},\"header\":{\"fill\":{\"color\":\"rgb(217,217,217)\"},\"line\":{\"color\":\"white\"}},\"type\":\"table\"}]},\"layout\":{\"annotationdefaults\":{\"arrowhead\":0,\"arrowwidth\":1},\"autotypenumbers\":\"strict\",\"coloraxis\":{\"colorbar\":{\"outlinewidth\":1,\"tickcolor\":\"rgb(36,36,36)\",\"ticks\":\"outside\"}},\"colorscale\":{\"diverging\":[[0.0,\"rgb(103,0,31)\"],[0.1,\"rgb(178,24,43)\"],[0.2,\"rgb(214,96,77)\"],[0.3,\"rgb(244,165,130)\"],[0.4,\"rgb(253,219,199)\"],[0.5,\"rgb(247,247,247)\"],[0.6,\"rgb(209,229,240)\"],[0.7,\"rgb(146,197,222)\"],[0.8,\"rgb(67,147,195)\"],[0.9,\"rgb(33,102,172)\"],[1.0,\"rgb(5,48,97)\"]],\"sequential\":[[0.0,\"#440154\"],[0.1111111111111111,\"#482878\"],[0.2222222222222222,\"#3e4989\"],[0.3333333333333333,\"#31688e\"],[0.4444444444444444,\"#26828e\"],[0.5555555555555556,\"#1f9e89\"],[0.6666666666666666,\"#35b779\"],[0.7777777777777778,\"#6ece58\"],[0.8888888888888888,\"#b5de2b\"],[1.0,\"#fde725\"]],\"sequentialminus\":[[0.0,\"#440154\"],[0.1111111111111111,\"#482878\"],[0.2222222222222222,\"#3e4989\"],[0.3333333333333333,\"#31688e\"],[0.4444444444444444,\"#26828e\"],[0.5555555555555556,\"#1f9e89\"],[0.6666666666666666,\"#35b779\"],[0.7777777777777778,\"#6ece58\"],[0.8888888888888888,\"#b5de2b\"],[1.0,\"#fde725\"]]},\"colorway\":[\"#1F77B4\",\"#FF7F0E\",\"#2CA02C\",\"#D62728\",\"#9467BD\",\"#8C564B\",\"#E377C2\",\"#7F7F7F\",\"#BCBD22\",\"#17BECF\"],\"font\":{\"color\":\"rgb(36,36,36)\"},\"geo\":{\"bgcolor\":\"white\",\"lakecolor\":\"white\",\"landcolor\":\"white\",\"showlakes\":true,\"showland\":true,\"subunitcolor\":\"white\"},\"hoverlabel\":{\"align\":\"left\"},\"hovermode\":\"closest\",\"mapbox\":{\"style\":\"light\"},\"paper_bgcolor\":\"white\",\"plot_bgcolor\":\"white\",\"polar\":{\"angularaxis\":{\"gridcolor\":\"rgb(232,232,232)\",\"linecolor\":\"rgb(36,36,36)\",\"showgrid\":false,\"showline\":true,\"ticks\":\"outside\"},\"bgcolor\":\"white\",\"radialaxis\":{\"gridcolor\":\"rgb(232,232,232)\",\"linecolor\":\"rgb(36,36,36)\",\"showgrid\":false,\"showline\":true,\"ticks\":\"outside\"}},\"scene\":{\"xaxis\":{\"backgroundcolor\":\"white\",\"gridcolor\":\"rgb(232,232,232)\",\"gridwidth\":2,\"linecolor\":\"rgb(36,36,36)\",\"showbackground\":true,\"showgrid\":false,\"showline\":true,\"ticks\":\"outside\",\"zeroline\":false,\"zerolinecolor\":\"rgb(36,36,36)\"},\"yaxis\":{\"backgroundcolor\":\"white\",\"gridcolor\":\"rgb(232,232,232)\",\"gridwidth\":2,\"linecolor\":\"rgb(36,36,36)\",\"showbackground\":true,\"showgrid\":false,\"showline\":true,\"ticks\":\"outside\",\"zeroline\":false,\"zerolinecolor\":\"rgb(36,36,36)\"},\"zaxis\":{\"backgroundcolor\":\"white\",\"gridcolor\":\"rgb(232,232,232)\",\"gridwidth\":2,\"linecolor\":\"rgb(36,36,36)\",\"showbackground\":true,\"showgrid\":false,\"showline\":true,\"ticks\":\"outside\",\"zeroline\":false,\"zerolinecolor\":\"rgb(36,36,36)\"}},\"shapedefaults\":{\"fillcolor\":\"black\",\"line\":{\"width\":0},\"opacity\":0.3},\"ternary\":{\"aaxis\":{\"gridcolor\":\"rgb(232,232,232)\",\"linecolor\":\"rgb(36,36,36)\",\"showgrid\":false,\"showline\":true,\"ticks\":\"outside\"},\"baxis\":{\"gridcolor\":\"rgb(232,232,232)\",\"linecolor\":\"rgb(36,36,36)\",\"showgrid\":false,\"showline\":true,\"ticks\":\"outside\"},\"bgcolor\":\"white\",\"caxis\":{\"gridcolor\":\"rgb(232,232,232)\",\"linecolor\":\"rgb(36,36,36)\",\"showgrid\":false,\"showline\":true,\"ticks\":\"outside\"}},\"title\":{\"x\":0.05},\"xaxis\":{\"automargin\":true,\"gridcolor\":\"rgb(232,232,232)\",\"linecolor\":\"rgb(36,36,36)\",\"showgrid\":false,\"showline\":true,\"ticks\":\"outside\",\"title\":{\"standoff\":15},\"zeroline\":false,\"zerolinecolor\":\"rgb(36,36,36)\"},\"yaxis\":{\"automargin\":true,\"gridcolor\":\"rgb(232,232,232)\",\"linecolor\":\"rgb(36,36,36)\",\"showgrid\":false,\"showline\":true,\"ticks\":\"outside\",\"title\":{\"standoff\":15},\"zeroline\":false,\"zerolinecolor\":\"rgb(36,36,36)\"}}},\"title\":{\"font\":{\"size\":22,\"color\":\"Black\"},\"text\":\"<b>Topic Probability Distribution</b>\",\"y\":0.95,\"x\":0.5,\"xanchor\":\"center\",\"yanchor\":\"top\"},\"hoverlabel\":{\"font\":{\"size\":16,\"family\":\"Rockwell\"},\"bgcolor\":\"white\"},\"xaxis\":{\"title\":{\"text\":\"Probability\"}},\"width\":800,\"height\":600},                        {\"responsive\": true}                    ).then(function(){\n",
       "                            \n",
       "var gd = document.getElementById('518f5e61-6ea2-4466-99b8-9a8738e6a3cd');\n",
       "var x = new MutationObserver(function (mutations, observer) {{\n",
       "        var display = window.getComputedStyle(gd).display;\n",
       "        if (!display || display === 'none') {{\n",
       "            console.log([gd, 'removed!']);\n",
       "            Plotly.purge(gd);\n",
       "            observer.disconnect();\n",
       "        }}\n",
       "}});\n",
       "\n",
       "// Listen for the removal of the full notebook cells\n",
       "var notebookContainer = gd.closest('#notebook-container');\n",
       "if (notebookContainer) {{\n",
       "    x.observe(notebookContainer, {childList: true});\n",
       "}}\n",
       "\n",
       "// Listen for the clearing of the current output cell\n",
       "var outputEl = gd.closest('.output');\n",
       "if (outputEl) {{\n",
       "    x.observe(outputEl, {childList: true});\n",
       "}}\n",
       "\n",
       "                        })                };                });            </script>        </div>"
      ]
     },
     "metadata": {},
     "output_type": "display_data"
    }
   ],
   "source": [
    "topic_number = 0\n",
    "topic_model.visualize_distribution(probs[topic_number])"
   ]
  },
  {
   "cell_type": "code",
   "execution_count": 54,
   "id": "807bdbd7",
   "metadata": {},
   "outputs": [
    {
     "name": "stdout",
     "output_type": "stream",
     "text": [
      "The top 3 similar topics are [11, 7, 16], and the similarities are [0.35 0.33 0.32]\n",
      "The top keywords for topic 11 are:\n",
      "[('athlet', 0.12029541644376514), ('drug', 0.11289934835289839), ('iaaf', 0.09295362243562748), ('greek', 0.08944575641513348), ('test', 0.08686357056687041), ('thanou', 0.07329598740939704), ('sprinter', 0.0708356714402709), ('cont', 0.05525269213996573), ('olymp', 0.053013483637695855), ('tribun', 0.05201650719376564)]\n",
      "The top keywords for topic 7 are:\n",
      "[('race', 0.09016076147928569), ('indoor', 0.078649956187382), ('olymp', 0.0702064204961891), ('champion', 0.05614449957622342), ('world', 0.05446122192419492), ('second', 0.04866157415585059), ('athlet', 0.04845453010733182), ('men', 0.04616575818858002), ('titl', 0.04463975960362565), ('record', 0.04175203806068048)]\n",
      "The top keywords for topic 16 are:\n",
      "[('book', 0.1615149728792661), ('novel', 0.10595380392669151), ('winner', 0.08339444869675802), ('prize', 0.0683823111895073), ('award', 0.06152611925162131), ('author', 0.058376114087730614), ('judg', 0.05793457254953602), ('fiction', 0.05420084038891283), ('writer', 0.04756106893644519), ('literari', 0.04445725590912361)]\n"
     ]
    }
   ],
   "source": [
    "new_doc = 'This is my new document about sport'\n",
    "\n",
    "num_of_topics = 3\n",
    "similar_topics, similarity = topic_model.find_topics(new_doc, top_n = num_of_topics)\n",
    "\n",
    "print(f'The top {num_of_topics} similar topics are {similar_topics}, and the similarities are {np.round(similarity, 2)}')\n",
    "\n",
    "for i in range(num_of_topics):\n",
    "  print(f'The top keywords for topic {similar_topics[i]} are:')\n",
    "  print(topic_model.get_topic(similar_topics[i]))"
   ]
  },
  {
   "cell_type": "code",
   "execution_count": 55,
   "id": "240574fe",
   "metadata": {},
   "outputs": [
    {
     "name": "stdout",
     "output_type": "stream",
     "text": [
      "11\n",
      "[('athlet', 0.12029541644376514), ('drug', 0.11289934835289839), ('iaaf', 0.09295362243562748), ('greek', 0.08944575641513348), ('test', 0.08686357056687041), ('thanou', 0.07329598740939704), ('sprinter', 0.0708356714402709), ('cont', 0.05525269213996573), ('olymp', 0.053013483637695855), ('tribun', 0.05201650719376564)]\n",
      "7\n",
      "[('race', 0.09016076147928569), ('indoor', 0.078649956187382), ('olymp', 0.0702064204961891), ('champion', 0.05614449957622342), ('world', 0.05446122192419492), ('second', 0.04866157415585059), ('athlet', 0.04845453010733182), ('men', 0.04616575818858002), ('titl', 0.04463975960362565), ('record', 0.04175203806068048)]\n",
      "13\n",
      "[('film', 0.1172837100507882), ('festiv', 0.08748158132981254), ('music', 0.08570802251773432), ('singer', 0.07509445419420534), ('produc', 0.05544055735189669), ('stori', 0.05273106329287812), ('life', 0.05234914119276827), ('melcher', 0.04136908288793041), ('daylewi', 0.04071058650867883), ('godzilla', 0.03685122168918821)]\n"
     ]
    }
   ],
   "source": [
    "similar_topics, similarity = topic_model.find_topics('gymnastics', top_n = 3)\n",
    "\n",
    "for sim_topic in similar_topics:\n",
    "  print(sim_topic)\n",
    "  print(topic_model.get_topic(sim_topic))"
   ]
  },
  {
   "cell_type": "code",
   "execution_count": null,
   "id": "b7bd17fe",
   "metadata": {},
   "outputs": [],
   "source": []
  },
  {
   "cell_type": "code",
   "execution_count": null,
   "id": "9e1e7deb",
   "metadata": {},
   "outputs": [],
   "source": []
  },
  {
   "cell_type": "code",
   "execution_count": null,
   "id": "c654fa44",
   "metadata": {},
   "outputs": [],
   "source": []
  },
  {
   "cell_type": "markdown",
   "id": "b0012377",
   "metadata": {},
   "source": [
    "#### Things to try to improve LDA:\n",
    "* Try changing hyperparameters of LDA algorithm\n",
    "* Try reducing/increasing the number of POS tags\n",
    "* Try different stemmers/lemmatizers\n",
    "* Try removing/leaving digits or even more radical - remove words containing numbers\n",
    "* Try with/without stemming\n",
    "* Try different alpha/beta parameters of LDA\n",
    "* Try removing words with len < 2 or 3\n",
    "* To choose the right number of topics for LDA compare the goodness of fit for various"
   ]
  },
  {
   "cell_type": "markdown",
   "id": "7c33f773",
   "metadata": {},
   "source": [
    "#### LDA Parameters\n",
    "* chunksize - Increasing chunksize will speed up training, at least as long as the chunk of documents easily fit into memory.\n",
    "* passes/iterations - It is important to set the number of “passes” and “iterations” high enough.\n",
    "* 2 Dirichlet hyperparameters: alpha and beta (or sometimes eta) - try arranging those as follows list(np.arange(0.01, 1, 0.3))  and try different params from there.\n",
    "* To test different combinations of hyperparameters use nested for loops."
   ]
  },
  {
   "cell_type": "markdown",
   "id": "62a9c9d0",
   "metadata": {},
   "source": [
    "#### Things to try to improve BERTopic\n",
    "* Try using different ngram ranges\n",
    "* Reduce the number of topics\n",
    "* Merge topics\n",
    "* Specify the topics that you want to find using case knowledge\n",
    "* Try using topic_model.visualize_term_rank(log_scale = True/False) to determine the minimum number of words to represent a topic properly.\n",
    "* It might be a good idea to do some basic preprocessing, such as removing stopwords and lemmatization/stemming\n",
    "* Try hyperparameter tuning on the UMAP model\n",
    "* Try hyperparameter tuning on the HDBscan model"
   ]
  },
  {
   "cell_type": "markdown",
   "id": "ddb40622",
   "metadata": {},
   "source": [
    "#### BERTopic parameters\n",
    "* embedding_model = 'all-miniLM-L6-v2' or 'paraphrase-MiniLM-L12-v2'. In fact, this is an important parameter that you can adjust simply by picking a model from https://sbert.net/docs/pretrained_models.html Have a look at the speed and performance of each model and adjust to your needs.\n",
    "* min_topic_size - minimum number of docs per topic to create a new topic category\n"
   ]
  },
  {
   "cell_type": "code",
   "execution_count": null,
   "id": "30772798",
   "metadata": {},
   "outputs": [],
   "source": [
    "!git add"
   ]
  },
  {
   "cell_type": "code",
   "execution_count": null,
   "id": "51fc4f15",
   "metadata": {},
   "outputs": [],
   "source": []
  },
  {
   "cell_type": "code",
   "execution_count": null,
   "id": "ee6b2543",
   "metadata": {},
   "outputs": [],
   "source": []
  }
 ],
 "metadata": {
  "kernelspec": {
   "display_name": "Python 3 (ipykernel)",
   "language": "python",
   "name": "python3"
  },
  "language_info": {
   "codemirror_mode": {
    "name": "ipython",
    "version": 3
   },
   "file_extension": ".py",
   "mimetype": "text/x-python",
   "name": "python",
   "nbconvert_exporter": "python",
   "pygments_lexer": "ipython3",
   "version": "3.9.16"
  }
 },
 "nbformat": 4,
 "nbformat_minor": 5
}
