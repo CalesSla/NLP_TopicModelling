{
 "cells": [
  {
   "cell_type": "code",
   "execution_count": 757,
   "id": "6179db1a",
   "metadata": {},
   "outputs": [],
   "source": [
    "# Imports\n",
    "\n",
    "import pandas as pd\n",
    "import numpy as np\n",
    "import matplotlib.pyplot as plt\n",
    "import nltk\n",
    "import textwrap\n",
    "from nltk.corpus import stopwords\n",
    "from sklearn.feature_extraction.text import CountVectorizer, TfidfVectorizer\n",
    "from sklearn.decomposition import LatentDirichletAllocation, NMF\n",
    "import string\n",
    "from nltk.stem.wordnet import WordNetLemmatizer\n",
    "from nltk import PorterStemmer, SnowballStemmer, LancasterStemmer\n",
    "import spacy\n",
    "import gensim\n",
    "import gensim.corpora as corpora\n",
    "from pprint import pprint\n",
    "import pyLDAvis.gensim_models as gensimvis\n",
    "import pickle\n",
    "import pyLDAvis\n",
    "import os\n",
    "from gensim.models import CoherenceModel, TfidfModel\n",
    "import pyLDAvis.gensim\n",
    "import re\n",
    "from bertopic import BERTopic\n",
    "from sklearn.decomposition import PCA\n",
    "from sklearn.cluster import KMeans, AgglomerativeClustering, DBSCAN, SpectralClustering, MeanShift, Birch\n",
    "from sentence_transformers import SentenceTransformer\n",
    "from bertopic.vectorizers import ClassTfidfTransformer\n",
    "from umap import UMAP\n",
    "from hdbscan import HDBSCAN\n",
    "from skopt.space import Real, Integer\n",
    "from sklearn.mixture import GaussianMixture\n",
    "from gensim.models.nmf import Nmf\n",
    "import warnings\n",
    "from gensim.parsing.preprocessing import preprocess_string\n",
    "from top2vec import Top2Vec\n",
    "from collections import Counter\n",
    "from sklearn.metrics import silhouette_score\n",
    "warnings.filterwarnings(\"ignore\")\n",
    "\n",
    "stops = stopwords.words('english')\n",
    "stops.extend(['has', 'been', 're', 'com', 'edu', 'use', 'said', 'would', 'could', 'told', 'also', 'one', 'two', 'mr', 'new', 'year', 'people', 'time', 'well'])"
   ]
  },
  {
   "cell_type": "code",
   "execution_count": 758,
   "id": "4dae905d",
   "metadata": {},
   "outputs": [],
   "source": [
    "# # Dataset preparation\n",
    "\n",
    "# from sklearn.datasets import fetch_20newsgroups\n",
    "\n",
    "# categories = ['rec.sport.baseball', 'talk.religion.misc', 'comp.graphics', 'sci.space', 'talk.politics.guns']\n",
    "\n",
    "# remove = ('headers', 'footers', 'quotes')\n",
    "# newsgroups_train = fetch_20newsgroups(subset = 'train', categories = categories, remove = remove)\n",
    "\n",
    "# col_names = [label.split('.')[1] for label in newsgroups_train.target_names]\n",
    "\n",
    "# df = pd.DataFrame({'text': newsgroups_train['data'], 'labels': [col_names[i] for i in newsgroups_train['target']]})\n",
    "# df.to_csv('four_groups.csv', index=False)"
   ]
  },
  {
   "cell_type": "code",
   "execution_count": null,
   "id": "0ac2d99f",
   "metadata": {},
   "outputs": [],
   "source": []
  },
  {
   "cell_type": "code",
   "execution_count": 759,
   "id": "bcb552f0",
   "metadata": {},
   "outputs": [],
   "source": [
    "class Preprocessor:\n",
    "  \n",
    "  def __init__(self, path):\n",
    "    self.path = path\n",
    "    self.nlp = spacy.load('en_core_web_sm', disable = ['parser', 'ner'])\n",
    "  \n",
    "  # Read the data\n",
    "  def read_file(self):\n",
    "    df = pd.read_csv(self.path)\n",
    "    return df\n",
    "  \n",
    "  # Remove rows with missing values\n",
    "  def drop_missing_vals(self, df):\n",
    "    df.dropna(axis = 0, how = 'any', inplace = True)\n",
    "  \n",
    "  # Itentify long enough review\n",
    "  def mark_long_reviews_method(self, df):\n",
    "    df['Num_words_text'] = df['text'].apply(lambda x:len(str(x).split()))\n",
    "    mask = (df['Num_words_text'] < 100) & (df['Num_words_text'] >=20)\n",
    "    df = df[mask]\n",
    "    return df\n",
    "  \n",
    "  # Remove punctuation\n",
    "  def remove_punctuation_method(self, text):\n",
    "    return text.translate(str.maketrans('', '', string.punctuation))\n",
    "  \n",
    "  # Remove newline characters\n",
    "  def remove_newline_characters_method(self, df):\n",
    "    df['text'] = df['text'].str.replace('\\n', ' ')\n",
    "    \n",
    "  # Remove non alphanumeric characters\n",
    "  def remove_nonalphanumeric_characters_method(self, df):\n",
    "    df['text'] = df['text'].str.replace('[^a-zA-Z0-9\\s]', '')\n",
    "  \n",
    "  # Lowercase the text\n",
    "  def lowercase_text_method(self, df):\n",
    "    df['text'] = df['text'].str.lower()\n",
    "    \n",
    "  # Normalize whitespaces\n",
    "  def normalize_whitespace_method(self, text):\n",
    "    return re.sub('[\\s]+', ' ', text)\n",
    "  \n",
    "  # Remove stopwords\n",
    "  def remove_stopwords_method(self, text):\n",
    "    return \" \".join([word for word in text.split() if word not in stops])\n",
    "  \n",
    "  # Lemmatization\n",
    "  def lemmatization_method(self, text, allowed_postags = ['NOUN', 'ADJ', 'ADV']):\n",
    "    doc = self.nlp(''.join(text))\n",
    "    doc = [token.lemma_ for token in doc if token.pos_ in allowed_postags]\n",
    "    return ' '.join(doc)\n",
    "  \n",
    "  # Stemming\n",
    "  def stemming_method(self, text):\n",
    "    doc = [PorterStemmer().stem(w).strip() for w in text.split()]\n",
    "    return ' '.join(doc)\n",
    "  \n",
    "  # Remove words with digits\n",
    "  def remove_digit_words_method(self, text):\n",
    "    pattern = re.compile(r'\\b\\w*\\d\\w*\\b')\n",
    "    return pattern.sub('', text)\n",
    "  \n",
    "  # Remove short words\n",
    "  def remove_short_words_method(self, text):\n",
    "    text = text.split()\n",
    "    text = [word for word in text if len(word) > 2]\n",
    "    text = ' '.join(text)\n",
    "    return text\n",
    "  \n",
    "  \n",
    "  \n",
    "  def __call__(self, \n",
    "               drop_missing=True, \n",
    "               mark_long_reviews=False, \n",
    "               remove_punctuation=True,\n",
    "               remove_newline_characters=True,\n",
    "               remove_nonalphanumeric_characters=True,\n",
    "               lowercase_text=True,\n",
    "               normalize_whitespace=True,\n",
    "               remove_stopwords=True,\n",
    "               lemmatize=True,\n",
    "               stem=True,\n",
    "               remove_digit_words=False,\n",
    "               remove_short_words=False):\n",
    "    \n",
    "    df = self.read_file()\n",
    "    \n",
    "    if drop_missing:\n",
    "      self.drop_missing_vals(df)\n",
    "    \n",
    "    if mark_long_reviews:\n",
    "      df = self.mark_long_reviews_method(df)\n",
    "    \n",
    "    if remove_punctuation:\n",
    "      df['text'] = df['text'].apply(self.remove_punctuation_method)\n",
    "    \n",
    "    if remove_newline_characters:\n",
    "      self.remove_newline_characters_method(df)\n",
    "    \n",
    "    if remove_nonalphanumeric_characters:\n",
    "      self.remove_nonalphanumeric_characters_method(df)\n",
    "      \n",
    "    if lowercase_text:\n",
    "      self.lowercase_text_method(df)\n",
    "      \n",
    "    if normalize_whitespace:\n",
    "      df['text'] = df['text'].map(self.normalize_whitespace_method)\n",
    "    \n",
    "    if remove_stopwords:\n",
    "      df['text'] = df['text'].apply(self.remove_stopwords_method)\n",
    "    \n",
    "    if lemmatize:\n",
    "      df['text'] = df['text'].map(self.lemmatization_method)\n",
    "    \n",
    "    if stem:\n",
    "      df['text'] = df['text'].map(self.stemming_method)\n",
    "      \n",
    "    if remove_digit_words:\n",
    "      df['text'] = df['text'].apply(self.remove_digit_words_method)\n",
    "    \n",
    "    if remove_short_words:\n",
    "      df['text'] = df['text'].map(self.remove_short_words_method)\n",
    "      \n",
    "    if normalize_whitespace:\n",
    "      df['text'] = df['text'].map(self.normalize_whitespace_method)\n",
    "    \n",
    "    df.reset_index(inplace = True, drop = True)\n",
    "    \n",
    "    return df"
   ]
  },
  {
   "cell_type": "code",
   "execution_count": 766,
   "id": "4158b2ac",
   "metadata": {},
   "outputs": [],
   "source": [
    "# Read and preprocess the data\n",
    "prep = Preprocessor(path = 'four_groups.csv')\n",
    "df = prep(remove_digit_words = True, remove_short_words = True, lemmatize = True)"
   ]
  },
  {
   "cell_type": "code",
   "execution_count": 767,
   "id": "9ae3ad54",
   "metadata": {},
   "outputs": [
    {
     "data": {
      "text/plain": [
       "sport       581\n",
       "space       580\n",
       "graphics    572\n",
       "politics    537\n",
       "religion    363\n",
       "Name: labels, dtype: int64"
      ]
     },
     "execution_count": 767,
     "metadata": {},
     "output_type": "execute_result"
    }
   ],
   "source": [
    "df['labels'].value_counts()"
   ]
  },
  {
   "cell_type": "code",
   "execution_count": 768,
   "id": "b8d47dee",
   "metadata": {},
   "outputs": [
    {
     "data": {
      "text/html": [
       "<style>#sk-container-id-112 {color: black;background-color: white;}#sk-container-id-112 pre{padding: 0;}#sk-container-id-112 div.sk-toggleable {background-color: white;}#sk-container-id-112 label.sk-toggleable__label {cursor: pointer;display: block;width: 100%;margin-bottom: 0;padding: 0.3em;box-sizing: border-box;text-align: center;}#sk-container-id-112 label.sk-toggleable__label-arrow:before {content: \"▸\";float: left;margin-right: 0.25em;color: #696969;}#sk-container-id-112 label.sk-toggleable__label-arrow:hover:before {color: black;}#sk-container-id-112 div.sk-estimator:hover label.sk-toggleable__label-arrow:before {color: black;}#sk-container-id-112 div.sk-toggleable__content {max-height: 0;max-width: 0;overflow: hidden;text-align: left;background-color: #f0f8ff;}#sk-container-id-112 div.sk-toggleable__content pre {margin: 0.2em;color: black;border-radius: 0.25em;background-color: #f0f8ff;}#sk-container-id-112 input.sk-toggleable__control:checked~div.sk-toggleable__content {max-height: 200px;max-width: 100%;overflow: auto;}#sk-container-id-112 input.sk-toggleable__control:checked~label.sk-toggleable__label-arrow:before {content: \"▾\";}#sk-container-id-112 div.sk-estimator input.sk-toggleable__control:checked~label.sk-toggleable__label {background-color: #d4ebff;}#sk-container-id-112 div.sk-label input.sk-toggleable__control:checked~label.sk-toggleable__label {background-color: #d4ebff;}#sk-container-id-112 input.sk-hidden--visually {border: 0;clip: rect(1px 1px 1px 1px);clip: rect(1px, 1px, 1px, 1px);height: 1px;margin: -1px;overflow: hidden;padding: 0;position: absolute;width: 1px;}#sk-container-id-112 div.sk-estimator {font-family: monospace;background-color: #f0f8ff;border: 1px dotted black;border-radius: 0.25em;box-sizing: border-box;margin-bottom: 0.5em;}#sk-container-id-112 div.sk-estimator:hover {background-color: #d4ebff;}#sk-container-id-112 div.sk-parallel-item::after {content: \"\";width: 100%;border-bottom: 1px solid gray;flex-grow: 1;}#sk-container-id-112 div.sk-label:hover label.sk-toggleable__label {background-color: #d4ebff;}#sk-container-id-112 div.sk-serial::before {content: \"\";position: absolute;border-left: 1px solid gray;box-sizing: border-box;top: 0;bottom: 0;left: 50%;z-index: 0;}#sk-container-id-112 div.sk-serial {display: flex;flex-direction: column;align-items: center;background-color: white;padding-right: 0.2em;padding-left: 0.2em;position: relative;}#sk-container-id-112 div.sk-item {position: relative;z-index: 1;}#sk-container-id-112 div.sk-parallel {display: flex;align-items: stretch;justify-content: center;background-color: white;position: relative;}#sk-container-id-112 div.sk-item::before, #sk-container-id-112 div.sk-parallel-item::before {content: \"\";position: absolute;border-left: 1px solid gray;box-sizing: border-box;top: 0;bottom: 0;left: 50%;z-index: -1;}#sk-container-id-112 div.sk-parallel-item {display: flex;flex-direction: column;z-index: 1;position: relative;background-color: white;}#sk-container-id-112 div.sk-parallel-item:first-child::after {align-self: flex-end;width: 50%;}#sk-container-id-112 div.sk-parallel-item:last-child::after {align-self: flex-start;width: 50%;}#sk-container-id-112 div.sk-parallel-item:only-child::after {width: 0;}#sk-container-id-112 div.sk-dashed-wrapped {border: 1px dashed gray;margin: 0 0.4em 0.5em 0.4em;box-sizing: border-box;padding-bottom: 0.4em;background-color: white;}#sk-container-id-112 div.sk-label label {font-family: monospace;font-weight: bold;display: inline-block;line-height: 1.2em;}#sk-container-id-112 div.sk-label-container {text-align: center;}#sk-container-id-112 div.sk-container {/* jupyter's `normalize.less` sets `[hidden] { display: none; }` but bootstrap.min.css set `[hidden] { display: none !important; }` so we also need the `!important` here to be able to override the default hidden behavior on the sphinx rendered scikit-learn.org. See: https://github.com/scikit-learn/scikit-learn/issues/21755 */display: inline-block !important;position: relative;}#sk-container-id-112 div.sk-text-repr-fallback {display: none;}</style><div id=\"sk-container-id-112\" class=\"sk-top-container\"><div class=\"sk-text-repr-fallback\"><pre>LatentDirichletAllocation(max_iter=100, n_components=5, random_state=12345,\n",
       "                          topic_word_prior=0.6)</pre><b>In a Jupyter environment, please rerun this cell to show the HTML representation or trust the notebook. <br />On GitHub, the HTML representation is unable to render, please try loading this page with nbviewer.org.</b></div><div class=\"sk-container\" hidden><div class=\"sk-item\"><div class=\"sk-estimator sk-toggleable\"><input class=\"sk-toggleable__control sk-hidden--visually\" id=\"sk-estimator-id-112\" type=\"checkbox\" checked><label for=\"sk-estimator-id-112\" class=\"sk-toggleable__label sk-toggleable__label-arrow\">LatentDirichletAllocation</label><div class=\"sk-toggleable__content\"><pre>LatentDirichletAllocation(max_iter=100, n_components=5, random_state=12345,\n",
       "                          topic_word_prior=0.6)</pre></div></div></div></div></div>"
      ],
      "text/plain": [
       "LatentDirichletAllocation(max_iter=100, n_components=5, random_state=12345,\n",
       "                          topic_word_prior=0.6)"
      ]
     },
     "execution_count": 768,
     "metadata": {},
     "output_type": "execute_result"
    }
   ],
   "source": [
    "# Create count vectorizer\n",
    "vectorizer = CountVectorizer(stop_words = list(stops),\n",
    "                            min_df = 2,\n",
    "                            max_df = 0.95,\n",
    "                            # max_features = 5000,\n",
    "                            # binary = True,\n",
    "#                            ngram_range = (1,3)\n",
    "                            )\n",
    "X = vectorizer.fit_transform(df['text'])\n",
    "\n",
    "# Create an LDA model\n",
    "num_topics = 5\n",
    "lda = LatentDirichletAllocation(n_components = num_topics, \n",
    "                                random_state = 12345, \n",
    "                                max_iter = 100, \n",
    "                                topic_word_prior = 0.6,\n",
    "                                )\n",
    "lda.fit(X)"
   ]
  },
  {
   "cell_type": "code",
   "execution_count": 769,
   "id": "e8a41698",
   "metadata": {},
   "outputs": [],
   "source": [
    "# Auxillary plotting function\n",
    "def plot_top_words(model, feature_names, n_top_words = 7):\n",
    "  fig, axes = plt.subplots(1, 5, figsize = (30, 10), sharex = True)\n",
    "  axes = axes.flatten()\n",
    "  for topic_idx, topic in enumerate(model.components_):\n",
    "    top_features_ind = topic.argsort()[: -n_top_words - 1 : -1]\n",
    "    top_features = [feature_names[i] for i in top_features_ind]\n",
    "    weights = topic[top_features_ind]\n",
    "    \n",
    "    ax = axes[topic_idx]\n",
    "    ax.barh(top_features, weights, height = 0.7)\n",
    "    ax.set_title(f'Topic {topic_idx + 1}', fontdict = {'fontsize': 30})\n",
    "    ax.invert_yaxis()\n",
    "    ax.tick_params(axis = 'both', which = 'major', labelsize = 20)\n",
    "    for i in 'top right left'.split():\n",
    "      ax.spines[i].set_visible(False)\n",
    "    fig.suptitle(\"LDA\", fontsize = 40)\n",
    "  \n",
    "  plt.subplots_adjust(top = 0.90, bottom = 0.05, wspace = 0.90, hspace = 0.3)\n",
    "  plt.show()"
   ]
  },
  {
   "cell_type": "code",
   "execution_count": 770,
   "id": "d1b7a242",
   "metadata": {},
   "outputs": [
    {
     "data": {
      "image/png": "[encoded data removed]",
      "text/plain": [
       "<Figure size 3000x1000 with 5 Axes>"
      ]
     },
     "metadata": {},
     "output_type": "display_data"
    }
   ],
   "source": [
    "# Words per topics\n",
    "feature_names = vectorizer.get_feature_names_out()\n",
    "plot_top_words(lda, feature_names)\n",
    "\n",
    "# topic_vocab = {0: 'tech', 1: 'politics', 2: 'entertainment', 3: 'business', 4: 'sport'}"
   ]
  },
  {
   "cell_type": "code",
   "execution_count": 771,
   "id": "6839aae0",
   "metadata": {},
   "outputs": [
    {
     "name": "stdout",
     "output_type": "stream",
     "text": [
      "Supposed model accuracy: 0.7793391568552981\n"
     ]
    }
   ],
   "source": [
    "# Sample code for model performance evaluation\n",
    "new_sentences = vectorizer.transform(df['text'])\n",
    "topic_distributions = lda.transform(new_sentences)\n",
    "most_probable_topics = topic_distributions.argmax(axis=1)\n",
    "topic_vocab = {0: 'space', 1: 'politics', 2: 'religion', 3: 'sport', 4: 'graphics'}\n",
    "\n",
    "preds = [topic_vocab[num_topic] for num_topic in most_probable_topics]\n",
    "\n",
    "df['preds'] = preds\n",
    "\n",
    "\n",
    "acc = sum(df['labels'] == df['preds']) / len(df)\n",
    "    \n",
    "print(f'Supposed model accuracy: {acc}')"
   ]
  },
  {
   "cell_type": "code",
   "execution_count": 649,
   "id": "e0865b39",
   "metadata": {
    "scrolled": true
   },
   "outputs": [
    {
     "data": {
      "text/plain": [
       "forsale     581\n",
       "sport       581\n",
       "space       580\n",
       "graphics    572\n",
       "politics    537\n",
       "Name: labels, dtype: int64"
      ]
     },
     "execution_count": 649,
     "metadata": {},
     "output_type": "execute_result"
    }
   ],
   "source": [
    "df['labels'].value_counts()"
   ]
  },
  {
   "cell_type": "code",
   "execution_count": null,
   "id": "6ff61935",
   "metadata": {},
   "outputs": [],
   "source": []
  },
  {
   "cell_type": "code",
   "execution_count": 89,
   "id": "edf44281",
   "metadata": {},
   "outputs": [
    {
     "name": "stdout",
     "output_type": "stream",
     "text": [
      "   Topic  Count                             Name\n",
      "0      0     59  0_cheat_thank_right thank_delet\n",
      "1      1   2465            1_time_imag_space_gun\n"
     ]
    }
   ],
   "source": [
    "# BERTopic model\n",
    "topic_model = BERTopic(calculate_probabilities = True, language = 'english', n_gram_range = (1,2), nr_topics = 5)\n",
    "topics, probs = topic_model.fit_transform(df['text'])\n",
    "print(topic_model.get_topic_info())"
   ]
  },
  {
   "cell_type": "code",
   "execution_count": 87,
   "id": "4efb52cb",
   "metadata": {},
   "outputs": [],
   "source": [
    "# Define topic vocabulary\n",
    "topic_vocab = {0: 'religion', 1: 'space', 2: 'politics', 3: 'graphics', 4: 'atheism'}"
   ]
  },
  {
   "cell_type": "code",
   "execution_count": 88,
   "id": "505a82c1",
   "metadata": {},
   "outputs": [
    {
     "name": "stdout",
     "output_type": "stream",
     "text": [
      "Model \"Accuracy\": 0.6434231378763867\n"
     ]
    }
   ],
   "source": [
    "# Reformat predicted values\n",
    "topics = [topic_vocab[topic] for topic in topics]\n",
    "\n",
    "# Topic assignment for the training saet\n",
    "assigned_topics_df = pd.DataFrame({'topic':topics, 'document': df['text'], 'labels': df['labels']})\n",
    "\n",
    "# Calculate model accuracy*\n",
    "acc = sum(assigned_topics_df['topic'] == assigned_topics_df['labels']) / len(df)\n",
    "print(f'Model \"Accuracy\": {acc}')"
   ]
  },
  {
   "cell_type": "code",
   "execution_count": null,
   "id": "48466289",
   "metadata": {},
   "outputs": [],
   "source": [
    "list(np.arange(0.01, 1, 0.3))"
   ]
  },
  {
   "cell_type": "code",
   "execution_count": null,
   "id": "fa3f7605",
   "metadata": {},
   "outputs": [],
   "source": []
  },
  {
   "cell_type": "code",
   "execution_count": null,
   "id": "63c21e56",
   "metadata": {},
   "outputs": [],
   "source": []
  },
  {
   "cell_type": "code",
   "execution_count": null,
   "id": "9dc6e50d",
   "metadata": {},
   "outputs": [],
   "source": []
  },
  {
   "cell_type": "code",
   "execution_count": 470,
   "id": "0bb44633",
   "metadata": {},
   "outputs": [],
   "source": []
  },
  {
   "cell_type": "code",
   "execution_count": null,
   "id": "dd372db2",
   "metadata": {},
   "outputs": [],
   "source": []
  },
  {
   "cell_type": "code",
   "execution_count": null,
   "id": "4a05b737",
   "metadata": {},
   "outputs": [],
   "source": []
  },
  {
   "cell_type": "code",
   "execution_count": 475,
   "id": "ad296799",
   "metadata": {},
   "outputs": [],
   "source": [
    "# Try not to add extra stpowords - no effect\n",
    "# Try removing very short texts (with len < 30) - THIS SIGNIFICANTLY BUMPS THE ACCURACY BUT VASTLY REDUCES THE NUMBER OF TEXT SAMPLES\n",
    "# Try reducing the max_df parameter of count vectorizer -no effect\n",
    "# Try using changing binary parameter for CountVectorizer - better to keep False\n",
    "# Try changing ngram range - better to keep at default\n",
    "# Try changing min_df - 2 is optimal\n",
    "# Try adding VERB - worse result\n",
    "# Try adding ADV - +2 percent\n",
    "# Try setting the learning method to online - worse\n",
    "# Try tweaking doc_topic_prior - insignificant effect\n",
    "# Try tweaking topic_word_prior - 0.6 yields best results\n",
    "# Try increasing learning offset - no effect\n",
    "# Try setting evaluate_every parameter to 1 - no effect\n",
    "# Try ngrams (2,3) - worse\n",
    "# Try removing words < 3 - no effect\n",
    "# Try adding a few more stopwords that are common among topics in the barplot - no effect\n",
    "# Try increasing the number of iterations to 1000 - no effect\n",
    "# Try to setting the remove_digit_words to False - worse\n",
    "# Try reducing the num_features parameter to get only the most common words - worse\n",
    "# Try without stemming - no effect\n",
    "# Try without stemming and without lemmatization - worse\n",
    "# Try not to limit the number of POS tags in lemma - worse\n",
    "# Try setting remove_stop_words to False and not to use stop_words in count vectorizer - worse\n",
    "# Try with remove_nonalphanumeric_characters set to False - worse\n",
    "# Try using en_core_web_lg - insignificant change\n",
    "# Try doing lemmatization with Wordnet lemmatizer - worse\n",
    "# Try lemmatization with the added -PRON- filter - no effect\n",
    "# Try stemming withot lemmatization - very minor positive change\n",
    "# Try using Snowball stemmer without lemmatization - worse\n",
    "# Try using Snowball stemmer with lemmatization - worse\n",
    "# Try using Lancaster stemmer without lemmatization - worse\n",
    "# Try using Lancaster stemmer with lemmatization - very minor negative change\n",
    "# "
   ]
  },
  {
   "cell_type": "code",
   "execution_count": null,
   "id": "c80712f1",
   "metadata": {},
   "outputs": [],
   "source": []
  },
  {
   "cell_type": "code",
   "execution_count": null,
   "id": "076b64d3",
   "metadata": {},
   "outputs": [],
   "source": []
  },
  {
   "cell_type": "code",
   "execution_count": null,
   "id": "44f1e2c7",
   "metadata": {},
   "outputs": [],
   "source": []
  },
  {
   "cell_type": "code",
   "execution_count": 708,
   "id": "4abe3669",
   "metadata": {},
   "outputs": [
    {
     "data": {
      "text/plain": [
       "'answer feel camera camera confrontation camera banner cmaeras confrontation tank fire werent camera watch camera watch hand koresh apocalypse mind predict action leader release child question top'"
      ]
     },
     "execution_count": 708,
     "metadata": {},
     "output_type": "execute_result"
    }
   ],
   "source": [
    "\n"
   ]
  },
  {
   "cell_type": "code",
   "execution_count": null,
   "id": "1feeed6b",
   "metadata": {},
   "outputs": [],
   "source": []
  }
 ],
 "metadata": {
  "kernelspec": {
   "display_name": "Python 3 (ipykernel)",
   "language": "python",
   "name": "python3"
  },
  "language_info": {
   "codemirror_mode": {
    "name": "ipython",
    "version": 3
   },
   "file_extension": ".py",
   "mimetype": "text/x-python",
   "name": "python",
   "nbconvert_exporter": "python",
   "pygments_lexer": "ipython3",
   "version": "3.9.16"
  }
 },
 "nbformat": 4,
 "nbformat_minor": 5
}
