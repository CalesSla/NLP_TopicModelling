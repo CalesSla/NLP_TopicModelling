{
 "cells": [
  {
   "cell_type": "code",
   "execution_count": 4,
   "id": "2f84805e",
   "metadata": {},
   "outputs": [],
   "source": [
    "class LDAmodeller:\n",
    "  def __init__(self, df, stops=stops, min_df=2, max_df=0.95, num_topics=5, lda_random_state=12345, max_iter=100, topic_word_prior=0.6):\n",
    "    self.df = df\n",
    "    self.vectorizer = CountVectorizer(stop_words = list(stops),\n",
    "                                      min_df = min_df,\n",
    "                                      max_df = max_df)\n",
    "    self.lda = LatentDirichletAllocation(n_components = num_topics,\n",
    "                                         random_state = lda_random_state,\n",
    "                                         max_iter = max_iter,\n",
    "                                         topic_word_prior = topic_word_prior)\n",
    "  \n",
    "  def vectorize(self):\n",
    "    X = self.vectorizer.fit_transform(self.df['text'])\n",
    "    return X\n",
    "    \n",
    "  def vectorize_fit(self):\n",
    "    X = self.vectorizer.fit_transform(self.df['text'])\n",
    "    self.lda.fit(X)\n",
    "    return self.lda"
   ]
  },
  {
   "cell_type": "code",
   "execution_count": null,
   "id": "cf677421",
   "metadata": {},
   "outputs": [],
   "source": []
  },
  {
   "cell_type": "code",
   "execution_count": null,
   "id": "55c2a426",
   "metadata": {},
   "outputs": [],
   "source": []
  }
 ],
 "metadata": {
  "kernelspec": {
   "display_name": "Python 3 (ipykernel)",
   "language": "python",
   "name": "python3"
  },
  "language_info": {
   "codemirror_mode": {
    "name": "ipython",
    "version": 3
   },
   "file_extension": ".py",
   "mimetype": "text/x-python",
   "name": "python",
   "nbconvert_exporter": "python",
   "pygments_lexer": "ipython3",
   "version": "3.9.16"
  }
 },
 "nbformat": 4,
 "nbformat_minor": 5
}
