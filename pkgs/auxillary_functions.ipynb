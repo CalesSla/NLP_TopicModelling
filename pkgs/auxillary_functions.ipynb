{
 "cells": [
  {
   "cell_type": "code",
   "execution_count": 4,
   "id": "3279437a",
   "metadata": {},
   "outputs": [
    {
     "ename": "NameError",
     "evalue": "name 'topic_vocab' is not defined",
     "output_type": "error",
     "traceback": [
      "\u001b[1;31m---------------------------------------------------------------------------\u001b[0m",
      "\u001b[1;31mNameError\u001b[0m                                 Traceback (most recent call last)",
      "Cell \u001b[1;32mIn[4], line 24\u001b[0m\n\u001b[0;32m     21\u001b[0m   plt\u001b[38;5;241m.\u001b[39mshow()\n\u001b[0;32m     23\u001b[0m \u001b[38;5;66;03m# Estimate model accuracy:\u001b[39;00m\n\u001b[1;32m---> 24\u001b[0m \u001b[38;5;28;01mdef\u001b[39;00m \u001b[38;5;21mest_accuracy\u001b[39m(topic_vocab\u001b[38;5;241m=\u001b[39m\u001b[43mtopic_vocab\u001b[49m):\n\u001b[0;32m     25\u001b[0m   new_sentences \u001b[38;5;241m=\u001b[39m lda_modeller\u001b[38;5;241m.\u001b[39mvectorizer\u001b[38;5;241m.\u001b[39mtransform(df[\u001b[38;5;124m'\u001b[39m\u001b[38;5;124mtext\u001b[39m\u001b[38;5;124m'\u001b[39m])\n\u001b[0;32m     26\u001b[0m   topic_distributions \u001b[38;5;241m=\u001b[39m lda\u001b[38;5;241m.\u001b[39mtransform(new_sentences)\n",
      "\u001b[1;31mNameError\u001b[0m: name 'topic_vocab' is not defined"
     ]
    }
   ],
   "source": [
    "# Plot top words per topic\n",
    "\n",
    "def plot_top_words(model, feature_names, n_top_words = 7):\n",
    "  fig, axes = plt.subplots(1, 5, figsize = (30, 10), sharex = True)\n",
    "  axes = axes.flatten()\n",
    "  for topic_idx, topic in enumerate(model.components_):\n",
    "    top_features_ind = topic.argsort()[: -n_top_words - 1 : -1]\n",
    "    top_features = [feature_names[i] for i in top_features_ind]\n",
    "    weights = topic[top_features_ind]\n",
    "    \n",
    "    ax = axes[topic_idx]\n",
    "    ax.barh(top_features, weights, height = 0.7)\n",
    "    ax.set_title(f'Topic {topic_idx + 1}', fontdict = {'fontsize': 30})\n",
    "    ax.invert_yaxis()\n",
    "    ax.tick_params(axis = 'both', which = 'major', labelsize = 20)\n",
    "    for i in 'top right left'.split():\n",
    "      ax.spines[i].set_visible(False)\n",
    "    fig.suptitle(\"LDA\", fontsize = 40)\n",
    "  \n",
    "  plt.subplots_adjust(top = 0.90, bottom = 0.05, wspace = 0.90, hspace = 0.3)\n",
    "  plt.show()\n",
    "\n",
    "  \n",
    "  \n",
    "  \n",
    "# Estimate model accuracy:\n",
    "def est_accuracy(topic_vocab=topic_vocab):\n",
    "  new_sentences = lda_modeller.vectorizer.transform(df['text'])\n",
    "  topic_distributions = lda.transform(new_sentences)\n",
    "  most_probable_topics = topic_distributions.argmax(axis=1)\n",
    "  preds = [topic_vocab[num_topic] for num_topic in most_probable_topics]\n",
    "  df['preds'] = preds\n",
    "  acc = sum(df['labels'] == df['preds']) / len(df)\n",
    "  print(f'Supposed model accuracy: {acc}')\n",
    "  \n",
    "  \n",
    "  \n",
    "  \n",
    "# Sample topic\n",
    "def sample_topic():\n",
    "  "
   ]
  },
  {
   "cell_type": "code",
   "execution_count": null,
   "id": "0724a24c",
   "metadata": {},
   "outputs": [],
   "source": []
  },
  {
   "cell_type": "code",
   "execution_count": null,
   "id": "cbdeafd6",
   "metadata": {},
   "outputs": [],
   "source": []
  }
 ],
 "metadata": {
  "kernelspec": {
   "display_name": "Python 3 (ipykernel)",
   "language": "python",
   "name": "python3"
  },
  "language_info": {
   "codemirror_mode": {
    "name": "ipython",
    "version": 3
   },
   "file_extension": ".py",
   "mimetype": "text/x-python",
   "name": "python",
   "nbconvert_exporter": "python",
   "pygments_lexer": "ipython3",
   "version": "3.9.16"
  }
 },
 "nbformat": 4,
 "nbformat_minor": 5
}
