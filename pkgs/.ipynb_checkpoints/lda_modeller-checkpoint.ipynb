{
 "cells": [
  {
   "cell_type": "code",
   "execution_count": 12,
   "id": "3a923503",
   "metadata": {},
   "outputs": [],
   "source": [
    "class LDAmodeller:\n",
    "  def __init__(self, df, vectorizer, stops=stops, min_df=2, max_df=0.95, num_topics=5, lda_random_state=12345, max_iter=100, topic_word_prior=0.6):\n",
    "    self.df = df\n",
    "    \n",
    "    if vectorizer == 'count':\n",
    "      self.vectorizer = CountVectorizer(stop_words = list(stops),\n",
    "                                        min_df = min_df,\n",
    "                                        max_df = max_df)\n",
    "      \n",
    "    elif vectorizer == 'tfidf':\n",
    "      self.vectorizer = TfidfVectorizer(stop_words = list(stops), \n",
    "                                max_df = max_df, \n",
    "                                min_df = min_df, \n",
    "                                use_idf = True,\n",
    "                                norm = None)\n",
    "      \n",
    "    else:\n",
    "      raise ValueError('The vectorizer value can be either \"count\" or \"tfidf\"')\n",
    "    \n",
    "    \n",
    "    \n",
    "    self.lda = LatentDirichletAllocation(n_components = num_topics,\n",
    "                                         random_state = lda_random_state,\n",
    "                                         max_iter = max_iter,\n",
    "                                         topic_word_prior = topic_word_prior)\n",
    "    \n",
    "    self.vectorized_sentences = None\n",
    "    self.new_vectorized_sentences = None\n",
    "  \n",
    "  def vectorize(self):\n",
    "    self.new_vectorized_sentences = self.vectorizer.fit_transform(self.df['text'])\n",
    "    return self.new_vectorized_sentences\n",
    "    \n",
    "  \n",
    "  def vectorize_fit(self):\n",
    "    self.vectorized_sentences = self.vectorizer.fit_transform(self.df['text'])\n",
    "    self.lda.fit(self.vectorized_sentences)\n",
    "    return self.lda\n",
    "  \n",
    "  def transform(self, sentences=None):\n",
    "    if sentences is None:\n",
    "      vectors = self.lda.transform(self.vectorized_sentences)\n",
    "    else:\n",
    "      vectors = self.lda.transform(sentences)\n",
    "    return vectors"
   ]
  },
  {
   "cell_type": "code",
   "execution_count": null,
   "id": "a708111c",
   "metadata": {},
   "outputs": [],
   "source": []
  },
  {
   "cell_type": "code",
   "execution_count": null,
   "id": "d552e32a",
   "metadata": {},
   "outputs": [],
   "source": []
  }
 ],
 "metadata": {
  "kernelspec": {
   "display_name": "Python 3 (ipykernel)",
   "language": "python",
   "name": "python3"
  },
  "language_info": {
   "codemirror_mode": {
    "name": "ipython",
    "version": 3
   },
   "file_extension": ".py",
   "mimetype": "text/x-python",
   "name": "python",
   "nbconvert_exporter": "python",
   "pygments_lexer": "ipython3",
   "version": "3.9.16"
  }
 },
 "nbformat": 4,
 "nbformat_minor": 5
}
