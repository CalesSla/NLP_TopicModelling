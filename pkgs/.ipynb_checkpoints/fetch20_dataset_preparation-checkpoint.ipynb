{
 "cells": [
  {
   "cell_type": "code",
   "execution_count": null,
   "id": "7f7b1047",
   "metadata": {},
   "outputs": [],
   "source": [
    "# Dataset preparation\n",
    "\n",
    "from sklearn.datasets import fetch_20newsgroups\n",
    "\n",
    "categories = ['rec.sport.baseball', 'talk.religion.misc', 'comp.graphics', 'sci.space', 'talk.politics.guns']\n",
    "\n",
    "remove = ('headers', 'footers', 'quotes')\n",
    "newsgroups_train = fetch_20newsgroups(subset = 'train', categories = categories, remove = remove)\n",
    "\n",
    "col_names = [label.split('.')[1] for label in newsgroups_train.target_names]\n",
    "\n",
    "df = pd.DataFrame({'text': newsgroups_train['data'], 'labels': [col_names[i] for i in newsgroups_train['target']]})\n",
    "df.to_csv('four_groups.csv', index=False)"
   ]
  }
 ],
 "metadata": {
  "kernelspec": {
   "display_name": "Python 3 (ipykernel)",
   "language": "python",
   "name": "python3"
  },
  "language_info": {
   "codemirror_mode": {
    "name": "ipython",
    "version": 3
   },
   "file_extension": ".py",
   "mimetype": "text/x-python",
   "name": "python",
   "nbconvert_exporter": "python",
   "pygments_lexer": "ipython3",
   "version": "3.9.16"
  }
 },
 "nbformat": 4,
 "nbformat_minor": 5
}
